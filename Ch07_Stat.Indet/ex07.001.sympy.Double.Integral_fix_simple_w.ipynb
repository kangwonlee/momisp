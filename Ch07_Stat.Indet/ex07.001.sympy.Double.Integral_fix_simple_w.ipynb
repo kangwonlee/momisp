{
 "cells": [
  {
   "cell_type": "markdown",
   "metadata": {
    "id": "view-in-github",
    "colab_type": "text"
   },
   "source": [
    "<a href=\"https://colab.research.google.com/github/kangwonlee/momisp/blob/adaptive-colab-button/Ch07_Stat.Indet/ex07.001.sympy.Double.Integral_fix_simple_w.ipynb\" target=\"_parent\"><img src=\"https://colab.research.google.com/assets/colab-badge.svg\" alt=\"Open In Colab\"/></a>\n"
   ]
  },
  {
   "cell_type": "markdown",
   "metadata": {},
   "source": [
    "참고문헌 : Pytel 외 저, 이주성 외 역, 재료역학, 2판, 한티미디어, 2013.<br>Ref: Pytel, Kiusalaas, Sharma, Mechanics of Materials, 2nd Ed., Cengage Learning, 2013.\n",
    "\n"
   ]
  },
  {
   "cell_type": "markdown",
   "metadata": {},
   "source": [
    "`python` 기능을 확장해 주는 `module`을 불러 들임 (일부 기능만 사용될 수도 있음)<br>\n",
    "Bring in `module`'s that would expand features of `python`. (This file may use just some of them.)\n",
    "\n"
   ]
  },
  {
   "cell_type": "code",
   "execution_count": null,
   "metadata": {},
   "outputs": [],
   "source": [
    "import numpy as np  # 배열, 행렬 관련 기능\n",
    "import numpy.linalg as na  # 선형대수 (벡터, 행렬) 관련 기능\n",
    "import matplotlib.pyplot as plt  # 그래프 관련 기능\n",
    "import scipy.integrate as si  # 적분 관련 기능\n",
    "import sympy as sy  # 기호 연산 기능\n",
    "import sympy.plotting as splot\n",
    "import IPython.display as disp  # 웹페이지 표시 기능\n",
    "sy.init_printing()  # 기호 연산 결과 표시 기능 준비\n",
    "\n"
   ]
  },
  {
   "cell_type": "markdown",
   "metadata": {},
   "source": [
    "## 예제 07.001<br>ex07.001\n",
    "\n"
   ]
  },
  {
   "cell_type": "markdown",
   "metadata": {},
   "source": [
    "부정정보: 이중적분<br>Statically Indeterminate Beam : Double integration\n",
    "\n"
   ]
  },
  {
   "cell_type": "markdown",
   "metadata": {},
   "source": [
    "p. 296\n",
    "\n"
   ]
  },
  {
   "cell_type": "markdown",
   "metadata": {},
   "source": [
    "### 문제에서 주어진 변수<br>Given Parameters\n",
    "\n"
   ]
  },
  {
   "cell_type": "markdown",
   "metadata": {},
   "source": [
    "#### 보의 길이<br>Length of the beam\n",
    "\n"
   ]
  },
  {
   "cell_type": "code",
   "execution_count": null,
   "metadata": {},
   "outputs": [],
   "source": [
    "L_AB_m = sy.symbols('L_{AB}[m]', real=True, nonnegative=True)\n",
    "\n",
    "s_d = {\n",
    "    L_AB_m: 12,\n",
    "}\n",
    "\n"
   ]
  },
  {
   "cell_type": "markdown",
   "metadata": {},
   "source": [
    "#### 하중<br>Load\n",
    "\n"
   ]
  },
  {
   "cell_type": "code",
   "execution_count": null,
   "metadata": {},
   "outputs": [],
   "source": [
    "w_AB_N_m = sy.symbols('w_{AB}[N/m]', real=True)\n",
    "\n",
    "s_d.update(\n",
    "    {\n",
    "        w_AB_N_m: -600,\n",
    "    }\n",
    ")\n",
    "\n"
   ]
  },
  {
   "cell_type": "markdown",
   "metadata": {},
   "source": [
    "보를 그려주는 모듈을 `import` 할 수 있도록 준비.\n",
    "\n"
   ]
  },
  {
   "cell_type": "code",
   "execution_count": null,
   "metadata": {
    "scrolled": false
   },
   "outputs": [],
   "source": [
    "import os   # 운영체제 관련 기능 Operating Systems\n",
    "import sys  # 시스템 관련 기능 Systems\n",
    "# utils 폴더의 모듈을 import 할 수 있도록 준비\n",
    "# add utils folder to sys.path to import\n",
    "sys.path.append(os.path.abspath(os.path.join(os.pardir, 'utils')))\n",
    "# 선도 관련 기능 diagrams\n",
    "import draw_diagrams\n",
    "\n",
    "points_list = [\n",
    "    {'x_m': 0, 'text':'A'},\n",
    "    {'x_m': L_AB_m.subs(s_d), 'text':'B'},\n",
    "]\n",
    "\n",
    "reaction_list = [\n",
    "    {'x_m': 0},\n",
    "    {'x_m': L_AB_m.subs(s_d)},\n",
    "]\n",
    "\n",
    "dist_load_list = [\n",
    "    {'x_begin_m': 0, 'x_end_m': L_AB_m.subs(s_d), 'text': 'w0'}\n",
    "]\n",
    "\n",
    "moment_list = [\n",
    "    {'x_m': 0, 'direction': 'ccw', 'text': 'M', 'open':'right'},\n",
    "]\n",
    "\n",
    "draw_diagrams.draw_beam(L_AB_m.subs(s_d), points_list, reaction_list, dist_load_list=dist_load_list, moment_list=moment_list)\n",
    "\n"
   ]
  },
  {
   "cell_type": "code",
   "execution_count": null,
   "metadata": {},
   "outputs": [],
   "source": [
    "x_m = sy.symbols('x[m]', nonnegative=True)\n",
    "x_A_m = 0\n",
    "x_B_m = L_AB_m\n",
    "\n"
   ]
  },
  {
   "cell_type": "markdown",
   "metadata": {},
   "source": [
    "### 반력<br>Reaction forces\n",
    "\n"
   ]
  },
  {
   "cell_type": "code",
   "execution_count": null,
   "metadata": {},
   "outputs": [],
   "source": [
    "R_A_N, R_B_N, RM_A_Nm = sy.symbols('R_{A}[N], R_{B}[N], RM_{A}[Nm]', real=True)\n",
    "\n"
   ]
  },
  {
   "cell_type": "markdown",
   "metadata": {},
   "source": [
    "### 평형방정식<br>Equilibrium Equations\n",
    "\n"
   ]
  },
  {
   "cell_type": "code",
   "execution_count": null,
   "metadata": {},
   "outputs": [],
   "source": [
    "fy_eq = sy.Eq(R_A_N + R_B_N + w_AB_N_m * L_AB_m)\n",
    "\n"
   ]
  },
  {
   "cell_type": "code",
   "execution_count": null,
   "metadata": {},
   "outputs": [],
   "source": [
    "fy_eq\n",
    "\n"
   ]
  },
  {
   "cell_type": "code",
   "execution_count": null,
   "metadata": {},
   "outputs": [],
   "source": [
    "m_eq = sy.Eq(RM_A_Nm + R_B_N * L_AB_m + sy.integrate(w_AB_N_m * x_m, (x_m, x_A_m, x_B_m)))\n",
    "\n"
   ]
  },
  {
   "cell_type": "code",
   "execution_count": null,
   "metadata": {},
   "outputs": [],
   "source": [
    "m_eq\n",
    "\n"
   ]
  },
  {
   "cell_type": "markdown",
   "metadata": {},
   "source": [
    "### 굽힘모멘트선도 <br>Bending moment diagram\n",
    "\n"
   ]
  },
  {
   "cell_type": "code",
   "execution_count": null,
   "metadata": {},
   "outputs": [],
   "source": [
    "M = - RM_A_Nm + R_A_N * x_m + sy.Rational(1, 2) * w_AB_N_m * x_m ** 2\n",
    "\n"
   ]
  },
  {
   "cell_type": "code",
   "execution_count": null,
   "metadata": {},
   "outputs": [],
   "source": [
    "M\n",
    "\n"
   ]
  },
  {
   "cell_type": "markdown",
   "metadata": {},
   "source": [
    "### 처짐<br>Deflection\n",
    "\n"
   ]
  },
  {
   "cell_type": "code",
   "execution_count": null,
   "metadata": {},
   "outputs": [],
   "source": [
    "EInu_Nm3 = sy.Function('EI\\\\nu_Nm3')\n",
    "# http://docs.sympy.org/latest/modules/solvers/ode.html#dsolve\n",
    "# http://docs.sympy.org/latest/tutorial/calculus.html\n",
    "EInu_pp_Nm = sy.Derivative(EInu_Nm3(x_m), x_m, x_m)\n",
    "defl_deq = sy.Eq(EInu_pp_Nm, M)\n",
    "\n"
   ]
  },
  {
   "cell_type": "code",
   "execution_count": null,
   "metadata": {},
   "outputs": [],
   "source": [
    "defl_deq\n",
    "\n"
   ]
  },
  {
   "cell_type": "code",
   "execution_count": null,
   "metadata": {},
   "outputs": [],
   "source": [
    "EInu_Nm3_sol_eq = sy.dsolve(defl_deq, EInu_Nm3(x_m))\n",
    "\n"
   ]
  },
  {
   "cell_type": "code",
   "execution_count": null,
   "metadata": {},
   "outputs": [],
   "source": [
    "EInu_Nm3_sol = EInu_Nm3_sol_eq.rhs\n",
    "\n"
   ]
  },
  {
   "cell_type": "code",
   "execution_count": null,
   "metadata": {},
   "outputs": [],
   "source": [
    "EInu_Nm3_sol\n",
    "\n"
   ]
  },
  {
   "cell_type": "markdown",
   "metadata": {},
   "source": [
    "### 경계조건<br>Boundary conditions\n",
    "\n"
   ]
  },
  {
   "cell_type": "markdown",
   "metadata": {},
   "source": [
    "$$\\nu(x=0)=0$$\n",
    "\n"
   ]
  },
  {
   "cell_type": "code",
   "execution_count": null,
   "metadata": {},
   "outputs": [],
   "source": [
    "nu_0_eq = sy.Eq(EInu_Nm3_sol.subs(x_m, 0), 0)\n",
    "\n"
   ]
  },
  {
   "cell_type": "code",
   "execution_count": null,
   "metadata": {},
   "outputs": [],
   "source": [
    "nu_0_eq\n",
    "\n"
   ]
  },
  {
   "cell_type": "markdown",
   "metadata": {},
   "source": [
    "$$\\theta(x=0)=0$$\n",
    "\n"
   ]
  },
  {
   "cell_type": "code",
   "execution_count": null,
   "metadata": {},
   "outputs": [],
   "source": [
    "theta_0_eq = sy.Eq(sy.diff(EInu_Nm3_sol, x_m).subs(x_m, 0), 0)\n",
    "\n"
   ]
  },
  {
   "cell_type": "code",
   "execution_count": null,
   "metadata": {},
   "outputs": [],
   "source": [
    "theta_0_eq\n",
    "\n"
   ]
  },
  {
   "cell_type": "markdown",
   "metadata": {},
   "source": [
    "$$\\nu(x=L)=0$$\n",
    "\n"
   ]
  },
  {
   "cell_type": "code",
   "execution_count": null,
   "metadata": {},
   "outputs": [],
   "source": [
    "nu_L_eq = sy.Eq(EInu_Nm3_sol.subs(x_m, x_B_m), 0)\n",
    "\n"
   ]
  },
  {
   "cell_type": "code",
   "execution_count": null,
   "metadata": {},
   "outputs": [],
   "source": [
    "nu_L_eq\n",
    "\n"
   ]
  },
  {
   "cell_type": "markdown",
   "metadata": {},
   "source": [
    "연립방정식을 풂<br>Solve for the simultaneous equations\n",
    "\n"
   ]
  },
  {
   "cell_type": "code",
   "execution_count": null,
   "metadata": {},
   "outputs": [],
   "source": [
    "const_sol = sy.solve((nu_0_eq, theta_0_eq, nu_L_eq), (nu_0_eq.lhs, theta_0_eq.lhs, R_A_N))\n",
    "\n"
   ]
  },
  {
   "cell_type": "code",
   "execution_count": null,
   "metadata": {
    "scrolled": true
   },
   "outputs": [],
   "source": [
    "const_sol\n",
    "\n"
   ]
  },
  {
   "cell_type": "code",
   "execution_count": null,
   "metadata": {},
   "outputs": [],
   "source": [
    "EInu_Nm3\n",
    "\n"
   ]
  },
  {
   "cell_type": "markdown",
   "metadata": {},
   "source": [
    "### 평형방정식<br>Equilibrium equations\n",
    "\n"
   ]
  },
  {
   "cell_type": "code",
   "execution_count": null,
   "metadata": {},
   "outputs": [],
   "source": [
    "fy_eq.subs(const_sol)\n",
    "\n"
   ]
  },
  {
   "cell_type": "code",
   "execution_count": null,
   "metadata": {},
   "outputs": [],
   "source": [
    "m_eq.subs(const_sol)\n",
    "\n"
   ]
  },
  {
   "cell_type": "code",
   "execution_count": null,
   "metadata": {},
   "outputs": [],
   "source": [
    "residual_eq = sy.Eq(R_A_N, const_sol[R_A_N])\n",
    "\n"
   ]
  },
  {
   "cell_type": "code",
   "execution_count": null,
   "metadata": {
    "scrolled": true
   },
   "outputs": [],
   "source": [
    "rf_sol = sy.solve((fy_eq.subs(const_sol), m_eq.subs(const_sol), residual_eq), \n",
    "                  (R_A_N, R_B_N, RM_A_Nm))\n",
    "\n"
   ]
  },
  {
   "cell_type": "markdown",
   "metadata": {},
   "source": [
    "모든 반력의 해<br>Solutions of all reaction forces\n",
    "\n"
   ]
  },
  {
   "cell_type": "code",
   "execution_count": null,
   "metadata": {},
   "outputs": [],
   "source": [
    "rf_sol\n",
    "\n"
   ]
  },
  {
   "cell_type": "code",
   "execution_count": null,
   "metadata": {},
   "outputs": [],
   "source": [
    "rf_sol[R_A_N].subs(s_d)\n",
    "\n"
   ]
  },
  {
   "cell_type": "code",
   "execution_count": null,
   "metadata": {},
   "outputs": [],
   "source": [
    "rf_sol[R_B_N].subs(s_d)\n",
    "\n"
   ]
  },
  {
   "cell_type": "code",
   "execution_count": null,
   "metadata": {
    "scrolled": true
   },
   "outputs": [],
   "source": [
    "rf_sol[RM_A_Nm].subs(s_d)\n",
    "\n"
   ]
  },
  {
   "cell_type": "markdown",
   "metadata": {},
   "source": [
    "### 처짐<br>Deflection\n",
    "\n"
   ]
  },
  {
   "cell_type": "code",
   "execution_count": null,
   "metadata": {},
   "outputs": [],
   "source": [
    "EInu_Nm3_sol.subs(const_sol).subs(rf_sol)\n",
    "\n"
   ]
  },
  {
   "cell_type": "code",
   "execution_count": null,
   "metadata": {},
   "outputs": [],
   "source": [
    "splot.plot(EInu_Nm3_sol.subs(const_sol).subs(rf_sol).subs(s_d), (x_m, 0, L_AB_m.subs(s_d)), ylabel='$EI\\\\nu(Nm^3)$', xlabel='x(m)')\n",
    "\n"
   ]
  },
  {
   "cell_type": "code",
   "execution_count": null,
   "metadata": {},
   "outputs": [],
   "source": []
  }
 ],
 "metadata": {
  "anaconda-cloud": {},
  "kernelspec": {
   "display_name": "Python 3",
   "language": "python",
   "name": "python3"
  },
  "language_info": {
   "codemirror_mode": {
    "name": "ipython",
    "version": 3
   },
   "file_extension": ".py",
   "mimetype": "text/x-python",
   "name": "python",
   "nbconvert_exporter": "python",
   "pygments_lexer": "ipython3",
   "version": "3.6.5"
  }
 },
 "nbformat": 4,
 "nbformat_minor": 2
}