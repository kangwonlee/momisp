{
 "cells": [
  {
   "cell_type": "markdown",
   "metadata": {
    "id": "view-in-github",
    "colab_type": "text"
   },
   "source": [
    "<a href=\"https://colab.research.google.com/github/kangwonlee/momisp/blob/dependabot/pip/tests/scikit-learn-1.5.0/Ch07_Stat.Indet/ex07.005.sympy.Moment.Area_fix_simple_w.ipynb\" target=\"_parent\"><img src=\"https://colab.research.google.com/assets/colab-badge.svg\" alt=\"Open In Colab\"/></a>\n"
   ]
  },
  {
   "cell_type": "markdown",
   "metadata": {},
   "source": [
    "참고문헌 : Pytel 외 저, 이주성 외 역, 재료역학, 2판, 한티미디어, 2013.<br>Ref: Pytel, Kiusalaas, Sharma, Mechanics of Materials, 2nd Ed., Cengage Learning, 2013.\n",
    "\n"
   ]
  },
  {
   "cell_type": "markdown",
   "metadata": {},
   "source": [
    "`python` 기능을 확장해 주는 `module`을 불러 들임 (일부 기능만 사용될 수도 있음)<br>\n",
    "Bring in `module`'s that would expand features of `python`. (This file may use just some of them.)\n",
    "\n"
   ]
  },
  {
   "cell_type": "code",
   "execution_count": null,
   "metadata": {
    "collapsed": true
   },
   "outputs": [],
   "source": [
    "import numpy as np  # 배열, 행렬 관련 기능\n",
    "import numpy.linalg as na  # 선형대수 (벡터, 행렬) 관련 기능\n",
    "import matplotlib.pyplot as plt  # 그래프 관련 기능\n",
    "import scipy.integrate as si  # 적분 관련 기능\n",
    "import sympy as sy  # 기호 연산 기능\n",
    "import sympy.plotting as splot\n",
    "import IPython.display as disp  # 웹페이지 표시 기능\n",
    "sy.init_printing()  # 기호 연산 결과 표시 기능 준비\n",
    "\n"
   ]
  },
  {
   "cell_type": "markdown",
   "metadata": {},
   "source": [
    "## 예제 07.005<br>ex07.005\n",
    "\n"
   ]
  },
  {
   "cell_type": "markdown",
   "metadata": {},
   "source": [
    "부정정보: 모멘트 면적법<br>Statically Indeterminate Beam : Moment Area Method\n",
    "\n"
   ]
  },
  {
   "cell_type": "markdown",
   "metadata": {},
   "source": [
    "p. 306\n",
    "\n"
   ]
  },
  {
   "cell_type": "markdown",
   "metadata": {},
   "source": [
    "### 문제에서 주어진 변수<br>Given Parameters\n",
    "\n"
   ]
  },
  {
   "cell_type": "markdown",
   "metadata": {},
   "source": [
    "#### 보의 길이<br>Length of the beam\n",
    "\n"
   ]
  },
  {
   "cell_type": "code",
   "execution_count": null,
   "metadata": {
    "collapsed": false
   },
   "outputs": [],
   "source": [
    "L_AB_m = sy.symbols('L_{AB}[m]', real=True, nonnegative=True)\n",
    "\n",
    "s_d = {\n",
    "    L_AB_m: 10,\n",
    "}\n",
    "\n"
   ]
  },
  {
   "cell_type": "markdown",
   "metadata": {},
   "source": [
    "#### 하중<br>Load\n",
    "\n"
   ]
  },
  {
   "cell_type": "code",
   "execution_count": null,
   "metadata": {
    "collapsed": false
   },
   "outputs": [],
   "source": [
    "w0_N_m = sy.symbols('w0[N/m]', real=True)\n",
    "\n",
    "s_d.update(\n",
    "    {\n",
    "        w0_N_m: -1,\n",
    "    }\n",
    ")\n",
    "\n"
   ]
  },
  {
   "cell_type": "markdown",
   "metadata": {},
   "source": [
    "#### 재료와 단면 특성<br>Material & section properties\n",
    "\n"
   ]
  },
  {
   "cell_type": "code",
   "execution_count": null,
   "metadata": {
    "collapsed": false
   },
   "outputs": [],
   "source": [
    "E_Pa, I_m4 = sy.symbols('E[Pa], I[m^{4}]', positive=True)\n",
    "\n",
    "s_d.update(\n",
    "    {\n",
    "        E_Pa: 200e9,\n",
    "        I_m4: 20e6 * (1e-3) ** 4,\n",
    "    }\n",
    ")\n",
    "\n"
   ]
  },
  {
   "cell_type": "markdown",
   "metadata": {},
   "source": [
    "#### 자유물체도<br>Free body diagram\n",
    "\n"
   ]
  },
  {
   "cell_type": "code",
   "execution_count": null,
   "metadata": {
    "collapsed": false,
    "scrolled": false
   },
   "outputs": [],
   "source": [
    "import os   # 운영체제 관련 기능 Operating Systems\n",
    "import sys  # 시스템 관련 기능 Systems\n",
    "# utils 폴더의 모듈을 import 할 수 있도록 준비\n",
    "# add utils folder to sys.path to import\n",
    "sys.path.append(os.path.abspath(os.path.join(os.pardir, 'utils')))\n",
    "# 선도 관련 기능 diagrams\n",
    "import draw_diagrams\n",
    "\n",
    "points_list = [\n",
    "    {'x_m': 0, 'text':'A'},\n",
    "    {'x_m': L_AB_m.subs(s_d), 'text':'B'},\n",
    "]\n",
    "\n",
    "reaction_list = [\n",
    "    {'x_m': 0},\n",
    "    {'x_m': L_AB_m.subs(s_d)},\n",
    "]\n",
    "\n",
    "v_load_list = []\n",
    "\n",
    "dist_load_list = [\n",
    "    {'x_begin_m': 0, 'x_end_m': L_AB_m.subs(s_d), 'text': 'w0'},\n",
    "]\n",
    "\n",
    "moment_list = [\n",
    "    {'x_m': L_AB_m.subs(s_d), 'direction': 'cw', 'text': 'M', 'open':'left'},\n",
    "]\n",
    "\n",
    "draw_diagrams.draw_beam(L_AB_m.subs(s_d), points_list, reaction_list, v_load_list=v_load_list, dist_load_list=dist_load_list, moment_list=moment_list)\n",
    "\n"
   ]
  },
  {
   "cell_type": "code",
   "execution_count": null,
   "metadata": {
    "collapsed": false
   },
   "outputs": [],
   "source": [
    "x_m = sy.symbols('x[m]', nonnegative=True)\n",
    "x_A_m = 0\n",
    "x_B_m = L_AB_m\n",
    "\n"
   ]
  },
  {
   "cell_type": "markdown",
   "metadata": {},
   "source": [
    "### 아직 알지 못하는 반력<br>Reaction forces unknown yet\n",
    "\n"
   ]
  },
  {
   "cell_type": "code",
   "execution_count": null,
   "metadata": {
    "collapsed": true
   },
   "outputs": [],
   "source": [
    "R_A_N, M_B_Nm, R_B_N = sy.symbols('R_{A}[N], M_{B}[Nm], R_{B}[N]', real=True)\n",
    "\n"
   ]
  },
  {
   "cell_type": "markdown",
   "metadata": {},
   "source": [
    "### 모멘트면적법<br>Moment area method\n",
    "\n"
   ]
  },
  {
   "cell_type": "markdown",
   "metadata": {},
   "source": [
    "#### 분포하중 $w_0$에 의한 굽힘모멘트선도<br>Bending moment diagram by distributed load $w_0$\n",
    "\n"
   ]
  },
  {
   "cell_type": "markdown",
   "metadata": {},
   "source": [
    "p.279 표 6.2의 분포하중 $w_0$에 의한 처짐을 두번 미분해본다.<br>Differentiate the deflection by distributed load $w_0$ of p.279 Table 6.2\n",
    "\n"
   ]
  },
  {
   "cell_type": "markdown",
   "metadata": {},
   "source": [
    "$$\n",
    "\\delta_{w_0} = \\frac{w_0 x^2}{24EI} (6L^2 - 4L x + x^2)\n",
    "$$\n",
    "\n"
   ]
  },
  {
   "cell_type": "code",
   "execution_count": null,
   "metadata": {
    "collapsed": false
   },
   "outputs": [],
   "source": [
    "delta_w0_m = (w0_N_m * x_m ** 2 / (24 * E_Pa * I_m4)) * (6 * L_AB_m ** 2 - 4 * L_AB_m * x_m + x_m ** 2)\n",
    "\n"
   ]
  },
  {
   "cell_type": "markdown",
   "metadata": {},
   "source": [
    "고정단의 위치가 반대이므로 $x$를 $L-x$로 바꾼다.<br>Because the fixed support location is the opposite,replace $x$ with $L-x$.\n",
    "\n"
   ]
  },
  {
   "cell_type": "code",
   "execution_count": null,
   "metadata": {
    "collapsed": false
   },
   "outputs": [],
   "source": [
    "delta_w0_m = delta_w0_m.subs(x_m, L_AB_m - x_m)\n",
    "\n"
   ]
  },
  {
   "cell_type": "markdown",
   "metadata": {},
   "source": [
    "두번 미분한다<br>Differentiate twice\n",
    "\n"
   ]
  },
  {
   "cell_type": "code",
   "execution_count": null,
   "metadata": {
    "collapsed": false
   },
   "outputs": [],
   "source": [
    "BMD_w0 = sy.simplify(E_Pa * I_m4 * sy.diff(delta_w0_m, x_m, x_m))\n",
    "\n"
   ]
  },
  {
   "cell_type": "code",
   "execution_count": null,
   "metadata": {
    "collapsed": false
   },
   "outputs": [],
   "source": [
    "BMD_w0\n",
    "\n"
   ]
  },
  {
   "cell_type": "markdown",
   "metadata": {},
   "source": [
    "굽힘모멘트선도<br>Bending moment diagram\n",
    "\n"
   ]
  },
  {
   "cell_type": "code",
   "execution_count": null,
   "metadata": {
    "collapsed": false
   },
   "outputs": [],
   "source": [
    "splot.plot(\n",
    "    BMD_w0.subs(s_d), (x_m, 0, L_AB_m.subs(s_d)), \n",
    "    xlabel='$10\\\\frac{x[m]}{L[m]}$',\n",
    "    ylabel='$\\\\frac{BM[Nm]}{w_0 [N/m]}$'\n",
    ")\n",
    "\n"
   ]
  },
  {
   "cell_type": "markdown",
   "metadata": {},
   "source": [
    "p. 267 표 6.1에서 $n=2$라면 면적 $A$와 도심의 위치 $\\overline{x}$ 는 다음과 같다.<br>From p. 267 Table 6.1, if $n=2$, area $A$ and centroid location $\\overline{x}$ are as follows.\n",
    "\n"
   ]
  },
  {
   "cell_type": "markdown",
   "metadata": {},
   "source": [
    "$$\n",
    "\\begin{align}\n",
    "    A&=\\frac{1}{3}bh \\\\\n",
    "    \\overline{x}&=\\frac{3}{4}b\\\\\n",
    "\\end{align}\n",
    "$$\n",
    "\n"
   ]
  },
  {
   "cell_type": "markdown",
   "metadata": {},
   "source": [
    "면적<br>Area\n",
    "\n"
   ]
  },
  {
   "cell_type": "code",
   "execution_count": null,
   "metadata": {
    "collapsed": true
   },
   "outputs": [],
   "source": [
    "A_w0 = L_AB_m * BMD_w0.subs(x_m, L_AB_m) / 3\n",
    "\n"
   ]
  },
  {
   "cell_type": "code",
   "execution_count": null,
   "metadata": {
    "collapsed": false,
    "scrolled": false
   },
   "outputs": [],
   "source": [
    "A_w0\n",
    "\n"
   ]
  },
  {
   "cell_type": "markdown",
   "metadata": {},
   "source": [
    "도심거리<br>Centroid distance\n",
    "\n"
   ]
  },
  {
   "cell_type": "code",
   "execution_count": null,
   "metadata": {
    "collapsed": true
   },
   "outputs": [],
   "source": [
    "x_bar_w0 = 3 * L_AB_m / 4\n",
    "\n"
   ]
  },
  {
   "cell_type": "markdown",
   "metadata": {},
   "source": [
    "$B$점의 접선으로부터 $A$점의 처짐<br>Deflection at $A$ from the tangential line of $B$\n",
    "\n"
   ]
  },
  {
   "cell_type": "code",
   "execution_count": null,
   "metadata": {
    "collapsed": true
   },
   "outputs": [],
   "source": [
    "EI_delta_w0 = A_w0 * x_bar_w0\n",
    "\n"
   ]
  },
  {
   "cell_type": "code",
   "execution_count": null,
   "metadata": {
    "collapsed": false
   },
   "outputs": [],
   "source": [
    "EI_delta_w0\n",
    "\n"
   ]
  },
  {
   "cell_type": "markdown",
   "metadata": {
    "collapsed": true
   },
   "source": [
    "#### 외팔보 끝에 가해지는 반력 $R$에 의한 굽힘모멘트 선도<br>Bending moment diagram by reaction force $R$ at the end of the cantilever\n",
    "\n"
   ]
  },
  {
   "cell_type": "markdown",
   "metadata": {},
   "source": [
    "p. 279 Table 6.2\n",
    "\n"
   ]
  },
  {
   "cell_type": "markdown",
   "metadata": {},
   "source": [
    "$$\n",
    "BMD_{R_A} = R_A x\n",
    "$$\n",
    "\n"
   ]
  },
  {
   "cell_type": "code",
   "execution_count": null,
   "metadata": {
    "collapsed": false
   },
   "outputs": [],
   "source": [
    "BMD_RA = sy.simplify(R_A_N * x_m)\n",
    "\n"
   ]
  },
  {
   "cell_type": "code",
   "execution_count": null,
   "metadata": {
    "collapsed": false
   },
   "outputs": [],
   "source": [
    "BMD_RA\n",
    "\n"
   ]
  },
  {
   "cell_type": "markdown",
   "metadata": {},
   "source": [
    "p. 267 표 6.1에서 $n=1$라면 면적 $A$와 도심의 위치 $\\overline{x}$ 는 다음과 같다.<br>From p. 267 Table 6.1, if $n=1$, area $A$ and centroid location $\\overline{x}$ are as follows.\n",
    "\n"
   ]
  },
  {
   "cell_type": "markdown",
   "metadata": {},
   "source": [
    "$$\n",
    "\\begin{align}\n",
    "    A&=\\frac{1}{2}bh \\\\\n",
    "    \\overline{x}&=\\frac{2}{3}b\\\\\n",
    "\\end{align}\n",
    "$$\n",
    "\n"
   ]
  },
  {
   "cell_type": "markdown",
   "metadata": {},
   "source": [
    "면적<br>Area\n",
    "\n"
   ]
  },
  {
   "cell_type": "code",
   "execution_count": null,
   "metadata": {
    "collapsed": true
   },
   "outputs": [],
   "source": [
    "A_RA = L_AB_m * R_A_N * L_AB_m / 2\n",
    "\n"
   ]
  },
  {
   "cell_type": "code",
   "execution_count": null,
   "metadata": {
    "collapsed": false,
    "scrolled": false
   },
   "outputs": [],
   "source": [
    "A_RA\n",
    "\n"
   ]
  },
  {
   "cell_type": "markdown",
   "metadata": {},
   "source": [
    "도심거리<br>Centroid distance\n",
    "\n"
   ]
  },
  {
   "cell_type": "code",
   "execution_count": null,
   "metadata": {
    "collapsed": true
   },
   "outputs": [],
   "source": [
    "x_bar_RA = 2 * L_AB_m / 3\n",
    "\n"
   ]
  },
  {
   "cell_type": "markdown",
   "metadata": {},
   "source": [
    "$B$점의 접선으로부터 $A$점의 처짐<br>Deflection at $A$ from the tangential line of $B$\n",
    "\n"
   ]
  },
  {
   "cell_type": "code",
   "execution_count": null,
   "metadata": {
    "collapsed": true
   },
   "outputs": [],
   "source": [
    "EI_delta_RA = A_RA * x_bar_RA\n",
    "\n"
   ]
  },
  {
   "cell_type": "code",
   "execution_count": null,
   "metadata": {
    "collapsed": false
   },
   "outputs": [],
   "source": [
    "EI_delta_RA\n",
    "\n"
   ]
  },
  {
   "cell_type": "markdown",
   "metadata": {
    "collapsed": true
   },
   "source": [
    "#### 두 처짐을 중첩함<br>Superpose two $\\delta$'s\n",
    "\n"
   ]
  },
  {
   "cell_type": "code",
   "execution_count": null,
   "metadata": {
    "collapsed": false
   },
   "outputs": [],
   "source": [
    "super_eq = sy.Eq(EI_delta_w0 + EI_delta_RA, 0)\n",
    "\n"
   ]
  },
  {
   "cell_type": "code",
   "execution_count": null,
   "metadata": {
    "collapsed": false
   },
   "outputs": [],
   "source": [
    "super_eq\n",
    "\n"
   ]
  },
  {
   "cell_type": "markdown",
   "metadata": {
    "collapsed": true
   },
   "source": [
    "#### $R$에 관하여 풂<br>Solve for $R$\n",
    "\n"
   ]
  },
  {
   "cell_type": "code",
   "execution_count": null,
   "metadata": {
    "collapsed": false
   },
   "outputs": [],
   "source": [
    "R_A_N_sol = sy.solve(super_eq, R_A_N)[0]\n",
    "\n"
   ]
  },
  {
   "cell_type": "code",
   "execution_count": null,
   "metadata": {
    "collapsed": false,
    "scrolled": true
   },
   "outputs": [],
   "source": [
    "R_A_N_sol\n",
    "\n"
   ]
  },
  {
   "cell_type": "markdown",
   "metadata": {
    "collapsed": true
   },
   "source": [
    "### 평형방정식<br>Equilibrium equation\n",
    "\n"
   ]
  },
  {
   "cell_type": "markdown",
   "metadata": {},
   "source": [
    "수직방향<br>Vertical direction\n",
    "\n"
   ]
  },
  {
   "cell_type": "markdown",
   "metadata": {},
   "source": [
    "$$\n",
    "R_A + R_B + w_0 L = 0\n",
    "$$\n",
    "\n"
   ]
  },
  {
   "cell_type": "code",
   "execution_count": null,
   "metadata": {
    "collapsed": true
   },
   "outputs": [],
   "source": [
    "fy_eq = sy.Eq(R_A_N + R_B_N + w0_N_m * L_AB_m)\n",
    "\n"
   ]
  },
  {
   "cell_type": "code",
   "execution_count": null,
   "metadata": {
    "collapsed": false
   },
   "outputs": [],
   "source": [
    "fy_eq\n",
    "\n"
   ]
  },
  {
   "cell_type": "code",
   "execution_count": null,
   "metadata": {
    "collapsed": false
   },
   "outputs": [],
   "source": [
    "fy_eq.subs(R_A_N, R_A_N_sol)\n",
    "\n"
   ]
  },
  {
   "cell_type": "markdown",
   "metadata": {},
   "source": [
    "#### B 점에서의 수직 반력<br>Vertical reaction force at B\n",
    "\n"
   ]
  },
  {
   "cell_type": "code",
   "execution_count": null,
   "metadata": {
    "collapsed": false
   },
   "outputs": [],
   "source": [
    "R_B_N_sol = sy.solve(fy_eq.subs(R_A_N, R_A_N_sol), R_B_N)\n",
    "\n"
   ]
  },
  {
   "cell_type": "code",
   "execution_count": null,
   "metadata": {
    "collapsed": false
   },
   "outputs": [],
   "source": [
    "R_B_N_sol\n",
    "\n"
   ]
  },
  {
   "cell_type": "markdown",
   "metadata": {},
   "source": [
    "$B$점 중심 회전방향<br>Rotation direction around $B$\n",
    "\n"
   ]
  },
  {
   "cell_type": "markdown",
   "metadata": {},
   "source": [
    "$$\n",
    "M_B + R_A \\cdot L + (w_0 L) \\cdot \\frac{1}{2}L=0\n",
    "$$\n",
    "\n"
   ]
  },
  {
   "cell_type": "code",
   "execution_count": null,
   "metadata": {
    "collapsed": false
   },
   "outputs": [],
   "source": [
    "m_eq = sy.Eq(+ M_B_Nm + R_A_N * L_AB_m + sy.Rational(1, 2) * w0_N_m * L_AB_m ** 2)\n",
    "\n"
   ]
  },
  {
   "cell_type": "code",
   "execution_count": null,
   "metadata": {
    "collapsed": false
   },
   "outputs": [],
   "source": [
    "m_eq\n",
    "\n"
   ]
  },
  {
   "cell_type": "code",
   "execution_count": null,
   "metadata": {
    "collapsed": false
   },
   "outputs": [],
   "source": [
    "sy.simplify(m_eq.subs(R_A_N, R_A_N_sol))\n",
    "\n"
   ]
  },
  {
   "cell_type": "markdown",
   "metadata": {},
   "source": [
    "#### B 점에서의 모멘트반력<br>Reaction moment at B\n",
    "\n"
   ]
  },
  {
   "cell_type": "code",
   "execution_count": null,
   "metadata": {
    "collapsed": false
   },
   "outputs": [],
   "source": [
    "M_B_Nm_sol = sy.solve(m_eq.subs(R_A_N, R_A_N_sol), M_B_Nm)[0]\n",
    "\n"
   ]
  },
  {
   "cell_type": "code",
   "execution_count": null,
   "metadata": {
    "collapsed": false
   },
   "outputs": [],
   "source": [
    "sy.simplify(M_B_Nm_sol)\n",
    "\n"
   ]
  },
  {
   "cell_type": "code",
   "execution_count": null,
   "metadata": {},
   "outputs": [],
   "source": []
  }
 ],
 "metadata": {
  "anaconda-cloud": {},
  "kernelspec": {
   "display_name": "Python [default]",
   "language": "python",
   "name": "python3"
  },
  "language_info": {
   "codemirror_mode": {
    "name": "ipython",
    "version": 3
   },
   "file_extension": ".py",
   "mimetype": "text/x-python",
   "name": "python",
   "nbconvert_exporter": "python",
   "pygments_lexer": "ipython3",
   "version": "3.5.2"
  }
 },
 "nbformat": 4,
 "nbformat_minor": 2
}