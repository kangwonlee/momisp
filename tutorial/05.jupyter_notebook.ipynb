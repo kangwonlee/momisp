{
 "cells": [
  {
   "cell_type": "markdown",
   "metadata": {
    "id": "view-in-github",
    "colab_type": "text"
   },
   "source": [
    "<a href=\"https://colab.research.google.com/github/kangwonlee/momisp/blob/main/tutorial/05.jupyter_notebook.ipynb\" target=\"_parent\"><img src=\"https://colab.research.google.com/assets/colab-badge.svg\" alt=\"Open In Colab\"/></a>\n"
   ]
  },
  {
   "cell_type": "markdown",
   "metadata": {},
   "source": [
    "# Jupyter Notebook\n",
    "\n"
   ]
  },
  {
   "cell_type": "markdown",
   "metadata": {},
   "source": [
    "* ref : [[0](https://jupyter.readthedocs.io/en/latest/content-quickstart.html)], [[1](https://github.com/ipython/ipython-in-depth)], [[2](https://github.com/ipython/ipython-in-depth/tree/old-in-depth)]\n",
    "\n"
   ]
  },
  {
   "cell_type": "markdown",
   "metadata": {},
   "source": [
    "## Introduction<br>소개\n",
    "\n"
   ]
  },
  {
   "cell_type": "markdown",
   "metadata": {},
   "source": [
    "* Jupyter Notebook is a web environment capable of running python (or some other programming language's) code.<br>Jupyter Notebook 은 웹페이지 형태로 파이썬 (또는 몇몇 다른 프로그래밍) 언어의 코드를 실행시켜볼 수 있는 환경임.\n",
    "\n",
    "\n"
   ]
  },
  {
   "cell_type": "markdown",
   "metadata": {},
   "source": [
    "* [The *Notebook* interface](https://en.wikipedia.org/wiki/Notebook_interface) itself first appeared when [Dr. Stephan Wolfram](https://en.wikipedia.org/wiki/Stephen_Wolfram) introduced the [Mathematica](https://en.wikipedia.org/wiki/Wolfram_Mathematica) in 1988.<br>[*노트북* 인터페이스](https://ko.wikipedia.org/wiki/매스매티카#인터페이스)가 처음으로 나타났던 것은 1988년 [Dr. Stephan Wolfram](https://en.wikipedia.org/wiki/Stephen_Wolfram) 이 [Mathematica](https://ko.wikipedia.org/wiki/매스매티카)를 소개하면서였음.\n",
    "\n"
   ]
  },
  {
   "cell_type": "markdown",
   "metadata": {},
   "source": [
    "* To run some lines of code, enter the code in a cell and press <kbd>Shift</kbd>+<kbd>Enter</kbd><br>코드를 실행하기 위해서는 **셀**에 코드를 입력하고 <kbd>Shift</kbd>+<kbd>Enter</kbd>를 입력.\n",
    "\n"
   ]
  },
  {
   "cell_type": "code",
   "execution_count": null,
   "metadata": {},
   "outputs": [],
   "source": [
    "# Click on this cell with your mouse and press Shift+Enter\n",
    "# 이 셀을 마우스로 선택한 후 Shift+Enter\n",
    "\n",
    "print(\"Hello Jupyter Notebook\")\n",
    "\n"
   ]
  },
  {
   "cell_type": "markdown",
   "metadata": {},
   "source": [
    "* The execution result shows up below the input area of the cell.<br>실행 결과는 셀의 입력 영역 아래에 나타남.\n",
    "\n"
   ]
  },
  {
   "cell_type": "markdown",
   "metadata": {},
   "source": [
    "* Also, as it takes a form of a web page, it can present various medias such as figures and moving pictures.<br>또한 웹페이지 형태이므로 그림 동영상 등 다양한 매체를 표시할 수 있음.\n",
    "\n"
   ]
  },
  {
   "cell_type": "markdown",
   "metadata": {},
   "source": [
    "![Jupyter Logo](https://jupyter.readthedocs.io/en/latest/_static/_images/jupyter.svg)\n",
    "\n"
   ]
  },
  {
   "cell_type": "markdown",
   "metadata": {},
   "source": [
    "## Editing Cells<br>셀 편집\n",
    "\n"
   ]
  },
  {
   "cell_type": "markdown",
   "metadata": {},
   "source": [
    "### Modes<br>모드\n",
    "\n"
   ]
  },
  {
   "cell_type": "markdown",
   "metadata": {},
   "source": [
    "* There are command and edit modes<br>명령 모드와 편집 모드가 있음.\n",
    "* Clicking on the inside (darker) or outside (brighter) of the input area selects edit or command mode, respectively<br>마우스로 입력 영역 안 (진한 색) 또는 밖 (흰 색) 을 클릭하면 각각 편집 또는 명령 모드로 선택.\n",
    "* The border of the cell is blue (green) if command (edit) mode.<br>셀 테두리가 명령 모드이면 파란색, 편집 모드로 바뀌면 초록색.\n",
    "* In the edit (command) mode, pressing <kbd>ESC</kbd> (<kbd>Enter</kbd>) would switch to command (edit) mode.<br>편집 모드에서 <kbd>ESC</kbd>를 누르면 명령 모드로, 명령 모드에서 <kbd>Enter</kbd>를 누르면 편집 모드로 변경.\n",
    "\n"
   ]
  },
  {
   "cell_type": "markdown",
   "metadata": {},
   "source": [
    "### Cell Types<br>셀의 종류\n",
    "\n"
   ]
  },
  {
   "cell_type": "markdown",
   "metadata": {},
   "source": [
    "* Mostly code or markdown cells<br>대체로 코드 셀 또는 마크다운 셀을 사용.\n",
    "\n"
   ]
  },
  {
   "cell_type": "raw",
   "metadata": {},
   "source": [
    "* Raw cells can present text without **formatting**.\n",
    "* Raw 셀은 문자열을 **포멧** 없이 표시하는 것도 가능.\n",
    "\n"
   ]
  },
  {
   "cell_type": "markdown",
   "metadata": {},
   "source": [
    "### 명령모드<br>Command Mode\n",
    "\n"
   ]
  },
  {
   "cell_type": "markdown",
   "metadata": {},
   "source": [
    "* ref : [[0](https://github.com/ipython/ipython-in-depth/blob/old-in-depth/examples/Notebook/Notebook%20Basics.ipynb#Keyboard-Navigation)], [[1](https://www.dataquest.io/blog/jupyter-notebook-tips-tricks-shortcuts)]\n",
    "\n"
   ]
  },
  {
   "cell_type": "markdown",
   "metadata": {},
   "source": [
    "| command | expected behavior |\n",
    "|:-----:|:-----:|\n",
    "| <kbd>h</kbd> | show keyboard shortcut help dialog<br>단축키 도움말 표시 |\n",
    "| <kbd>Ctrl</kbd>+<kbd>Shift</kbd>+<kbd>p</kbd><br><kbd>Cmd</kbd>+<kbd>Shift</kbd>+<kbd>p</kbd> | open command palette<br>명령 팔레트 열기 |\n",
    "| <kbd>L</kbd> | toggle line numbers<br>행 번호 표시 여부 전환 |\n",
    "| <kbd>Enter</kbd> | Edit mode<br>편집 모드 |\n",
    "| <kbd>Shift</kbd>+<kbd>Enter</kbd> | run cell, select below<br>실행 후 다음 선택 |\n",
    "| <kbd>Ctrl</kbd>+<kbd>Enter</kbd> | run cell<br>실행 |\n",
    "| <kbd>Alt</kbd>+<kbd>Enter</kbd> | run cell, insert below<br>실행 후 다음 셀 입력 |\n",
    "| <kbd>o</kbd> | toggle output<br>출력 표시 여부 전환 |\n",
    "| <kbd>Shift</kbd>+<kbd>o</kbd> | toggle output scroll<br>출력 표시 스크롤 여부 전환 |\n",
    "| <kbd>y</kbd> | to code<br>코드 셀로 |\n",
    "| <kbd>m</kbd> | to markdown<br>마크다운 셀로 |\n",
    "| <kbd>r</kbd> | to raw<br>raw 셀로 |\n",
    "| <kbd>1</kbd>~<kbd>6</kbd> | to heading level 1~6 <br> 1~6단계 제목으로 |\n",
    "| <kbd>k</kbd>(<kbd>j</kbd>)<br><kbd>&uarr;</kbd>(<kbd>&darr;</kbd>) | select cell above<br>위(아래) 셀 선택 |\n",
    "| <kbd>Shift</kbd>+<kbd>k</kbd>(<kbd>j</kbd>)<br><kbd>Shift</kbd>+<kbd>&uarr;</kbd>(<kbd>&darr;</kbd>) | extend selection above<br>위(아래) 셀로 선택 확장 |\n",
    "| <kbd>Shift</kbd>+<kbd>m</kbd> | merge selected cells<br>선택한 셀 병합 |\n",
    "| <kbd>a</kbd>(<kbd>b</kbd>) | insert cell above(below)<br>위(아래)에 셀 추가 |\n",
    "| <kbd>s</kbd><br><kbd>Ctrl</kbd>+<kbd>s</kbd> | Save and Checkpoint<br>저장 |\n",
    "| (<kbd>Shift</kbd>+)<kbd>Space</kbd> | scroll down(up)<br>한 페이지 아래(위)로 |\n",
    "| <kbd>x</kbd> | cut selected cell<br>선택 셀 자르기 |\n",
    "| <kbd>c</kbd> | copy selected cell<br>선택 셀 복사 |\n",
    "| (<kbd>Shift</kbd>+)<kbd>v</kbd> | paste cell below<br>선택 셀 아래(위)에 붙여넣기 |\n",
    "| <kbd>d</kbd><kbd>d</kbd><br><kbd>Delete</kbd> | delete selected cell<br>선택 셀 삭제 |\n",
    "| <kbd>z</kbd> | undo last cell deletion<br>마지막 셀 삭제 취소 |\n",
    "| <kbd>i</kbd><kbd>i</kbd> | interrupt kernel<br>커널 중단 |\n",
    "| <kbd>0</kbd><kbd>0</kbd> | restart kernel<br>커널 재시작 |\n",
    "\n"
   ]
  },
  {
   "cell_type": "markdown",
   "metadata": {},
   "source": [
    "### 편집모드<br>Edit Mode\n",
    "\n"
   ]
  },
  {
   "cell_type": "markdown",
   "metadata": {},
   "source": [
    "* ref : [[0](https://github.com/ipython/ipython-in-depth/blob/old-in-depth/examples/Notebook/Notebook%20Basics.ipynb#Keyboard-Navigation)], [[1](https://www.dataquest.io/blog/jupyter-notebook-tips-tricks-shortcuts)]\n",
    "\n"
   ]
  },
  {
   "cell_type": "markdown",
   "metadata": {},
   "source": [
    "| command | expected behavior |\n",
    "|:-----:|:-----:|\n",
    "| <kbd>Tab</kbd> | code completion or indent<br>코드 완성 또는 들여쓰기 |\n",
    "| <kbd>Ctrl</kbd>+<kbd>Shift</kbd>+<kbd>p</kbd><br><kbd>Cmd</kbd>+<kbd>Shift</kbd>+<kbd>p</kbd> | open command palette<br>명령 팔레트 열기 |\n",
    "| <kbd>Shift</kbd>+<kbd>Tab</kbd> | tooltip<br>짧은 도움말 |\n",
    "| <kbd>Esc</kbd><br><kbd>Ctrl</kbd>+<kbd>m</kbd> | command mode<br>명령 모드 |\n",
    "| <kbd>Shift</kbd>+<kbd>Enter</kbd> | run cell, select below<br>실행 후 다음 선택 |\n",
    "| <kbd>Ctrl</kbd>+<kbd>Enter</kbd> | run cell<br>실행 |\n",
    "| <kbd>Alt</kbd>+<kbd>Enter</kbd> | run cell, insert below<br>실행 후 다음 셀 입력 |\n",
    "| <kbd>Ctrl</kbd>+<kbd>Shift</kbd>+<kbd>-</kbd> | split cell<br>셀 나누기 |\n",
    "| <kbd>Ctrl</kbd>+<kbd>s</kbd> | Save and Checkpoint<br>저장 |\n",
    "| <kbd>Ctrl</kbd>+<kbd>]</kbd> | indent<br>들여쓰기 |\n",
    "| <kbd>Ctrl</kbd>+<kbd>[</kbd> | dedent<br>내어쓰기 |\n",
    "| <kbd>Ctrl</kbd>+<kbd>a</kbd> | select all<br>모두 선택 |\n",
    "| <kbd>Ctrl</kbd>+<kbd>z</kbd> | undo<br>취소 |\n",
    "| <kbd>Ctrl</kbd>+<kbd>Strl</kbd>+<kbd>z</kbd><br><kbd>Ctrl</kbd>+<kbd>y</kbd> | redo<br>취소 취소 |\n",
    "| <kbd>Ctrl</kbd>+<kbd>Home</kbd><br><kbd>Ctrl</kbd>+<kbd>&uarr;</kbd> | go to cell start<br>셀 처음으로 |\n",
    "| <kbd>Ctrl</kbd>+<kbd>End</kbd><br><kbd>Ctrl</kbd>+<kbd>&darr;</kbd> | go to cell end<br>셀 끝으로 |\n",
    "| <kbd>Ctrl</kbd>+<kbd>&rarr;</kbd>(<kbd>&larr;</kbd>) | go one word right(left)<br>한 단어 오른쪽(왼쪽) |\n",
    "| <kbd>Ctrl</kbd>+<kbd>Backspace</kbd>(<kbd>Delete</kbd>) | delete one word before(after)<br>앞(뒤) 한 단어 삭제 |\n",
    "| <kbd>Ctrl</kbd>+Click | add entry points<br>입력 커서 추가 |\n",
    "\n"
   ]
  },
  {
   "cell_type": "markdown",
   "metadata": {},
   "source": [
    "## Magic Commands<br>매직 커맨드\n",
    "\n"
   ]
  },
  {
   "cell_type": "markdown",
   "metadata": {},
   "source": [
    "* ref : [[0](https://ipython.readthedocs.io/en/latest/interactive/magics.html)], [[1](https://www.dataquest.io/blog/jupyter-notebook-tips-tricks-shortcuts)]\n",
    "\n"
   ]
  },
  {
   "cell_type": "markdown",
   "metadata": {},
   "source": [
    "iPython, running the Jupyter notebook, has a number of features to help users.<br>\n",
    "Jupyter notebook 을 위해 실행하고 있는 iPython 은 사용자 편의를 위한 몇가지 기능이 있음.\n",
    "\n"
   ]
  },
  {
   "cell_type": "markdown",
   "metadata": {},
   "source": [
    "A line (cell) magic command starts with `%` (`%%`)<br>\n",
    "각각 행 또는 셀 단위로 작용하는 행, 셀 매직 커맨드는 `%` 또는 `%%`으로 시작.\n",
    "\n"
   ]
  },
  {
   "cell_type": "markdown",
   "metadata": {},
   "source": [
    "### Help & Info<br>도움말과 정보\n",
    "\n"
   ]
  },
  {
   "cell_type": "markdown",
   "metadata": {},
   "source": [
    "`?` will show a help document.<br>`?` 는 도움말을 보여줌.\n",
    "\n"
   ]
  },
  {
   "cell_type": "code",
   "execution_count": null,
   "metadata": {},
   "outputs": [],
   "source": [
    "?print\n",
    "\n"
   ]
  },
  {
   "cell_type": "markdown",
   "metadata": {},
   "source": [
    "Let's take a look at the documentation of magic command `lsmagic`.<br>\n",
    "아래는 `lsmagic`라는 매직 커맨드의 문서를 보여줌.\n",
    "\n"
   ]
  },
  {
   "cell_type": "code",
   "execution_count": null,
   "metadata": {},
   "outputs": [],
   "source": [
    "?lsmagic\n",
    "\n"
   ]
  },
  {
   "cell_type": "markdown",
   "metadata": {},
   "source": [
    "Let's run the `%lsmagic` and check the result.<br>\n",
    "`%lsmagic`명령의 결과 확인.\n",
    "\n"
   ]
  },
  {
   "cell_type": "code",
   "execution_count": null,
   "metadata": {},
   "outputs": [],
   "source": [
    "%lsmagic\n",
    "\n"
   ]
  },
  {
   "cell_type": "markdown",
   "metadata": {},
   "source": [
    "If you want to know the names of the variables, ask `%who`.<br>\n",
    "변수의 이름을 알고 싶은 경우 `%who` 실행.\n",
    "\n"
   ]
  },
  {
   "cell_type": "code",
   "execution_count": null,
   "metadata": {
    "scrolled": true
   },
   "outputs": [],
   "source": [
    "%who\n",
    "\n"
   ]
  },
  {
   "cell_type": "code",
   "execution_count": null,
   "metadata": {},
   "outputs": [],
   "source": [
    "a, b = 1, 2\n",
    "%who\n",
    "\n"
   ]
  },
  {
   "cell_type": "markdown",
   "metadata": {},
   "source": [
    "### File<br>파일\n",
    "\n"
   ]
  },
  {
   "cell_type": "markdown",
   "metadata": {},
   "source": [
    "Write a file<br>파일 생성\n",
    "\n"
   ]
  },
  {
   "cell_type": "code",
   "execution_count": null,
   "metadata": {},
   "outputs": [],
   "source": [
    "%%writefile run_this.py\n",
    "\n",
    "a_run_this = 1\n",
    "b_run_this = 2\n",
    "print(\"a =\", a_run_this, \"b =\", b_run_this)\n",
    "\n"
   ]
  },
  {
   "cell_type": "markdown",
   "metadata": {},
   "source": [
    "Show the content of a file<br>\n",
    "파일 내용 표시\n",
    "\n"
   ]
  },
  {
   "cell_type": "code",
   "execution_count": null,
   "metadata": {},
   "outputs": [],
   "source": [
    "%pycat run_this.py\n",
    "\n"
   ]
  },
  {
   "cell_type": "markdown",
   "metadata": {},
   "source": [
    "To run a separate python file `%run`<br>\n",
    "별도의 파이썬 파일을 실행시키고 싶을 때는 `%run`\n",
    "\n"
   ]
  },
  {
   "cell_type": "code",
   "execution_count": null,
   "metadata": {
    "scrolled": true
   },
   "outputs": [],
   "source": [
    "%run run_this . &\n",
    "\n"
   ]
  },
  {
   "cell_type": "markdown",
   "metadata": {},
   "source": [
    "The list of variables after loading the file<br>프로그램을 읽어들인 후 변수 목록\n",
    "\n"
   ]
  },
  {
   "cell_type": "code",
   "execution_count": null,
   "metadata": {},
   "outputs": [],
   "source": [
    "%who\n",
    "\n"
   ]
  },
  {
   "cell_type": "markdown",
   "metadata": {},
   "source": [
    "Read the program in<br>\n",
    "프로그램 읽어들이기\n",
    "\n"
   ]
  },
  {
   "cell_type": "code",
   "execution_count": null,
   "metadata": {},
   "outputs": [],
   "source": [
    "%load run_this\n",
    "\n"
   ]
  },
  {
   "cell_type": "markdown",
   "metadata": {},
   "source": [
    "The list of variables after loading the file<br>프로그램을 읽어들인 후 변수 목록\n",
    "\n"
   ]
  },
  {
   "cell_type": "code",
   "execution_count": null,
   "metadata": {},
   "outputs": [],
   "source": [
    "%who\n",
    "\n"
   ]
  },
  {
   "cell_type": "markdown",
   "metadata": {},
   "source": [
    "### 실행 시간 측정<br>Measuring execution tme\n",
    "\n"
   ]
  },
  {
   "cell_type": "code",
   "execution_count": null,
   "metadata": {},
   "outputs": [],
   "source": [
    "n = 10000000\n",
    "\n"
   ]
  },
  {
   "cell_type": "markdown",
   "metadata": {},
   "source": [
    "Cell execution time<br>셀 실행 시간\n",
    "\n"
   ]
  },
  {
   "cell_type": "code",
   "execution_count": null,
   "metadata": {},
   "outputs": [],
   "source": [
    "%%time\n",
    "\n",
    "s = 0\n",
    "\n",
    "for k in range(n):\n",
    "    s += k\n",
    "\n"
   ]
  },
  {
   "cell_type": "markdown",
   "metadata": {},
   "source": [
    "Line execution time<br>행 실행 시간\n",
    "\n"
   ]
  },
  {
   "cell_type": "code",
   "execution_count": null,
   "metadata": {},
   "outputs": [],
   "source": [
    "%time sum(range(n))\n",
    "\n"
   ]
  },
  {
   "cell_type": "markdown",
   "metadata": {},
   "source": [
    "Line execution time with iterations<br>행 실행 시간 반복\n",
    "\n"
   ]
  },
  {
   "cell_type": "code",
   "execution_count": null,
   "metadata": {},
   "outputs": [],
   "source": [
    "%timeit sum(range(n))\n",
    "\n"
   ]
  },
  {
   "cell_type": "markdown",
   "metadata": {},
   "source": [
    "Profiling<br>세부 실행 시간\n",
    "\n"
   ]
  },
  {
   "cell_type": "code",
   "execution_count": null,
   "metadata": {},
   "outputs": [],
   "source": [
    "%prun sum(range(n))\n",
    "\n"
   ]
  },
  {
   "cell_type": "markdown",
   "metadata": {},
   "source": [
    "### Debugging<br>디버깅\n",
    "\n"
   ]
  },
  {
   "cell_type": "markdown",
   "metadata": {},
   "source": [
    "* ref : [[0](https://davidhamann.de/2017/04/22/debugging-jupyter-notebooks/)]\n",
    "\n"
   ]
  },
  {
   "cell_type": "code",
   "execution_count": null,
   "metadata": {},
   "outputs": [],
   "source": [
    "%pdb\n",
    "\n",
    "def sum_to(n):\n",
    "\n",
    "    s = 0\n",
    "\n",
    "    # uncomment following line to debug\n",
    "    # 디버그 기능을 사용하려면 아래 주석 해제\n",
    "    # import pdb; pdb.set_trace()\n",
    "\n",
    "    for k in range(n):\n",
    "        s += k\n",
    "\n",
    "    return s\n",
    "\n",
    "sum_to(100)\n",
    "\n"
   ]
  },
  {
   "cell_type": "markdown",
   "metadata": {},
   "source": [
    "### Shell commands<br>셸 명령\n",
    "\n"
   ]
  },
  {
   "cell_type": "markdown",
   "metadata": {},
   "source": [
    "Starting with `!`, a cell can run a shell command.<br>\n",
    "`!`로 시작하여 셸 명령 실행\n",
    "\n"
   ]
  },
  {
   "cell_type": "code",
   "execution_count": null,
   "metadata": {},
   "outputs": [],
   "source": [
    "!ls -l\n",
    "\n"
   ]
  },
  {
   "cell_type": "markdown",
   "metadata": {},
   "source": [
    "## LaTeX formula<br>LaTeX (래이텍) 수식\n",
    "\n"
   ]
  },
  {
   "cell_type": "markdown",
   "metadata": {},
   "source": [
    "Wrap LaTeX equations by wrapping `$` or `$$`.<br>\n",
    "한 행 수식은 `$`로, 여러행 수식은 `$$`로 둘러싸서 표시\n",
    "\n"
   ]
  },
  {
   "cell_type": "markdown",
   "metadata": {},
   "source": [
    "$$\n",
    "\\int_a^b {f(x)}dx=F(b)-F(a)\n",
    "$$\n",
    "\n"
   ]
  },
  {
   "cell_type": "markdown",
   "metadata": {},
   "source": [
    "## Clean up<br>정리\n",
    "\n"
   ]
  },
  {
   "cell_type": "markdown",
   "metadata": {},
   "source": [
    "* Delete `load_this.py`<br>`load_this.py` 삭제\n",
    "\n"
   ]
  },
  {
   "cell_type": "code",
   "execution_count": null,
   "metadata": {},
   "outputs": [],
   "source": [
    "import os\n",
    "\n",
    "os.remove('run_this.py')\n",
    "\n",
    "assert not os.path.exists('run_this.py')\n",
    "\n"
   ]
  },
  {
   "cell_type": "markdown",
   "metadata": {},
   "source": [
    "### Final Bell\n",
    "\n"
   ]
  },
  {
   "cell_type": "code",
   "execution_count": null,
   "metadata": {},
   "outputs": [],
   "source": [
    "import os\n",
    "os.system(\"printf '\\a'\")\n",
    "\n"
   ]
  },
  {
   "cell_type": "code",
   "execution_count": null,
   "metadata": {},
   "outputs": [],
   "source": []
  }
 ],
 "metadata": {
  "kernelspec": {
   "display_name": "Python 3",
   "language": "python",
   "name": "python3"
  },
  "language_info": {
   "codemirror_mode": {
    "name": "ipython",
    "version": 3
   },
   "file_extension": ".py",
   "mimetype": "text/x-python",
   "name": "python",
   "nbconvert_exporter": "python",
   "pygments_lexer": "ipython3",
   "version": "3.7.3"
  }
 },
 "nbformat": 4,
 "nbformat_minor": 2
}