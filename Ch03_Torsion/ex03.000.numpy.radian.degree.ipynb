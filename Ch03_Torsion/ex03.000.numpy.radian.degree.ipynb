{
 "cells": [
  {
   "cell_type": "markdown",
   "metadata": {
    "colab_type": "text",
    "id": "view-in-github"
   },
   "source": [
    "<a href=\"https://colab.research.google.com/github/kangwonlee/momisp/blob/main/Ch03_Torsion/ex03.000.numpy.radian.degree.ipynb\" target=\"_parent\"><img src=\"https://colab.research.google.com/assets/colab-badge.svg\" alt=\"Open In Colab\"/></a>"
   ]
  },
  {
   "cell_type": "markdown",
   "metadata": {},
   "source": [
    "참고문헌 : Pytel 외 저, 이주성 외 역, 재료역학, 2판, 한티미디어, 2013.<br>Ref: Pytel, Kiusalaas, Sharma, Mechanics of Materials, 2nd Ed., Cengage Learning, 2013.\n",
    "\n"
   ]
  },
  {
   "cell_type": "markdown",
   "metadata": {},
   "source": [
    "`python` 기능을 확장해 주는 `module`을 불러 들임 (일부 기능만 사용될 수도 있음)<br>\n",
    "Bring in `module`'s that would expand features of `python`. (This file may use just some of them.)\n",
    "\n"
   ]
  },
  {
   "cell_type": "code",
   "execution_count": null,
   "metadata": {},
   "outputs": [],
   "source": [
    "import numpy as np  # 배열, 행렬 관련 기능\n",
    "import numpy.linalg as na  # 선형대수 (벡터, 행렬) 관련 기능\n",
    "import numpy.testing as nt # Numpy test\n",
    "import matplotlib.pyplot as plt  # 그래프 관련 기능\n",
    "import scipy.integrate as si  # 적분 관련 기능\n",
    "import sympy as sy  # 기호 연산 기능\n",
    "import IPython.display as disp  # 웹페이지 표시 기능\n",
    "sy.init_printing()  # 기호 연산 결과 표시 기능 준비\n",
    "\n"
   ]
  },
  {
   "cell_type": "markdown",
   "metadata": {},
   "source": [
    "## 예제 03.000 각도의 단위 : degree 와 radian<br>Degree vs Radian\n",
    "\n"
   ]
  },
  {
   "cell_type": "markdown",
   "metadata": {},
   "source": [
    "We may indicate angles in degrees or in radians.  Let's take a look at how we can generate sine and cosine plots.s\n",
    "<br>각도를 표시하는 단위는 degree 와 radian 이 있다. 참고로 아래 sine, cosine 함수의 plot 을 만드는 과정을 살펴 보자.\n",
    "\n"
   ]
  },
  {
   "cell_type": "markdown",
   "metadata": {},
   "source": [
    "Make an array of $\\theta$ from 0 to 360 degrees.<br>\n",
    "각도 $\\theta$ 를 0도 에서부터 360 까지 준비한다.\n",
    "\n"
   ]
  },
  {
   "cell_type": "code",
   "execution_count": null,
   "metadata": {},
   "outputs": [],
   "source": [
    "theta_deg_array = np.arange(0, 360 + 0.1, 1)\n",
    "\n"
   ]
  },
  {
   "cell_type": "markdown",
   "metadata": {},
   "source": [
    "We can check the size of the angle as follows.<br>\n",
    "각도의 갯수는 다음과 같이 확인할 수 있다.\n",
    "\n"
   ]
  },
  {
   "cell_type": "code",
   "execution_count": null,
   "metadata": {},
   "outputs": [],
   "source": [
    "theta_deg_array.shape\n",
    "\n"
   ]
  },
  {
   "cell_type": "markdown",
   "metadata": {},
   "source": [
    "First five values are :<br>\n",
    "처음 5개의 값은 다음과 같다.\n",
    "\n"
   ]
  },
  {
   "cell_type": "code",
   "execution_count": null,
   "metadata": {},
   "outputs": [],
   "source": [
    "theta_deg_array[:5]\n",
    "\n"
   ]
  },
  {
   "cell_type": "markdown",
   "metadata": {},
   "source": [
    "Last five values are :<br>\n",
    "마지막 5개의 값은 다음과 같다.\n",
    "\n"
   ]
  },
  {
   "cell_type": "code",
   "execution_count": null,
   "metadata": {},
   "outputs": [],
   "source": [
    "theta_deg_array[-5:]\n",
    "\n"
   ]
  },
  {
   "cell_type": "markdown",
   "metadata": {},
   "source": [
    "### Converting degrees to radians<br>degree 를 radian 으로 변환\n",
    "\n"
   ]
  },
  {
   "cell_type": "markdown",
   "metadata": {},
   "source": [
    "Conversion factor :<br>\n",
    "degree 단위를 radian 단위로 변환하는 상수를 정한다.\n",
    "\n"
   ]
  },
  {
   "cell_type": "code",
   "execution_count": null,
   "metadata": {},
   "outputs": [],
   "source": [
    "deg2rad = np.pi / 180\n",
    "deg2rad\n",
    "\n"
   ]
  },
  {
   "cell_type": "markdown",
   "metadata": {},
   "source": [
    "Multiplyin the conversion factor:<br>\n",
    "변환 상수를 곱해준다.\n",
    "\n"
   ]
  },
  {
   "cell_type": "code",
   "execution_count": null,
   "metadata": {},
   "outputs": [],
   "source": [
    "theta_rad_array = theta_deg_array * deg2rad\n",
    "\n"
   ]
  },
  {
   "cell_type": "markdown",
   "metadata": {},
   "source": [
    "The size would be the same.<br>\n",
    "갯수를 확인하자.\n",
    "\n"
   ]
  },
  {
   "cell_type": "code",
   "execution_count": null,
   "metadata": {},
   "outputs": [],
   "source": [
    "theta_rad_array.shape\n",
    "\n"
   ]
  },
  {
   "cell_type": "markdown",
   "metadata": {},
   "source": [
    "First and last five values:<br>\n",
    "처음, 마지막 5씩의 값을 확인해 보자.\n",
    "\n"
   ]
  },
  {
   "cell_type": "code",
   "execution_count": null,
   "metadata": {},
   "outputs": [],
   "source": [
    "theta_rad_array[:5], theta_rad_array[-5:]\n",
    "\n"
   ]
  },
  {
   "cell_type": "markdown",
   "metadata": {},
   "source": [
    "`numpy` also has a couple of functions.<br>`numpy`의 함수로도 가능하다.\n",
    "\n"
   ]
  },
  {
   "cell_type": "code",
   "execution_count": null,
   "metadata": {},
   "outputs": [],
   "source": [
    "theta2_rad_array = np.deg2rad(theta_deg_array)\n",
    "theta2_rad_array[:5], theta2_rad_array[-5:]\n",
    "\n"
   ]
  },
  {
   "cell_type": "markdown",
   "metadata": {},
   "source": [
    "Let's compare the both results.<br>두 방식의 결과를 비교해 보자.\n",
    "\n"
   ]
  },
  {
   "cell_type": "code",
   "execution_count": null,
   "metadata": {},
   "outputs": [],
   "source": [
    "nt.assert_almost_equal(theta_rad_array, theta2_rad_array)\n",
    "\n"
   ]
  },
  {
   "cell_type": "markdown",
   "metadata": {},
   "source": [
    "### Calculating sine & cosine using angles in radians<br>radian 값으로 sine, cosine 값 계산\n",
    "\n"
   ]
  },
  {
   "cell_type": "code",
   "execution_count": null,
   "metadata": {},
   "outputs": [],
   "source": [
    "sin_array = np.sin(theta_rad_array)\n",
    "cos_array = np.cos(theta_rad_array)\n",
    "\n"
   ]
  },
  {
   "cell_type": "code",
   "execution_count": null,
   "metadata": {
    "scrolled": true
   },
   "outputs": [],
   "source": [
    "sin_array[:5], sin_array[-5:]\n",
    "\n"
   ]
  },
  {
   "cell_type": "code",
   "execution_count": null,
   "metadata": {},
   "outputs": [],
   "source": [
    "cos_array[:5], cos_array[-5:]\n",
    "\n"
   ]
  },
  {
   "cell_type": "markdown",
   "metadata": {},
   "source": [
    "### Plotting in degrees<br>degree 그래프\n",
    "\n"
   ]
  },
  {
   "cell_type": "code",
   "execution_count": null,
   "metadata": {
    "scrolled": true
   },
   "outputs": [],
   "source": [
    "# Plot sine & cosine graph using angles in degrees as x axis values.\n",
    "# sine, cosine 그래프를 준비시킨다. x 값으로 degree 단위를 사용했다.\n",
    "plt.plot(theta_deg_array, sin_array, label='sin')\n",
    "plt.plot(theta_deg_array, cos_array, label='cos')\n",
    "\n",
    "# Set x axis tick interval to 45 degrees\n",
    "# x 축 값 표시 간격을 45도로 지정한다.\n",
    "plt.xticks(np.arange(0, 360+1, 45))\n",
    "\n",
    "# Set x axis title\n",
    "# x 축 제목\n",
    "plt.xlabel('$\\\\theta(deg)$')\n",
    "\n",
    "# Add legend\n",
    "# 범례를 표시\n",
    "plt.legend(loc=0)\n",
    "\n",
    "# Add grid\n",
    "# 모눈을 표시\n",
    "plt.grid(True)\n",
    "plt.show()\n",
    "\n"
   ]
  },
  {
   "cell_type": "markdown",
   "metadata": {},
   "source": [
    "### Plotting in radians<br>radian 그래프\n",
    "\n"
   ]
  },
  {
   "cell_type": "code",
   "execution_count": null,
   "metadata": {},
   "outputs": [],
   "source": [
    "# This time, let use angles in radians for x axis values\n",
    "# 이번에는 x 축 값으로 radian 을 사용해 보자.\n",
    "plt.plot(theta_rad_array, sin_array, label='sin')\n",
    "plt.plot(theta_rad_array, cos_array, label='cos')\n",
    "\n",
    "# Set x axis tick interval to pi/4 radians\n",
    "# x 축 값 표시 간격을 pi/4 radian으로 지정한다.\n",
    "plt.xticks(np.arange(theta_rad_array.min(), theta_rad_array.max()+1e-7, np.pi/4))\n",
    "plt.xlabel('$\\\\theta(rad)$')\n",
    "\n",
    "plt.legend(loc=0)\n",
    "plt.grid(True)\n",
    "\n",
    "plt.show()\n",
    "\n"
   ]
  },
  {
   "cell_type": "markdown",
   "metadata": {},
   "source": [
    "### Angles in degrees<br>각도 표시 : degree 단위\n",
    "\n"
   ]
  },
  {
   "cell_type": "markdown",
   "metadata": {},
   "source": [
    "Make a python function plotting a unit circle indicating angles.<br>\n",
    "단위원을 그리고 각도를 표시하는 파이썬 함수를 만든다.\n",
    "\n"
   ]
  },
  {
   "cell_type": "code",
   "execution_count": null,
   "metadata": {},
   "outputs": [],
   "source": [
    "def angles_in_degrees():\n",
    "    # Plot a unit circle\n",
    "    # 반지름 1인 원을 표시한다.\n",
    "    plt.plot(cos_array, sin_array, label='circle')\n",
    "\n",
    "    # Indicate angles in 45 degrees\n",
    "    # 45도 간격으로 각도를 표시한다.\n",
    "    index_array = np.arange(45, 360 + 1, 45, dtype=int)\n",
    "    for index in index_array:\n",
    "        x = cos_array[index]\n",
    "        y = sin_array[index]\n",
    "        text = '%d(deg)' % theta_deg_array[index]\n",
    "        plt.text(x, y, text)\n",
    "\n",
    "    # Aspect ratio\n",
    "    # 가로세로축 비례 aspect ratio 를 맞춘다.\n",
    "    plt.axis('equal')\n",
    "\n",
    "    plt.legend(loc=0)\n",
    "    plt.grid(True)\n",
    "\n"
   ]
  },
  {
   "cell_type": "markdown",
   "metadata": {},
   "source": [
    "Call the function above.<br>위 함수를 호출한다.\n",
    "\n"
   ]
  },
  {
   "cell_type": "code",
   "execution_count": null,
   "metadata": {},
   "outputs": [],
   "source": [
    "angles_in_degrees()\n",
    "plt.show()\n",
    "\n"
   ]
  },
  {
   "cell_type": "markdown",
   "metadata": {},
   "source": [
    "### Angles in radians<br>각도 표시 : radian 단위\n",
    "\n"
   ]
  },
  {
   "cell_type": "code",
   "execution_count": null,
   "metadata": {},
   "outputs": [],
   "source": [
    "def angles_in_radians():\n",
    "    # Again, a unit circle\n",
    "    # 마찬가지로 반지름 1인 원을 표시한다.\n",
    "    plt.plot(cos_array, sin_array, label='circle')\n",
    "\n",
    "    # Angles in 45 degree interval, in radians\n",
    "    # 45도 간격으로 각도를 표시한다. 이번에는 radian 단위를 사용한다.\n",
    "    index_array = np.arange(45, 360 + 1, 45, dtype=int)\n",
    "    for index in index_array:\n",
    "        x = cos_array[index]\n",
    "        y = sin_array[index]\n",
    "        text = '%f(rad)' % theta_rad_array[index]\n",
    "        plt.text(x, y, text)\n",
    "\n",
    "    # Aspect ratio\n",
    "    # 가로세로축 비례를 맞춘다.\n",
    "    plt.axis('equal')\n",
    "\n",
    "    plt.legend(loc=0)\n",
    "    plt.grid(True)\n",
    "\n"
   ]
  },
  {
   "cell_type": "markdown",
   "metadata": {},
   "source": [
    "Call the function above.<br>위 함수를 호출한다.\n",
    "\n"
   ]
  },
  {
   "cell_type": "code",
   "execution_count": null,
   "metadata": {},
   "outputs": [],
   "source": [
    "angles_in_radians()\n",
    "plt.show()\n",
    "\n"
   ]
  },
  {
   "cell_type": "markdown",
   "metadata": {},
   "source": [
    "### degree 와 radian 비교\n",
    "\n"
   ]
  },
  {
   "cell_type": "markdown",
   "metadata": {},
   "source": [
    "위 두 그림을 나란히 표시해 본다.\n",
    "\n"
   ]
  },
  {
   "cell_type": "code",
   "execution_count": null,
   "metadata": {},
   "outputs": [],
   "source": [
    "index_array = np.arange(45, 360 + 1, 45, dtype=int)\n",
    "\n",
    "# degree\n",
    "plt.subplot(1, 2, 1)\n",
    "angles_in_degrees()\n",
    "\n",
    "# radian\n",
    "plt.subplot(1, 2, 2)\n",
    "angles_in_radians()\n",
    "\n",
    "plt.show()\n",
    "\n"
   ]
  },
  {
   "cell_type": "markdown",
   "metadata": {
    "collapsed": true
   },
   "source": [
    "원의 반지름이 $r$, 지름이 $d=2r$ 이라면 원주 길이$c$는 다음과 같이 구할 수 있다.\n",
    "$$\n",
    "\\begin{align}\n",
    "c&=\\pi d \\\\ &=\\pi(2r)\\\\&=(2\\pi)r\n",
    "\\end{align}\n",
    "$$\n",
    "\n"
   ]
  },
  {
   "cell_type": "code",
   "execution_count": null,
   "metadata": {},
   "outputs": [],
   "source": []
  }
 ],
 "metadata": {
  "anaconda-cloud": {},
  "kernelspec": {
   "display_name": "Python 3",
   "language": "python",
   "name": "python3"
  },
  "language_info": {
   "codemirror_mode": {
    "name": "ipython",
    "version": 3
   },
   "file_extension": ".py",
   "mimetype": "text/x-python",
   "name": "python",
   "nbconvert_exporter": "python",
   "pygments_lexer": "ipython3",
   "version": "3.8.8"
  }
 },
 "nbformat": 4,
 "nbformat_minor": 2
}
