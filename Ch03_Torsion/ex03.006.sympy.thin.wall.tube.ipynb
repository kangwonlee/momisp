{
 "cells": [
  {
   "cell_type": "markdown",
   "metadata": {
    "id": "view-in-github",
    "colab_type": "text"
   },
   "source": [
    "<a href=\"https://colab.research.google.com/github/kangwonlee/momisp/blob/dependabot/pip/tests/scikit-learn-1.5.0/Ch03_Torsion/ex03.006.sympy.thin.wall.tube.ipynb\" target=\"_parent\"><img src=\"https://colab.research.google.com/assets/colab-badge.svg\" alt=\"Open In Colab\"/></a>\n"
   ]
  },
  {
   "cell_type": "markdown",
   "metadata": {},
   "source": [
    "참고문헌 : Pytel 외 저, 이주성 외 역, 재료역학, 2판, 한티미디어, 2013.<br>Ref: Pytel, Kiusalaas, Sharma, Mechanics of Materials, 2nd Ed., Cengage Learning, 2013.\n",
    "\n"
   ]
  },
  {
   "cell_type": "markdown",
   "metadata": {},
   "source": [
    "`python` 기능을 확장해 주는 `module`을 불러 들임 (일부 기능만 사용될 수도 있음)<br>\n",
    "Bring in `module`'s that would expand features of `python`. (This file may use just some of them.)\n",
    "\n"
   ]
  },
  {
   "cell_type": "code",
   "execution_count": null,
   "metadata": {},
   "outputs": [],
   "source": [
    "import numpy as np  # 배열, 행렬 관련 기능\n",
    "import numpy.linalg as na  # 선형대수 (벡터, 행렬) 관련 기능\n",
    "import matplotlib.pyplot as plt  # 그래프 관련 기능\n",
    "import scipy.integrate as si  # 적분 관련 기능\n",
    "import sympy as sy  # 기호 연산 기능\n",
    "import IPython.display as disp  # 웹페이지 표시 기능\n",
    "sy.init_printing()  # 기호 연산 결과 표시 기능 준비\n",
    "\n"
   ]
  },
  {
   "cell_type": "markdown",
   "metadata": {},
   "source": [
    "(`sympy` 1.0 이후에는 radian -> degree 변환 기능이 `mpmath` 로 독립)<br>\n",
    "(For `sympy` 1.0 or later, `mpmath` is an external dependency)\n",
    "\n"
   ]
  },
  {
   "cell_type": "code",
   "execution_count": null,
   "metadata": {
    "collapsed": true
   },
   "outputs": [],
   "source": [
    "try:\n",
    "    from sympy.mpmath import degrees as sy_degrees\n",
    "except ImportError: \n",
    "    import sys\n",
    "    from mpmath import degrees as sy_degrees\n",
    "\n"
   ]
  },
  {
   "cell_type": "markdown",
   "metadata": {},
   "source": [
    "## 예제 03.006\n",
    "\n"
   ]
  },
  {
   "cell_type": "markdown",
   "metadata": {},
   "source": [
    "### 문제에서 주어진 변수<br>Given Parameters\n",
    "\n"
   ]
  },
  {
   "cell_type": "markdown",
   "metadata": {},
   "source": [
    "다음과 같은 변수들이 문제에서 주어졌다.\n",
    "\n"
   ]
  },
  {
   "cell_type": "code",
   "execution_count": null,
   "metadata": {
    "collapsed": true
   },
   "outputs": [],
   "source": [
    "L_m, t_m, G_st_Pa, w_1_m, w_2_m, h_m = sy.symbols('L[m], t[m], G_{st}[Pa], w_{1}[m], w_{2}[m], h[m]')\n",
    "\n"
   ]
  },
  {
   "cell_type": "markdown",
   "metadata": {},
   "source": [
    "mm 단위 변수도 준비해 둔다.\n",
    "\n"
   ]
  },
  {
   "cell_type": "code",
   "execution_count": null,
   "metadata": {
    "collapsed": true
   },
   "outputs": [],
   "source": [
    "t_mm = 1e-3 * t_m\n",
    "w_1_mm = 1e-3 * w_1_m\n",
    "w_2_mm = 1e-3 * w_2_m\n",
    "h_mm = 1e-3 * h_m\n",
    "\n"
   ]
  },
  {
   "cell_type": "markdown",
   "metadata": {},
   "source": [
    "변수값을 나중에 사용하기 위해 `dict` 형태로 저장해 둔다.<br>To substitute later, save in a `dict`.\n",
    "\n"
   ]
  },
  {
   "cell_type": "code",
   "execution_count": null,
   "metadata": {},
   "outputs": [],
   "source": [
    "subs_dict = {L_m: 3,  # 각관의 길이\n",
    "             t_mm: 11.25,  # 각관의 벽 두께\n",
    "             G_st_Pa: 80e9,  # 철의 전단탄성계수\n",
    "             w_1_mm: 180,  # 각관의 폭 1\n",
    "             w_2_mm: 120,  # 각관의 폭 2\n",
    "             h_mm: 150,  # 각관의 높이\n",
    "            }\n",
    "subs_dict[t_m] = subs_dict[t_mm] * 1e-3  # 각관의 벽 두께\n",
    "subs_dict[w_1_m] = subs_dict[w_1_mm] * 1e-3  # 각관의 폭 1\n",
    "subs_dict[w_2_m] = subs_dict[w_2_mm] * 1e-3  # 각관의 폭 2\n",
    "subs_dict[h_m] = subs_dict[h_mm] * 1e-3  # 각관의 높이\n",
    "subs_dict\n",
    "\n"
   ]
  },
  {
   "cell_type": "markdown",
   "metadata": {},
   "source": [
    "### 1) 튜브의 비틀림 강성\n",
    "\n"
   ]
  },
  {
   "cell_type": "markdown",
   "metadata": {},
   "source": [
    "축방향 하중의 경우 강성계수 $k$는 다음과 같이 구할 수 있다.\n",
    "$$F=k\\delta\\\\\n",
    "k=\\frac{F}{\\delta} \\\\\n",
    "\\delta = \\frac{FL}{EA}\\\\\n",
    "k=\\frac{EA}{L}\n",
    "$$\n",
    "\n"
   ]
  },
  {
   "cell_type": "markdown",
   "metadata": {},
   "source": [
    "비틀림 강성도 다음과 같이 구할 수 있을 것이다.\n",
    "$$T=k\\theta\\\\\n",
    "k=\\frac{T}{\\theta}\\\\\n",
    "\\theta=\\frac{TL}{G}\\frac{S}{4A_0^2t}\\\\\n",
    "$$\n",
    "\n"
   ]
  },
  {
   "cell_type": "markdown",
   "metadata": {},
   "source": [
    "$$k=\\frac{G}{L}\\frac{4A_0^2t}{S}\n",
    "$$\n",
    "\n"
   ]
  },
  {
   "cell_type": "markdown",
   "metadata": {},
   "source": [
    "두께의 중심선 안 면적은 다음과 같이 사다리꼴의 넓이로 구할 수 있다.\n",
    "\n"
   ]
  },
  {
   "cell_type": "code",
   "execution_count": null,
   "metadata": {},
   "outputs": [],
   "source": [
    "A0_m2 = (w_1_m + w_2_m) * h_m /2\n",
    "A0_m2\n",
    "\n"
   ]
  },
  {
   "cell_type": "markdown",
   "metadata": {},
   "source": [
    "변수값을 대입하면 다음과 같다.\n",
    "\n"
   ]
  },
  {
   "cell_type": "code",
   "execution_count": null,
   "metadata": {},
   "outputs": [],
   "source": [
    "A0_m2.subs(subs_dict)\n",
    "\n"
   ]
  },
  {
   "cell_type": "markdown",
   "metadata": {},
   "source": [
    "단위를 포함하여 표시하자면 다음과 같다.\n",
    "\n"
   ]
  },
  {
   "cell_type": "code",
   "execution_count": null,
   "metadata": {},
   "outputs": [],
   "source": [
    "disp.display(disp.Math('$A_0 = %g(m^2)$' % (A0_m2.subs(subs_dict))))\n",
    "disp.display(disp.Math('$A_0 = %g(mm^2)$' % (1e6*A0_m2.subs(subs_dict))))\n",
    "\n"
   ]
  },
  {
   "cell_type": "markdown",
   "metadata": {},
   "source": [
    "두께가 $t$ 일 때 $\\frac{t}{2}$ 지점을 이은 중심선의 길이는 다음과 같다.\n",
    "\n"
   ]
  },
  {
   "cell_type": "code",
   "execution_count": null,
   "metadata": {
    "scrolled": true
   },
   "outputs": [],
   "source": [
    "S_m = w_1_m + w_2_m + 2*sy.sqrt(((w_1_m - w_2_m)/2)**2 + h_m **2)\n",
    "S_m\n",
    "\n"
   ]
  },
  {
   "cell_type": "markdown",
   "metadata": {},
   "source": [
    "단면이 사다리꼴이므로 긴 변과 짧은 변의 길이를 더하고 $(w_1 + w_2)$ 빗변의 길이에 2를 곱하여 더하였다. 한 빗변의 길이는 피타고라스 법칙을 이용하여 구하였다. $\\left(\\sqrt{h^2+(\\frac{w_1-w_2}{2})^2}\\right)$\n",
    "\n"
   ]
  },
  {
   "cell_type": "markdown",
   "metadata": {},
   "source": [
    "변수값을 대입하면 다음과 같다.\n",
    "\n"
   ]
  },
  {
   "cell_type": "code",
   "execution_count": null,
   "metadata": {},
   "outputs": [],
   "source": [
    "S_m.subs(subs_dict)\n",
    "\n"
   ]
  },
  {
   "cell_type": "markdown",
   "metadata": {},
   "source": [
    "단위를 포함하여 표시하자면 다음과 같다.\n",
    "\n"
   ]
  },
  {
   "cell_type": "code",
   "execution_count": null,
   "metadata": {},
   "outputs": [],
   "source": [
    "disp.display(disp.Math('$S = %g(m)$' % (S_m.subs(subs_dict))))\n",
    "disp.display(disp.Math('$S = %g(mm)$' % (1e3*S_m.subs(subs_dict))))\n",
    "\n"
   ]
  },
  {
   "cell_type": "markdown",
   "metadata": {},
   "source": [
    "비틀림각 변위는 다음과 같다.\n",
    "$$\\theta[rad] = \\frac{T[Nm] L[m] S[m]}{4 G[Nm^{-2}] [A_0[m^2]]^2 t[m]}$$\n",
    "\n"
   ]
  },
  {
   "cell_type": "code",
   "execution_count": null,
   "metadata": {},
   "outputs": [],
   "source": [
    "T_Nm = sy.symbols('T[Nm]')  # 아래 식에 쓰기 위해 지정\n",
    "theta_rad = T_Nm * L_m * S_m / (4 * G_st_Pa * A0_m2**2 * t_m)\n",
    "theta_rad\n",
    "\n"
   ]
  },
  {
   "cell_type": "markdown",
   "metadata": {},
   "source": [
    "비틀림 강성은 다음과 같이 구할 수 있다.\n",
    "\n"
   ]
  },
  {
   "cell_type": "code",
   "execution_count": null,
   "metadata": {},
   "outputs": [],
   "source": [
    "k_Nm_rad = T_Nm / theta_rad\n",
    "k_Nm_rad\n",
    "\n"
   ]
  },
  {
   "cell_type": "code",
   "execution_count": null,
   "metadata": {},
   "outputs": [],
   "source": [
    "k_Nm_rad.subs(subs_dict)\n",
    "\n"
   ]
  },
  {
   "cell_type": "markdown",
   "metadata": {},
   "source": [
    "각도의 단위를 radian 에서 도 로 바꾸면 다음과 같이 된다.\n",
    "\n"
   ]
  },
  {
   "cell_type": "code",
   "execution_count": null,
   "metadata": {},
   "outputs": [],
   "source": [
    "theta_deg = sy_degrees(theta_rad)\n",
    "k_Nm_deg = T_Nm / theta_deg\n",
    "k_Nm_deg\n",
    "\n"
   ]
  },
  {
   "cell_type": "code",
   "execution_count": null,
   "metadata": {},
   "outputs": [],
   "source": [
    "k_Nm_deg.subs(subs_dict)\n",
    "\n"
   ]
  },
  {
   "cell_type": "markdown",
   "metadata": {},
   "source": [
    "### 2) 0.5도 회전시 벽에서의 응력\n",
    "\n"
   ]
  },
  {
   "cell_type": "markdown",
   "metadata": {},
   "source": [
    "0.5 도 회전을 위해 필요한 토크는 다음과 같다.\n",
    "$$T=k \\theta$$\n",
    "\n"
   ]
  },
  {
   "cell_type": "code",
   "execution_count": null,
   "metadata": {},
   "outputs": [],
   "source": [
    "T_0_5_deg_Nm = k_Nm_deg * 0.5\n",
    "T_0_5_deg_Nm.subs(subs_dict)\n",
    "\n"
   ]
  },
  {
   "cell_type": "markdown",
   "metadata": {},
   "source": [
    "전단류 shear flow 는 다음과 같다.\n",
    "$$q = \\frac{T}{2A_0}$$\n",
    "\n"
   ]
  },
  {
   "cell_type": "code",
   "execution_count": null,
   "metadata": {},
   "outputs": [],
   "source": [
    "q_0_5_deg_N_m = T_0_5_deg_Nm / (2 * A0_m2)\n",
    "q_0_5_deg_N_m.subs(subs_dict)\n",
    "\n"
   ]
  },
  {
   "cell_type": "markdown",
   "metadata": {},
   "source": [
    "전단응력은 다음과 같다.\n",
    "$$\\tau=\\frac{q}{t}$$\n",
    "\n"
   ]
  },
  {
   "cell_type": "code",
   "execution_count": null,
   "metadata": {},
   "outputs": [],
   "source": [
    "tau_0_5_deg_Pa = q_0_5_deg_N_m / t_m\n",
    "tau_Pa = tau_0_5_deg_Pa.subs(subs_dict)\n",
    "tau_Pa\n",
    "\n"
   ]
  },
  {
   "cell_type": "markdown",
   "metadata": {},
   "source": [
    "MPa 단위로 바꾸어 표시하면 다음과 같다.\n",
    "\n"
   ]
  },
  {
   "cell_type": "code",
   "execution_count": null,
   "metadata": {},
   "outputs": [],
   "source": [
    "disp.display(disp.Math('$\\\\tau = %g(MPa)$' % (tau_Pa*1e-6)))\n",
    "\n"
   ]
  },
  {
   "cell_type": "code",
   "execution_count": null,
   "metadata": {
    "collapsed": true
   },
   "outputs": [],
   "source": []
  }
 ],
 "metadata": {
  "anaconda-cloud": {},
  "kernelspec": {
   "display_name": "Python [default]",
   "language": "python",
   "name": "python3"
  },
  "language_info": {
   "codemirror_mode": {
    "name": "ipython",
    "version": 3
   },
   "file_extension": ".py",
   "mimetype": "text/x-python",
   "name": "python",
   "nbconvert_exporter": "python",
   "pygments_lexer": "ipython3",
   "version": "3.5.4"
  }
 },
 "nbformat": 4,
 "nbformat_minor": 2
}