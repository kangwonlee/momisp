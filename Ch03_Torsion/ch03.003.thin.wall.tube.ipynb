{
 "cells": [
  {
   "cell_type": "markdown",
   "metadata": {
    "id": "view-in-github",
    "colab_type": "text"
   },
   "source": [
    "<a href=\"https://colab.research.google.com/github/kangwonlee/momisp/blob/dependabot/pip/tests/requests-2.32.0/Ch03_Torsion/ch03.003.thin.wall.tube.ipynb\" target=\"_parent\"><img src=\"https://colab.research.google.com/assets/colab-badge.svg\" alt=\"Open In Colab\"/></a>\n"
   ]
  },
  {
   "cell_type": "markdown",
   "metadata": {},
   "source": [
    "참고문헌 : Pytel 외 저, 이주성 외 역, 재료역학, 2판, 한티미디어, 2013.<br>Ref: Pytel, Kiusalaas, Sharma, Mechanics of Materials, 2nd Ed., Cengage Learning, 2013.\n",
    "\n"
   ]
  },
  {
   "cell_type": "markdown",
   "metadata": {},
   "source": [
    "`python` 기능을 확장해 주는 `module`을 불러 들임 (일부 기능만 사용될 수도 있음)<br>\n",
    "Bring in `module`'s that would expand features of `python`. (This file may use just some of them.)\n",
    "\n"
   ]
  },
  {
   "cell_type": "code",
   "execution_count": null,
   "metadata": {
    "collapsed": false
   },
   "outputs": [],
   "source": [
    "import numpy as np  # 배열, 행렬 관련 기능\n",
    "import numpy.linalg as na  # 선형대수 (벡터, 행렬) 관련 기능\n",
    "import matplotlib.pyplot as plt  # 그래프 관련 기능\n",
    "import scipy.integrate as si  # 적분 관련 기능\n",
    "import sympy as sy  # 기호 연산 기능\n",
    "import IPython.display as disp  # 웹페이지 표시 기능\n",
    "sy.init_printing()  # 기호 연산 결과 표시 기능 준비\n",
    "\n"
   ]
  },
  {
   "cell_type": "markdown",
   "metadata": {},
   "source": [
    "## 03.003 박판 튜브의 비틂<br>03.003 Torsion of a Thin-wall Tube \n",
    "\n"
   ]
  },
  {
   "cell_type": "markdown",
   "metadata": {},
   "source": [
    "### 전단류 Shear Flow  $q\\left[N/m\\right]$\n",
    "\n"
   ]
  },
  {
   "cell_type": "markdown",
   "metadata": {},
   "source": [
    "얇은 판을 말아서 만든 튜브의 비틂을 생각해 보자. 전단변형률은 다음과 같이 주어진다.<br>Let's think about torsion of a thin-wall tube. Its shear strain would be as follows.\n",
    "\n"
   ]
  },
  {
   "cell_type": "markdown",
   "metadata": {},
   "source": [
    "$$\\gamma=\\frac{d\\theta}{dx}\\rho$$\n",
    "\n"
   ]
  },
  {
   "cell_type": "markdown",
   "metadata": {},
   "source": [
    "여기서 $\\rho$는 비틀림 중심축으로부터 박판 관의 안지름이다.<br>Here $\\rho$ is the inner radius from the center of the torsion to the thin-wall tube.\n",
    "\n"
   ]
  },
  {
   "cell_type": "markdown",
   "metadata": {},
   "source": [
    "두께 $t$ 가 충분히 작다면 박판 관의 안지름과 바깥지름은 거의 같다고 생각할 수 있다.<br>If the wall thickness $t$ is sufficiently small, an engineer can assume that the inner and outter radii are the same.\n",
    "\n"
   ]
  },
  {
   "cell_type": "markdown",
   "metadata": {},
   "source": [
    "$$\\rho\\approx\\rho+t$$ \n",
    "\n"
   ]
  },
  {
   "cell_type": "markdown",
   "metadata": {},
   "source": [
    "따라서 관의 안지름과 바깥지름, 그리고 중간 지점 위치에서의 전단 변형률도 모두 거의 같다고 볼 수 있다.<br>Hence it is possible to assume that the shear strains at the inner & outter radii and at the middle point are the same.\n",
    "\n"
   ]
  },
  {
   "cell_type": "markdown",
   "metadata": {},
   "source": [
    "$$\n",
    "\\begin{align}\n",
    "\\gamma_{\\rho}&=\\frac{d\\theta}{dx}\\rho \\\\\n",
    "\\approx \\gamma_{\\rho+t}&=\\frac{d\\theta}{dx}(\\rho+t) \\\\\n",
    "\\approx \\gamma_{\\rho+\\frac{1}{2}t}&=\\frac{d\\theta}{dx}\\left(\\rho+\\frac{1}{2}t\\right)\n",
    "\\end{align}\n",
    "$$ \n",
    "\n"
   ]
  },
  {
   "cell_type": "markdown",
   "metadata": {},
   "source": [
    "전단응력과 전단변형률 사이의 관계는 다음과 같다.<br>The shear stress and the shear strain have following relationship.\n",
    "\n"
   ]
  },
  {
   "cell_type": "markdown",
   "metadata": {},
   "source": [
    "$$\\tau=G\\gamma$$ \n",
    "\n"
   ]
  },
  {
   "cell_type": "markdown",
   "metadata": {},
   "source": [
    "따라서 관의 안지름과 바깥지름, 그리고 중간 지점 위치에서의 전단응력도 다음과 같다고 볼 수 있다.<br>\n",
    "Therefore it is also possible to assume that the shear stresses at the inner & outter radii and at the middle point are as follows.\n",
    "\n"
   ]
  },
  {
   "cell_type": "markdown",
   "metadata": {},
   "source": [
    "$$\n",
    "\\begin{align}\n",
    "\\tau_{\\rho}&=G\\frac{d\\theta}{dx}\\rho \\\\\n",
    "\\approx \\tau_{\\rho+t}&=G\\frac{d\\theta}{dx}(\\rho+t) \\\\\n",
    "\\approx \\tau_{\\rho+\\frac{1}{2}t}&=G\\frac{d\\theta}{dx}\\left(\\rho+\\frac{1}{2}t\\right)\n",
    "\\end{align}\n",
    "$$ \n",
    "\n"
   ]
  },
  {
   "cell_type": "markdown",
   "metadata": {},
   "source": [
    "그렇다면 $\\tau_{\\rho}$ 와 $\\tau_{\\rho+t}$ 를 굳이 구별할 필요가 없게 된다.<br>\n",
    "Then it is not necessary to distinguish $\\tau_{\\rho}$ and $\\tau_{\\rho+t}$.\n",
    "\n"
   ]
  },
  {
   "cell_type": "markdown",
   "metadata": {},
   "source": [
    "$$\n",
    "\\tau_{\\rho}=\\tau_{\\rho+t}=\\tau_{\\rho+\\frac{1}{2}t}\n",
    "$$\n",
    "\n"
   ]
  },
  {
   "cell_type": "markdown",
   "metadata": {},
   "source": [
    "전단응력 $\\tau$ 의 단위는 $Pa=N/m^2$ 로, 여기에 두께 $t\\left[m\\right]$ 를 곱한 전단류 shear flow $q\\left[N/m\\right]$ 를 생각할 수 있다. <br>\n",
    "The unit of the shear stress $\\tau$ is $Pa=N/m^2$.  By multiplying thickness $t\\left[m\\right]$ to the shear stress $\\tau\\left[N/m^2\\right]$, an engineer can obtain the shear flow $q\\left[N/m\\right]$.\n",
    "\n"
   ]
  },
  {
   "cell_type": "markdown",
   "metadata": {},
   "source": [
    "$$q\\left[N/m\\right]=\\tau\\left[N/m^2\\right]t\\left[m\\right]$$\n",
    "\n"
   ]
  },
  {
   "cell_type": "markdown",
   "metadata": {},
   "source": [
    "### 전단류와 비틀림 토크의 관계<br>Shear flow and Torque\n",
    "\n"
   ]
  },
  {
   "cell_type": "markdown",
   "metadata": {},
   "source": [
    "토크 $T$ 와 전단류 shear flow  $q$ 의 관계\n",
    "$$ T=\\oint_S qr \\,ds $$\n",
    "$q$가 상수이므로\n",
    "$$ T=q\\oint_S r \\,ds $$\n",
    "$rds=2dA_O$ 이므로 \n",
    "$$ T=q\\oint_S 2dA_O=2q\\oint_S dA_O =2qA_0$$\n",
    "따라서\n",
    "$$\n",
    "\\begin{align}\n",
    "q&=\\frac{T}{2A_0} \\\\\n",
    "\\tau&=\\frac{T}{2A_0t}\n",
    "\\end{align}\n",
    "$$\n",
    "\n"
   ]
  },
  {
   "cell_type": "markdown",
   "metadata": {},
   "source": [
    "예를 들어 단면이 둥근 관이라면 \n",
    "$$\n",
    "\\begin{align}\n",
    "A_0&=\\pi r^2 \\\\\n",
    "T&=2q\\pi r^2=(2\\pi r)q r \\\\\n",
    "q&=\\frac{T}{2 \\pi r^2 } \\\\\n",
    "\\tau&=\\frac{T}{2 \\pi r^2 t}\n",
    "\\end{align}\n",
    "$$\n",
    "\n"
   ]
  },
  {
   "cell_type": "markdown",
   "metadata": {},
   "source": [
    "단면이 $w[m] \\times h[m]$ 사각 관이라면 \n",
    "$$\n",
    "\\begin{align}\n",
    "A_0&=wh \\\\\n",
    "T&=2qwh\n",
    "\\end{align}\n",
    "$$\n",
    "\n"
   ]
  },
  {
   "cell_type": "markdown",
   "metadata": {},
   "source": [
    "### 비틀림 각\n",
    "\n"
   ]
  },
  {
   "cell_type": "markdown",
   "metadata": {},
   "source": [
    "비틀림 각$\\theta$의 $x$ 방향 미분은 다음과 같을 것이다.\n",
    "$$\n",
    "\\begin{align}\n",
    "\\frac{d\\theta}{dx} &= \\frac{q}{2GA_0}\\oint \\frac{1}{t}ds \\\\\n",
    "&= \\frac{\\frac{T}{2A_0}}{2GA_0}\\oint \\frac{1}{t}ds \\\\\n",
    "&= \\frac{T}{4GA_0^2}\\oint \\frac{1}{t}ds \\\\\n",
    "\\end{align}\n",
    "$$\n",
    "\n"
   ]
  },
  {
   "cell_type": "markdown",
   "metadata": {},
   "source": [
    "$x$ 에 대해 0~$L$ 범위에서 적분한다.\n",
    "$$\\theta = \\frac{TL}{4GA_0^2}\\oint \\frac{1}{t}ds$$\n",
    "\n"
   ]
  },
  {
   "cell_type": "markdown",
   "metadata": {},
   "source": [
    "두께 $t$ 가 일정하다면, 비틀림 각 변위는 다음과 같다.\n",
    "$$\\theta = \\frac{TL}{4GA_0^2}\\frac{S}{t}$$\n",
    "\n"
   ]
  },
  {
   "cell_type": "code",
   "execution_count": null,
   "metadata": {
    "collapsed": true
   },
   "outputs": [],
   "source": []
  }
 ],
 "metadata": {
  "anaconda-cloud": {},
  "kernelspec": {
   "display_name": "Python [default]",
   "language": "python",
   "name": "python3"
  },
  "language_info": {
   "codemirror_mode": {
    "name": "ipython",
    "version": 3
   },
   "file_extension": ".py",
   "mimetype": "text/x-python",
   "name": "python",
   "nbconvert_exporter": "python",
   "pygments_lexer": "ipython3",
   "version": "3.5.2"
  }
 },
 "nbformat": 4,
 "nbformat_minor": 2
}