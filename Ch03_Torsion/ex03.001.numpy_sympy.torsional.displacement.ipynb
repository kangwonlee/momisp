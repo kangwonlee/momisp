{
  "cells": [
    {
      "cell_type": "markdown",
      "metadata": {
        "id": "view-in-github",
        "colab_type": "text"
      },
      "source": [
        "<a href=\"https://colab.research.google.com/github/kangwonlee/momisp/blob/main/Ch03_Torsion/ex03.001.numpy_sympy.torsional.displacement.ipynb\" target=\"_parent\"><img src=\"https://colab.research.google.com/assets/colab-badge.svg\" alt=\"Open In Colab\"/></a>"
      ]
    },
    {
      "cell_type": "markdown",
      "metadata": {
        "id": "f4ILOH_uVZdo"
      },
      "source": [
        "참고문헌 : Pytel 외 저, 이주성 외 역, 재료역학, 2판, 한티미디어, 2013.<br>Ref: Pytel, Kiusalaas, Sharma, Mechanics of Materials, 2nd Ed., Cengage Learning, 2013.\n",
        "\n"
      ]
    },
    {
      "cell_type": "markdown",
      "metadata": {
        "id": "MBmQmDI1VZdq"
      },
      "source": [
        "`python` 기능을 확장해 주는 `module`을 불러 들임 (일부 기능만 사용될 수도 있음)<br>\n",
        "Bring in `module`'s that would expand features of `python`. (This file may use just some of them.)\n",
        "\n"
      ]
    },
    {
      "cell_type": "code",
      "execution_count": null,
      "metadata": {
        "id": "wUV8Qrm6VZdr"
      },
      "outputs": [],
      "source": [
        "import numpy as np  # 배열, 행렬 관련 기능\n",
        "import numpy.linalg as na  # 선형대수 (벡터, 행렬) 관련 기능\n",
        "import matplotlib.pyplot as plt  # 그래프 관련 기능\n",
        "import scipy.integrate as si  # 적분 관련 기능\n",
        "import sympy as sy  # 기호 연산 기능\n",
        "import IPython.display as disp  # 웹페이지 표시 기능\n",
        "sy.init_printing()  # 기호 연산 결과 표시 기능 준비\n",
        "\n"
      ]
    },
    {
      "cell_type": "markdown",
      "metadata": {
        "id": "YZeOPwymVZdr"
      },
      "source": [
        "## 예제 03.001\n",
        "\n"
      ]
    },
    {
      "cell_type": "markdown",
      "metadata": {
        "id": "YraOE02HVZds"
      },
      "source": [
        "### 문제에서 주어진 변수<br>Given Parameters\n",
        "\n"
      ]
    },
    {
      "cell_type": "code",
      "execution_count": null,
      "metadata": {
        "id": "c96Yy8FYVZds"
      },
      "outputs": [],
      "source": [
        "L_AB_m, L_BC_m, d_m, T_A_Nm, T_B_Nm, G_Pa = sy.symbols('L_{AB}[m], L_{BC}[m], d[m], T_{A}[Nm], T_{B}[Nm], G[Pa]')\n",
        "\n"
      ]
    },
    {
      "cell_type": "code",
      "execution_count": null,
      "metadata": {
        "id": "mbbQ8cnpVZds"
      },
      "outputs": [],
      "source": [
        "d_mm = d_m * 1e3\n",
        "\n"
      ]
    },
    {
      "cell_type": "code",
      "execution_count": null,
      "metadata": {
        "id": "aHxXvahWVZdt"
      },
      "outputs": [],
      "source": [
        "subs_dict = {L_AB_m: 2.5, # A-B 구간의 길이\n",
        "             L_BC_m: 1.5, # B-C 구간의 길이\n",
        "             d_mm: 60.0, # 실린더 지름\n",
        "             T_A_Nm: 3600.0, # A 지점에서의 비틀림 하중\n",
        "             T_B_Nm: -1600.0, # B 지점에서의 비틀림 하중\n",
        "             G_Pa: 80e9, # 전단탄성계수\n",
        "            }\n",
        "subs_dict[d_m] = subs_dict[d_mm] * 1e-3 # 실린더 지름\n",
        "\n"
      ]
    },
    {
      "cell_type": "markdown",
      "metadata": {
        "id": "i83HD3FKVZdt"
      },
      "source": [
        "### 1) 각 원통 A-B, B-C 에서의 최대 응력\n",
        "\n"
      ]
    },
    {
      "cell_type": "markdown",
      "metadata": {
        "id": "-tv1d_rNVZdu"
      },
      "source": [
        "#### C점에서의 반력\n",
        "\n"
      ]
    },
    {
      "cell_type": "markdown",
      "metadata": {
        "id": "YR4YH5lqVZdu"
      },
      "source": [
        "C 점에서의 반력을 `R_C` 라고 정한다.\n",
        "\n"
      ]
    },
    {
      "cell_type": "code",
      "execution_count": null,
      "metadata": {
        "id": "srJeyTloVZdu"
      },
      "outputs": [],
      "source": [
        "R_C_Nm = sy.symbols('R_{C}[Nm]')\n",
        "\n"
      ]
    },
    {
      "cell_type": "markdown",
      "metadata": {
        "id": "D_h66OhLVZdu"
      },
      "source": [
        "평형을 유지하기 위해 A, B, C 지점에서의 비틀림 하중과 반력을 모두 합하면 0이 될 것이다.\n",
        "$$T_A + T_B + R_C = 0$$\n",
        "이것을 python 으로는 다음과 같이 표현할 수 있다.\n",
        "\n"
      ]
    },
    {
      "cell_type": "code",
      "execution_count": null,
      "metadata": {
        "id": "FGBd8IuLVZdv"
      },
      "outputs": [],
      "source": [
        "eq_eq = sy.Eq(T_A_Nm + T_B_Nm + R_C_Nm, 0)\n",
        "\n"
      ]
    },
    {
      "cell_type": "code",
      "execution_count": null,
      "metadata": {
        "id": "gxkWgJzvVZdv"
      },
      "outputs": [],
      "source": [
        "eq_eq\n",
        "\n"
      ]
    },
    {
      "cell_type": "markdown",
      "metadata": {
        "id": "yQNWmQOSVZdv"
      },
      "source": [
        "이 식을 풀면 반력을 구할 수 있다. (아래에서 `_` 는 바로 위 결과를 말함)\n",
        "\n"
      ]
    },
    {
      "cell_type": "code",
      "execution_count": null,
      "metadata": {
        "id": "UeSC77bUVZdw"
      },
      "outputs": [],
      "source": [
        "R_C_Sol = sy.solve(eq_eq, R_C_Nm)\n",
        "\n"
      ]
    },
    {
      "cell_type": "code",
      "execution_count": null,
      "metadata": {
        "id": "XOEJOIkyVZdw"
      },
      "outputs": [],
      "source": [
        "R_C_Sol\n",
        "\n"
      ]
    },
    {
      "cell_type": "markdown",
      "metadata": {
        "id": "HHOC085MVZdw"
      },
      "source": [
        "#### 반지름과 단면의 극관성모멘트\n",
        "\n"
      ]
    },
    {
      "cell_type": "markdown",
      "metadata": {
        "id": "2fuxlTFNVZdw"
      },
      "source": [
        "반지름 r 은 다음과 같이 구할 수 있다.\n",
        "\n"
      ]
    },
    {
      "cell_type": "code",
      "execution_count": null,
      "metadata": {
        "id": "dvEd61n4VZd1"
      },
      "outputs": [],
      "source": [
        "r_m = d_m * 0.5\n",
        "\n"
      ]
    },
    {
      "cell_type": "markdown",
      "metadata": {
        "id": "3ho40wYKVZd2"
      },
      "source": [
        "원형 단면의 비틀림인 경우 극관성모멘트를 구한다.\n",
        "\n"
      ]
    },
    {
      "cell_type": "code",
      "execution_count": null,
      "metadata": {
        "id": "r08pC1tMVZd2"
      },
      "outputs": [],
      "source": [
        "J_m4 = (sy.pi * d_m**4) / 32\n",
        "\n"
      ]
    },
    {
      "cell_type": "code",
      "execution_count": null,
      "metadata": {
        "id": "oc7wGKwWVZd2"
      },
      "outputs": [],
      "source": [
        "J_m4\n",
        "\n"
      ]
    },
    {
      "cell_type": "markdown",
      "metadata": {
        "id": "mnxVS4qGVZd3"
      },
      "source": [
        "#### 최대전단응력 Maximum Shear Stress\n",
        "\n"
      ]
    },
    {
      "cell_type": "markdown",
      "metadata": {
        "id": "e_MMOJe4VZd3"
      },
      "source": [
        "A-B 구간에서의 최대전단응력은 다음과 같이 구할 수 있을 것이다.\n",
        "\n"
      ]
    },
    {
      "cell_type": "code",
      "execution_count": null,
      "metadata": {
        "id": "IuT5O4QhVZd3"
      },
      "outputs": [],
      "source": [
        "tau_max_AB_Pa = T_A_Nm * r_m / J_m4\n",
        "\n"
      ]
    },
    {
      "cell_type": "code",
      "execution_count": null,
      "metadata": {
        "id": "yesCDVSbVZd3"
      },
      "outputs": [],
      "source": [
        "tau_max_AB_Pa\n",
        "\n"
      ]
    },
    {
      "cell_type": "markdown",
      "metadata": {
        "id": "lHMDF_rlVZd4"
      },
      "source": [
        "B-C 구간에서의 최대전단응력도 마찬가지로 구할 수 있다.\n",
        "\n"
      ]
    },
    {
      "cell_type": "code",
      "execution_count": null,
      "metadata": {
        "id": "poVV2AGwVZd4"
      },
      "outputs": [],
      "source": [
        "tau_max_BC_Pa = (T_A_Nm + T_B_Nm) * r_m / J_m4\n",
        "disp.display(sy.simplify(tau_max_BC_Pa))\n",
        "\n"
      ]
    },
    {
      "cell_type": "code",
      "execution_count": null,
      "metadata": {
        "id": "h4mYq-GaVZd4"
      },
      "outputs": [],
      "source": [
        "sy.simplify(tau_max_BC_Pa)\n",
        "\n"
      ]
    },
    {
      "cell_type": "markdown",
      "metadata": {
        "id": "8qB1IUu5VZd4"
      },
      "source": [
        "각 변수에 값을 대입하면 다음과 같다.\n",
        "\n"
      ]
    },
    {
      "cell_type": "code",
      "execution_count": null,
      "metadata": {
        "id": "9gIxR7B8VZd4"
      },
      "outputs": [],
      "source": [
        "tau_AB_Pa = float(tau_max_AB_Pa.subs(subs_dict))\n",
        "tau_AB_MPa = 1e-6 * tau_AB_Pa\n",
        "\n"
      ]
    },
    {
      "cell_type": "code",
      "source": [
        "disp.Math(rf\"\\tau_{{maxAB}} = {tau_AB_Pa:g}(Pa) = {tau_AB_MPa:g}(MPa)\")\n",
        "\n"
      ],
      "metadata": {
        "id": "yfT0yMxUVq-z"
      },
      "execution_count": null,
      "outputs": []
    },
    {
      "cell_type": "code",
      "execution_count": null,
      "metadata": {
        "id": "USNnfcDUVZd5"
      },
      "outputs": [],
      "source": [
        "tau_BC_Pa = float(tau_max_BC_Pa.subs(subs_dict))\n",
        "disp.display(disp.Math('$\\\\tau_{maxBC}=%g(Pa)$' % tau_BC_Pa))\n",
        "disp.display(disp.Math('$\\\\tau_{maxBC}=%g(MPa)$'%(1e-6 * tau_BC_Pa)))\n",
        "\n"
      ]
    },
    {
      "cell_type": "markdown",
      "metadata": {
        "id": "Ts27LdltVZd5"
      },
      "source": [
        "### 2) 끝점 A 에서의 변형량\n",
        "\n"
      ]
    },
    {
      "cell_type": "markdown",
      "metadata": {
        "id": "R00hSZfXVZd5"
      },
      "source": [
        "축방향 하중의 경우 변형량은 아래와 같았다.\n",
        "$$\\delta=\\frac{PL}{EA}$$\n",
        "\n"
      ]
    },
    {
      "cell_type": "markdown",
      "metadata": {
        "id": "HxEZuXYlVZd6"
      },
      "source": [
        "비틀림 하중의 경우 변형량은 다음과 같다.\n",
        "$$\\theta = \\frac{TL}{GJ}$$\n",
        "\n"
      ]
    },
    {
      "cell_type": "markdown",
      "metadata": {
        "id": "-Nrw6tZOVZd6"
      },
      "source": [
        "A-B 구간, B-C 구간의 변형량은 각각 다음과 같다.\n",
        "\n"
      ]
    },
    {
      "cell_type": "code",
      "execution_count": null,
      "metadata": {
        "id": "vuCQzZUOVZd6"
      },
      "outputs": [],
      "source": [
        "theta_AB_rad = T_A_Nm * L_AB_m / (G_Pa * J_m4)\n",
        "disp.display(theta_AB_rad)\n",
        "\n"
      ]
    },
    {
      "cell_type": "code",
      "execution_count": null,
      "metadata": {
        "id": "Se-HUjjoVZd6"
      },
      "outputs": [],
      "source": [
        "theta_BC_rad = (T_A_Nm + T_B_Nm) * L_BC_m / (G_Pa * J_m4)\n",
        "disp.display(theta_BC_rad)\n",
        "\n"
      ]
    },
    {
      "cell_type": "markdown",
      "metadata": {
        "id": "vW0rR553VZd7"
      },
      "source": [
        "각각 변수 값을 대입 하면 다음과 같다.\n",
        "\n"
      ]
    },
    {
      "cell_type": "code",
      "execution_count": null,
      "metadata": {
        "id": "VXHjdcM-VZd7"
      },
      "outputs": [],
      "source": [
        "disp.display(disp.Math('$\\\\theta_{AB}=%g(rad)$'%float(theta_AB_rad.subs(subs_dict))))\n",
        "disp.display(disp.Math('$\\\\theta_{AB}=%g(deg)$'%(float((180/sy.pi)*theta_AB_rad.subs(subs_dict)))))\n",
        "\n"
      ]
    },
    {
      "cell_type": "code",
      "execution_count": null,
      "metadata": {
        "id": "AfJFejNTVZd7"
      },
      "outputs": [],
      "source": [
        "theta_B_rad = float(theta_BC_rad.subs(subs_dict))\n",
        "theta_B_deg = np.rad2deg(theta_B_rad)\n",
        "disp.display(disp.Math('$\\\\theta_{BC}=%g(rad)$'% theta_B_rad))\n",
        "disp.display(disp.Math('$\\\\theta_{BC}=%g(deg)$'% theta_B_deg))\n",
        "\n"
      ]
    },
    {
      "cell_type": "markdown",
      "metadata": {
        "id": "VNxDs6lLVZd7"
      },
      "source": [
        "전체 변형량은 다음과 같다.\n",
        "\n"
      ]
    },
    {
      "cell_type": "code",
      "execution_count": null,
      "metadata": {
        "id": "EuwW0M8IVZd7"
      },
      "outputs": [],
      "source": [
        "theta_AC_rad = sy.simplify(theta_AB_rad + theta_BC_rad)\n",
        "disp.display(theta_AC_rad)\n",
        "\n"
      ]
    },
    {
      "cell_type": "code",
      "execution_count": null,
      "metadata": {
        "id": "sGHamTW6VZd8"
      },
      "outputs": [],
      "source": [
        "theta_A_rad = float(theta_AC_rad.subs(subs_dict))\n",
        "disp.display(disp.Math('$\\\\theta_{AC}=%g(rad)$'% theta_A_rad))\n",
        "theta_A_deg = theta_A_rad * (180/sy.pi)\n",
        "disp.display(disp.Math('$\\\\theta_{AC}=%g(deg)$'% theta_A_deg))\n",
        "\n"
      ]
    },
    {
      "cell_type": "markdown",
      "metadata": {
        "id": "qkN_NwoEVZd8"
      },
      "source": [
        "### 1) 각 원통 A-B, B-C 에서의 최대 응력 : 그림으로 표시해 보자\n",
        "\n"
      ]
    },
    {
      "cell_type": "markdown",
      "metadata": {
        "id": "GOFyIZxmVZd8"
      },
      "source": [
        "#### 비틀림 하중 선도\n",
        "\n"
      ]
    },
    {
      "cell_type": "markdown",
      "metadata": {
        "id": "AcICeh3yVZd9"
      },
      "source": [
        "C 점의 x 좌표를 0으로 하자. C-B, B-A 각 구간을 다음과 같이 준비할 수 있다.\n",
        "\n"
      ]
    },
    {
      "cell_type": "code",
      "execution_count": null,
      "metadata": {
        "id": "Bzk_PEBnVZd9"
      },
      "outputs": [],
      "source": [
        "x_CB_m_array = np.linspace(0, subs_dict[L_BC_m], 101)\n",
        "x_BA_m_array = np.linspace(0, subs_dict[L_AB_m], 101) + subs_dict[L_BC_m]\n",
        "\n"
      ]
    },
    {
      "cell_type": "markdown",
      "metadata": {
        "id": "jIsMWwqrVZd9"
      },
      "source": [
        "각 구간 안의 x 좌표의 수는 아래와 같이 알 수 있다.\n",
        "\n"
      ]
    },
    {
      "cell_type": "code",
      "execution_count": null,
      "metadata": {
        "id": "-7ztnXzYVZd9"
      },
      "outputs": [],
      "source": [
        "(x_CB_m_array.shape, x_BA_m_array.shape)\n",
        "\n"
      ]
    },
    {
      "cell_type": "markdown",
      "metadata": {
        "id": "uRszjbFHVZd9"
      },
      "source": [
        "두 구간을 다음과 같이 하나로 합칠 수도 있다.\n",
        "\n"
      ]
    },
    {
      "cell_type": "code",
      "execution_count": null,
      "metadata": {
        "id": "OCUyC8RzVZd9"
      },
      "outputs": [],
      "source": [
        "x_m_array = np.hstack((x_CB_m_array, x_BA_m_array))\n",
        "x_m_array.shape\n",
        "\n"
      ]
    },
    {
      "cell_type": "markdown",
      "metadata": {
        "id": "vrsGJ3ubVZd-"
      },
      "source": [
        "B-A 구간에서는 $T_{A}(Nm)$ 이 작용하고 있다. 위에서 정한 B-A 구간의 x 좌표 수와 같은 수의 1 을 담은 배열 `array` 을 만든 후 $T_A(Nm)$ 을 곱한다.\n",
        "\n"
      ]
    },
    {
      "cell_type": "code",
      "execution_count": null,
      "metadata": {
        "id": "JDcbuU6tVZd-"
      },
      "outputs": [],
      "source": [
        "T_BA_Nm_array = np.ones_like(x_BA_m_array) * subs_dict[T_A_Nm]\n",
        "\n"
      ]
    },
    {
      "cell_type": "markdown",
      "metadata": {
        "id": "yaNEN4yAVZd-"
      },
      "source": [
        "C-B 구간에서는 $T_{B}(Nm)$ 이 작용하고 있으므로 이번에도 위에서 정한 C-B 구간의 x 좌표 수와 같은 수의 1 을 담은 배열 `array` 을 만든 후 $T_A(Nm)+T_B(Nm)$ 을 곱한다.\n",
        "\n"
      ]
    },
    {
      "cell_type": "code",
      "execution_count": null,
      "metadata": {
        "id": "Fhgis1V7VZd-"
      },
      "outputs": [],
      "source": [
        "T_CB_Nm_array = np.ones_like(x_CB_m_array) * (subs_dict[T_A_Nm] + subs_dict[T_B_Nm])\n",
        "\n"
      ]
    },
    {
      "cell_type": "markdown",
      "metadata": {
        "id": "oEgku_bjVZd-"
      },
      "source": [
        "비틀림 하중 `array`도 하나로 합쳐 준다.\n",
        "\n"
      ]
    },
    {
      "cell_type": "code",
      "execution_count": null,
      "metadata": {
        "id": "C7Gn65z5VZd_"
      },
      "outputs": [],
      "source": [
        "T_Nm_array = np.hstack((T_CB_Nm_array, T_BA_Nm_array))\n",
        "\n"
      ]
    },
    {
      "cell_type": "markdown",
      "metadata": {
        "id": "xw9ZTDgSVZd_"
      },
      "source": [
        "이렇게 준비한 배열을 그래프로 표시하되, 선도 아래 부분이 칠해지도록 `fill_between()` 기능을 이용해본다.\n",
        "\n"
      ]
    },
    {
      "cell_type": "code",
      "execution_count": null,
      "metadata": {
        "id": "dB_UDfZCVZd_"
      },
      "outputs": [],
      "source": [
        "plt.clf()  # 이전에 그려진 그림이 있었다면 지우고 새로 시작한다.\n",
        "plt.fill_between(x_CB_m_array, T_CB_Nm_array)\n",
        "plt.fill_between(x_BA_m_array, T_BA_Nm_array)\n",
        "\n",
        "# A, B, C 점을 표시한다.\n",
        "plt.text(x_CB_m_array[0], 0, 'C')\n",
        "plt.text(x_BA_m_array[0], 0, 'B')\n",
        "plt.text(x_BA_m_array[-1], 0, 'A')\n",
        "\n",
        "# x y 축 제목을 붙인다.\n",
        "plt.xlabel('x(m)')\n",
        "plt.ylabel('T(Nm)')\n",
        "\n",
        "plt.grid(True)\n",
        "plt.show()\n",
        "\n"
      ]
    },
    {
      "cell_type": "markdown",
      "metadata": {
        "id": "3EZszUQUVZd_"
      },
      "source": [
        "#### 비틀림 변위 선도\n",
        "\n"
      ]
    },
    {
      "cell_type": "markdown",
      "metadata": {
        "id": "lqG3nIiSVZd_"
      },
      "source": [
        "* 변형량은 변형률의 적분\n",
        "* 변형률은 응력을 탄성계수로 나눈 것\n",
        "* 비틀림 응력은 비틀림 하중에 반지름을 곱하고 단면계수 극관성모멘트로 나눈 것\n",
        "\n"
      ]
    },
    {
      "cell_type": "markdown",
      "metadata": {
        "id": "4c6BByFvVZd_"
      },
      "source": [
        "##### 응력 선도\n",
        "\n"
      ]
    },
    {
      "cell_type": "markdown",
      "metadata": {
        "id": "7LQUeTPOVZeA"
      },
      "source": [
        "응력을 구하기 위해 비틀림 하중 $T$ 에 반지름 $r$을 곱하고 극관성모멘트 $J$로 나눈다.\n",
        "\n"
      ]
    },
    {
      "cell_type": "code",
      "execution_count": null,
      "metadata": {
        "id": "w2gaejFSVZeA"
      },
      "outputs": [],
      "source": [
        "Pa2MPa = 1e-6\n",
        "\n",
        "stress_Pa_array = T_Nm_array * float((r_m / J_m4).subs(subs_dict))\n",
        "plt.clf()\n",
        "plt.plot(x_m_array, stress_Pa_array * Pa2MPa)\n",
        "\n",
        "# 위에서 구했던 A-B, B-C 구간의 응력을 투명도 (`alpha`) 0.5 로 표시한다.\n",
        "plt.plot([x_m_array[0], x_m_array[-1]], [tau_AB_Pa * Pa2MPa, tau_AB_Pa * Pa2MPa], alpha=0.5)\n",
        "plt.plot([x_m_array[0], x_m_array[-1]], [tau_BC_Pa * Pa2MPa, tau_BC_Pa * Pa2MPa], alpha=0.5)\n",
        "\n",
        "# `A`, `B`, `C` 지점을 표시한다.\n",
        "plt.text(x_CB_m_array[0], tau_BC_Pa * Pa2MPa, 'C')\n",
        "plt.text(x_BA_m_array[0], tau_BC_Pa * Pa2MPa, 'B')\n",
        "plt.text(x_BA_m_array[-1], tau_AB_Pa * Pa2MPa, 'A')\n",
        "\n",
        "# `y` 축 최소값을 0으로 맞춘다.\n",
        "plt.ylim(ymin=0)\n",
        "\n",
        "# 선도를 표시한다.\n",
        "plt.xlabel('x(m)')\n",
        "plt.ylabel('$\\\\tau_{max}(MPa)$')\n",
        "plt.grid(True)\n",
        "plt.show()\n",
        "\n"
      ]
    },
    {
      "cell_type": "markdown",
      "metadata": {
        "id": "sDUOWWo0VZeA"
      },
      "source": [
        "### 2) 끝점 A 에서의 변형량\n",
        "\n"
      ]
    },
    {
      "cell_type": "markdown",
      "metadata": {
        "collapsed": true,
        "id": "qFnqpu8YVZeA"
      },
      "source": [
        "변형량의 $x$ 에 대한 미분을 계산한다.\n",
        "\\begin{equation}\n",
        "\\tau=G\\gamma = G \\frac{d\\theta}{dx}\\rho\\\\\n",
        "\\frac{d\\theta}{dx} = \\frac{\\tau}{G \\rho}\n",
        "\\end{equation}\n",
        "\n"
      ]
    },
    {
      "cell_type": "code",
      "execution_count": null,
      "metadata": {
        "id": "fzvWN8LDVZeA"
      },
      "outputs": [],
      "source": [
        "dtheta_dx_array = (stress_Pa_array / (G_Pa * r_m).subs(subs_dict))\n",
        "plt.clf()  # 이전에 그려진 그림이 있었다면 지우고 새로 시작한다.\n",
        "plt.plot(x_m_array, dtheta_dx_array)\n",
        "\n",
        "# A, B, C 지점을 표시한다\n",
        "plt.text(x_CB_m_array[0], tau_BC_Pa/(G_Pa * r_m).subs(subs_dict), 'C')\n",
        "plt.text(x_BA_m_array[0], tau_BC_Pa/(G_Pa * r_m).subs(subs_dict), 'B')\n",
        "plt.text(x_BA_m_array[-1], tau_AB_Pa/(G_Pa * r_m).subs(subs_dict), 'A')\n",
        "\n",
        "plt.ylim(ymin=0)\n",
        "plt.xlabel('x(m)')\n",
        "plt.ylabel('$\\\\frac{d\\\\theta}{dx}(rad/m)$')\n",
        "plt.grid(True)\n",
        "plt.show()\n",
        "\n"
      ]
    },
    {
      "cell_type": "markdown",
      "metadata": {
        "id": "Pi0suAmHVZeB"
      },
      "source": [
        "변형률을 적분하여 변형량을 계산한다.\n",
        "\n"
      ]
    },
    {
      "cell_type": "code",
      "execution_count": null,
      "metadata": {
        "id": "JuZ4SRMkVZeB"
      },
      "outputs": [],
      "source": [
        "displacement_rad_array = si.cumtrapz(dtheta_dx_array, x_m_array, initial=0)\n",
        "displacement_deg_array = displacement_rad_array * (180/np.pi)\n",
        "\n",
        "plt.clf()  # 이전에 그려진 그림이 있었다면 지우고 새로 시작한다.\n",
        "plt.plot(x_m_array, displacement_deg_array, label='%\\\\theta(deg)%')\n",
        "plt.plot([x_m_array[0], x_m_array[-1]], [theta_B_deg, theta_B_deg], alpha = 0.5)\n",
        "plt.plot([x_m_array[0], x_m_array[-1]], [theta_A_deg, theta_A_deg], alpha = 0.5)\n",
        "\n",
        "# A, B, C 지점을 표시한다\n",
        "plt.text(x_CB_m_array[0], 0, 'C')\n",
        "plt.text(x_BA_m_array[0], theta_B_deg, 'B')\n",
        "plt.text(x_BA_m_array[-1], theta_A_deg, 'A')\n",
        "\n",
        "plt.xlabel('x(m)')\n",
        "plt.ylabel('$\\\\theta(deg)$')\n",
        "plt.grid(True)\n",
        "plt.show()\n",
        "\n",
        "print(float(theta_A_deg / displacement_deg_array[-1]))\n",
        "\n"
      ]
    },
    {
      "cell_type": "markdown",
      "metadata": {
        "id": "1ouXLKs4VZeB"
      },
      "source": [
        "아래 코드는 프로그램이 맞게 작동했는지 확인한다.\n",
        "<br>Following code verifies if this program worked correctly. \n",
        "\n",
        "참고 : Francesco Mosconi, Travis + Anaconda + Jupyter, 2017 Aug 09, [Online] Available: https://github.com/ghego/travis_anaconda_jupyter.\n",
        "\n"
      ]
    },
    {
      "cell_type": "code",
      "execution_count": null,
      "metadata": {
        "id": "F1uB8eJ6VZeC"
      },
      "outputs": [],
      "source": [
        "assert(1e-7 > abs(theta_A_deg - displacement_deg_array[-1]))\n",
        "\n"
      ]
    },
    {
      "cell_type": "code",
      "execution_count": null,
      "metadata": {
        "id": "9W3ktsdkVZeC"
      },
      "outputs": [],
      "source": [
        ""
      ]
    }
  ],
  "metadata": {
    "kernelspec": {
      "display_name": "Python 3",
      "language": "python",
      "name": "python3"
    },
    "language_info": {
      "codemirror_mode": {
        "name": "ipython",
        "version": 3
      },
      "file_extension": ".py",
      "mimetype": "text/x-python",
      "name": "python",
      "nbconvert_exporter": "python",
      "pygments_lexer": "ipython3",
      "version": "3.8.8"
    },
    "colab": {
      "name": "ex03.001.numpy_sympy.torsional.displacement.ipynb",
      "provenance": [],
      "include_colab_link": true
    }
  },
  "nbformat": 4,
  "nbformat_minor": 0
}