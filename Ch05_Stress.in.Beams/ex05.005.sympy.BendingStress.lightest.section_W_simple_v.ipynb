{
 "cells": [
  {
   "cell_type": "markdown",
   "metadata": {
    "colab_type": "text",
    "id": "view-in-github"
   },
   "source": [
    "<a href=\"https://colab.research.google.com/github/kangwonlee/momisp/blob/main/Ch05_Stress.in.Beams/ex05.005.sympy.BendingStress.lightest.section_W_simple_v.ipynb\" target=\"_parent\"><img src=\"https://colab.research.google.com/assets/colab-badge.svg\" alt=\"Open In Colab\"/></a>"
   ]
  },
  {
   "cell_type": "markdown",
   "metadata": {},
   "source": [
    "참고문헌 : Pytel 외 저, 이주성 외 역, 재료역학, 2판, 한티미디어, 2013.<br>Ref: Pytel, Kiusalaas, Sharma, Mechanics of Materials, 2nd Ed., Cengage Learning, 2013.\n",
    "\n"
   ]
  },
  {
   "cell_type": "markdown",
   "metadata": {},
   "source": [
    "`python` 기능을 확장해 주는 `module`을 불러 들임 (일부 기능만 사용될 수도 있음)<br>\n",
    "Bring in `module`'s that would expand features of `python`. (This file may use just some of them.)\n",
    "\n"
   ]
  },
  {
   "cell_type": "code",
   "execution_count": null,
   "metadata": {
    "collapsed": true
   },
   "outputs": [],
   "source": [
    "import numpy as np  # 배열, 행렬 관련 기능\n",
    "import numpy.linalg as na  # 선형대수 (벡터, 행렬) 관련 기능\n",
    "import matplotlib.pyplot as plt  # 그래프 관련 기능\n",
    "import scipy.integrate as si  # 적분 관련 기능\n",
    "import sympy as sy  # 기호 연산 기능\n",
    "import sympy.plotting as splot\n",
    "import IPython.display as disp  # 웹페이지 표시 기능\n",
    "sy.init_printing()  # 기호 연산 결과 표시 기능 준비\n",
    "\n"
   ]
  },
  {
   "cell_type": "markdown",
   "metadata": {},
   "source": [
    "## 예제 05.005<br>Ex 05.005\n",
    "\n"
   ]
  },
  {
   "cell_type": "markdown",
   "metadata": {},
   "source": [
    "### 문제에서 주어진 변수<br>Given Parameters\n",
    "\n"
   ]
  },
  {
   "cell_type": "markdown",
   "metadata": {},
   "source": [
    "#### 각 구간 길이<br>Length of each section\n",
    "\n"
   ]
  },
  {
   "cell_type": "code",
   "execution_count": null,
   "metadata": {
    "collapsed": true
   },
   "outputs": [],
   "source": [
    "L_AB_m, L_BD_m = sy.symbols('L_{AB}[m], L_{BD}[m]', positive=True)\n",
    "\n",
    "L_AD_m = L_AB_m + L_BD_m\n",
    "\n",
    "s_d = {L_AB_m: 4, \n",
    "       L_BD_m: 2}\n",
    "\n"
   ]
  },
  {
   "cell_type": "markdown",
   "metadata": {},
   "source": [
    "#### 재료<br>Material Properties\n",
    "\n"
   ]
  },
  {
   "cell_type": "code",
   "execution_count": null,
   "metadata": {},
   "outputs": [],
   "source": [
    "sigma_allowed_Pa = sy.Symbol('\\sigma_{allowed}[Pa]', positive=True)\n",
    "s_d[sigma_allowed_Pa] = 120e6\n",
    "sigma_allowed_Pa\n",
    "\n"
   ]
  },
  {
   "cell_type": "markdown",
   "metadata": {},
   "source": [
    "#### 하중<br>Load\n",
    "\n"
   ]
  },
  {
   "cell_type": "code",
   "execution_count": null,
   "metadata": {
    "collapsed": true
   },
   "outputs": [],
   "source": [
    "P_B_N = sy.Symbol('P_{B}[N]', real=True)\n",
    "s_d[P_B_N] = -45e3\n",
    "\n"
   ]
  },
  {
   "cell_type": "markdown",
   "metadata": {},
   "source": [
    "### A, B, C, D 지점의 x 좌표<br>x coorinates of A, B, C, D points\n",
    "A 점에서 x=0 으로 한다.<br>Let x=0 at A point\n",
    "\n"
   ]
  },
  {
   "cell_type": "code",
   "execution_count": null,
   "metadata": {
    "collapsed": true
   },
   "outputs": [],
   "source": [
    "x_A_m = 0\n",
    "x_B_m = float(x_A_m + L_AB_m.subs(s_d))\n",
    "x_D_m = float(x_B_m + L_BD_m.subs(s_d))\n",
    "\n"
   ]
  },
  {
   "cell_type": "markdown",
   "metadata": {},
   "source": [
    "### 반력<br>Reaction Force\n",
    "\n"
   ]
  },
  {
   "cell_type": "markdown",
   "metadata": {},
   "source": [
    "단순지지로 A D 점에 수직 방향 반력이 가해짐\n",
    "\n"
   ]
  },
  {
   "cell_type": "markdown",
   "metadata": {},
   "source": [
    "#### 수직 반력<br>Vertical Reaction Force\n",
    "\n"
   ]
  },
  {
   "cell_type": "code",
   "execution_count": null,
   "metadata": {
    "collapsed": true
   },
   "outputs": [],
   "source": [
    "R_A_N, R_D_N = sy.symbols('R_{A}[N], R_{D}[N]', real=True)\n",
    "\n"
   ]
  },
  {
   "cell_type": "code",
   "execution_count": null,
   "metadata": {},
   "outputs": [],
   "source": [
    "vf_eq = sy.Eq(R_A_N + R_D_N + P_B_N, 0)\n",
    "vf_eq\n",
    "\n"
   ]
  },
  {
   "cell_type": "markdown",
   "metadata": {},
   "source": [
    "#### A점 중심 모멘트\n",
    "\n"
   ]
  },
  {
   "cell_type": "code",
   "execution_count": null,
   "metadata": {},
   "outputs": [],
   "source": [
    "moment_A_eq = sy.Eq(P_B_N * L_AB_m + R_D_N * L_AD_m, 0)\n",
    "moment_A_eq\n",
    "\n"
   ]
  },
  {
   "cell_type": "markdown",
   "metadata": {},
   "source": [
    "#### 두 식을 연립하여 풂\n",
    "\n"
   ]
  },
  {
   "cell_type": "code",
   "execution_count": null,
   "metadata": {},
   "outputs": [],
   "source": [
    "R_sol_dict = sy.solve((vf_eq, moment_A_eq), (R_A_N, R_D_N))\n",
    "R_sol_dict\n",
    "\n"
   ]
  },
  {
   "cell_type": "markdown",
   "metadata": {},
   "source": [
    "### 전단력선도<br>Shear Force Diagram\n",
    "\n"
   ]
  },
  {
   "cell_type": "code",
   "execution_count": null,
   "metadata": {
    "collapsed": true
   },
   "outputs": [],
   "source": [
    "x = sy.Symbol('x', nonnegative=True)\n",
    "\n"
   ]
  },
  {
   "cell_type": "code",
   "execution_count": null,
   "metadata": {
    "collapsed": true
   },
   "outputs": [],
   "source": [
    "V_AD_N = R_A_N + (R_A_N + P_B_N) * sy.Heaviside(x - L_AB_m)\n",
    "\n"
   ]
  },
  {
   "cell_type": "markdown",
   "metadata": {},
   "source": [
    "반력 계산 결과를 반영하면 다음과 같다.\n",
    "\n"
   ]
  },
  {
   "cell_type": "code",
   "execution_count": null,
   "metadata": {
    "scrolled": true
   },
   "outputs": [],
   "source": [
    "V_AD_N.subs(R_sol_dict)\n",
    "\n"
   ]
  },
  {
   "cell_type": "code",
   "execution_count": null,
   "metadata": {},
   "outputs": [],
   "source": [
    "V_AD_N.subs(R_sol_dict).subs(s_d)\n",
    "\n"
   ]
  },
  {
   "cell_type": "markdown",
   "metadata": {},
   "source": [
    "선도로 표시해 보자.\n",
    "\n"
   ]
  },
  {
   "cell_type": "code",
   "execution_count": null,
   "metadata": {},
   "outputs": [],
   "source": [
    "splot.plot(\n",
    "    sy.N(V_AD_N.subs(R_sol_dict).subs(s_d)), \n",
    "    (x, 0, float(L_AD_m.subs(s_d))), \n",
    "    ylabel='V(N)'\n",
    ")\n",
    "\n"
   ]
  },
  {
   "cell_type": "markdown",
   "metadata": {},
   "source": [
    "### 굽힘모멘트선도<br>Bending Moment Diagram\n",
    "\n"
   ]
  },
  {
   "cell_type": "code",
   "execution_count": null,
   "metadata": {
    "collapsed": true
   },
   "outputs": [],
   "source": [
    "M_AB_Nm = R_A_N * x\n",
    "M_BD_Nm = P_B_N * (x - L_AB_m)\n",
    "\n"
   ]
  },
  {
   "cell_type": "code",
   "execution_count": null,
   "metadata": {
    "collapsed": true
   },
   "outputs": [],
   "source": [
    "M_AD_Nm = M_AB_Nm + M_BD_Nm * sy.Heaviside(x - L_AB_m)\n",
    "\n"
   ]
  },
  {
   "cell_type": "code",
   "execution_count": null,
   "metadata": {},
   "outputs": [],
   "source": [
    "M_AD_Nm\n",
    "\n"
   ]
  },
  {
   "cell_type": "code",
   "execution_count": null,
   "metadata": {},
   "outputs": [],
   "source": [
    "M_AD_Nm.subs(R_sol_dict)\n",
    "\n"
   ]
  },
  {
   "cell_type": "code",
   "execution_count": null,
   "metadata": {},
   "outputs": [],
   "source": [
    "splot.plot((M_AD_Nm.subs(R_sol_dict).subs(s_d), (x, 0, x_D_m)), ylabel='M(Nm)')\n",
    "\n"
   ]
  },
  {
   "cell_type": "markdown",
   "metadata": {},
   "source": [
    "#### 최대 모멘트<br>Maximum Moment\n",
    "\n"
   ]
  },
  {
   "cell_type": "code",
   "execution_count": null,
   "metadata": {},
   "outputs": [],
   "source": [
    "M_max_Nm = M_AD_Nm.subs(R_sol_dict).subs(x, L_AB_m)\n",
    "M_max_Nm\n",
    "\n"
   ]
  },
  {
   "cell_type": "markdown",
   "metadata": {},
   "source": [
    "### 단면 계수<br>Section Properties\n",
    "\n"
   ]
  },
  {
   "cell_type": "code",
   "execution_count": null,
   "metadata": {
    "collapsed": true
   },
   "outputs": [],
   "source": [
    "section_modulus_mm3 = sy.Symbol('section_{modulus}[mm^{3}]', positive=True)\n",
    "section_modulus_m3 = section_modulus_mm3 * 1e-3**3\n",
    "\n"
   ]
  },
  {
   "cell_type": "code",
   "execution_count": null,
   "metadata": {},
   "outputs": [],
   "source": [
    "max_stress_eq = (abs(M_max_Nm / section_modulus_m3) < sigma_allowed_Pa)\n",
    "max_stress_eq\n",
    "\n"
   ]
  },
  {
   "cell_type": "code",
   "execution_count": null,
   "metadata": {},
   "outputs": [],
   "source": [
    "sm3_sol_list = sy.solve(max_stress_eq.subs(R_sol_dict).subs(s_d), section_modulus_m3)\n",
    "sm3_sol_list\n",
    "\n"
   ]
  },
  {
   "cell_type": "markdown",
   "metadata": {},
   "source": [
    "### 선정 단면 분포 하중 포함\n",
    "\n"
   ]
  },
  {
   "cell_type": "markdown",
   "metadata": {},
   "source": [
    "#### 자중에 의한 분포하중\n",
    "\n"
   ]
  },
  {
   "cell_type": "markdown",
   "metadata": {},
   "source": [
    "선정 단면 길이당 질량\n",
    "\n"
   ]
  },
  {
   "cell_type": "code",
   "execution_count": null,
   "metadata": {
    "collapsed": true
   },
   "outputs": [],
   "source": [
    "mw_kg_m = sy.Symbol('mw_{kg}[m]', positive=True)\n",
    "s_d[mw_kg_m] = 38.7\n",
    "\n"
   ]
  },
  {
   "cell_type": "markdown",
   "metadata": {},
   "source": [
    "중력가속도\n",
    "\n"
   ]
  },
  {
   "cell_type": "code",
   "execution_count": null,
   "metadata": {},
   "outputs": [],
   "source": [
    "g_m_s2 = sy.Symbol('g_m_s2', positive=True)\n",
    "s_d[g_m_s2] = 9.8\n",
    "g_m_s2\n",
    "\n"
   ]
  },
  {
   "cell_type": "markdown",
   "metadata": {},
   "source": [
    "자중에 의한 분포하중\n",
    "\n"
   ]
  },
  {
   "cell_type": "code",
   "execution_count": null,
   "metadata": {},
   "outputs": [],
   "source": [
    "w_N_m = -mw_kg_m * g_m_s2\n",
    "w_N_m\n",
    "\n"
   ]
  },
  {
   "cell_type": "markdown",
   "metadata": {},
   "source": [
    "#### 반력<br>Reaction Force\n",
    "\n"
   ]
  },
  {
   "cell_type": "code",
   "execution_count": null,
   "metadata": {},
   "outputs": [],
   "source": [
    "vf_w_eq = sy.Eq(R_A_N + R_D_N + P_B_N + w_N_m * L_AD_m, 0)\n",
    "vf_w_eq\n",
    "\n"
   ]
  },
  {
   "cell_type": "code",
   "execution_count": null,
   "metadata": {},
   "outputs": [],
   "source": [
    "moment_A_w_eq = sy.Eq(P_B_N * L_AB_m + R_D_N * L_AD_m + (w_N_m * L_AD_m)*(0.5 * L_AD_m), 0)\n",
    "moment_A_w_eq\n",
    "\n"
   ]
  },
  {
   "cell_type": "code",
   "execution_count": null,
   "metadata": {},
   "outputs": [],
   "source": [
    "R_w_sol_dict = sy.solve((vf_w_eq, moment_A_w_eq), (R_A_N, R_D_N))\n",
    "R_w_sol_dict\n",
    "\n"
   ]
  },
  {
   "cell_type": "markdown",
   "metadata": {},
   "source": [
    "#### 전단력선도<br>Shear Force Diagram\n",
    "\n"
   ]
  },
  {
   "cell_type": "code",
   "execution_count": null,
   "metadata": {
    "scrolled": true
   },
   "outputs": [],
   "source": [
    "V_AD_w_N = sy.Piecewise((R_A_N + w_N_m * x, x < L_AB_m), \n",
    "                        (R_A_N + P_B_N + w_N_m * x, x >= L_AB_m))\n",
    "V_AD_w_N\n",
    "\n"
   ]
  },
  {
   "cell_type": "code",
   "execution_count": null,
   "metadata": {
    "collapsed": true
   },
   "outputs": [],
   "source": [
    "V_AD_w_N = V_AD_N + w_N_m * x\n",
    "\n"
   ]
  },
  {
   "cell_type": "code",
   "execution_count": null,
   "metadata": {
    "collapsed": true
   },
   "outputs": [],
   "source": [
    "v_plot_list = splot.plot(V_AD_N.subs(R_sol_dict).subs(s_d),\n",
    "                         V_AD_w_N.subs(R_w_sol_dict).subs(s_d), \n",
    "                         (x, 0, L_AD_m.subs(s_d)),\n",
    "                         show=False\n",
    "                         )\n",
    "# janpenguin, \"sympy – changing graph color of plot()\",butterflyofdream.wordpress.com, 2017 Feb 01, https://butterflyofdream.wordpress.com/2014/02/01/sympy-changing-the-graph-color-of-plot/\n",
    "# SymPy Development Team, \"sympy.plotting.plot.plot()\", Plotting Function Reference, sympy documentation, 2017 July 27, http://docs.sympy.org/latest/modules/plotting.html#sympy.plotting.plot.plot\n",
    "v_plot_list.ylabel = 'V(N)'\n",
    "plot_list = v_plot_list\n",
    "\n"
   ]
  },
  {
   "cell_type": "code",
   "execution_count": null,
   "metadata": {},
   "outputs": [],
   "source": [
    "plot_list[0].line_color = 'blue'\n",
    "plot_list[1].line_color = 'orange'\n",
    "plot_list.xlabel = 'x(m)'\n",
    "plot_list.show()\n",
    "\n"
   ]
  },
  {
   "cell_type": "code",
   "execution_count": null,
   "metadata": {},
   "outputs": [],
   "source": [
    "V_AD_w_N.subs(R_w_sol_dict).subs(s_d).subs(x, 0)\n",
    "\n"
   ]
  },
  {
   "cell_type": "markdown",
   "metadata": {},
   "source": [
    "#### 굽힘모멘트선도<br>Bending Moment Diagram\n",
    "\n"
   ]
  },
  {
   "cell_type": "code",
   "execution_count": null,
   "metadata": {
    "collapsed": true
   },
   "outputs": [],
   "source": [
    "M_AD_w_Nm = M_AD_Nm + 0.5 * w_N_m * x ** 2\n",
    "\n"
   ]
  },
  {
   "cell_type": "code",
   "execution_count": null,
   "metadata": {
    "collapsed": true
   },
   "outputs": [],
   "source": [
    "m_plot_list = splot.plot(M_AD_Nm.subs(R_sol_dict).subs(s_d), \n",
    "                         M_AD_w_Nm.subs(R_w_sol_dict).subs(s_d), \n",
    "                         (x, 0, x_D_m),\n",
    "                         show=False\n",
    "                        )\n",
    "# janpenguin, \"sympy – changing graph color of plot()\",butterflyofdream.wordpress.com, 2017 Feb 01, https://butterflyofdream.wordpress.com/2014/02/01/sympy-changing-the-graph-color-of-plot/\n",
    "# SymPy Development Team, \"sympy.plotting.plot.plot()\", Plotting Function Reference, sympy documentation, 2017 July 27, http://docs.sympy.org/latest/modules/plotting.html#sympy.plotting.plot.plot\n",
    "m_plot_list.ylabel = 'M(Nm)'\n",
    "plot_list = m_plot_list\n",
    "\n"
   ]
  },
  {
   "cell_type": "code",
   "execution_count": null,
   "metadata": {},
   "outputs": [],
   "source": [
    "plot_list[0].line_color = 'blue'\n",
    "plot_list[1].line_color = 'orange'\n",
    "plot_list.xlabel = 'x(m)'\n",
    "plot_list.show()\n",
    "\n"
   ]
  },
  {
   "cell_type": "code",
   "execution_count": null,
   "metadata": {},
   "outputs": [],
   "source": [
    "M_max_Nm = M_AD_w_Nm.subs(x, L_AB_m)\n",
    "M_max_Nm\n",
    "\n"
   ]
  },
  {
   "cell_type": "code",
   "execution_count": null,
   "metadata": {},
   "outputs": [],
   "source": [
    "M_max_Nm.subs(R_w_sol_dict).subs(s_d)\n",
    "\n"
   ]
  },
  {
   "cell_type": "markdown",
   "metadata": {},
   "source": [
    "#### 자중을 포함한 최대 응력\n",
    "\n"
   ]
  },
  {
   "cell_type": "code",
   "execution_count": null,
   "metadata": {},
   "outputs": [],
   "source": [
    "sigma_max_Pa = M_max_Nm / section_modulus_m3\n",
    "sigma_max_Pa\n",
    "\n"
   ]
  },
  {
   "cell_type": "code",
   "execution_count": null,
   "metadata": {},
   "outputs": [],
   "source": [
    "s_max_Pa = float(sigma_max_Pa.subs(R_w_sol_dict).subs(s_d).subs(section_modulus_mm3, 547e3))\n",
    "s_max_Pa\n",
    "\n"
   ]
  },
  {
   "cell_type": "code",
   "execution_count": null,
   "metadata": {},
   "outputs": [],
   "source": [
    "disp.display(disp.Math('$$\\\\sigma_{max}=%g (MPa)$$' % (s_max_Pa * 1e-6)))\n",
    "\n"
   ]
  },
  {
   "cell_type": "markdown",
   "metadata": {},
   "source": [
    "자중을 포함한 최대 응력이 허용 최대응력보다 작은지 확인.<br>Assert if maximum stress is smaller than allowable maximum stress.\n",
    "\n"
   ]
  },
  {
   "cell_type": "code",
   "execution_count": null,
   "metadata": {
    "scrolled": true
   },
   "outputs": [],
   "source": [
    "assert (abs(s_d[sigma_allowed_Pa]) > abs(s_max_Pa))\n",
    "\n"
   ]
  },
  {
   "cell_type": "code",
   "execution_count": null,
   "metadata": {},
   "outputs": [],
   "source": []
  }
 ],
 "metadata": {
  "anaconda-cloud": {},
  "kernelspec": {
   "display_name": "Python 3",
   "language": "python",
   "name": "python3"
  },
  "language_info": {
   "codemirror_mode": {
    "name": "ipython",
    "version": 3
   },
   "file_extension": ".py",
   "mimetype": "text/x-python",
   "name": "python",
   "nbconvert_exporter": "python",
   "pygments_lexer": "ipython3",
   "version": "3.6.5"
  }
 },
 "nbformat": 4,
 "nbformat_minor": 2
}
