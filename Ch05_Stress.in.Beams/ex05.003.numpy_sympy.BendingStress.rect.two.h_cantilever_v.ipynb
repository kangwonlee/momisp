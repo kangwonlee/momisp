{
 "cells": [
  {
   "cell_type": "markdown",
   "metadata": {
    "id": "view-in-github",
    "colab_type": "text"
   },
   "source": [
    "<a href=\"https://colab.research.google.com/github/kangwonlee/momisp/blob/dependabot/pip/tests/scikit-learn-1.5.0/Ch05_Stress.in.Beams/ex05.003.numpy_sympy.BendingStress.rect.two.h_cantilever_v.ipynb\" target=\"_parent\"><img src=\"https://colab.research.google.com/assets/colab-badge.svg\" alt=\"Open In Colab\"/></a>\n"
   ]
  },
  {
   "cell_type": "markdown",
   "metadata": {},
   "source": [
    "참고문헌 : Pytel 외 저, 이주성 외 역, 재료역학, 2판, 한티미디어, 2013.<br>Ref: Pytel, Kiusalaas, Sharma, Mechanics of Materials, 2nd Ed., Cengage Learning, 2013.\n",
    "\n"
   ]
  },
  {
   "cell_type": "markdown",
   "metadata": {},
   "source": [
    "`python` 기능을 확장해 주는 `module`을 불러 들임 (일부 기능만 사용될 수도 있음)<br>\n",
    "Bring in `module`'s that would expand features of `python`. (This file may use just some of them.)\n",
    "\n"
   ]
  },
  {
   "cell_type": "code",
   "execution_count": null,
   "metadata": {},
   "outputs": [],
   "source": [
    "import numpy as np  # 배열, 행렬 관련 기능\n",
    "import numpy.linalg as na  # 선형대수 (벡터, 행렬) 관련 기능\n",
    "import numpy.matlib as nm  # 선형대수 (벡터, 행렬) 관련 기능\n",
    "import matplotlib.pyplot as plt  # 그래프 관련 기능\n",
    "import scipy.integrate as si  # 적분 관련 기능\n",
    "import sympy as sy  # 기호 연산 기능\n",
    "import sympy.plotting as splot\n",
    "import IPython.display as disp  # 웹페이지 표시 기능\n",
    "sy.init_printing()  # 기호 연산 결과 표시 기능 준비\n",
    "\n"
   ]
  },
  {
   "cell_type": "markdown",
   "metadata": {},
   "source": [
    "## 예제 05.003\n",
    "\n"
   ]
  },
  {
   "cell_type": "markdown",
   "metadata": {},
   "source": [
    "### 문제에서 주어진 변수<br>Given Parameters\n",
    "\n"
   ]
  },
  {
   "cell_type": "markdown",
   "metadata": {},
   "source": [
    "#### 각 구간 길이<br>Length of each section\n",
    "\n"
   ]
  },
  {
   "cell_type": "code",
   "execution_count": null,
   "metadata": {},
   "outputs": [],
   "source": [
    "L_AB_m, L_BD_m = sy.symbols('L_{AB}[m], L_{BD}[m]')\n",
    "\n",
    "L_AD_m = L_AB_m + L_BD_m\n",
    "\n",
    "s_d = {L_AB_m: 4, \n",
    "       L_BD_m: 4}\n",
    "\n"
   ]
  },
  {
   "cell_type": "markdown",
   "metadata": {},
   "source": [
    "#### 하중<br>Load\n",
    "\n"
   ]
  },
  {
   "cell_type": "code",
   "execution_count": null,
   "metadata": {},
   "outputs": [],
   "source": [
    "P_A_N = sy.Symbol('P_{A}[N]')\n",
    "s_d[P_A_N] = -2000\n",
    "\n"
   ]
  },
  {
   "cell_type": "markdown",
   "metadata": {},
   "source": [
    "#### 단면<br>Section\n",
    "\n"
   ]
  },
  {
   "cell_type": "code",
   "execution_count": null,
   "metadata": {},
   "outputs": [],
   "source": [
    "h_AB_m, h_BD_m, b_m = sy.symbols('h_{AB}[m], h_{BD}[m], b[m]')\n",
    "s_d[h_AB_m] = 100e-3\n",
    "s_d[h_BD_m] = 150e-3\n",
    "s_d[b_m] = 50e-3\n",
    "\n"
   ]
  },
  {
   "cell_type": "markdown",
   "metadata": {},
   "source": [
    "### A, B, C, D 지점의 x 좌표<br>x coorinates of A, B, C, D points\n",
    "A 점에서 x=0 으로 한다.<br>Let x=0 at A point\n",
    "\n"
   ]
  },
  {
   "cell_type": "code",
   "execution_count": null,
   "metadata": {},
   "outputs": [],
   "source": [
    "x_A_m = 0\n",
    "x_B_m = float(x_A_m + L_AB_m.subs(s_d))\n",
    "x_D_m = float(x_B_m + L_BD_m.subs(s_d))\n",
    "\n"
   ]
  },
  {
   "cell_type": "markdown",
   "metadata": {},
   "source": [
    "### 반력<br>Reaction Force\n",
    "\n"
   ]
  },
  {
   "cell_type": "markdown",
   "metadata": {},
   "source": [
    "외팔보로 D 점에 수직 방향과 모멘트 반력이 가해짐\n",
    "\n"
   ]
  },
  {
   "cell_type": "markdown",
   "metadata": {},
   "source": [
    "#### 수직 반력<br>Vertical Reaction Force\n",
    "\n"
   ]
  },
  {
   "cell_type": "code",
   "execution_count": null,
   "metadata": {},
   "outputs": [],
   "source": [
    "R_D_N = sy.Symbol('R_{D}[N]')\n",
    "\n"
   ]
  },
  {
   "cell_type": "code",
   "execution_count": null,
   "metadata": {},
   "outputs": [],
   "source": [
    "vf_eq = sy.Eq(R_D_N + P_A_N, 0)\n",
    "vf_eq\n",
    "\n"
   ]
  },
  {
   "cell_type": "code",
   "execution_count": null,
   "metadata": {},
   "outputs": [],
   "source": [
    "R_D_N_sol_list = sy.solve(vf_eq, R_D_N)\n",
    "R_D_N_sol_list\n",
    "\n"
   ]
  },
  {
   "cell_type": "markdown",
   "metadata": {},
   "source": [
    "#### 모멘트 반력\n",
    "\n"
   ]
  },
  {
   "cell_type": "code",
   "execution_count": null,
   "metadata": {},
   "outputs": [],
   "source": [
    "RM_D_Nm = sy.Symbol('RM_{D}[Nm]')\n",
    "\n"
   ]
  },
  {
   "cell_type": "code",
   "execution_count": null,
   "metadata": {},
   "outputs": [],
   "source": [
    "moment_eq = sy.Eq(P_A_N * L_AD_m + RM_D_Nm, 0)\n",
    "moment_eq\n",
    "\n"
   ]
  },
  {
   "cell_type": "code",
   "execution_count": null,
   "metadata": {},
   "outputs": [],
   "source": [
    "RM_D_Nm_sol_list = sy.solve(moment_eq, RM_D_Nm)\n",
    "RM_D_Nm_sol_list\n",
    "\n"
   ]
  },
  {
   "cell_type": "markdown",
   "metadata": {},
   "source": [
    "### 전단력선도<br>Shear Force Diagram\n",
    "\n"
   ]
  },
  {
   "cell_type": "code",
   "execution_count": null,
   "metadata": {},
   "outputs": [],
   "source": [
    "V_AD_N = P_A_N\n",
    "\n"
   ]
  },
  {
   "cell_type": "code",
   "execution_count": null,
   "metadata": {},
   "outputs": [],
   "source": [
    "x = sy.Symbol('x')\n",
    "\n"
   ]
  },
  {
   "cell_type": "code",
   "execution_count": null,
   "metadata": {},
   "outputs": [],
   "source": [
    "splot.plot((V_AD_N.subs(s_d), (x, 0, L_AD_m.subs(s_d))),\n",
    "           (0.0, (x, 0, L_AD_m.subs(s_d))))\n",
    "\n"
   ]
  },
  {
   "cell_type": "markdown",
   "metadata": {},
   "source": [
    "### 굽힘모멘트선도<br>Bending Moment Diagram\n",
    "\n"
   ]
  },
  {
   "cell_type": "code",
   "execution_count": null,
   "metadata": {},
   "outputs": [],
   "source": [
    "M_AD_Nm = V_AD_N * x\n",
    "\n"
   ]
  },
  {
   "cell_type": "code",
   "execution_count": null,
   "metadata": {},
   "outputs": [],
   "source": [
    "splot.plot(M_AD_Nm.subs(s_d), (x, 0, L_AD_m.subs(s_d)))\n",
    "\n"
   ]
  },
  {
   "cell_type": "markdown",
   "metadata": {},
   "source": [
    "### 굽힘 응력<br>Bending Stress\n",
    "\n"
   ]
  },
  {
   "cell_type": "markdown",
   "metadata": {},
   "source": [
    "#### B 지점\n",
    "\n"
   ]
  },
  {
   "cell_type": "markdown",
   "metadata": {},
   "source": [
    "B 지점의 굽힘 모멘트\n",
    "\n"
   ]
  },
  {
   "cell_type": "code",
   "execution_count": null,
   "metadata": {},
   "outputs": [],
   "source": [
    "M_B_Nm = M_AD_Nm.subs(x, x_B_m)\n",
    "M_B_Nm\n",
    "\n"
   ]
  },
  {
   "cell_type": "markdown",
   "metadata": {},
   "source": [
    "A-B 구간 단면의 모멘트\n",
    "\n"
   ]
  },
  {
   "cell_type": "code",
   "execution_count": null,
   "metadata": {},
   "outputs": [],
   "source": [
    "I_AB_m4 = b_m * h_AB_m**3 / 12\n",
    "\n"
   ]
  },
  {
   "cell_type": "markdown",
   "metadata": {},
   "source": [
    "윗 면으로부터 도심까지의 거리\n",
    "\n"
   ]
  },
  {
   "cell_type": "code",
   "execution_count": null,
   "metadata": {},
   "outputs": [],
   "source": [
    "c_AB_m = h_AB_m * 0.5\n",
    "\n"
   ]
  },
  {
   "cell_type": "markdown",
   "metadata": {},
   "source": [
    "굽힘 응력<br>Bending Stress\n",
    "\n"
   ]
  },
  {
   "cell_type": "code",
   "execution_count": null,
   "metadata": {},
   "outputs": [],
   "source": [
    "sigma_B_Nm = -M_B_Nm * c_AB_m / I_AB_m4\n",
    "sigma_B_Nm\n",
    "\n"
   ]
  },
  {
   "cell_type": "code",
   "execution_count": null,
   "metadata": {
    "scrolled": true
   },
   "outputs": [],
   "source": [
    "sigma_B_Nm.subs(s_d)\n",
    "\n"
   ]
  },
  {
   "cell_type": "markdown",
   "metadata": {},
   "source": [
    "#### D 지점\n",
    "\n"
   ]
  },
  {
   "cell_type": "markdown",
   "metadata": {},
   "source": [
    "D 지점의 굽힘 모멘트\n",
    "\n"
   ]
  },
  {
   "cell_type": "code",
   "execution_count": null,
   "metadata": {},
   "outputs": [],
   "source": [
    "M_D_Nm = M_AD_Nm.subs(x, x_D_m)\n",
    "M_D_Nm\n",
    "\n"
   ]
  },
  {
   "cell_type": "markdown",
   "metadata": {},
   "source": [
    "A-B 구간 단면의 모멘트\n",
    "\n"
   ]
  },
  {
   "cell_type": "code",
   "execution_count": null,
   "metadata": {},
   "outputs": [],
   "source": [
    "I_BD_m4 = b_m * h_BD_m**3 / 12\n",
    "\n"
   ]
  },
  {
   "cell_type": "markdown",
   "metadata": {},
   "source": [
    "윗 면으로부터 도심까지의 거리\n",
    "\n"
   ]
  },
  {
   "cell_type": "code",
   "execution_count": null,
   "metadata": {},
   "outputs": [],
   "source": [
    "c_BD_m = h_BD_m * 0.5\n",
    "\n"
   ]
  },
  {
   "cell_type": "markdown",
   "metadata": {},
   "source": [
    "굽힘 응력<br>Bending Stress\n",
    "\n"
   ]
  },
  {
   "cell_type": "code",
   "execution_count": null,
   "metadata": {},
   "outputs": [],
   "source": [
    "sigma_D_Nm = -M_D_Nm * c_BD_m / I_BD_m4\n",
    "sigma_D_Nm\n",
    "\n"
   ]
  },
  {
   "cell_type": "code",
   "execution_count": null,
   "metadata": {
    "scrolled": true
   },
   "outputs": [],
   "source": [
    "sigma_D_Nm.subs(s_d)\n",
    "\n"
   ]
  },
  {
   "cell_type": "markdown",
   "metadata": {},
   "source": [
    "두 값을 비교해 본다. 0보다 크다면 B 지점의 응력이 더 크다.\n",
    "\n"
   ]
  },
  {
   "cell_type": "code",
   "execution_count": null,
   "metadata": {},
   "outputs": [],
   "source": [
    "abs(sigma_B_Nm.subs(s_d)) - abs(sigma_D_Nm.subs(s_d))\n",
    "\n"
   ]
  },
  {
   "cell_type": "markdown",
   "metadata": {},
   "source": [
    "B 지점에서 응력이 최대이다.\n",
    "\n"
   ]
  },
  {
   "cell_type": "code",
   "execution_count": null,
   "metadata": {},
   "outputs": [],
   "source": [
    "sigma_B_Nm.subs(s_d)\n",
    "\n"
   ]
  },
  {
   "cell_type": "markdown",
   "metadata": {},
   "source": [
    "#### x 에 따른 분포<br>Distribution on x\n",
    "\n"
   ]
  },
  {
   "cell_type": "markdown",
   "metadata": {},
   "source": [
    "p. 170 eq. 5.4a, b\n",
    "\n"
   ]
  },
  {
   "cell_type": "markdown",
   "metadata": {},
   "source": [
    "$$\\sigma_{max}=\\frac{|M|_{max}c}{I}=\\frac{|M|_{max}}{S}$$\n",
    "\n"
   ]
  },
  {
   "cell_type": "code",
   "execution_count": null,
   "metadata": {},
   "outputs": [],
   "source": [
    "sigma_AB_Pa = abs(M_AD_Nm) * (h_AB_m * 0.5) / I_AB_m4\n",
    "sigma_BD_Pa = abs(M_AD_Nm) * (h_BD_m * 0.5) / I_BD_m4\n",
    "sigma_AB_Pa, sigma_BD_Pa\n",
    "\n"
   ]
  },
  {
   "cell_type": "code",
   "execution_count": null,
   "metadata": {},
   "outputs": [],
   "source": [
    "splot.plot((sigma_AB_Pa.subs(s_d), (x, 0, x_B_m)),\n",
    "           (sigma_BD_Pa.subs(s_d), (x, x_B_m, x_D_m)),\n",
    "          xlabel='x(m)', ylabel='$\\sigma$(Pa)')\n",
    "\n"
   ]
  },
  {
   "cell_type": "markdown",
   "metadata": {
    "collapsed": true
   },
   "source": [
    "#### 굽힘응력의 분포<br>Distribuion of bending stress\n",
    "\n"
   ]
  },
  {
   "cell_type": "markdown",
   "metadata": {},
   "source": [
    "##### `x` `y` 격자<br>`x` `y` grids\n",
    "\n"
   ]
  },
  {
   "cell_type": "code",
   "execution_count": null,
   "metadata": {},
   "outputs": [],
   "source": [
    "dx_m = 1e-3\n",
    "dx_half_m = dx_m * 0.5\n",
    "\n",
    "h_AB_half_m = s_d[h_AB_m] * 0.5\n",
    "x_AB_m_array = np.arange(0, x_B_m + dx_half_m, dx_m)\n",
    "y_AB_m_array = np.arange(-h_AB_half_m, h_AB_half_m + dx_half_m, dx_m)\n",
    "y_AB_m_grid, x_AB_m_grid = np.meshgrid(y_AB_m_array, x_AB_m_array)\n",
    "\n",
    "h_BD_half_m = s_d[h_BD_m] * 0.5\n",
    "x_BD_m_array = np.arange(x_B_m, x_D_m + dx_half_m, dx_m)\n",
    "y_BD_m_array = np.arange(-h_BD_half_m, h_BD_half_m + dx_half_m, dx_m)\n",
    "y_BD_m_grid, x_BD_m_grid = np.meshgrid(y_BD_m_array, x_BD_m_array)\n",
    "\n"
   ]
  },
  {
   "cell_type": "markdown",
   "metadata": {},
   "source": [
    "##### 모멘트 격자<br>Moment grids\n",
    "\n"
   ]
  },
  {
   "cell_type": "code",
   "execution_count": null,
   "metadata": {},
   "outputs": [],
   "source": [
    "func_M_AD_Nm = sy.lambdify(x, M_AD_Nm.subs(s_d))\n",
    "M_AB_Nm_grid = func_M_AD_Nm(x_AB_m_grid)\n",
    "M_BD_Nm_grid = func_M_AD_Nm(x_BD_m_grid)\n",
    "\n"
   ]
  },
  {
   "cell_type": "markdown",
   "metadata": {},
   "source": [
    "##### 응력 격자<br>Stress grids\n",
    "\n"
   ]
  },
  {
   "cell_type": "code",
   "execution_count": null,
   "metadata": {},
   "outputs": [],
   "source": [
    "sigma_AB_Pa_grid = M_AB_Nm_grid * y_AB_m_grid / (-float(I_AB_m4.subs(s_d)))\n",
    "sigma_BD_Pa_grid = M_BD_Nm_grid * y_BD_m_grid / (-float(I_BD_m4.subs(s_d)))\n",
    "\n"
   ]
  },
  {
   "cell_type": "markdown",
   "metadata": {},
   "source": [
    "##### 굽힘응력의 분포<br>Distribution of bending stress\n",
    "\n"
   ]
  },
  {
   "cell_type": "code",
   "execution_count": null,
   "metadata": {},
   "outputs": [],
   "source": [
    "plt.pcolormesh(x_AB_m_grid, y_AB_m_grid, sigma_AB_Pa_grid, cmap='jet')\n",
    "plt.pcolormesh(x_BD_m_grid, y_BD_m_grid, sigma_BD_Pa_grid, cmap='jet')\n",
    "plt.xlabel('x(m)')\n",
    "plt.ylabel('y(m)')\n",
    "plt.colorbar()\n",
    "plt.show()\n",
    "\n"
   ]
  },
  {
   "cell_type": "code",
   "execution_count": null,
   "metadata": {},
   "outputs": [],
   "source": []
  }
 ],
 "metadata": {
  "anaconda-cloud": {},
  "kernelspec": {
   "display_name": "Python 3",
   "language": "python",
   "name": "python3"
  },
  "language_info": {
   "codemirror_mode": {
    "name": "ipython",
    "version": 3
   },
   "file_extension": ".py",
   "mimetype": "text/x-python",
   "name": "python",
   "nbconvert_exporter": "python",
   "pygments_lexer": "ipython3",
   "version": "3.8.8"
  }
 },
 "nbformat": 4,
 "nbformat_minor": 2
}