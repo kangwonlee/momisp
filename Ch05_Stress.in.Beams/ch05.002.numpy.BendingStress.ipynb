{
 "cells": [
  {
   "cell_type": "markdown",
   "metadata": {
    "id": "view-in-github",
    "colab_type": "text"
   },
   "source": [
    "<a href=\"https://colab.research.google.com/github/kangwonlee/momisp/blob/adaptive-colab-button/Ch05_Stress.in.Beams/ch05.002.numpy.BendingStress.ipynb\" target=\"_parent\"><img src=\"https://colab.research.google.com/assets/colab-badge.svg\" alt=\"Open In Colab\"/></a>\n"
   ]
  },
  {
   "cell_type": "markdown",
   "metadata": {},
   "source": [
    "참고문헌 : Pytel 외 저, 이주성 외 역, 재료역학, 2판, 한티미디어, 2013.<br>Ref: Pytel, Kiusalaas, Sharma, Mechanics of Materials, 2nd Ed., Cengage Learning, 2013.\n",
    "\n"
   ]
  },
  {
   "cell_type": "markdown",
   "metadata": {},
   "source": [
    "`python` 기능을 확장해 주는 `module`을 불러 들임 (일부 기능만 사용될 수도 있음)<br>\n",
    "Bring in `module`'s that would expand features of `python`. (This file may use just some of them.)\n",
    "\n"
   ]
  },
  {
   "cell_type": "code",
   "execution_count": null,
   "metadata": {
    "collapsed": true
   },
   "outputs": [],
   "source": [
    "import numpy as np  # 배열, 행렬 관련 기능\n",
    "import numpy.linalg as na  # 선형대수 (벡터, 행렬) 관련 기능\n",
    "import matplotlib.pyplot as plt  # 그래프 관련 기능\n",
    "import scipy.integrate as si  # 적분 관련 기능\n",
    "import sympy as sy  # 기호 연산 기능\n",
    "import sympy.plotting as splot\n",
    "import IPython.display as disp  # 웹페이지 표시 기능\n",
    "sy.init_printing()  # 기호 연산 결과 표시 기능 준비\n",
    "\n"
   ]
  },
  {
   "cell_type": "markdown",
   "metadata": {},
   "source": [
    "## 05.002 굽힘 응력\n",
    "\n"
   ]
  },
  {
   "cell_type": "markdown",
   "metadata": {},
   "source": [
    "### a. 단순화 가정\n",
    "\n"
   ]
  },
  {
   "cell_type": "markdown",
   "metadata": {},
   "source": [
    "* 보는 $z$ 축 (길이 방향에 수직인 수평축) 에 수직인 평면 (길이방향과 수직방향을 포함) 에 대칭이다.\n",
    "* 하중은 대칭평면 안에 자리하며 $x$ 축에 수직이다.\n",
    "* 보의 축은 휘어지지만 길이가 변하지는 않는다.\n",
    "* 보의 축에 수직인 단면은 변형된 후에도 뒤틀리지 않고 평면을 유지하며 수직을 유지한다.\n",
    "* 보의 단면 치수는 무시할 수 있다.\n",
    "\n"
   ]
  },
  {
   "cell_type": "markdown",
   "metadata": {},
   "source": [
    "### b. 적합조건\n",
    "\n"
   ]
  },
  {
   "cell_type": "markdown",
   "metadata": {},
   "source": [
    "* 보의 중립면에 수직인 면은 굽힘 모멘트에 의해 변형하더라도 계속 수직을 유지한다는 가정을 생각하자. \n",
    "* 중립면 길이 $dx$인 미소 보 요소의 양 끝단의 단면도 굽힘 모멘트에 의해 회전할 것이다.\n",
    "* 양 단면을 연장하면 한 점 곡률 중심에서 만날 것이다.\n",
    "* 이 때 곡률 반경은 $\\rho$ 라고 하자.\n",
    "* 곡률 중심과 양 단면을 이은 두 선 사이의 각도를 $d\\theta$라고 하면, $dx$와 $d\\theta$ 사이에는 다음과 같은 관계가 성립할 것이다.\n",
    "$$dx = \\rho d\\theta$$\n",
    "\n"
   ]
  },
  {
   "cell_type": "markdown",
   "metadata": {},
   "source": [
    "* 굽힘 모멘트 하중이 가해지지 않은 길이 $dx$인 미소보요소의 중립면으로부터 $y$ 만큼 더 높은 위치에 중립면과 평행한 직선을 그린다고 생각해 보자.\n",
    "* 이 때 양 끝점을 각각 $a$, $b$ 라고 생각해 보자.\n",
    "* 굽힘모멘트를 가하면 이 직선도 원호의 일부와 같은 형태로 변형할 것이다. 이 때의 양 끝점을 $a'$, $b'$ 라고 하자.\n",
    "* 곡률 중심은 변형한 중립면의 곡률 중심과 같을 것이다.\n",
    "* 곡률 반경은 중립면의 곡률반경 $\\rho$ 에서 $y$를 뺀 값과 같을 것이다.\n",
    "* $a'$와 $b'$ 사이의 원호의 길이는 다음과 같이 될 것이다.\n",
    "$$L_{a'-b'} = (\\rho-y)d\\theta$$\n",
    "\n"
   ]
  },
  {
   "cell_type": "markdown",
   "metadata": {},
   "source": [
    "* 이 원호의 길이와 원래 길이를 비교하면 다음과 같다.\n",
    "$$\n",
    "\\begin{align}\n",
    "L_{a'-b'}-L_{a-b} &=[(\\rho-y)d\\theta] - [\\rho d\\theta] \\\\\n",
    "    &=\\rho d\\theta-yd\\theta - \\rho d\\theta \\\\\n",
    "    &=-yd\\theta\\\\\n",
    "\\end{align}\n",
    "$$\n",
    "\n"
   ]
  },
  {
   "cell_type": "markdown",
   "metadata": {},
   "source": [
    "* 법선 변형률은 다음과 같을 것이다.\n",
    "$$\n",
    "\\begin{align}\n",
    "\\epsilon=\\frac{L_{a'-b'}-L_{a-b}}{L_{a-b}} &=\\frac{-yd\\theta}{\\rho d\\theta} = -\\frac{y}{\\rho}\\\\\n",
    "\\end{align}\n",
    "$$\n",
    "\n"
   ]
  },
  {
   "cell_type": "markdown",
   "metadata": {},
   "source": [
    "* 법선 응력은 다음과 같을 것이다.\n",
    "$$\n",
    "\\sigma = E\\epsilon = -\\frac{Ey}{\\rho}\n",
    "$$\n",
    "\n"
   ]
  },
  {
   "cell_type": "markdown",
   "metadata": {},
   "source": [
    "* 중립축 위는 압축, 아래는 인장응력 상태일 것이다.\n",
    "* 중립축에서 멀어질 수록 응력의 절대값이 커 질 것이다.\n",
    "\n"
   ]
  },
  {
   "cell_type": "markdown",
   "metadata": {},
   "source": [
    "### c. 평형\n",
    "\n"
   ]
  },
  {
   "cell_type": "markdown",
   "metadata": {},
   "source": [
    "* 어떤 단면의 법선 응력이 일정하다면, 해당 단면의 인장력을 구하기 위해 면적을 곱한다.\n",
    "$$P = \\sigma A$$\n",
    "* 단면상의 위치에 따라 법선 응력이 달라진다면, 인장력을 구하기 위해 면적에 대해 응력을 적분한다.\n",
    "$$P = \\int_A \\sigma dA$$\n",
    "\n"
   ]
  },
  {
   "cell_type": "markdown",
   "metadata": {},
   "source": [
    "* 위에서 구한 $\\sigma$ 를 대입하면 다음과 같다.\n",
    "$$P = \\int_A -\\frac{E}{\\rho}y dA$$\n",
    "\n"
   ]
  },
  {
   "cell_type": "markdown",
   "metadata": {},
   "source": [
    "* 이 결과가 0이 아니면 단면이 움직이기 시작 할 것이나 중립면의 길이가 변하지 않는다는 가정에 의해 $P=0$ 이다. 따라서 곡률 반경 $\\rho$가 유한하다면\n",
    "$$\n",
    "P = -\\frac{E}{\\rho}\\int_A y dA=0\\\\\n",
    "\\int_A y dA=0\\\\\n",
    "$$\n",
    "* 이 결과로 부터 중립면의 $y$ 위치가 도심에 있음을 알 수 있다.\n",
    "\n"
   ]
  },
  {
   "cell_type": "markdown",
   "metadata": {},
   "source": [
    "* 또한 법선 응력에 의한 중립축 중심 모멘트는 다음과 같다.\n",
    "$$\n",
    "\\begin{align}\n",
    "M &= -\\int_A \\sigma \\cdot y \\cdot dA\\\\\n",
    "& = \\frac{E}{\\rho} \\int_A y^2 dA\n",
    "\\end{align}\n",
    "$$\n",
    "* 중립축에 관한 관성 모멘트 $I$ 는 다음과 같다.\n",
    "$$\n",
    "I= \\int_A y^2 dA\n",
    "$$\n",
    "* 따라서 굽힘모멘트 $M$ 과 곡률반경 $\\rho$ 사이에 다음 관계가 성립한다.\n",
    "$$\n",
    "\\begin{align}\n",
    "M &= \\frac{EI}{\\rho} \\\\\n",
    "\\frac{1}{\\rho} &= \\frac{M}{EI}\n",
    "\\end{align}\n",
    "$$\n",
    "* 인장 하중에 의한 변형 (p. 41 eq. 2.6)\n",
    "$$\n",
    "\\delta = \\frac{PL}{EA}\n",
    "$$\n",
    "* 비틀림 하중에 의한 변형 (p. 91 ep. 3.4b)\n",
    "$$\n",
    "\\theta = \\frac{TL}{GJ}\n",
    "$$\n",
    "\n"
   ]
  },
  {
   "cell_type": "markdown",
   "metadata": {},
   "source": [
    "다음은 예제 5.1 의 내용으로 직사각 단면 내 응력 분포를 그래프로 표시해 본 것이다.\n",
    "\n"
   ]
  },
  {
   "cell_type": "code",
   "execution_count": null,
   "metadata": {
    "scrolled": true
   },
   "outputs": [],
   "source": [
    "h_m = 200e-3\n",
    "\n",
    "c_m = h_m * 0.5\n",
    "\n",
    "y_m_array = np.linspace(-c_m, c_m, 6)\n",
    "zeros_array = np.zeros_like(y_m_array)\n",
    "\n",
    "sigma_max_Pa = 20000000.0\n",
    "\n",
    "slope = - sigma_max_Pa / c_m\n",
    "sigma_Pa_array = slope * y_m_array\n",
    "\n",
    "plt.clf()\n",
    "plt.grid(True)\n",
    "plt.plot(zeros_array, y_m_array)\n",
    "plt.plot(sigma_Pa_array, y_m_array)\n",
    "\n",
    "for sigma_Pa, y_m in zip(sigma_Pa_array, y_m_array):\n",
    "    plt.arrow(0.0, y_m,\n",
    "             sigma_Pa*0.9, 0.0, head_width=1e-2, head_length=abs(sigma_Pa*.1))\n",
    "\n",
    "plt.xlabel('$\\\\sigma$[Pa]')\n",
    "plt.ylabel('$y$[m]')\n",
    "plt.show()\n",
    "\n"
   ]
  },
  {
   "cell_type": "markdown",
   "metadata": {
    "collapsed": true
   },
   "source": [
    "* $y$ 축 방향으로 분포한 응력에 의해 시계 반대방향 모멘트가 발생하고 있고 인장응력의 면적과 압축응력의 면적이 같음을 알 수 있다.\n",
    "\n"
   ]
  },
  {
   "cell_type": "markdown",
   "metadata": {},
   "source": [
    "### d. 단면계수\n",
    "\n"
   ]
  },
  {
   "cell_type": "markdown",
   "metadata": {},
   "source": [
    "* 법선 응력은 다음과 같이 될 것이다.\n",
    "$$\n",
    "\\sigma = E\\epsilon = -\\frac{Ey}{\\rho} = -Ey \\frac{M}{EI} = - \\frac{M}{I} y\n",
    "$$\n",
    "* 최대 크기의 응력이 발생하는 곳은 $|y|$ 값이 최대가 되는 지점이다.\n",
    "$$\n",
    "\\sigma_{max} = \\frac{|M_{max}|c}{I}\n",
    "$$\n",
    "* 때로 $S=\\frac{I}{c}$ 로 다음과 같이 표시한다.\n",
    "$$\n",
    "\\sigma_{max} = \\frac{|M_{max}|}{S}\n",
    "$$\n",
    "\n"
   ]
  },
  {
   "cell_type": "code",
   "execution_count": null,
   "metadata": {},
   "outputs": [],
   "source": []
  }
 ],
 "metadata": {
  "anaconda-cloud": {},
  "kernelspec": {
   "display_name": "Python 3",
   "language": "python",
   "name": "python3"
  },
  "language_info": {
   "codemirror_mode": {
    "name": "ipython",
    "version": 3
   },
   "file_extension": ".py",
   "mimetype": "text/x-python",
   "name": "python",
   "nbconvert_exporter": "python",
   "pygments_lexer": "ipython3",
   "version": "3.8.8"
  }
 },
 "nbformat": 4,
 "nbformat_minor": 2
}