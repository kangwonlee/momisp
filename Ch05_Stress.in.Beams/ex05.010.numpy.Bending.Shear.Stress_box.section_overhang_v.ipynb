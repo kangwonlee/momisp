{
 "cells": [
  {
   "cell_type": "markdown",
   "metadata": {
    "id": "view-in-github",
    "colab_type": "text"
   },
   "source": [
    "<a href=\"https://colab.research.google.com/github/kangwonlee/momisp/blob/main/Ch05_Stress.in.Beams/ex05.010.numpy.Bending.Shear.Stress_box.section_overhang_v.ipynb\" target=\"_parent\"><img src=\"https://colab.research.google.com/assets/colab-badge.svg\" alt=\"Open In Colab\"/></a>\n"
   ]
  },
  {
   "cell_type": "markdown",
   "metadata": {},
   "source": [
    "참고문헌 : Pytel 외 저, 이주성 외 역, 재료역학, 2판, 한티미디어, 2013.<br>Ref: Pytel, Kiusalaas, Sharma, Mechanics of Materials, 2nd Ed., Cengage Learning, 2013.\n",
    "\n"
   ]
  },
  {
   "cell_type": "markdown",
   "metadata": {},
   "source": [
    "`python` 기능을 확장해 주는 `module`을 불러 들임 (일부 기능만 사용될 수도 있음)<br>\n",
    "Bring in `module`'s that would expand features of `python`. (This file may use just some of them.)\n",
    "\n"
   ]
  },
  {
   "cell_type": "code",
   "execution_count": null,
   "metadata": {},
   "outputs": [],
   "source": [
    "import numpy as np  # 배열, 행렬 관련 기능\n",
    "import numpy.linalg as na  # 선형대수 (벡터, 행렬) 관련 기능\n",
    "import matplotlib.pyplot as plt  # 그래프 관련 기능\n",
    "import scipy.integrate as si  # 적분 관련 기능\n",
    "import sympy as sy  # 기호 연산 기능\n",
    "import IPython.display as disp  # 웹페이지 표시 기능\n",
    "sy.init_printing()  # 기호 연산 결과 표시 기능 준비\n",
    "\n"
   ]
  },
  {
   "cell_type": "markdown",
   "metadata": {},
   "source": [
    "# 예제 05.010<br>Example 05.010\n",
    "\n"
   ]
  },
  {
   "cell_type": "markdown",
   "metadata": {},
   "source": [
    "## 문제에서 주어진 값<br>Given Values\n",
    "\n"
   ]
  },
  {
   "cell_type": "markdown",
   "metadata": {},
   "source": [
    "### 길이<br>Lengths\n",
    "\n"
   ]
  },
  {
   "cell_type": "code",
   "execution_count": null,
   "metadata": {},
   "outputs": [],
   "source": [
    "L_AB_m = 5\n",
    "L_AD_m = 10\n",
    "L_DE_m = 5\n",
    "\n",
    "L_BD_m = L_AD_m - L_AB_m\n",
    "L_AE_m = L_AD_m + L_DE_m\n",
    "\n"
   ]
  },
  {
   "cell_type": "markdown",
   "metadata": {},
   "source": [
    "### x 좌표<br>x coordinates\n",
    "\n"
   ]
  },
  {
   "cell_type": "markdown",
   "metadata": {},
   "source": [
    "A 점에서 $x=0$ 으로 한다.<br>$x = 0$ at A.\n",
    "\n"
   ]
  },
  {
   "cell_type": "code",
   "execution_count": null,
   "metadata": {},
   "outputs": [],
   "source": [
    "x_A_m = 0\n",
    "x_B_m = x_A_m + L_AB_m\n",
    "x_D_m = x_B_m + L_BD_m\n",
    "x_E_m = x_D_m + L_DE_m\n",
    "\n"
   ]
  },
  {
   "cell_type": "markdown",
   "metadata": {},
   "source": [
    "### 하중<br>Load\n",
    "\n"
   ]
  },
  {
   "cell_type": "code",
   "execution_count": null,
   "metadata": {},
   "outputs": [],
   "source": [
    "P_N = 1\n",
    "\n",
    "P_B_N = -2 * P_N\n",
    "P_E_N = -1 * P_N\n",
    "\n"
   ]
  },
  {
   "cell_type": "markdown",
   "metadata": {},
   "source": [
    "### 반력<br>Reaction Force\n",
    "\n"
   ]
  },
  {
   "cell_type": "code",
   "execution_count": null,
   "metadata": {},
   "outputs": [],
   "source": [
    "R_A_N = 0.5 * P_N\n",
    "R_D_N = 2.5 * P_N\n",
    "\n"
   ]
  },
  {
   "cell_type": "markdown",
   "metadata": {},
   "source": [
    "### 단면<br>Section\n",
    "\n"
   ]
  },
  {
   "cell_type": "markdown",
   "metadata": {},
   "source": [
    "폭 $b$, 높이 $h$, 판 두께 $t$ 는 다음과 같다.<br>Width $b$, height $h$, plate thickness $t$ are as follows.\n",
    "\n"
   ]
  },
  {
   "cell_type": "code",
   "execution_count": null,
   "metadata": {},
   "outputs": [],
   "source": [
    "b_m = 240e-3\n",
    "h_m = 300e-3\n",
    "t_m = 30e-3\n",
    "\n"
   ]
  },
  {
   "cell_type": "markdown",
   "metadata": {},
   "source": [
    "최대 굽힘응력 발생 위치는 전체 단면 높이의 절반이다.<br>Maximum bending stress occurs at the half of the height\n",
    "\n"
   ]
  },
  {
   "cell_type": "code",
   "execution_count": null,
   "metadata": {},
   "outputs": [],
   "source": [
    "c_m = h_m / 2\n",
    "\n"
   ]
  },
  {
   "cell_type": "markdown",
   "metadata": {},
   "source": [
    "속이 비어 있는 단면이므로 바깥 단면의 $I$를 구하고 빈 단면의 $I$를 빼 준다.<br>Because the section is hallow, subtract the I of the empty inside.\n",
    "\n"
   ]
  },
  {
   "cell_type": "code",
   "execution_count": null,
   "metadata": {},
   "outputs": [],
   "source": [
    "I_m4 = b_m * h_m**3 / 12 - ((b_m - 2 * t_m) * (h_m - 2 * t_m)**3 / 12)\n",
    "\n"
   ]
  },
  {
   "cell_type": "markdown",
   "metadata": {},
   "source": [
    "### 재료<br>Material Properties\n",
    "\n"
   ]
  },
  {
   "cell_type": "code",
   "execution_count": null,
   "metadata": {},
   "outputs": [],
   "source": [
    "sigma_w_Pa = 6e6\n",
    "tau_w_Pa = 0.6e6\n",
    "\n"
   ]
  },
  {
   "cell_type": "markdown",
   "metadata": {},
   "source": [
    "## 최대 굽힘 응력<br>Max Bending Stress\n",
    "\n"
   ]
  },
  {
   "cell_type": "markdown",
   "metadata": {},
   "source": [
    "최대 굽힘 모멘트가 발생하는 위치는 BMD 를 그려 보면 알 수 있다.<br>Using BMD, one can find where the maximum bending stress occurs.\n",
    "\n"
   ]
  },
  {
   "cell_type": "markdown",
   "metadata": {},
   "source": [
    "### 표시 방법 선택<br>Print options\n",
    "\n"
   ]
  },
  {
   "cell_type": "markdown",
   "metadata": {},
   "source": [
    "아래와 같이 긴 `numpy.ndarray` 표시 방법을 정할 수 있다.<br>One can set how to indicate a long `numpy.ndarray` as below.\n",
    "\n"
   ]
  },
  {
   "cell_type": "code",
   "execution_count": null,
   "metadata": {},
   "outputs": [],
   "source": [
    "# PaulMag et. al, Print the full numpy array, StackOverflow, 2014 Sep. 24, https://stackoverflow.com/questions/1987694/print-the-full-numpy-array\n",
    "np.set_printoptions(threshold=10)\n",
    "\n"
   ]
  },
  {
   "cell_type": "markdown",
   "metadata": {},
   "source": [
    "### x 좌표 배열<br>x coordinate array\n",
    "\n"
   ]
  },
  {
   "cell_type": "markdown",
   "metadata": {},
   "source": [
    "A~E 구간의 x 좌표 배열을 다음과 같이 준비해 둔다.<br>Prepare an array of x coordinates between A and E.\n",
    "\n"
   ]
  },
  {
   "cell_type": "code",
   "execution_count": null,
   "metadata": {},
   "outputs": [],
   "source": [
    "delta_x_m = 0.01\n",
    "x_m_array = np.arange(x_A_m, x_E_m + 0.5 * delta_x_m, delta_x_m)\n",
    "x_m_array\n",
    "\n"
   ]
  },
  {
   "cell_type": "markdown",
   "metadata": {},
   "source": [
    "### 전단력선도<br>Shear Force Diagram\n",
    "\n"
   ]
  },
  {
   "cell_type": "markdown",
   "metadata": {},
   "source": [
    "x' 지점에 위치하는 집중하중 $P$의 전단력선도는 x 좌표값이 x' 보다 작을 때는 0 이었다가 x'보다 커지면 $P$가 된다.<br>The Shear Force Diagram of a concentrated load $P$ at $x'$ is 0 when $x$ is smaller than $x'$ and P when $x$ is larger than $x'$.\n",
    "\n"
   ]
  },
  {
   "cell_type": "markdown",
   "metadata": {},
   "source": [
    "A 지점에서의 반력<br>Reaction force at A.\n",
    "\n"
   ]
  },
  {
   "cell_type": "code",
   "execution_count": null,
   "metadata": {},
   "outputs": [],
   "source": [
    "ones_array = np.ones_like(x_m_array)\n",
    "ones_array[x_m_array < x_A_m] = 0.0\n",
    "R_A_N_array = R_A_N * ones_array\n",
    "\n"
   ]
  },
  {
   "cell_type": "markdown",
   "metadata": {},
   "source": [
    "B 지점에서의 하중<br>Load at B.\n",
    "\n"
   ]
  },
  {
   "cell_type": "code",
   "execution_count": null,
   "metadata": {},
   "outputs": [],
   "source": [
    "ones_array = np.ones_like(x_m_array)\n",
    "ones_array[x_m_array < x_B_m] = 0.0\n",
    "P_B_N_array = P_B_N * ones_array\n",
    "\n"
   ]
  },
  {
   "cell_type": "markdown",
   "metadata": {},
   "source": [
    "D 지점에서의 반력<br>Reaction force at D.\n",
    "\n"
   ]
  },
  {
   "cell_type": "code",
   "execution_count": null,
   "metadata": {},
   "outputs": [],
   "source": [
    "ones_array = np.ones_like(x_m_array)\n",
    "ones_array[x_m_array < x_D_m] = 0.0\n",
    "R_D_N_array = R_D_N * ones_array\n",
    "\n"
   ]
  },
  {
   "cell_type": "markdown",
   "metadata": {},
   "source": [
    "E 지점에서의 하중<br>Load at E.\n",
    "\n"
   ]
  },
  {
   "cell_type": "code",
   "execution_count": null,
   "metadata": {},
   "outputs": [],
   "source": [
    "ones_array = np.ones_like(x_m_array)\n",
    "ones_array[x_m_array < x_E_m] = 0.0\n",
    "P_E_N_array = P_E_N * ones_array\n",
    "\n"
   ]
  },
  {
   "cell_type": "markdown",
   "metadata": {},
   "source": [
    "모두 합하면 다음과 같다.\n",
    "\n"
   ]
  },
  {
   "cell_type": "code",
   "execution_count": null,
   "metadata": {},
   "outputs": [],
   "source": [
    "V_N_array = R_A_N_array + P_B_N_array + R_D_N_array + P_E_N_array\n",
    "V_N_array\n",
    "\n"
   ]
  },
  {
   "cell_type": "code",
   "execution_count": null,
   "metadata": {
    "scrolled": false
   },
   "outputs": [],
   "source": [
    "plt.fill_between(x_m_array, V_N_array)\n",
    "plt.ylabel('V(N)/P(N)')\n",
    "\n",
    "# A 지점에서의 반력을 화살표로 표시한다.\n",
    "# Indicate reaction force at A using an arrow.\n",
    "ax = plt.gca()\n",
    "ax.arrow(x_A_m, 0, \n",
    "         0, R_A_N * 0.9, \n",
    "         head_width=0.05, head_length=0.1 * abs(R_A_N), fc='k', ec='k')\n",
    "\n",
    "plt.text(x_A_m, 0, 'A')\n",
    "plt.text(x_B_m, 0, 'B')\n",
    "plt.text(x_D_m, 0, 'D')\n",
    "plt.text(x_E_m, 0, 'E')\n",
    "plt.xlabel('x(m)')\n",
    "plt.grid(True)\n",
    "plt.show()\n",
    "\n"
   ]
  },
  {
   "cell_type": "markdown",
   "metadata": {},
   "source": [
    "### 굽힘모멘트 선도<br>Bending Moment Diagram\n",
    "\n"
   ]
  },
  {
   "cell_type": "markdown",
   "metadata": {},
   "source": [
    "A 지점에서의 반력<br>Reaction force at A.\n",
    "\n"
   ]
  },
  {
   "cell_type": "code",
   "execution_count": null,
   "metadata": {},
   "outputs": [],
   "source": [
    "arm_m_array = x_m_array - x_A_m\n",
    "arm_m_array[arm_m_array < 0] = 0.0\n",
    "M_R_A_Nn_array = R_A_N * arm_m_array\n",
    "\n"
   ]
  },
  {
   "cell_type": "markdown",
   "metadata": {},
   "source": [
    "B 지점에서의 하중<br>Load at B.\n",
    "\n"
   ]
  },
  {
   "cell_type": "code",
   "execution_count": null,
   "metadata": {},
   "outputs": [],
   "source": [
    "arm_m_array = x_m_array - x_B_m\n",
    "arm_m_array[arm_m_array < 0] = 0.0\n",
    "M_P_B_Nm_array = P_B_N * arm_m_array\n",
    "\n"
   ]
  },
  {
   "cell_type": "markdown",
   "metadata": {},
   "source": [
    "D 지점에서의 반력<br>Reaction force at D.\n",
    "\n"
   ]
  },
  {
   "cell_type": "code",
   "execution_count": null,
   "metadata": {},
   "outputs": [],
   "source": [
    "arm_m_array = x_m_array - x_D_m\n",
    "arm_m_array[arm_m_array < 0] = 0.0\n",
    "M_R_D_Nm_array = R_D_N * arm_m_array\n",
    "\n"
   ]
  },
  {
   "cell_type": "markdown",
   "metadata": {},
   "source": [
    "E 지점에서의 하중<br>Load at E.\n",
    "\n"
   ]
  },
  {
   "cell_type": "code",
   "execution_count": null,
   "metadata": {},
   "outputs": [],
   "source": [
    "arm_m_array = x_m_array - x_E_m\n",
    "arm_m_array[arm_m_array < 0] = 0.0\n",
    "M_P_E_Nm_array = P_E_N * arm_m_array\n",
    "\n"
   ]
  },
  {
   "cell_type": "markdown",
   "metadata": {},
   "source": [
    "모두 합하면 다음과 같다.\n",
    "\n"
   ]
  },
  {
   "cell_type": "code",
   "execution_count": null,
   "metadata": {},
   "outputs": [],
   "source": [
    "M_Nm_array = M_R_A_Nn_array + M_P_B_Nm_array + M_R_D_Nm_array + M_P_E_Nm_array\n",
    "V_N_array\n",
    "\n"
   ]
  },
  {
   "cell_type": "code",
   "execution_count": null,
   "metadata": {},
   "outputs": [],
   "source": [
    "plt.fill_between(x_m_array, M_Nm_array)\n",
    "plt.ylabel('M(Nm)/P(N)')\n",
    "\n",
    "plt.text(x_A_m, 0, 'A')\n",
    "plt.text(x_B_m, 0, 'B')\n",
    "plt.text(x_D_m, 0, 'D')\n",
    "plt.text(x_E_m, 0, 'E')\n",
    "plt.xlabel('x(m)')\n",
    "plt.grid(True)\n",
    "plt.show()\n",
    "\n"
   ]
  },
  {
   "cell_type": "markdown",
   "metadata": {},
   "source": [
    "### 최대 굽힘 모멘트<br>Maximum Bending Moment\n",
    "\n"
   ]
  },
  {
   "cell_type": "code",
   "execution_count": null,
   "metadata": {},
   "outputs": [],
   "source": [
    "max_bending_moment_Nm = max(abs(M_Nm_array))\n",
    "max_bending_moment_Nm\n",
    "\n"
   ]
  },
  {
   "cell_type": "markdown",
   "metadata": {},
   "source": [
    "최대 법선응력 $\\sigma_{max}$[Pa] 를 $P$[N] 로 나눈 값은 다음과 같다.<br>Following is the maximum normal stress $\\sigma_{max}$[Pa] divide by $P$[N].\n",
    "\n"
   ]
  },
  {
   "cell_type": "code",
   "execution_count": null,
   "metadata": {
    "scrolled": true
   },
   "outputs": [],
   "source": [
    "sigma_max_P_N_Pa = max_bending_moment_Nm * c_m / I_m4 \n",
    "sigma_max_P_N_Pa\n",
    "\n"
   ]
  },
  {
   "cell_type": "markdown",
   "metadata": {},
   "source": [
    "위 값으로 허용 응력을 나누면 다음과 같다.\n",
    "\n"
   ]
  },
  {
   "cell_type": "code",
   "execution_count": null,
   "metadata": {},
   "outputs": [],
   "source": [
    "sigma_w_Pa / sigma_max_P_N_Pa\n",
    "\n"
   ]
  },
  {
   "cell_type": "markdown",
   "metadata": {},
   "source": [
    "#### 굽힘 법선응력의 분포<br>Distribution of bending normal stress.\n",
    "\n"
   ]
  },
  {
   "cell_type": "markdown",
   "metadata": {},
   "source": [
    "y 좌표 배열<br>y coordinate array\n",
    "\n"
   ]
  },
  {
   "cell_type": "code",
   "execution_count": null,
   "metadata": {},
   "outputs": [],
   "source": [
    "y_m_array = np.linspace(-h_m*0.5, h_m*0.5, 51)\n",
    "\n"
   ]
  },
  {
   "cell_type": "markdown",
   "metadata": {},
   "source": [
    "x y 좌표 격자<br>x y coordinate grids\n",
    "\n"
   ]
  },
  {
   "cell_type": "code",
   "execution_count": null,
   "metadata": {},
   "outputs": [],
   "source": [
    "y_m_grid, x_m_grid = np.meshgrid(y_m_array, x_m_array)\n",
    "\n"
   ]
  },
  {
   "cell_type": "markdown",
   "metadata": {},
   "source": [
    "격자의 행 수와 열 수는 각각 다음과 같다.<br>The numbers of rows and columns of the grid are as follows.\n",
    "\n"
   ]
  },
  {
   "cell_type": "code",
   "execution_count": null,
   "metadata": {},
   "outputs": [],
   "source": [
    "x_m_grid.shape\n",
    "\n"
   ]
  },
  {
   "cell_type": "markdown",
   "metadata": {},
   "source": [
    "각 격자의 굽힘 응력값을 계산하기 위해 굽힘모멘트 값의 격자도 준비한다.<br>To calculate the grid of the bending stress, prepare for the grid of the bending moment.\n",
    "\n"
   ]
  },
  {
   "cell_type": "code",
   "execution_count": null,
   "metadata": {},
   "outputs": [],
   "source": [
    "y_m_grid, M_Nm_grid = np.meshgrid(y_m_array, M_Nm_array)\n",
    "\n"
   ]
  },
  {
   "cell_type": "markdown",
   "metadata": {},
   "source": [
    "굽힘응력의 분포를 계산한다.<br>Calculate the distribution of the bending stress.\n",
    "\n"
   ]
  },
  {
   "cell_type": "code",
   "execution_count": null,
   "metadata": {},
   "outputs": [],
   "source": [
    "sigma_Pa_grid = M_Nm_grid * y_m_grid / (- I_m4)\n",
    "\n"
   ]
  },
  {
   "cell_type": "markdown",
   "metadata": {},
   "source": [
    "굽힘응력의 분포를 표시한다. 빨간색은 인장, 파란색은 압축 응력 상태를 표시한다.<br>Present the distribution fo the bending stress. Red and blue indicate tensile and compressive stresses respectively.\n",
    "\n"
   ]
  },
  {
   "cell_type": "code",
   "execution_count": null,
   "metadata": {},
   "outputs": [],
   "source": [
    "plt.pcolor(x_m_grid, y_m_grid, sigma_Pa_grid, shading=\"auto\", cmap='jet')\n",
    "plt.xlabel('x(m)')\n",
    "plt.ylabel('y(m)')\n",
    "plt.colorbar()\n",
    "plt.show()\n",
    "\n"
   ]
  },
  {
   "cell_type": "markdown",
   "metadata": {
    "collapsed": true
   },
   "source": [
    "## 최대 전단응력<br>Maximum Shear Stress\n",
    "\n"
   ]
  },
  {
   "cell_type": "markdown",
   "metadata": {},
   "source": [
    "전단력 $V$ 에 의한 전단응력 $\\tau$ 은 p. 199 eq. 5.8 로 부터 다음과 같다.<br>From eq 5.8, shear stress $\\tau$ by shear force $V$ is as follows.\n",
    "\n"
   ]
  },
  {
   "cell_type": "markdown",
   "metadata": {},
   "source": [
    "$$\\tau=\\frac{VQ}{Ib}$$\n",
    "\n"
   ]
  },
  {
   "cell_type": "markdown",
   "metadata": {},
   "source": [
    "여기서 $Q$ 는 p. 197 eq. 5.7b 로 부터 다음과 같다.<br>Here, $Q$ is as follows from eq. 5.7b.\n",
    "\n"
   ]
  },
  {
   "cell_type": "markdown",
   "metadata": {},
   "source": [
    "$$Q = A' \\overline{y'}$$\n",
    "\n"
   ]
  },
  {
   "cell_type": "markdown",
   "metadata": {},
   "source": [
    "최대 전단응력은 전단력이 최대인 지점의 중립면에서 발생할 것이다.<br>Maximum shear stress would occur at the neutral axis under maximum shear force.\n",
    "\n"
   ]
  },
  {
   "cell_type": "markdown",
   "metadata": {},
   "source": [
    "윗 판의 단면적과 도심~중립면 거리는 다음과 같다.<br>Top plate's area and distance from centroid to neutral axis is as follows.\n",
    "\n"
   ]
  },
  {
   "cell_type": "code",
   "execution_count": null,
   "metadata": {},
   "outputs": [],
   "source": [
    "A_top_m2 = b_m * t_m\n",
    "\n"
   ]
  },
  {
   "cell_type": "code",
   "execution_count": null,
   "metadata": {},
   "outputs": [],
   "source": [
    "y_bar_top_m = h_m * 0.5 - t_m * 0.5\n",
    "\n"
   ]
  },
  {
   "cell_type": "code",
   "execution_count": null,
   "metadata": {},
   "outputs": [],
   "source": [
    "Q_top_m3 = A_top_m2 * y_bar_top_m\n",
    "\n"
   ]
  },
  {
   "cell_type": "markdown",
   "metadata": {},
   "source": [
    "옆 판의 단면적과 도심~중립면 거리는 다음과 같다.<br>Side plate's area and distance from centroid to neutral axis is as follows.\n",
    "\n"
   ]
  },
  {
   "cell_type": "code",
   "execution_count": null,
   "metadata": {},
   "outputs": [],
   "source": [
    "A_side_m2 = (h_m - 2 * t_m) * 0.5 * t_m\n",
    "\n"
   ]
  },
  {
   "cell_type": "code",
   "execution_count": null,
   "metadata": {},
   "outputs": [],
   "source": [
    "y_bar_side_m = (h_m - 2 * t_m) * 0.5*0.5\n",
    "\n"
   ]
  },
  {
   "cell_type": "code",
   "execution_count": null,
   "metadata": {},
   "outputs": [],
   "source": [
    "Q_side_m3 = A_side_m2 * y_bar_side_m\n",
    "\n"
   ]
  },
  {
   "cell_type": "markdown",
   "metadata": {},
   "source": [
    "단면 전체의 Q는 다음과 같다. (옆판은 2개 있다)<br>Total Q is as follows. (Note that there are two side plates)\n",
    "\n"
   ]
  },
  {
   "cell_type": "code",
   "execution_count": null,
   "metadata": {},
   "outputs": [],
   "source": [
    "Q_m3 = Q_top_m3 + 2 * Q_side_m3\n",
    "\n"
   ]
  },
  {
   "cell_type": "markdown",
   "metadata": {},
   "source": [
    "최대 전단응력 $\\tau_{max}$[Pa] 를 $P$[N] 로 나눈 값은 다음과 같다.<br>Following is the maximum shear stress $\\tau_{max}$[Pa] divide by $P$[N].\n",
    "\n"
   ]
  },
  {
   "cell_type": "code",
   "execution_count": null,
   "metadata": {},
   "outputs": [],
   "source": [
    "tau_max_P_N_Pa = 1.5 * Q_m3 / (I_m4 * (2*t_m))\n",
    "tau_max_P_N_Pa\n",
    "\n"
   ]
  },
  {
   "cell_type": "markdown",
   "metadata": {},
   "source": [
    "위 값으로 허용 전단응력을 나누면 다음과 같다.<br>Dividing allowable shear stress by value above gives follows.\n",
    "\n"
   ]
  },
  {
   "cell_type": "code",
   "execution_count": null,
   "metadata": {},
   "outputs": [],
   "source": [
    "tau_w_Pa / tau_max_P_N_Pa\n",
    "\n"
   ]
  },
  {
   "cell_type": "code",
   "execution_count": null,
   "metadata": {},
   "outputs": [],
   "source": []
  }
 ],
 "metadata": {
  "anaconda-cloud": {},
  "kernelspec": {
   "display_name": "Python 3",
   "language": "python",
   "name": "python3"
  },
  "language_info": {
   "codemirror_mode": {
    "name": "ipython",
    "version": 3
   },
   "file_extension": ".py",
   "mimetype": "text/x-python",
   "name": "python",
   "nbconvert_exporter": "python",
   "pygments_lexer": "ipython3",
   "version": "3.8.8"
  }
 },
 "nbformat": 4,
 "nbformat_minor": 1
}