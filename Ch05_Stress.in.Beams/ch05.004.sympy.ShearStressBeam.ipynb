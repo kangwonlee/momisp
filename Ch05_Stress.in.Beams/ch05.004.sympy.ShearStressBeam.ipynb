{
 "cells": [
  {
   "cell_type": "markdown",
   "metadata": {
    "id": "view-in-github",
    "colab_type": "text"
   },
   "source": [
    "<a href=\"https://colab.research.google.com/github/kangwonlee/momisp/blob/dependabot/pip/tests/scikit-learn-1.5.0/Ch05_Stress.in.Beams/ch05.004.sympy.ShearStressBeam.ipynb\" target=\"_parent\"><img src=\"https://colab.research.google.com/assets/colab-badge.svg\" alt=\"Open In Colab\"/></a>\n"
   ]
  },
  {
   "cell_type": "markdown",
   "metadata": {},
   "source": [
    "참고문헌 : Pytel 외 저, 이주성 외 역, 재료역학, 2판, 한티미디어, 2013.<br>Ref: Pytel, Kiusalaas, Sharma, Mechanics of Materials, 2nd Ed., Cengage Learning, 2013.\n",
    "\n"
   ]
  },
  {
   "cell_type": "markdown",
   "metadata": {},
   "source": [
    "`python` 기능을 확장해 주는 `module`을 불러 들임 (일부 기능만 사용될 수도 있음)<br>\n",
    "Bring in `module`'s that would expand features of `python`. (This file may use just some of them.)\n",
    "\n"
   ]
  },
  {
   "cell_type": "code",
   "execution_count": null,
   "metadata": {
    "collapsed": true
   },
   "outputs": [],
   "source": [
    "import numpy as np  # 배열, 행렬 관련 기능\n",
    "import numpy.linalg as na  # 선형대수 (벡터, 행렬) 관련 기능\n",
    "import matplotlib.pyplot as plt  # 그래프 관련 기능\n",
    "import scipy.integrate as si  # 적분 관련 기능\n",
    "import sympy as sy  # 기호 연산 기능\n",
    "import sympy.plotting as splot\n",
    "import IPython.display as disp  # 웹페이지 표시 기능\n",
    "sy.init_printing()  # 기호 연산 결과 표시 기능 준비\n",
    "\n"
   ]
  },
  {
   "cell_type": "markdown",
   "metadata": {},
   "source": [
    "## 05.004 보에서의 전단응력\n",
    "\n"
   ]
  },
  {
   "cell_type": "markdown",
   "metadata": {},
   "source": [
    "### a. 해석\n",
    "\n"
   ]
  },
  {
   "cell_type": "markdown",
   "metadata": {},
   "source": [
    "* 보의 $x$ 축에 수직인 단면 $A$ 를 생각해 보자.\n",
    "* y 축에 수직인 평면으로 $A$ 를 둘로 나눌 수 있다.\n",
    "* 그 중 위쪽을 $A'$라고 하자.\n",
    "* $A'$에 $x$ 방향으로 가해지는 힘을 생각해 보자.\n",
    "$$\n",
    "P = \\int_{A'} dP = \\int_{A'} \\sigma dA\n",
    "$$\n",
    "* 굽힘 응력 $\\sigma$ 는 중립면으로부터의 거리 $y$에 따라 변한다. (p.170 eq. 5.3)\n",
    "$$\n",
    "\\sigma = - \\frac{M}{I} y\n",
    "$$\n",
    "* 힘 $P$를 구하기 위한 적분에 반영하면 다음과 같다. (p.197 eq. 5.6)\n",
    "$$\n",
    "P = \\int_{A'} - \\frac{M}{I} y dA = - \\frac{M}{I} \\int_{A'} y dA\n",
    "$$\n",
    "* 여기서 다음과 같이 $A'$의 중립축에 대한 1차 모멘트 $Q$를 정하자. (p.197 eq. 5.7a)\n",
    "$$\n",
    "Q = \\int_{A'} y dA\n",
    "$$\n",
    "* $Q$를 이용하면 $P$는 다음과 같이 표시된다.\n",
    "$$\n",
    "P = - \\frac{MQ}{I}\n",
    "$$\n",
    "\n"
   ]
  },
  {
   "cell_type": "markdown",
   "metadata": {},
   "source": [
    "* $y$를 면적 전체에 대해 적분하면 0이 된다. (p. 169 b)\n",
    "$$\n",
    "0 = \\int_{A} y dA\n",
    "$$\n",
    "\n"
   ]
  },
  {
   "cell_type": "markdown",
   "metadata": {},
   "source": [
    "#### $Q$ 값의 변화\n",
    "\n"
   ]
  },
  {
   "cell_type": "markdown",
   "metadata": {},
   "source": [
    "* $b \\times h$ 직사각형 단면의 경우 $A'$ 의 아랫변과 중립면까지의 거리 $y'$ 에 따른 Q 값의 변화를 알아 보자.\n",
    "\n"
   ]
  },
  {
   "cell_type": "code",
   "execution_count": null,
   "metadata": {
    "collapsed": false
   },
   "outputs": [],
   "source": [
    "b_m, h_m = sy.symbols('b[m], h[m]', positive=True)\n",
    "s_d = {b_m: 120e-3,\n",
    "      h_m: 200e-3}\n",
    "\n"
   ]
  },
  {
   "cell_type": "markdown",
   "metadata": {},
   "source": [
    "* 미소 면적을 다음과 같이 표시할 수 있다.\n",
    "$$\n",
    "dA = b \\cdot dy\n",
    "$$\n",
    "* $Q$에 대한 적분에 반영하자.\n",
    "$$\n",
    "\\begin{align}\n",
    "Q &= \\int_{A'} y dA = \\int_{y=y'}^{y=\\frac{h}{2}} y b \\cdot dy \\\\\n",
    "&= b \\int_{y=y'}^{y=\\frac{h}{2}} y \\cdot dy\n",
    "\\end{align}\n",
    "$$\n",
    "\n"
   ]
  },
  {
   "cell_type": "code",
   "execution_count": null,
   "metadata": {
    "collapsed": true,
    "scrolled": false
   },
   "outputs": [],
   "source": [
    "y_m, y_prime_m = sy.symbols('y[m], y_{prime}[m]', real=True)\n",
    "Q = b_m * sy.integrate(y_m, (y_m, y_prime_m, h_m / 2))\n",
    "Q\n",
    "\n"
   ]
  },
  {
   "cell_type": "markdown",
   "metadata": {},
   "source": [
    "예제 5.1 의 단면의 예를 들면 다음과 같이 될 것이다.\n",
    "\n"
   ]
  },
  {
   "cell_type": "code",
   "execution_count": null,
   "metadata": {
    "collapsed": true
   },
   "outputs": [],
   "source": [
    "Q.subs(s_d)\n",
    "\n"
   ]
  },
  {
   "cell_type": "markdown",
   "metadata": {},
   "source": [
    "선도로 표시하면 다음과 같이 될 것이다.\n",
    "\n"
   ]
  },
  {
   "cell_type": "code",
   "execution_count": null,
   "metadata": {
    "collapsed": true
   },
   "outputs": [],
   "source": [
    "splot.plot_parametric((Q.subs(s_d), y_prime_m), (y_prime_m, -h_m.subs(s_d)/2, h_m.subs(s_d)/2),\n",
    "          ylabel='$y\\'(m)$', xlabel='$Q(m^3)$')\n",
    "\n"
   ]
  },
  {
   "cell_type": "markdown",
   "metadata": {},
   "source": [
    "### b. 수평 전단 응력\n",
    "\n"
   ]
  },
  {
   "cell_type": "markdown",
   "metadata": {},
   "source": [
    "사용할 변수들을 미리 준비해 둔다.\n",
    "\n"
   ]
  },
  {
   "cell_type": "code",
   "execution_count": null,
   "metadata": {
    "collapsed": true
   },
   "outputs": [],
   "source": [
    "I, M, Q, V = sy.symbols('I, M, Q, V', real=True)\n",
    "\n"
   ]
  },
  {
   "cell_type": "code",
   "execution_count": null,
   "metadata": {
    "collapsed": true
   },
   "outputs": [],
   "source": [
    "dM, dF, dx = sy.symbols('dM, dF, dx', real=True)\n",
    "\n"
   ]
  },
  {
   "cell_type": "code",
   "execution_count": null,
   "metadata": {
    "collapsed": true
   },
   "outputs": [],
   "source": [
    "tau = sy.symbols('tau', real=True)\n",
    "\n"
   ]
  },
  {
   "cell_type": "markdown",
   "metadata": {},
   "source": [
    "* 보 내부의 수평면에 작용하는 전단응력을 생각해 보자.\n",
    "\n"
   ]
  },
  {
   "cell_type": "markdown",
   "metadata": {},
   "source": [
    "* 길이 $dx$ 인 미소 보 요소를 중립면으로부터 $y'$ 위에 있는 수평면으로 자르는 것을 생각해 보자.\n",
    "* 굽힘모멘트가 작용할 때, 윗쪽 부분에 $x$ 방향으로 걸리는 힘이 위에서 구한 $P$가 될 것이다.\n",
    "$$\n",
    "P = - \\frac{Q}{I}M\n",
    "$$\n",
    "\n"
   ]
  },
  {
   "cell_type": "code",
   "execution_count": null,
   "metadata": {
    "collapsed": true
   },
   "outputs": [],
   "source": [
    "P_left = -Q * M / I\n",
    "P_left\n",
    "\n"
   ]
  },
  {
   "cell_type": "markdown",
   "metadata": {},
   "source": [
    "* 미소 보 요소의 $x$ 지점에 걸리는 굽힘 모멘트가 $M$이라면, $x+dx$ 지점에 작용하는 모멘트는 $M+dM$이 될 것이다. 따라서 $x+dx$ 지점에 작용하는 힘 $P+dP$ 는 다음과 같을 것이다.\n",
    "$$\n",
    "P+dP = - \\frac{Q}{I}(M+dM)\\\\\n",
    "$$\n",
    "\n"
   ]
  },
  {
   "cell_type": "code",
   "execution_count": null,
   "metadata": {
    "collapsed": true
   },
   "outputs": [],
   "source": [
    "P_right = -(Q / I) * (M + dM)\n",
    "P_right\n",
    "\n"
   ]
  },
  {
   "cell_type": "markdown",
   "metadata": {},
   "source": [
    "* 힘 평형 방정식\n",
    "\n"
   ]
  },
  {
   "cell_type": "code",
   "execution_count": null,
   "metadata": {
    "collapsed": true
   },
   "outputs": [],
   "source": [
    "F_eq = sy.Eq(P_right - P_left+dF, 0)\n",
    "F_eq\n",
    "\n"
   ]
  },
  {
   "cell_type": "markdown",
   "metadata": {},
   "source": [
    "* 위 방정식으로 부터 dF 를 구한다.\n",
    "\n"
   ]
  },
  {
   "cell_type": "code",
   "execution_count": null,
   "metadata": {
    "collapsed": true,
    "scrolled": true
   },
   "outputs": [],
   "source": [
    "dF_sol_list = sy.solve(F_eq, dF)\n",
    "dF_sol_list\n",
    "\n"
   ]
  },
  {
   "cell_type": "markdown",
   "metadata": {},
   "source": [
    "* 전단응력 방정식\n",
    "\n"
   ]
  },
  {
   "cell_type": "code",
   "execution_count": null,
   "metadata": {
    "collapsed": true
   },
   "outputs": [],
   "source": [
    "tau_eq = sy.Eq(tau * b_m * dx,  dF_sol_list[0])\n",
    "tau_eq\n",
    "\n"
   ]
  },
  {
   "cell_type": "markdown",
   "metadata": {},
   "source": [
    "* 전단응력을 구하면 다음과 같다.\n",
    "\n"
   ]
  },
  {
   "cell_type": "code",
   "execution_count": null,
   "metadata": {
    "collapsed": true
   },
   "outputs": [],
   "source": [
    "tau_sol_list = sy.solve(tau_eq, tau)\n",
    "tau_sol_list\n",
    "\n"
   ]
  },
  {
   "cell_type": "markdown",
   "metadata": {
    "collapsed": true
   },
   "source": [
    "* $V=\\frac{dM}{dx}$ (p. 145 eq. 4.2) 임을 이용하면 eq. 5.8 (p. 199) 을 얻을 수 있다.\n",
    "\n"
   ]
  },
  {
   "cell_type": "code",
   "execution_count": null,
   "metadata": {
    "collapsed": true
   },
   "outputs": [],
   "source": [
    "tau_sol_list[0].xreplace({dM: V * dx})\n",
    "\n"
   ]
  },
  {
   "cell_type": "code",
   "execution_count": null,
   "metadata": {},
   "outputs": [],
   "source": []
  }
 ],
 "metadata": {
  "anaconda-cloud": {},
  "kernelspec": {
   "display_name": "Python 3",
   "language": "python",
   "name": "python3"
  },
  "language_info": {
   "codemirror_mode": {
    "name": "ipython",
    "version": 3
   },
   "file_extension": ".py",
   "mimetype": "text/x-python",
   "name": "python",
   "nbconvert_exporter": "python",
   "pygments_lexer": "ipython3",
   "version": "3.6.1"
  }
 },
 "nbformat": 4,
 "nbformat_minor": 2
}