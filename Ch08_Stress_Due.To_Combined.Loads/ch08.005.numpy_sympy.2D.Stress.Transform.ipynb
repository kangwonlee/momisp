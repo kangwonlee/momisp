{
 "cells": [
  {
   "cell_type": "markdown",
   "metadata": {
    "colab_type": "text",
    "id": "view-in-github"
   },
   "source": [
    "<a href=\"https://colab.research.google.com/github/kangwonlee/momisp/blob/main/Ch08_Stress_Due.To_Combined.Loads/ch08.005.numpy_sympy.2D.Stress.Transform.ipynb\" target=\"_parent\"><img src=\"https://colab.research.google.com/assets/colab-badge.svg\" alt=\"Open In Colab\"/></a>"
   ]
  },
  {
   "cell_type": "markdown",
   "metadata": {},
   "source": [
    "참고문헌 : Pytel 외 저, 이주성 외 역, 재료역학, 2판, 한티미디어, 2013.<br>Ref: Pytel, Kiusalaas, Sharma, Mechanics of Materials, 2nd Ed., Cengage Learning, 2013.\n",
    "\n"
   ]
  },
  {
   "cell_type": "markdown",
   "metadata": {},
   "source": [
    "`python` 기능을 확장해 주는 `module`을 불러 들임 (일부 기능만 사용될 수도 있음)<br>\n",
    "Bring in `module`'s that would expand features of `python`. (This file may use just some of them.)\n",
    "\n"
   ]
  },
  {
   "cell_type": "code",
   "execution_count": null,
   "metadata": {},
   "outputs": [],
   "source": [
    "import numpy as np  # 배열, 행렬 관련 기능\n",
    "import numpy.linalg as na  # 선형대수 (벡터, 행렬) 관련 기능\n",
    "import matplotlib.pyplot as plt  # 그래프 관련 기능\n",
    "import matplotlib.patches as patch # 도형 관련 기능\n",
    "import scipy.integrate as si  # 적분 관련 기능\n",
    "import sympy as sy  # 기호 연산 기능\n",
    "import sympy.plotting as splot\n",
    "import IPython.display as disp  # 웹페이지 표시 기능\n",
    "sy.init_printing()  # 기호 연산 결과 표시 기능 준비\n",
    "\n"
   ]
  },
  {
   "cell_type": "markdown",
   "metadata": {},
   "source": [
    "## 08.005 평면 응력의 변환<br>08.005 2D Stress Transform\n",
    "\n"
   ]
  },
  {
   "cell_type": "markdown",
   "metadata": {},
   "source": [
    "2차원 응력 상태를 바라보는 각도에 따라 좌표 변환<br>Coordinate transformation of 2D stress status\n",
    "\n"
   ]
  },
  {
   "cell_type": "markdown",
   "metadata": {},
   "source": [
    "p. 346\n",
    "\n"
   ]
  },
  {
   "cell_type": "markdown",
   "metadata": {},
   "source": [
    "### 2차원 응력 상태<br>2D stress status\n",
    "\n"
   ]
  },
  {
   "cell_type": "markdown",
   "metadata": {},
   "source": [
    "$$\n",
    "M=\\begin{bmatrix}\n",
    "\\sigma_x & \\tau_{xy} \\\\\n",
    "\\tau_{xy} & \\sigma_y \\\\\n",
    "\\end{bmatrix}\n",
    "$$\n",
    "\n"
   ]
  },
  {
   "cell_type": "code",
   "execution_count": null,
   "metadata": {},
   "outputs": [],
   "source": [
    "sigma_x_Pa, sigma_y_Pa, tau_xy_Pa = sy.symbols('sigma_{x}[Pa], sigma_{y}[Pa], tau_{xy}[Pa]', real=True)\n",
    "\n"
   ]
  },
  {
   "cell_type": "code",
   "execution_count": null,
   "metadata": {},
   "outputs": [],
   "source": [
    "mat_M = sy.Matrix([(sigma_x_Pa, tau_xy_Pa), \n",
    "                   (tau_xy_Pa, sigma_y_Pa)])\n",
    "\n"
   ]
  },
  {
   "cell_type": "code",
   "execution_count": null,
   "metadata": {},
   "outputs": [],
   "source": [
    "mat_M\n",
    "\n"
   ]
  },
  {
   "cell_type": "markdown",
   "metadata": {},
   "source": [
    "아래 값은 예제 8.4로 부터 가져온 것임<br>Following values are from example 8.4\n",
    "\n"
   ]
  },
  {
   "cell_type": "code",
   "execution_count": null,
   "metadata": {},
   "outputs": [],
   "source": [
    "s_d = {\n",
    "    sigma_x_Pa: 30e6,\n",
    "    sigma_y_Pa: 60e6,\n",
    "    tau_xy_Pa: 40e6,\n",
    "}\n",
    "\n"
   ]
  },
  {
   "cell_type": "markdown",
   "metadata": {},
   "source": [
    "응력 상태 표시 준비<br>Prepare for stress status plot\n",
    "\n"
   ]
  },
  {
   "cell_type": "code",
   "execution_count": null,
   "metadata": {},
   "outputs": [],
   "source": [
    "import os   # 운영체제 관련 기능 Operating Systems\n",
    "import sys  # 시스템 관련 기능 Systems\n",
    "# utils 폴더의 모듈을 import 할 수 있도록 준비\n",
    "# add utils folder to sys.path to import\n",
    "sys.path.append(os.path.abspath(os.path.join(os.pardir, 'utils')))\n",
    "# 선도 관련 기능 diagrams\n",
    "import draw_diagrams\n",
    "\n"
   ]
  },
  {
   "cell_type": "markdown",
   "metadata": {},
   "source": [
    "응력상태를 표시함<br>Draw stress status\n",
    "\n"
   ]
  },
  {
   "cell_type": "code",
   "execution_count": null,
   "metadata": {},
   "outputs": [],
   "source": [
    "draw_diagrams.draw_stress_2d(sigma_x_Pa.subs(s_d), \n",
    "                             sigma_y_Pa.subs(s_d), \n",
    "                             tau_xy_Pa.subs(s_d))\n",
    "plt.show()\n",
    "\n"
   ]
  },
  {
   "cell_type": "markdown",
   "metadata": {},
   "source": [
    "응력을 바라보는 각도가 달라지면 응력 상태가 다르게 관찰됨<br>If an engineer changes the angle of observation, the engineer can observe the stress differently.\n",
    "\n"
   ]
  },
  {
   "cell_type": "code",
   "execution_count": null,
   "metadata": {},
   "outputs": [],
   "source": [
    "s_d_30_deg = {\n",
    "    sigma_x_Pa: 72.1e6,\n",
    "    sigma_y_Pa: 17.9e6,\n",
    "    tau_xy_Pa: 33e6,\n",
    "}\n",
    "\n"
   ]
  },
  {
   "cell_type": "markdown",
   "metadata": {},
   "source": [
    "아래의 두 응력 상태는 단지 관찰되는 각도만 다른 것임<br>Following two stress status are the same but only different in which angle the engineer is observing\n",
    "\n"
   ]
  },
  {
   "cell_type": "code",
   "execution_count": null,
   "metadata": {},
   "outputs": [],
   "source": [
    "ax0 = plt.subplot(1, 2, 1)\n",
    "draw_diagrams.draw_stress_2d(sigma_x_Pa.subs(s_d), \n",
    "                             sigma_y_Pa.subs(s_d), \n",
    "                             tau_xy_Pa.subs(s_d), ax=ax0)\n",
    "ax30 = plt.subplot(1, 2, 2)\n",
    "draw_diagrams.draw_stress_2d(sigma_x_Pa.subs(s_d_30_deg), \n",
    "                             sigma_y_Pa.subs(s_d_30_deg), \n",
    "                             tau_xy_Pa.subs(s_d_30_deg),\n",
    "                             ax=ax30,\n",
    "                             angle_deg=30)\n",
    "plt.show()\n",
    "\n"
   ]
  },
  {
   "cell_type": "markdown",
   "metadata": {},
   "source": [
    "### 힘의 평형<br>Equilibrium of forces\n",
    "\n"
   ]
  },
  {
   "cell_type": "markdown",
   "metadata": {},
   "source": [
    "그림 8.10 c)에서 빗면의 면적이 $dA$ 라면 밑면의 면적 $A_b$ 와 옆면의 면적 $A_f$ 는 다음과 같음<br>From fig. 8.10 c), if the area of the hypotenuse is $dA$, the areas of base $A_b$ and face $A_f$ are as follows.\n",
    "\n"
   ]
  },
  {
   "cell_type": "markdown",
   "metadata": {},
   "source": [
    "$$\n",
    "A_b = dA sin \\theta \\\\\n",
    "A_f = dA cos \\theta\n",
    "$$\n",
    "\n"
   ]
  },
  {
   "cell_type": "markdown",
   "metadata": {},
   "source": [
    "그림 8.10 c)와 d) 에서 힘 평형 방정식은 다음과 같음<br>Equations of equilibrum for figures 8.10 c) and d) are as follows.\n",
    "\n"
   ]
  },
  {
   "cell_type": "markdown",
   "metadata": {},
   "source": [
    "$$\n",
    "\\begin{cases}\n",
    "\\sigma_{x'}dAcos\\theta = \\tau_{x'y'} dA sin\\theta + \\sigma_x A_f + \\tau_{xy} A_b \\\\\n",
    "\\sigma_{x'}dAsin\\theta + \\tau_{x'y'} dA cos\\theta = \\tau_{xy} A_f + \\sigma_y A_b\\\\\n",
    "\\end{cases}\n",
    "$$\n",
    "\n"
   ]
  },
  {
   "cell_type": "markdown",
   "metadata": {},
   "source": [
    "$$\n",
    "\\begin{cases}\n",
    "\\sigma_{x'}dAcos\\theta - \\tau_{x'y'} dA sin\\theta = \\sigma_x dAcos\\theta + \\tau_{xy}  dAsin\\theta \\\\\n",
    "\\sigma_{x'}dAsin\\theta + \\tau_{x'y'} dA cos\\theta = \\tau_{xy} dAcos\\theta + \\sigma_y dAsin\\theta \\\\\n",
    "\\end{cases}\n",
    "$$\n",
    "\n"
   ]
  },
  {
   "cell_type": "markdown",
   "metadata": {},
   "source": [
    "양변을 $dA$로 나눔<br>Divide both sides by $dA$\n",
    "\n"
   ]
  },
  {
   "cell_type": "markdown",
   "metadata": {},
   "source": [
    "$$\n",
    "\\begin{cases}\n",
    "\\sigma_{x'}cos\\theta - \\tau_{x'y'} sin\\theta = \\sigma_x cos\\theta + \\tau_{xy}  sin\\theta \\\\\n",
    "\\sigma_{x'}sin\\theta + \\tau_{x'y'} cos\\theta = \\tau_{xy} cos\\theta + \\sigma_y sin\\theta \\\\\n",
    "\\end{cases}\n",
    "$$\n",
    "\n"
   ]
  },
  {
   "cell_type": "markdown",
   "metadata": {},
   "source": [
    "#### 행렬 형태로 <br>In matrix form\n",
    "\n"
   ]
  },
  {
   "cell_type": "markdown",
   "metadata": {},
   "source": [
    "$$\n",
    "    \\begin{bmatrix}\n",
    "        cos\\theta & -sin\\theta \\\\\n",
    "        sin\\theta & cos\\theta\\\\\n",
    "    \\end{bmatrix}\n",
    "    \\begin{pmatrix}\n",
    "        \\sigma_{x'}\\\\\n",
    "        \\tau_{x'y'}\\\\\n",
    "    \\end{pmatrix}=\n",
    "    \\begin{bmatrix}\n",
    "        \\sigma_{x} & \\tau_{xy} \\\\\n",
    "        \\tau_{xy} & \\sigma_{y}\\\\\n",
    "    \\end{bmatrix}\n",
    "    \\begin{pmatrix}\n",
    "        cos\\theta\\\\\n",
    "        sin\\theta\\\\\n",
    "    \\end{pmatrix}\n",
    "$$\n",
    "\n"
   ]
  },
  {
   "cell_type": "markdown",
   "metadata": {},
   "source": [
    "회전 행렬의 역행렬<br>Inverse of the rotation matrix\n",
    "\n"
   ]
  },
  {
   "cell_type": "markdown",
   "metadata": {},
   "source": [
    "$$\n",
    "    \\begin{bmatrix}\n",
    "        cos\\theta & -sin\\theta \\\\\n",
    "        sin\\theta & cos\\theta\\\\\n",
    "    \\end{bmatrix} ^ {-1}\n",
    "=\n",
    "    \\begin{bmatrix}\n",
    "        cos(-\\theta) & -sin(-\\theta) \\\\\n",
    "        sin(-\\theta) & cos(-\\theta)\\\\\n",
    "    \\end{bmatrix}\n",
    "=\n",
    "    \\begin{bmatrix}\n",
    "        cos\\theta & sin\\theta \\\\\n",
    "        -sin\\theta & cos\\theta\\\\\n",
    "    \\end{bmatrix}\n",
    "$$\n",
    "\n"
   ]
  },
  {
   "cell_type": "markdown",
   "metadata": {},
   "source": [
    "회전행렬의 역행렬을 곱함<br>Multiply inverse of the rotation matrix\n",
    "\n"
   ]
  },
  {
   "cell_type": "markdown",
   "metadata": {},
   "source": [
    "$$\n",
    "\\begin{align}\n",
    "    \\begin{bmatrix}\n",
    "        cos\\theta & sin\\theta \\\\\n",
    "        -sin\\theta & cos\\theta\\\\\n",
    "    \\end{bmatrix}\n",
    "    \\begin{bmatrix}\n",
    "        cos\\theta & -sin\\theta \\\\\n",
    "        sin\\theta & cos\\theta\\\\\n",
    "    \\end{bmatrix}\n",
    "& =\n",
    "    \\begin{bmatrix}\n",
    "        cos^2\\theta + sin^2\\theta & - cos\\theta sin\\theta + sin\\theta cos\\theta \\\\\n",
    "        -sin\\theta cos\\theta + cos\\theta sin\\theta &  sin^2\\theta + cos^2\\theta \\\\\n",
    "    \\end{bmatrix} \\\\\n",
    "& =\n",
    "    \\begin{bmatrix}\n",
    "        1 & 0 \\\\\n",
    "        0 & 1 \\\\\n",
    "    \\end{bmatrix} \\\\\n",
    "\\end{align}\n",
    "$$\n",
    "\n"
   ]
  },
  {
   "cell_type": "markdown",
   "metadata": {},
   "source": [
    "따라서<br>Thus\n",
    "\n"
   ]
  },
  {
   "cell_type": "markdown",
   "metadata": {},
   "source": [
    "$$\n",
    "    \\begin{pmatrix}\n",
    "        \\sigma_{x'}\\\\\n",
    "        \\tau_{x'y'}\\\\\n",
    "    \\end{pmatrix}=\n",
    "    \\begin{bmatrix}\n",
    "        cos\\theta & sin\\theta \\\\\n",
    "        -sin\\theta & cos\\theta\\\\\n",
    "    \\end{bmatrix}\n",
    "    \\begin{bmatrix}\n",
    "        \\sigma_{x} & \\tau_{xy} \\\\\n",
    "        \\tau_{xy} & \\sigma_{y}\\\\\n",
    "    \\end{bmatrix}\n",
    "    \\begin{pmatrix}\n",
    "        cos\\theta\\\\\n",
    "        sin\\theta\\\\\n",
    "    \\end{pmatrix}\n",
    "$$\n",
    "\n"
   ]
  },
  {
   "cell_type": "markdown",
   "metadata": {},
   "source": [
    "한편 $\\sigma_{y'}$ 는 다음과 같이 구할 수 있다.\n",
    "\n"
   ]
  },
  {
   "cell_type": "markdown",
   "metadata": {},
   "source": [
    "$$\n",
    "\\begin{align}\n",
    "\\sigma_{y'} & =\n",
    "    \\begin{pmatrix}\n",
    "        cos\\left(\\theta+\\frac{\\pi}{2}\\right) & sin\\left(\\theta+\\frac{\\pi}{2}\\right)\n",
    "    \\end{pmatrix}   \n",
    "    M\n",
    "    \\begin{pmatrix}\n",
    "        cos\\left(\\theta+\\frac{\\pi}{2}\\right) \\\\\n",
    "        sin\\left(\\theta+\\frac{\\pi}{2}\\right) \\\\\n",
    "    \\end{pmatrix}\n",
    "\\end{align}\n",
    "$$\n",
    "\n"
   ]
  },
  {
   "cell_type": "markdown",
   "metadata": {},
   "source": [
    "$$\n",
    "\\begin{align}\n",
    "\\sigma_{y'} & =\n",
    "    \\begin{pmatrix}\n",
    "        -sin\\theta & cos\\theta\n",
    "    \\end{pmatrix}   \n",
    "    M\n",
    "    \\begin{pmatrix}\n",
    "        -sin\\theta \\\\\n",
    "        cos\\theta \\\\\n",
    "    \\end{pmatrix}\n",
    "\\end{align}\n",
    "$$\n",
    "\n"
   ]
  },
  {
   "cell_type": "markdown",
   "metadata": {},
   "source": [
    "다시 한번 행렬 형태로 정리하면<br>Again in matrix form\n",
    "\n"
   ]
  },
  {
   "cell_type": "markdown",
   "metadata": {},
   "source": [
    "$$\n",
    "    \\begin{bmatrix}\n",
    "        \\sigma_{x'} & \\tau_{x'y'} \\\\\n",
    "        \\tau_{x'y'} & \\sigma_{y'} \\\\\n",
    "    \\end{bmatrix}=\n",
    "    \\begin{bmatrix}\n",
    "        cos\\theta & sin\\theta \\\\\n",
    "        -sin\\theta & cos\\theta\\\\\n",
    "    \\end{bmatrix}\n",
    "    \\begin{bmatrix}\n",
    "        \\sigma_{x} & \\tau_{xy} \\\\\n",
    "        \\tau_{xy} & \\sigma_{y}\\\\\n",
    "    \\end{bmatrix}\n",
    "    \\begin{bmatrix}\n",
    "        cos\\theta & -sin\\theta \\\\\n",
    "        sin\\theta & cos\\theta \\\\\n",
    "    \\end{bmatrix}\n",
    "$$\n",
    "\n"
   ]
  },
  {
   "cell_type": "markdown",
   "metadata": {},
   "source": [
    "#### `sympy`를 이용하여<br>Using `sympy`\n",
    "\n"
   ]
  },
  {
   "cell_type": "markdown",
   "metadata": {},
   "source": [
    "사용할 기호를 준비<br>Prepare symbols\n",
    "\n"
   ]
  },
  {
   "cell_type": "code",
   "execution_count": null,
   "metadata": {},
   "outputs": [],
   "source": [
    "sigma_xp_Pa, sigma_yp_Pa, tau_xpyp_Pa = sy.symbols('sigma_{xp}[Pa], sigma_{yp}[Pa], tau_{xpyp}[Pa]', real=True)\n",
    "\n"
   ]
  },
  {
   "cell_type": "code",
   "execution_count": null,
   "metadata": {},
   "outputs": [],
   "source": [
    "Mp = sy.Matrix([(sigma_xp_Pa, tau_xpyp_Pa), (tau_xpyp_Pa, sigma_yp_Pa)])\n",
    "\n"
   ]
  },
  {
   "cell_type": "code",
   "execution_count": null,
   "metadata": {},
   "outputs": [],
   "source": [
    "Mp\n",
    "\n"
   ]
  },
  {
   "cell_type": "markdown",
   "metadata": {},
   "source": [
    "$$\n",
    "\\begin{cases}\n",
    "\\sigma_{x'}cos\\theta - \\tau_{x'y'} sin\\theta = \\sigma_x cos\\theta + \\tau_{xy}  sin\\theta \\\\\n",
    "\\sigma_{x'}sin\\theta + \\tau_{x'y'} cos\\theta = \\tau_{xy} cos\\theta + \\sigma_y sin\\theta \\\\\n",
    "\\end{cases}\n",
    "$$\n",
    "\n"
   ]
  },
  {
   "cell_type": "code",
   "execution_count": null,
   "metadata": {},
   "outputs": [],
   "source": [
    "theta_rad = sy.symbols('theta[rad]', real=True)\n",
    "\n"
   ]
  },
  {
   "cell_type": "markdown",
   "metadata": {},
   "source": [
    "x 방향 평형<br>x direction equilibrium\n",
    "\n"
   ]
  },
  {
   "cell_type": "code",
   "execution_count": null,
   "metadata": {},
   "outputs": [],
   "source": [
    "x_eq = sy.Eq(sigma_xp_Pa * sy.cos(theta_rad) - tau_xpyp_Pa * sy.sin(theta_rad),\n",
    "             sigma_x_Pa * sy.cos(theta_rad) + tau_xy_Pa * sy.sin(theta_rad)\n",
    "            )\n",
    "\n"
   ]
  },
  {
   "cell_type": "code",
   "execution_count": null,
   "metadata": {},
   "outputs": [],
   "source": [
    "x_eq\n",
    "\n"
   ]
  },
  {
   "cell_type": "markdown",
   "metadata": {},
   "source": [
    "y 방향 평형<br>y direction equilibrium\n",
    "\n"
   ]
  },
  {
   "cell_type": "code",
   "execution_count": null,
   "metadata": {},
   "outputs": [],
   "source": [
    "y_eq = sy.Eq(sigma_xp_Pa * sy.sin(theta_rad) + tau_xpyp_Pa * sy.cos(theta_rad),\n",
    "             tau_xy_Pa * sy.cos(theta_rad) + sigma_y_Pa * sy.sin(theta_rad)\n",
    "            )\n",
    "\n"
   ]
  },
  {
   "cell_type": "code",
   "execution_count": null,
   "metadata": {},
   "outputs": [],
   "source": [
    "y_eq\n",
    "\n"
   ]
  },
  {
   "cell_type": "markdown",
   "metadata": {},
   "source": [
    "$\\sigma_{x'}$ 와 $\\tau_{x'y'}$에 대해 풂<br>Solve for $\\sigma_{x'}$ & $\\tau_{x'y'}$\n",
    "\n"
   ]
  },
  {
   "cell_type": "code",
   "execution_count": null,
   "metadata": {},
   "outputs": [],
   "source": [
    "stress_sol = sy.solve((x_eq, y_eq), (sigma_xp_Pa, tau_xpyp_Pa))\n",
    "\n"
   ]
  },
  {
   "cell_type": "code",
   "execution_count": null,
   "metadata": {},
   "outputs": [],
   "source": [
    "stress_sol\n",
    "\n"
   ]
  },
  {
   "cell_type": "code",
   "execution_count": null,
   "metadata": {},
   "outputs": [],
   "source": [
    "sigma_xp_sol_Pa = stress_sol[sigma_xp_Pa].subs(\n",
    "    {\n",
    "        sy.sin(theta_rad) ** 2: (1 - sy.cos(2 * theta_rad)) / 2,\n",
    "        sy.cos(theta_rad) ** 2: (1 + sy.cos(2 * theta_rad)) / 2,\n",
    "    }\n",
    ")\n",
    "\n"
   ]
  },
  {
   "cell_type": "code",
   "execution_count": null,
   "metadata": {},
   "outputs": [],
   "source": [
    "sigma_xp_sol_Pa\n",
    "\n"
   ]
  },
  {
   "cell_type": "code",
   "execution_count": null,
   "metadata": {},
   "outputs": [],
   "source": [
    "tau_xpyp_sol_Pa = stress_sol[tau_xpyp_Pa]\n",
    "\n"
   ]
  },
  {
   "cell_type": "code",
   "execution_count": null,
   "metadata": {},
   "outputs": [],
   "source": [
    "tau_xpyp_sol_Pa\n",
    "\n"
   ]
  },
  {
   "cell_type": "markdown",
   "metadata": {},
   "source": [
    "$\\sigma_{y'}$ = $\\left[ \\sigma_{x'} \\right]_{\\theta+\\frac{1}{2}\\pi}$\n",
    "\n"
   ]
  },
  {
   "cell_type": "code",
   "execution_count": null,
   "metadata": {},
   "outputs": [],
   "source": [
    "sigma_yp_Pa = sigma_xp_sol_Pa.subs(theta_rad, theta_rad + sy.pi / 2)\n",
    "\n"
   ]
  },
  {
   "cell_type": "code",
   "execution_count": null,
   "metadata": {},
   "outputs": [],
   "source": [
    "sigma_yp_Pa\n",
    "\n"
   ]
  },
  {
   "cell_type": "markdown",
   "metadata": {},
   "source": [
    "$\\sigma_{x'} + \\sigma_{y'}$\n",
    "\n"
   ]
  },
  {
   "cell_type": "code",
   "execution_count": null,
   "metadata": {
    "scrolled": true
   },
   "outputs": [],
   "source": [
    "sy.simplify(sigma_xp_sol_Pa + sigma_yp_Pa)\n",
    "\n"
   ]
  },
  {
   "cell_type": "markdown",
   "metadata": {},
   "source": [
    "### 주응력 방향과 주응력<br>Principal directions and Principal stresses\n",
    "\n"
   ]
  },
  {
   "cell_type": "markdown",
   "metadata": {},
   "source": [
    "수직 응력 $\\sigma_{x'}$가 최대가 되는 $\\theta$를 구해보자.<br>Let's find $\\theta$ maximizing $\\sigma_{x'}$.\n",
    "\n"
   ]
  },
  {
   "cell_type": "markdown",
   "metadata": {},
   "source": [
    "$\\sigma_{x'}$ 를 $\\theta$로 미분<br>Differentiate $\\sigma_{x'}$ with $\\theta$\n",
    "\n"
   ]
  },
  {
   "cell_type": "code",
   "execution_count": null,
   "metadata": {},
   "outputs": [],
   "source": [
    "dsigma_dt = sy.simplify(sy.diff(sigma_xp_sol_Pa, theta_rad))\n",
    "\n"
   ]
  },
  {
   "cell_type": "code",
   "execution_count": null,
   "metadata": {
    "scrolled": true
   },
   "outputs": [],
   "source": [
    "dsigma_dt\n",
    "\n"
   ]
  },
  {
   "cell_type": "markdown",
   "metadata": {},
   "source": [
    "$\\tau_{x'y'}$ 와 이 결과를 비교해 보자.<br>Let's compare this result with $\\tau_{x'y'}$.\n",
    "\n"
   ]
  },
  {
   "cell_type": "code",
   "execution_count": null,
   "metadata": {
    "scrolled": true
   },
   "outputs": [],
   "source": [
    "sy.simplify(dsigma_dt / tau_xpyp_sol_Pa)\n",
    "\n"
   ]
  },
  {
   "cell_type": "markdown",
   "metadata": {},
   "source": [
    "이 결과의 의미는 무엇인가?<br>What does this result mean?\n",
    "\n"
   ]
  },
  {
   "cell_type": "markdown",
   "metadata": {},
   "source": [
    "$\\frac{d\\sigma_{x'}}{d\\theta}$ 를 0 으로 만드는 $\\theta$를 구한다.<br>Find $\\theta$ making $\\frac{d\\sigma_{x'}}{d\\theta}$  zero.\n",
    "\n"
   ]
  },
  {
   "cell_type": "code",
   "execution_count": null,
   "metadata": {},
   "outputs": [],
   "source": [
    "theta_sigma_sol = sy.solve(dsigma_dt, theta_rad)\n",
    "\n"
   ]
  },
  {
   "cell_type": "code",
   "execution_count": null,
   "metadata": {
    "scrolled": true
   },
   "outputs": [],
   "source": [
    "theta_sigma_sol\n",
    "\n"
   ]
  },
  {
   "cell_type": "markdown",
   "metadata": {},
   "source": [
    "제곱근 안을 좀 더 간단하게<br>To make the inside of the square root simpler\n",
    "\n"
   ]
  },
  {
   "cell_type": "code",
   "execution_count": null,
   "metadata": {},
   "outputs": [],
   "source": [
    "theta_sigma = theta_sigma_sol[0].subs(sy.expand((sigma_x_Pa - sigma_y_Pa) ** 2), (sigma_x_Pa - sigma_y_Pa) ** 2)\n",
    "\n"
   ]
  },
  {
   "cell_type": "code",
   "execution_count": null,
   "metadata": {},
   "outputs": [],
   "source": [
    "theta_sigma\n",
    "\n"
   ]
  },
  {
   "cell_type": "markdown",
   "metadata": {},
   "source": [
    "위 대입의 결과가 원래 결과와 같은지 확인<br>Assert if result above is the same as the original result\n",
    "\n"
   ]
  },
  {
   "cell_type": "code",
   "execution_count": null,
   "metadata": {},
   "outputs": [],
   "source": [
    "assert (0 == sy.simplify(theta_sigma - theta_sigma_sol[0]))\n",
    "\n"
   ]
  },
  {
   "cell_type": "markdown",
   "metadata": {},
   "source": [
    "구해진 $\\theta$를 $\\sigma_{x'}$, $\\sigma_{y'}$, $\\tau_{x'y'}$에 대입 (해당 결과는 다소 복잡해 보일 수 있음)<br>Substitute $\\theta$ to $\\sigma_{x'}$, $\\sigma_{y'}$, $\\tau_{x'y'}$ (The results may seem more complicated than desired)\n",
    "\n"
   ]
  },
  {
   "cell_type": "code",
   "execution_count": null,
   "metadata": {},
   "outputs": [],
   "source": [
    "s1 = sy.simplify(sigma_xp_sol_Pa.subs(theta_rad, theta_sigma)) \n",
    "\n"
   ]
  },
  {
   "cell_type": "code",
   "execution_count": null,
   "metadata": {},
   "outputs": [],
   "source": [
    "s2 = sy.simplify(sigma_yp_Pa.subs(theta_rad, theta_sigma)) \n",
    "\n"
   ]
  },
  {
   "cell_type": "code",
   "execution_count": null,
   "metadata": {
    "scrolled": true
   },
   "outputs": [],
   "source": [
    "t1 = sy.simplify(tau_xpyp_sol_Pa.subs(theta_rad, theta_sigma)) \n",
    "\n"
   ]
  },
  {
   "cell_type": "code",
   "execution_count": null,
   "metadata": {},
   "outputs": [],
   "source": [
    "t1\n",
    "\n"
   ]
  },
  {
   "cell_type": "markdown",
   "metadata": {},
   "source": [
    "예제 8.4 의 값을 대입하면 다음과 같다.<br>Using values from ex 8.4\n",
    "\n"
   ]
  },
  {
   "cell_type": "code",
   "execution_count": null,
   "metadata": {},
   "outputs": [],
   "source": [
    "sigma_1_Pa = float(sy.simplify(s1.subs(s_d)))\n",
    "\n"
   ]
  },
  {
   "cell_type": "code",
   "execution_count": null,
   "metadata": {},
   "outputs": [],
   "source": [
    "sigma_1_Pa\n",
    "\n"
   ]
  },
  {
   "cell_type": "code",
   "execution_count": null,
   "metadata": {},
   "outputs": [],
   "source": [
    "sigma_2_Pa = float(sy.simplify(s2.subs(s_d)))\n",
    "\n"
   ]
  },
  {
   "cell_type": "code",
   "execution_count": null,
   "metadata": {},
   "outputs": [],
   "source": [
    "sigma_2_Pa\n",
    "\n"
   ]
  },
  {
   "cell_type": "code",
   "execution_count": null,
   "metadata": {},
   "outputs": [],
   "source": [
    "theta_sigma_max_deg = np.rad2deg(float(theta_sigma.subs(s_d)))\n",
    "\n"
   ]
  },
  {
   "cell_type": "code",
   "execution_count": null,
   "metadata": {},
   "outputs": [],
   "source": [
    "theta_sigma_max_deg\n",
    "\n"
   ]
  },
  {
   "cell_type": "markdown",
   "metadata": {},
   "source": [
    "이미 알고 있던 값과 확인<br>Assert using known values\n",
    "\n"
   ]
  },
  {
   "cell_type": "code",
   "execution_count": null,
   "metadata": {},
   "outputs": [],
   "source": [
    "assert(1e-6 > abs(tau_xpyp_sol_Pa.subs(theta_rad, theta_sigma).subs(s_d)))\n",
    "\n"
   ]
  },
  {
   "cell_type": "code",
   "execution_count": null,
   "metadata": {},
   "outputs": [],
   "source": [
    "assert(1e-6 > abs(sigma_1_Pa - 87720018.72658765)/87720018.72658765)\n",
    "\n"
   ]
  },
  {
   "cell_type": "code",
   "execution_count": null,
   "metadata": {},
   "outputs": [],
   "source": [
    "assert(1e-6 > abs(sigma_2_Pa - 2279981.2734123357)/2279981.2734123357)\n",
    "\n"
   ]
  },
  {
   "cell_type": "code",
   "execution_count": null,
   "metadata": {},
   "outputs": [],
   "source": [
    "assert(1e-6 > abs(theta_sigma_max_deg - 55.2780226098)/55.2780226098)\n",
    "\n"
   ]
  },
  {
   "cell_type": "markdown",
   "metadata": {},
   "source": [
    "응력 상태를 그림으로 표시<br>Plot stress status\n",
    "\n"
   ]
  },
  {
   "cell_type": "code",
   "execution_count": null,
   "metadata": {},
   "outputs": [],
   "source": [
    "ax0 = plt.subplot(1, 2, 1)\n",
    "draw_diagrams.draw_stress_2d(sigma_x_Pa.subs(s_d), \n",
    "                             sigma_y_Pa.subs(s_d), \n",
    "                             tau_xy_Pa.subs(s_d), ax=ax0)\n",
    "axmax = plt.subplot(1, 2, 2)\n",
    "draw_diagrams.draw_stress_2d(sigma_1_Pa, \n",
    "                             sigma_2_Pa, \n",
    "                             0,\n",
    "                             ax=axmax,\n",
    "                             angle_deg=theta_sigma_max_deg)\n",
    "plt.show()\n",
    "\n"
   ]
  },
  {
   "cell_type": "markdown",
   "metadata": {},
   "source": [
    "### 최대 면내 전단 응력<br>Maximum in-plane shear stress\n",
    "\n"
   ]
  },
  {
   "cell_type": "markdown",
   "metadata": {},
   "source": [
    "전단 응력 $\\tau_{x'y'}$가 최대가 되는 $\\theta$를 구해보자.<br>Let's find $\\theta$ maximizing $\\tau_{x'y'}$.\n",
    "\n"
   ]
  },
  {
   "cell_type": "markdown",
   "metadata": {},
   "source": [
    "$\\tau_{x'y'}$ 를 $\\theta$로 미분<br>Differentiate $\\tau_{x'y'}$ with $\\theta$\n",
    "\n"
   ]
  },
  {
   "cell_type": "code",
   "execution_count": null,
   "metadata": {},
   "outputs": [],
   "source": [
    "dtau_dt = sy.simplify(sy.diff(tau_xpyp_sol_Pa, theta_rad))\n",
    "\n"
   ]
  },
  {
   "cell_type": "code",
   "execution_count": null,
   "metadata": {},
   "outputs": [],
   "source": [
    "dtau_dt\n",
    "\n"
   ]
  },
  {
   "cell_type": "markdown",
   "metadata": {},
   "source": [
    "$\\frac{d\\tau_{x'y'}}{d\\theta}$ 를 0 으로 만드는 $\\theta$를 구한다.<br>Find $\\theta$ making $\\frac{d\\tau_{x'y'}}{d\\theta}$  zero.\n",
    "\n"
   ]
  },
  {
   "cell_type": "code",
   "execution_count": null,
   "metadata": {},
   "outputs": [],
   "source": [
    "theta_tau_sol = sy.solve(dtau_dt, theta_rad)\n",
    "\n"
   ]
  },
  {
   "cell_type": "code",
   "execution_count": null,
   "metadata": {},
   "outputs": [],
   "source": [
    "theta_tau_sol\n",
    "\n"
   ]
  },
  {
   "cell_type": "code",
   "execution_count": null,
   "metadata": {},
   "outputs": [],
   "source": [
    "theta_tau = theta_tau_sol[0]\n",
    "\n"
   ]
  },
  {
   "cell_type": "markdown",
   "metadata": {},
   "source": [
    "구해진 $\\theta$를 $\\sigma_{x'}$, $\\sigma_{y'}$, $\\tau_{x'y'}$에 대입<br>Substitute $\\theta$ to $\\sigma_{x'}$, $\\sigma_{y'}$, $\\tau_{x'y'}$\n",
    "\n"
   ]
  },
  {
   "cell_type": "code",
   "execution_count": null,
   "metadata": {},
   "outputs": [],
   "source": [
    "st1 = sy.trigsimp(sigma_xp_sol_Pa.subs(theta_rad, theta_tau)) \n",
    "\n"
   ]
  },
  {
   "cell_type": "code",
   "execution_count": null,
   "metadata": {},
   "outputs": [],
   "source": [
    "st2 = sy.trigsimp(sigma_yp_Pa.subs(theta_rad, theta_tau)) \n",
    "\n"
   ]
  },
  {
   "cell_type": "code",
   "execution_count": null,
   "metadata": {
    "scrolled": true
   },
   "outputs": [],
   "source": [
    "t0 = sy.trigsimp(tau_xpyp_sol_Pa.subs(theta_rad, theta_tau)) \n",
    "\n"
   ]
  },
  {
   "cell_type": "markdown",
   "metadata": {},
   "source": [
    "예제 8.4 의 값을 대입하면 다음과 같다.\n",
    "\n"
   ]
  },
  {
   "cell_type": "code",
   "execution_count": null,
   "metadata": {},
   "outputs": [],
   "source": [
    "sigma_tau_1_Pa = float(sy.simplify(st1.subs(s_d)))\n",
    "\n"
   ]
  },
  {
   "cell_type": "code",
   "execution_count": null,
   "metadata": {},
   "outputs": [],
   "source": [
    "sigma_tau_1_Pa\n",
    "\n"
   ]
  },
  {
   "cell_type": "code",
   "execution_count": null,
   "metadata": {},
   "outputs": [],
   "source": [
    "sigma_tau_2_Pa = float(sy.simplify(st2.subs(s_d)))\n",
    "\n"
   ]
  },
  {
   "cell_type": "code",
   "execution_count": null,
   "metadata": {},
   "outputs": [],
   "source": [
    "sigma_tau_2_Pa\n",
    "\n"
   ]
  },
  {
   "cell_type": "code",
   "execution_count": null,
   "metadata": {},
   "outputs": [],
   "source": [
    "tau_1_Pa = float(sy.simplify(t0.subs(s_d)))\n",
    "\n"
   ]
  },
  {
   "cell_type": "code",
   "execution_count": null,
   "metadata": {},
   "outputs": [],
   "source": [
    "tau_1_Pa\n",
    "\n"
   ]
  },
  {
   "cell_type": "code",
   "execution_count": null,
   "metadata": {},
   "outputs": [],
   "source": [
    "theta_tau_max_deg = np.rad2deg(float(theta_tau.subs(s_d)))\n",
    "\n"
   ]
  },
  {
   "cell_type": "code",
   "execution_count": null,
   "metadata": {
    "scrolled": true
   },
   "outputs": [],
   "source": [
    "theta_tau_max_deg\n",
    "\n"
   ]
  },
  {
   "cell_type": "markdown",
   "metadata": {},
   "source": [
    "이미 알고 있던 값과 확인<br>Assert using known values\n",
    "\n"
   ]
  },
  {
   "cell_type": "code",
   "execution_count": null,
   "metadata": {},
   "outputs": [],
   "source": [
    "assert(1e-6 > abs(sigma_tau_1_Pa - 45000000.0)/45000000.0)\n",
    "\n"
   ]
  },
  {
   "cell_type": "code",
   "execution_count": null,
   "metadata": {},
   "outputs": [],
   "source": [
    "assert(1e-6 > abs(sigma_tau_2_Pa - 45000000.0)/45000000.0)\n",
    "\n"
   ]
  },
  {
   "cell_type": "code",
   "execution_count": null,
   "metadata": {},
   "outputs": [],
   "source": [
    "assert(1e-6 > abs(tau_1_Pa - 42720018.72658765)/42720018.72658765)\n",
    "\n"
   ]
  },
  {
   "cell_type": "code",
   "execution_count": null,
   "metadata": {},
   "outputs": [],
   "source": [
    "assert(1e-6 > abs(theta_tau_max_deg - 10.2780226098)/10.2780226098)\n",
    "\n"
   ]
  },
  {
   "cell_type": "markdown",
   "metadata": {},
   "source": [
    "응력 상태를 그림으로 표시<br>Plot stress status\n",
    "\n"
   ]
  },
  {
   "cell_type": "code",
   "execution_count": null,
   "metadata": {},
   "outputs": [],
   "source": [
    "ax0 = plt.subplot(1, 2, 1)\n",
    "draw_diagrams.draw_stress_2d(sigma_x_Pa.subs(s_d), \n",
    "                             sigma_y_Pa.subs(s_d), \n",
    "                             tau_xy_Pa.subs(s_d), ax=ax0)\n",
    "axmax = plt.subplot(1, 2, 2)\n",
    "draw_diagrams.draw_stress_2d(sigma_tau_1_Pa, \n",
    "                             sigma_tau_2_Pa, \n",
    "                             tau_1_Pa,\n",
    "                             ax=axmax,\n",
    "                             angle_deg=theta_tau_max_deg)\n",
    "plt.show()\n",
    "\n"
   ]
  },
  {
   "cell_type": "code",
   "execution_count": null,
   "metadata": {},
   "outputs": [],
   "source": []
  }
 ],
 "metadata": {
  "anaconda-cloud": {},
  "kernelspec": {
   "display_name": "Python 3",
   "language": "python",
   "name": "python3"
  },
  "language_info": {
   "codemirror_mode": {
    "name": "ipython",
    "version": 3
   },
   "file_extension": ".py",
   "mimetype": "text/x-python",
   "name": "python",
   "nbconvert_exporter": "python",
   "pygments_lexer": "ipython3",
   "version": "3.8.8"
  }
 },
 "nbformat": 4,
 "nbformat_minor": 2
}
