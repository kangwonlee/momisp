{
 "cells": [
  {
   "cell_type": "markdown",
   "metadata": {
    "id": "view-in-github",
    "colab_type": "text"
   },
   "source": [
    "<a href=\"https://colab.research.google.com/github/kangwonlee/momisp/blob/main/Ch08_Stress_Due.To_Combined.Loads/ch08.010.sympy.Strain.Rosette.ipynb\" target=\"_parent\"><img src=\"https://colab.research.google.com/assets/colab-badge.svg\" alt=\"Open In Colab\"/></a>\n"
   ]
  },
  {
   "cell_type": "markdown",
   "metadata": {},
   "source": [
    "참고문헌 : Pytel 외 저, 이주성 외 역, 재료역학, 2판, 한티미디어, 2013.<br>Ref: Pytel, Kiusalaas, Sharma, Mechanics of Materials, 2nd Ed., Cengage Learning, 2013.\n",
    "\n"
   ]
  },
  {
   "cell_type": "markdown",
   "metadata": {},
   "source": [
    "`python` 기능을 확장해 주는 `module`을 불러 들임 (일부 기능만 사용될 수도 있음)<br>\n",
    "Bring in `module`'s that would expand features of `python`. (This file may use just some of them.)\n",
    "\n"
   ]
  },
  {
   "cell_type": "code",
   "execution_count": null,
   "metadata": {
    "collapsed": true
   },
   "outputs": [],
   "source": [
    "import numpy as np  # 배열, 행렬 관련 기능\n",
    "import numpy.linalg as na  # 선형대수 (벡터, 행렬) 관련 기능\n",
    "import matplotlib.pyplot as plt  # 그래프 관련 기능\n",
    "import matplotlib.patches as patch # 도형 관련 기능\n",
    "import scipy.integrate as si  # 적분 관련 기능\n",
    "import sympy as sy  # 기호 연산 기능\n",
    "import sympy.plotting as splot\n",
    "import IPython.display as disp  # 웹페이지 표시 기능\n",
    "sy.init_printing()  # 기호 연산 결과 표시 기능 준비\n",
    "\n"
   ]
  },
  {
   "cell_type": "markdown",
   "metadata": {},
   "source": [
    "## 08.010 스트레인 로젯<br>08.010 Strain Rosette\n",
    "\n"
   ]
  },
  {
   "cell_type": "markdown",
   "metadata": {},
   "source": [
    "p. 394\n",
    "\n"
   ]
  },
  {
   "cell_type": "markdown",
   "metadata": {},
   "source": [
    "어떤 2차원 변형률 상태를 실험으로 측정<br>To measure a two dimensional strain status in an experiment\n",
    "\n"
   ]
  },
  {
   "cell_type": "markdown",
   "metadata": {},
   "source": [
    "### 2차원 변형률 상태<br>2D strain status\n",
    "\n"
   ]
  },
  {
   "cell_type": "markdown",
   "metadata": {},
   "source": [
    "p. 386 fig. 8.20 a), b)\n",
    "\n"
   ]
  },
  {
   "cell_type": "markdown",
   "metadata": {},
   "source": [
    "$$\n",
    "    M=\n",
    "    \\begin{bmatrix}\n",
    "        \\epsilon_{x} & \\gamma_{xy} \\\\\n",
    "        \\gamma_{xy} & \\epsilon_{y}\\\\\n",
    "    \\end{bmatrix}\n",
    "$$\n",
    "\n"
   ]
  },
  {
   "cell_type": "markdown",
   "metadata": {},
   "source": [
    "p. 388 eq. 8.17\n",
    "\n"
   ]
  },
  {
   "cell_type": "markdown",
   "metadata": {},
   "source": [
    "$$\n",
    "\\begin{align}\n",
    "    \\epsilon_{x'}= \\frac{\\epsilon_x + \\epsilon_y}{2} +\\frac{\\epsilon_x - \\epsilon_y}{2}cos2\\theta + \\gamma_{xy} \\frac{1}{2}sin2\\theta\n",
    "\\end{align}\n",
    "$$\n",
    "\n"
   ]
  },
  {
   "cell_type": "markdown",
   "metadata": {},
   "source": [
    "수직변형률 $\\epsilon_x$ 와 $\\epsilon_y$ 는 각각 하나씩의 스트레인 게이지를 사용하여 측정할 수 있으나 전단변형률 $\\gamma_{xy}$ 는 간접적으로 결정<br>An engineer can measure the normal strains of $\\epsilon_x$ and $\\epsilon_y$ using one strain gage for each direction, but regarding the shear strain $\\gamma_{xy}$ the engineer should decide indirectly.\n",
    "\n"
   ]
  },
  {
   "cell_type": "markdown",
   "metadata": {},
   "source": [
    "p. 395 fig. 8.23 은 스트레인 게이지 세개를 각각 $\\theta_a$, $\\theta_b$, $\\theta_c$ 으로 정렬하여 부착한 경우<br>Fig 8.23 indicates three strain gages attached at angles $\\theta_a$, $\\theta_b$, and $\\theta_c$ respectively.\n",
    "\n"
   ]
  },
  {
   "cell_type": "markdown",
   "metadata": {},
   "source": [
    "각 스트레인 게이지가 측정하게 되는 변형률은 p. 388 eq. 8.17 의 $\\theta$ 에 $\\theta_a$, $\\theta_b$, $\\theta_c$ 를 각각 대입<br>Each strain gage would measure strain of eq. 8.17 with $\\theta_a$, $\\theta_b$, and $\\theta_c$ respectively.\n",
    "\n"
   ]
  },
  {
   "cell_type": "markdown",
   "metadata": {},
   "source": [
    "$$\n",
    "\\begin{pmatrix}\n",
    "    \\epsilon_{a} \\\\\n",
    "    \\epsilon_{b} \\\\\n",
    "    \\epsilon_{c} \\\\\n",
    "\\end{pmatrix}\n",
    "=\n",
    "\\frac{\\epsilon_{x}+\\epsilon_{y}}{2}\n",
    "    \\begin{pmatrix}\n",
    "        1 \\\\\n",
    "        1 \\\\\n",
    "        1 \\\\\n",
    "    \\end{pmatrix}\n",
    "+\n",
    "\\frac{\\epsilon_{x}-\\epsilon_{y}}{2}\n",
    "    \\begin{pmatrix}\n",
    "        cos2\\theta_a \\\\\n",
    "        cos2\\theta_b \\\\\n",
    "        cos2\\theta_c \\\\\n",
    "    \\end{pmatrix}\n",
    "+\n",
    "\\frac{\\gamma_{xy}}{2}\n",
    "    \\begin{pmatrix}\n",
    "        sin2\\theta_a \\\\\n",
    "        sin2\\theta_b \\\\\n",
    "        sin2\\theta_c \\\\\n",
    "    \\end{pmatrix}\n",
    "$$\n",
    "\n"
   ]
  },
  {
   "cell_type": "markdown",
   "metadata": {},
   "source": [
    "각 $\\theta_a$, $\\theta_b$, $\\theta_c$ 와 변형률 $\\epsilon_{a}$, $\\epsilon_{b}$, $\\epsilon_{c}$ 는 측정 가능<br>An engineer can measure angles $\\theta_a$, $\\theta_b$, & $\\theta_c$ and strains $\\epsilon_{a}$, $\\epsilon_{b}$, $\\epsilon_{c}$.\n",
    "\n"
   ]
  },
  {
   "cell_type": "code",
   "execution_count": null,
   "metadata": {
    "collapsed": true
   },
   "outputs": [],
   "source": [
    "theta_a, theta_b, theta_c = sy.symbols('theta_a, theta_b, theta_c', real=True)\n",
    "\n"
   ]
  },
  {
   "cell_type": "code",
   "execution_count": null,
   "metadata": {
    "collapsed": true
   },
   "outputs": [],
   "source": [
    "epsilon_a, epsilon_b, epsilon_c = sy.symbols('epsilon_a, epsilon_b, epsilon_c', real=True)\n",
    "\n"
   ]
  },
  {
   "cell_type": "markdown",
   "metadata": {},
   "source": [
    "자주 사용되는 경우는 p. 396 fig. 8.24 와 fig. 8.25<br>Frequently used cases of fig 8.24 & fig 8.25\n",
    "\n"
   ]
  },
  {
   "cell_type": "code",
   "execution_count": null,
   "metadata": {
    "collapsed": true
   },
   "outputs": [],
   "source": [
    "strain_rosette_45_deg_dict = {theta_a:0, theta_b:sy.pi / 4, theta_c:sy.pi / 2}\n",
    "\n"
   ]
  },
  {
   "cell_type": "code",
   "execution_count": null,
   "metadata": {
    "collapsed": true
   },
   "outputs": [],
   "source": [
    "strain_rosette_60_deg_dict = {theta_a:0, theta_b:sy.pi / 3, theta_c:2 * sy.pi / 3}\n",
    "\n"
   ]
  },
  {
   "cell_type": "markdown",
   "metadata": {},
   "source": [
    "변형률 $\\epsilon_x$, $\\epsilon_y$, $\\gamma_{xy}$ 는 미지수<br>$\\epsilon_x$, $\\epsilon_y$, $\\gamma_{xy}$ are unknowns. \n",
    "\n"
   ]
  },
  {
   "cell_type": "code",
   "execution_count": null,
   "metadata": {
    "collapsed": true
   },
   "outputs": [],
   "source": [
    "epsilon_x, epsilon_y, gamma_xy, theta = sy.symbols('epsilon_x, epsilon_y, gamma_xy, theta', real=True)\n",
    "\n"
   ]
  },
  {
   "cell_type": "markdown",
   "metadata": {},
   "source": [
    "####  연립 방정식<br>Simultaneous equations\n",
    "\n"
   ]
  },
  {
   "cell_type": "markdown",
   "metadata": {},
   "source": [
    "p. 388 eq. 8.17\n",
    "\n"
   ]
  },
  {
   "cell_type": "markdown",
   "metadata": {},
   "source": [
    "$$\n",
    "\\begin{align}\n",
    "    \\epsilon_{x'}= \\frac{\\epsilon_x + \\epsilon_y}{2} +\\frac{\\epsilon_x - \\epsilon_y}{2}cos2\\theta + \\gamma_{xy} \\frac{1}{2}sin2\\theta\n",
    "\\end{align}\n",
    "$$\n",
    "\n"
   ]
  },
  {
   "cell_type": "code",
   "execution_count": null,
   "metadata": {},
   "outputs": [],
   "source": [
    "epsilon_xp = (epsilon_x + epsilon_y) / 2 + (epsilon_x - epsilon_y) / 2 * sy.cos(2 * theta) + gamma_xy / 2 * sy.sin(2 * theta)\n",
    "\n"
   ]
  },
  {
   "cell_type": "markdown",
   "metadata": {},
   "source": [
    "$$\n",
    "\\begin{pmatrix}\n",
    "    \\epsilon_{a} \\\\\n",
    "    \\epsilon_{b} \\\\\n",
    "    \\epsilon_{c} \\\\\n",
    "\\end{pmatrix}\n",
    "=\n",
    "\\frac{\\epsilon_{x}+\\epsilon_{y}}{2}\n",
    "    \\begin{pmatrix}\n",
    "        1 \\\\\n",
    "        1 \\\\\n",
    "        1 \\\\\n",
    "    \\end{pmatrix}\n",
    "+\n",
    "\\frac{\\epsilon_{x}-\\epsilon_{y}}{2}\n",
    "    \\begin{pmatrix}\n",
    "        cos2\\theta_a \\\\\n",
    "        cos2\\theta_b \\\\\n",
    "        cos2\\theta_c \\\\\n",
    "    \\end{pmatrix}\n",
    "+\n",
    "\\frac{\\gamma_{xy}}{2}\n",
    "    \\begin{pmatrix}\n",
    "        sin2\\theta_a \\\\\n",
    "        sin2\\theta_b \\\\\n",
    "        sin2\\theta_c \\\\\n",
    "    \\end{pmatrix}\n",
    "$$\n",
    "\n"
   ]
  },
  {
   "cell_type": "code",
   "execution_count": null,
   "metadata": {
    "collapsed": true
   },
   "outputs": [],
   "source": [
    "eq_a = sy.Eq(epsilon_xp.subs(theta, theta_a), epsilon_a)\n",
    "eq_b = sy.Eq(epsilon_xp.subs(theta, theta_b), epsilon_b)\n",
    "eq_c = sy.Eq(epsilon_xp.subs(theta, theta_c), epsilon_c)\n",
    "\n"
   ]
  },
  {
   "cell_type": "markdown",
   "metadata": {},
   "source": [
    "임의의 각 $\\theta_a$, $\\theta_b$, $\\theta_c$ 인 경우의 변형률<br>Strains if angles $\\theta_a$, $\\theta_b$, & $\\theta_c$ are arbitrary\n",
    "\n"
   ]
  },
  {
   "cell_type": "code",
   "execution_count": null,
   "metadata": {},
   "outputs": [],
   "source": [
    "strain_rosette = sy.simplify(sy.solve((eq_a, eq_b, eq_c), (epsilon_x, epsilon_y, gamma_xy)))\n",
    "\n"
   ]
  },
  {
   "cell_type": "code",
   "execution_count": null,
   "metadata": {},
   "outputs": [],
   "source": [
    "strain_rosette\n",
    "\n"
   ]
  },
  {
   "cell_type": "markdown",
   "metadata": {},
   "source": [
    "`sympy` 계산 시간<br>`sympy` computation time\n",
    "\n"
   ]
  },
  {
   "cell_type": "code",
   "execution_count": null,
   "metadata": {},
   "outputs": [],
   "source": [
    "%%time\n",
    "strain_rosette = sy.simplify(sy.solve((eq_a, eq_b, eq_c), (epsilon_x, epsilon_y, gamma_xy)))\n",
    "\n"
   ]
  },
  {
   "cell_type": "markdown",
   "metadata": {},
   "source": [
    "p. 396 fig 8.24\n",
    "\n"
   ]
  },
  {
   "cell_type": "code",
   "execution_count": null,
   "metadata": {},
   "outputs": [],
   "source": [
    "strain_rosette_45 = sy.simplify(sy.solve((eq_a.subs(strain_rosette_45_deg_dict), \n",
    "                                          eq_b.subs(strain_rosette_45_deg_dict), \n",
    "                                          eq_c.subs(strain_rosette_45_deg_dict)), \n",
    "                                         (epsilon_x, epsilon_y, gamma_xy)))\n",
    "\n"
   ]
  },
  {
   "cell_type": "code",
   "execution_count": null,
   "metadata": {},
   "outputs": [],
   "source": [
    "strain_rosette_45\n",
    "\n"
   ]
  },
  {
   "cell_type": "markdown",
   "metadata": {},
   "source": [
    "`sympy` 계산 시간<br>`sympy` computation time\n",
    "\n"
   ]
  },
  {
   "cell_type": "code",
   "execution_count": null,
   "metadata": {},
   "outputs": [],
   "source": [
    "%%time\n",
    "strain_rosette_45 = sy.simplify(sy.solve((eq_a.subs(strain_rosette_45_deg_dict), \n",
    "                                          eq_b.subs(strain_rosette_45_deg_dict), \n",
    "                                          eq_c.subs(strain_rosette_45_deg_dict)), \n",
    "                                         (epsilon_x, epsilon_y, gamma_xy)))\n",
    "\n"
   ]
  },
  {
   "cell_type": "markdown",
   "metadata": {},
   "source": [
    "p. 396 fig 8.25\n",
    "\n"
   ]
  },
  {
   "cell_type": "code",
   "execution_count": null,
   "metadata": {
    "scrolled": true
   },
   "outputs": [],
   "source": [
    "strain_rosette_60 = sy.simplify(sy.solve((eq_a.subs(strain_rosette_60_deg_dict), \n",
    "                                          eq_b.subs(strain_rosette_60_deg_dict), \n",
    "                                          eq_c.subs(strain_rosette_60_deg_dict)), \n",
    "                                         (epsilon_x, epsilon_y, gamma_xy)))\n",
    "\n"
   ]
  },
  {
   "cell_type": "code",
   "execution_count": null,
   "metadata": {},
   "outputs": [],
   "source": [
    "strain_rosette_60\n",
    "\n"
   ]
  },
  {
   "cell_type": "markdown",
   "metadata": {},
   "source": [
    "`sympy` 계산 시간<br>`sympy` computation time\n",
    "\n"
   ]
  },
  {
   "cell_type": "code",
   "execution_count": null,
   "metadata": {
    "scrolled": true
   },
   "outputs": [],
   "source": [
    "%%time\n",
    "strain_rosette_60 = sy.simplify(sy.solve((eq_a.subs(strain_rosette_60_deg_dict), \n",
    "                                          eq_b.subs(strain_rosette_60_deg_dict), \n",
    "                                          eq_c.subs(strain_rosette_60_deg_dict)), \n",
    "                                         (epsilon_x, epsilon_y, gamma_xy)))\n",
    "\n"
   ]
  },
  {
   "cell_type": "markdown",
   "metadata": {},
   "source": [
    "####  행렬 형태<br>Matrix form\n",
    "\n"
   ]
  },
  {
   "cell_type": "markdown",
   "metadata": {},
   "source": [
    "$$\n",
    "\\begin{pmatrix}\n",
    "    \\epsilon_{a} \\\\\n",
    "    \\epsilon_{b} \\\\\n",
    "    \\epsilon_{c} \\\\\n",
    "\\end{pmatrix}\n",
    "=\n",
    "    \\begin{bmatrix}\n",
    "        \\frac{1}{2} & \\frac{1}{2} \\\\\n",
    "        \\frac{1}{2} & \\frac{1}{2} \\\\\n",
    "        \\frac{1}{2} & \\frac{1}{2} \\\\\n",
    "    \\end{bmatrix}\n",
    "    \\begin{pmatrix}\n",
    "        \\epsilon_{x} \\\\\n",
    "        \\epsilon_{y} \\\\\n",
    "    \\end{pmatrix}\n",
    "+\n",
    "    \\begin{bmatrix}\n",
    "        \\frac{1}{2}cos2\\theta_a & -\\frac{1}{2}cos2\\theta_a \\\\\n",
    "        \\frac{1}{2}cos2\\theta_b & -\\frac{1}{2}cos2\\theta_b \\\\\n",
    "        \\frac{1}{2}cos2\\theta_c & -\\frac{1}{2}cos2\\theta_c \\\\\n",
    "    \\end{bmatrix}\n",
    "    \\begin{pmatrix}\n",
    "        \\epsilon_{x} \\\\\n",
    "        \\epsilon_{y} \\\\\n",
    "    \\end{pmatrix}\n",
    "+\n",
    "    \\begin{pmatrix}\n",
    "        \\frac{1}{2}sin2\\theta_a \\\\\n",
    "        \\frac{1}{2}sin2\\theta_b \\\\\n",
    "        \\frac{1}{2}sin2\\theta_c \\\\\n",
    "    \\end{pmatrix}\n",
    "    \\gamma_{xy}\n",
    "$$\n",
    "\n"
   ]
  },
  {
   "cell_type": "markdown",
   "metadata": {},
   "source": [
    "$$\n",
    "\\begin{pmatrix}\n",
    "    \\epsilon_{a} \\\\\n",
    "    \\epsilon_{b} \\\\\n",
    "    \\epsilon_{c} \\\\\n",
    "\\end{pmatrix}\n",
    "=\n",
    "    \\begin{bmatrix}\n",
    "        \\frac{1}{2} & \\frac{1}{2} & 0\\\\\n",
    "        \\frac{1}{2} & \\frac{1}{2} & 0\\\\\n",
    "        \\frac{1}{2} & \\frac{1}{2} & 0\\\\\n",
    "    \\end{bmatrix}\n",
    "    \\begin{pmatrix}\n",
    "        \\epsilon_{x} \\\\\n",
    "        \\epsilon_{y} \\\\\n",
    "        \\gamma_{xy}\n",
    "    \\end{pmatrix}\n",
    "+\n",
    "    \\begin{bmatrix}\n",
    "        \\frac{1}{2}cos2\\theta_a & -\\frac{1}{2}cos2\\theta_a & 0\\\\\n",
    "        \\frac{1}{2}cos2\\theta_b & -\\frac{1}{2}cos2\\theta_b & 0\\\\\n",
    "        \\frac{1}{2}cos2\\theta_c & -\\frac{1}{2}cos2\\theta_c & 0\\\\\n",
    "    \\end{bmatrix}\n",
    "    \\begin{pmatrix}\n",
    "        \\epsilon_{x} \\\\\n",
    "        \\epsilon_{y} \\\\\n",
    "        \\gamma_{xy}\n",
    "    \\end{pmatrix}\n",
    "+\n",
    "    \\begin{bmatrix}\n",
    "        0 & 0 & \\frac{1}{2}sin2\\theta_a \\\\\n",
    "        0 & 0 & \\frac{1}{2}sin2\\theta_b \\\\\n",
    "        0 & 0 & \\frac{1}{2}sin2\\theta_c \\\\\n",
    "    \\end{bmatrix}\n",
    "    \\begin{pmatrix}\n",
    "        \\epsilon_{x} \\\\\n",
    "        \\epsilon_{y} \\\\\n",
    "        \\gamma_{xy}\n",
    "    \\end{pmatrix}\n",
    "$$\n",
    "\n"
   ]
  },
  {
   "cell_type": "markdown",
   "metadata": {},
   "source": [
    "$$\n",
    "\\begin{bmatrix}\n",
    "    \\frac{1}{2}+\\frac{1}{2}cos2\\theta_a & \\frac{1}{2}-\\frac{1}{2}cos2\\theta_a & \\frac{1}{2}sin2\\theta_a\\\\\n",
    "    \\frac{1}{2}+\\frac{1}{2}cos2\\theta_b & \\frac{1}{2}-\\frac{1}{2}cos2\\theta_b & \\frac{1}{2}sin2\\theta_b\\\\\n",
    "    \\frac{1}{2}+\\frac{1}{2}cos2\\theta_c & \\frac{1}{2}-\\frac{1}{2}cos2\\theta_c & \\frac{1}{2}sin2\\theta_c\\\\\n",
    "\\end{bmatrix}\n",
    "\\begin{pmatrix}\n",
    "    \\epsilon_{x} \\\\\n",
    "    \\epsilon_{y} \\\\\n",
    "    \\gamma_{xy}\n",
    "\\end{pmatrix}\n",
    "=\n",
    "\\begin{pmatrix}\n",
    "    \\epsilon_{a} \\\\\n",
    "    \\epsilon_{b} \\\\\n",
    "    \\epsilon_{c} \\\\\n",
    "\\end{pmatrix}\n",
    "$$\n",
    "\n"
   ]
  },
  {
   "cell_type": "code",
   "execution_count": null,
   "metadata": {
    "collapsed": true
   },
   "outputs": [],
   "source": [
    "A = sy.Matrix((\n",
    "        [1+sy.cos(2*theta_a), 1-sy.cos(2*theta_a), sy.sin(2*theta_a)],\n",
    "        [1+sy.cos(2*theta_b), 1-sy.cos(2*theta_b), sy.sin(2*theta_b)],\n",
    "        [1+sy.cos(2*theta_c), 1-sy.cos(2*theta_c), sy.sin(2*theta_c)],\n",
    "    ))\n",
    "\n"
   ]
  },
  {
   "cell_type": "code",
   "execution_count": null,
   "metadata": {
    "collapsed": true
   },
   "outputs": [],
   "source": [
    "b = sy.Matrix((\n",
    "        [epsilon_a],\n",
    "        [epsilon_b],\n",
    "        [epsilon_c],\n",
    "    )) * 2\n",
    "\n"
   ]
  },
  {
   "cell_type": "markdown",
   "metadata": {},
   "source": [
    "p. 396 fig 8.24\n",
    "\n"
   ]
  },
  {
   "cell_type": "code",
   "execution_count": null,
   "metadata": {},
   "outputs": [],
   "source": [
    "x_45 = sy.simplify(A.subs(strain_rosette_45_deg_dict).inv() * b)\n",
    "\n"
   ]
  },
  {
   "cell_type": "code",
   "execution_count": null,
   "metadata": {
    "scrolled": false
   },
   "outputs": [],
   "source": [
    "x_45\n",
    "\n"
   ]
  },
  {
   "cell_type": "markdown",
   "metadata": {},
   "source": [
    "`sympy` 계산 시간<br>`sympy` computation time\n",
    "\n"
   ]
  },
  {
   "cell_type": "code",
   "execution_count": null,
   "metadata": {},
   "outputs": [],
   "source": [
    "%%time \n",
    "x_45 = sy.simplify(A.subs(strain_rosette_45_deg_dict).inv() * b)\n",
    "\n"
   ]
  },
  {
   "cell_type": "markdown",
   "metadata": {},
   "source": [
    "p. 396 fig 8.25\n",
    "\n"
   ]
  },
  {
   "cell_type": "code",
   "execution_count": null,
   "metadata": {},
   "outputs": [],
   "source": [
    "x_60 = sy.simplify(A.subs(strain_rosette_60_deg_dict).inv() * b)\n",
    "\n"
   ]
  },
  {
   "cell_type": "code",
   "execution_count": null,
   "metadata": {
    "scrolled": false
   },
   "outputs": [],
   "source": [
    "x_60\n",
    "\n"
   ]
  },
  {
   "cell_type": "markdown",
   "metadata": {},
   "source": [
    "`sympy` 계산 시간<br>`sympy` computation time\n",
    "\n"
   ]
  },
  {
   "cell_type": "code",
   "execution_count": null,
   "metadata": {},
   "outputs": [],
   "source": [
    "%%time \n",
    "x_60 = sy.simplify(A.subs(strain_rosette_60_deg_dict).inv() * b)\n",
    "\n"
   ]
  },
  {
   "cell_type": "code",
   "execution_count": null,
   "metadata": {
    "collapsed": true
   },
   "outputs": [],
   "source": []
  }
 ],
 "metadata": {
  "anaconda-cloud": {},
  "kernelspec": {
   "display_name": "Python 3",
   "language": "python",
   "name": "python3"
  },
  "language_info": {
   "codemirror_mode": {
    "name": "ipython",
    "version": 3
   },
   "file_extension": ".py",
   "mimetype": "text/x-python",
   "name": "python",
   "nbconvert_exporter": "python",
   "pygments_lexer": "ipython3",
   "version": "3.7.1"
  }
 },
 "nbformat": 4,
 "nbformat_minor": 2
}