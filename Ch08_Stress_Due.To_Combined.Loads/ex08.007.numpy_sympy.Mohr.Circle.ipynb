{
 "cells": [
  {
   "cell_type": "markdown",
   "metadata": {
    "colab_type": "text",
    "id": "view-in-github"
   },
   "source": [
    "<a href=\"https://colab.research.google.com/github/kangwonlee/momisp/blob/main/Ch08_Stress_Due.To_Combined.Loads/ex08.007.numpy_sympy.Mohr.Circle.ipynb\" target=\"_parent\"><img src=\"https://colab.research.google.com/assets/colab-badge.svg\" alt=\"Open In Colab\"/></a>"
   ]
  },
  {
   "cell_type": "markdown",
   "metadata": {},
   "source": [
    "참고문헌 : Pytel 외 저, 이주성 외 역, 재료역학, 2판, 한티미디어, 2013.<br>Ref: Pytel, Kiusalaas, Sharma, Mechanics of Materials, 2nd Ed., Cengage Learning, 2013.\n",
    "\n"
   ]
  },
  {
   "cell_type": "markdown",
   "metadata": {},
   "source": [
    "`python` 기능을 확장해 주는 `module`을 불러 들임 (일부 기능만 사용될 수도 있음)<br>\n",
    "Bring in `module`'s that would expand features of `python`. (This file may use just some of them.)\n",
    "\n"
   ]
  },
  {
   "cell_type": "code",
   "execution_count": null,
   "metadata": {},
   "outputs": [],
   "source": [
    "import numpy as np  # 배열, 행렬 관련 기능\n",
    "import numpy.linalg as na  # 선형대수 (벡터, 행렬) 관련 기능\n",
    "import matplotlib.pyplot as plt  # 그래프 관련 기능\n",
    "import matplotlib.patches as patch # 도형 관련 기능\n",
    "import scipy.integrate as si  # 적분 관련 기능\n",
    "import sympy as sy  # 기호 연산 기능\n",
    "import sympy.plotting as splot\n",
    "import IPython.display as disp  # 웹페이지 표시 기능\n",
    "sy.init_printing()  # 기호 연산 결과 표시 기능 준비\n",
    "\n"
   ]
  },
  {
   "cell_type": "markdown",
   "metadata": {},
   "source": [
    "## 예제 08.007<br>ex08.007\n",
    "\n"
   ]
  },
  {
   "cell_type": "markdown",
   "metadata": {},
   "source": [
    "모어의 원<br>Mohr's circle\n",
    "\n"
   ]
  },
  {
   "cell_type": "markdown",
   "metadata": {},
   "source": [
    "p. 362\n",
    "\n"
   ]
  },
  {
   "cell_type": "markdown",
   "metadata": {},
   "source": [
    "### 문제에서 주어진 변수<br>Given Parameters\n",
    "\n"
   ]
  },
  {
   "cell_type": "markdown",
   "metadata": {},
   "source": [
    "2차원 응력<br>2D stress\n",
    "\n"
   ]
  },
  {
   "cell_type": "code",
   "execution_count": null,
   "metadata": {},
   "outputs": [],
   "source": [
    "sigma_x_Pa, sigma_y_Pa, tau_xy_Pa = sy.symbols('sigma_{x}[Pa], sigma_{y}[Pa], tau_{xy}[Pa]', real=True)\n",
    "\n",
    "s_d = {\n",
    "    sigma_x_Pa: 40e6,\n",
    "    sigma_y_Pa: 20e6,\n",
    "    tau_xy_Pa: 16e6,\n",
    "}\n",
    "\n"
   ]
  },
  {
   "cell_type": "markdown",
   "metadata": {},
   "source": [
    "응력 상태 표시 준비<br>Prepare for stress status plot\n",
    "\n"
   ]
  },
  {
   "cell_type": "code",
   "execution_count": null,
   "metadata": {},
   "outputs": [],
   "source": [
    "import os   # 운영체제 관련 기능 Operating Systems\n",
    "import sys  # 시스템 관련 기능 Systems\n",
    "# utils 폴더의 모듈을 import 할 수 있도록 준비\n",
    "# add utils folder to sys.path to import\n",
    "sys.path.append(os.path.abspath(os.path.join(os.pardir, 'utils')))\n",
    "# 선도 관련 기능 diagrams\n",
    "import draw_diagrams\n",
    "\n"
   ]
  },
  {
   "cell_type": "markdown",
   "metadata": {},
   "source": [
    "응력상태를 표시함<br>Draw stress status\n",
    "\n"
   ]
  },
  {
   "cell_type": "code",
   "execution_count": null,
   "metadata": {},
   "outputs": [],
   "source": [
    "draw_diagrams.draw_stress_2d(sigma_x_Pa.subs(s_d), \n",
    "                             sigma_y_Pa.subs(s_d), \n",
    "                             tau_xy_Pa.subs(s_d))\n",
    "plt.show()\n",
    "\n"
   ]
  },
  {
   "cell_type": "markdown",
   "metadata": {},
   "source": [
    "회전 각도<br>Rotation angle\n",
    "\n"
   ]
  },
  {
   "cell_type": "code",
   "execution_count": null,
   "metadata": {},
   "outputs": [],
   "source": [
    "theta_deg = sy.symbols('theta[deg]', real=True)\n",
    "theta_rad = sy.rad(theta_deg)\n",
    "\n",
    "s_d[theta_deg] = 50\n",
    "\n"
   ]
  },
  {
   "cell_type": "markdown",
   "metadata": {},
   "source": [
    "회전 각도를 라디안 단위로 표시<br>Rotation angle in radians\n",
    "\n"
   ]
  },
  {
   "cell_type": "code",
   "execution_count": null,
   "metadata": {},
   "outputs": [],
   "source": [
    "theta_rad.subs(s_d)\n",
    "\n"
   ]
  },
  {
   "cell_type": "markdown",
   "metadata": {},
   "source": [
    "### 모어의 원<br>Mohr's circle\n",
    "\n"
   ]
  },
  {
   "cell_type": "markdown",
   "metadata": {},
   "source": [
    "p. 358 eq. 8.13 : 원의 중심의 $x$ 좌표<br>p. 358 eq. 8.13 : $x$ coordinate of the center of the circle\n",
    "\n"
   ]
  },
  {
   "cell_type": "markdown",
   "metadata": {},
   "source": [
    "$$\n",
    "\\overline{\\sigma}=\\frac{\\sigma_x + \\sigma_y}{2}\n",
    "$$\n",
    "\n"
   ]
  },
  {
   "cell_type": "code",
   "execution_count": null,
   "metadata": {},
   "outputs": [],
   "source": [
    "sigma_bar_Pa = (sigma_x_Pa + sigma_y_Pa) / 2\n",
    "\n"
   ]
  },
  {
   "cell_type": "code",
   "execution_count": null,
   "metadata": {
    "scrolled": true
   },
   "outputs": [],
   "source": [
    "sigma_bar_Pa\n",
    "\n"
   ]
  },
  {
   "cell_type": "markdown",
   "metadata": {},
   "source": [
    "MPa 단위값<br>In MPa unit\n",
    "\n"
   ]
  },
  {
   "cell_type": "code",
   "execution_count": null,
   "metadata": {},
   "outputs": [],
   "source": [
    "sigma_bar_MPa = float(sigma_bar_Pa.subs(s_d)) * 1e-6\n",
    "\n"
   ]
  },
  {
   "cell_type": "code",
   "execution_count": null,
   "metadata": {},
   "outputs": [],
   "source": [
    "sigma_bar_MPa\n",
    "\n"
   ]
  },
  {
   "cell_type": "markdown",
   "metadata": {},
   "source": [
    "원의 중심을 표시함<br>Mark the center of the circle\n",
    "\n"
   ]
  },
  {
   "cell_type": "code",
   "execution_count": null,
   "metadata": {},
   "outputs": [],
   "source": [
    "ax = plt.subplot(1, 2, 1)\n",
    "\n",
    "ax.plot(sigma_bar_MPa, 0, 'k+')\n",
    "ax.plot((0, 60), (0, 0), 'k+', alpha=0)\n",
    "\n",
    "plt.axis('equal')\n",
    "plt.grid(True)\n",
    "\n",
    "plt.xlabel('$\\\\sigma$[MPa]')\n",
    "plt.ylabel('$\\\\tau$[MPa]')\n",
    "\n",
    "# 응력상태를 표시함 Indicate stress status\n",
    "ax = plt.subplot(1, 2, 2)\n",
    "draw_diagrams.draw_stress_2d(sigma_x_Pa.subs(s_d), \n",
    "                             sigma_y_Pa.subs(s_d), \n",
    "                             tau_xy_Pa.subs(s_d), ax=ax)\n",
    "\n",
    "plt.show()\n",
    "plt.clf()\n",
    "\n"
   ]
  },
  {
   "cell_type": "markdown",
   "metadata": {},
   "source": [
    "p. 358 eq. 8.9 : 원의 반지름<br>p. 358 eq. 8.9 : Radius of the circle\n",
    "\n"
   ]
  },
  {
   "cell_type": "markdown",
   "metadata": {},
   "source": [
    "$$\n",
    "R=\\sqrt { \\left( \\frac{\\sigma_x - \\sigma_y}{2} \\right)^2 + \\tau_{xy}^2 }\n",
    "$$\n",
    "\n"
   ]
  },
  {
   "cell_type": "code",
   "execution_count": null,
   "metadata": {},
   "outputs": [],
   "source": [
    "R_Pa = sy.sqrt(((sigma_x_Pa - sigma_y_Pa) / 2) ** 2 + tau_xy_Pa ** 2)\n",
    "\n"
   ]
  },
  {
   "cell_type": "code",
   "execution_count": null,
   "metadata": {
    "scrolled": false
   },
   "outputs": [],
   "source": [
    "R_Pa\n",
    "\n"
   ]
  },
  {
   "cell_type": "markdown",
   "metadata": {},
   "source": [
    "MPa 단위값<br>In MPa unit\n",
    "\n"
   ]
  },
  {
   "cell_type": "code",
   "execution_count": null,
   "metadata": {},
   "outputs": [],
   "source": [
    "R_MPa = float(R_Pa.subs(s_d)) * 1e-6\n",
    "\n"
   ]
  },
  {
   "cell_type": "code",
   "execution_count": null,
   "metadata": {
    "scrolled": true
   },
   "outputs": [],
   "source": [
    "R_MPa\n",
    "\n"
   ]
  },
  {
   "cell_type": "markdown",
   "metadata": {},
   "source": [
    "원을 표시함<br>Draw circle\n",
    "\n"
   ]
  },
  {
   "cell_type": "code",
   "execution_count": null,
   "metadata": {},
   "outputs": [],
   "source": [
    "fig, ax = plt.subplots()\n",
    "\n",
    "ax.plot(sigma_bar_MPa, 0, 'k+')\n",
    "\n",
    "circle = patch.Circle((sigma_bar_MPa, 0), R_MPa)\n",
    "ax.add_patch(circle)\n",
    "\n",
    "plt.axis('equal')\n",
    "plt.grid(True)\n",
    "\n",
    "plt.xlabel('$\\\\sigma$[MPa]')\n",
    "plt.ylabel('$\\\\tau$[MPa]')\n",
    "\n",
    "plt.show()\n",
    "plt.clf()\n",
    "\n"
   ]
  },
  {
   "cell_type": "markdown",
   "metadata": {},
   "source": [
    "주응력 방향<br>The principal direction\n",
    "\n"
   ]
  },
  {
   "cell_type": "code",
   "execution_count": null,
   "metadata": {},
   "outputs": [],
   "source": [
    "b_Pa = sigma_x_Pa - sigma_bar_Pa\n",
    "\n"
   ]
  },
  {
   "cell_type": "code",
   "execution_count": null,
   "metadata": {},
   "outputs": [],
   "source": [
    "h_Pa = - tau_xy_Pa\n",
    "\n"
   ]
  },
  {
   "cell_type": "code",
   "execution_count": null,
   "metadata": {},
   "outputs": [],
   "source": [
    "theta_2_rad = float(sy.atan2(h_Pa, b_Pa).subs(s_d))\n",
    "\n"
   ]
  },
  {
   "cell_type": "code",
   "execution_count": null,
   "metadata": {},
   "outputs": [],
   "source": [
    "theta_2_rad\n",
    "\n"
   ]
  },
  {
   "cell_type": "code",
   "execution_count": null,
   "metadata": {},
   "outputs": [],
   "source": [
    "theta_2_deg = np.degrees(theta_2_rad)\n",
    "\n"
   ]
  },
  {
   "cell_type": "code",
   "execution_count": null,
   "metadata": {},
   "outputs": [],
   "source": [
    "theta_2_deg\n",
    "\n"
   ]
  },
  {
   "cell_type": "code",
   "execution_count": null,
   "metadata": {},
   "outputs": [],
   "source": [
    "delta_x_MPa, delta_y_MPa = R_MPa * np.cos(theta_2_rad), R_MPa * np.sin(theta_2_rad)\n",
    "\n"
   ]
  },
  {
   "cell_type": "markdown",
   "metadata": {},
   "source": [
    "주응력 방향을 표시함<br>Indicate the principal direction\n",
    "\n"
   ]
  },
  {
   "cell_type": "code",
   "execution_count": null,
   "metadata": {},
   "outputs": [],
   "source": [
    "ax = plt.subplot(1, 2, 1)\n",
    "\n",
    "ax.plot(sigma_bar_MPa, 0, 'k+')\n",
    "\n",
    "circle = patch.Circle((sigma_bar_MPa, 0), R_MPa)\n",
    "ax.add_patch(circle)\n",
    "\n",
    "ax.plot((sigma_bar_MPa + delta_x_MPa, sigma_bar_MPa - delta_x_MPa), (delta_y_MPa, -delta_y_MPa), 'k-')\n",
    "\n",
    "plt.axis('equal')\n",
    "plt.grid(True)\n",
    "\n",
    "plt.xlabel('$\\\\sigma$[MPa]')\n",
    "plt.ylabel('$\\\\tau$[MPa]')\n",
    "\n",
    "ax2 = plt.subplot(1, 2, 2)\n",
    "draw_diagrams.draw_stress_2d(sigma_bar_MPa + R_MPa, \n",
    "                             sigma_bar_MPa - R_MPa, \n",
    "                             0, ax=ax2, angle_deg = (-0.5) * theta_2_deg)\n",
    "\n",
    "plt.show()\n",
    "plt.clf()\n",
    "\n"
   ]
  },
  {
   "cell_type": "markdown",
   "metadata": {},
   "source": [
    "또는 다음과 같이도 가능하다<br>Also available:\n",
    "\n"
   ]
  },
  {
   "cell_type": "code",
   "execution_count": null,
   "metadata": {},
   "outputs": [],
   "source": [
    "ax = plt.subplot(1, 2, 1)\n",
    "draw_diagrams.plot_mohr_circle(float(sigma_x_Pa.subs(s_d)), \n",
    "                               float(sigma_y_Pa.subs(s_d)), \n",
    "                               float(tau_xy_Pa.subs(s_d)), ax=ax)\n",
    "\n",
    "ax2 = plt.subplot(1, 2, 2)\n",
    "draw_diagrams.draw_stress_2d(sigma_bar_MPa + R_MPa, \n",
    "                             sigma_bar_MPa - R_MPa, \n",
    "                             0, ax=ax2, angle_deg = (-0.5) * theta_2_deg)\n",
    "\n",
    "plt.show()\n",
    "plt.clf()\n",
    "\n"
   ]
  },
  {
   "cell_type": "markdown",
   "metadata": {},
   "source": [
    "### eq. 8.5\n",
    "\n"
   ]
  },
  {
   "cell_type": "code",
   "execution_count": null,
   "metadata": {},
   "outputs": [],
   "source": [
    "theta_deg_array = np.arange(0, 360+1, 0.01)\n",
    "theta_rad_array = np.deg2rad(theta_deg_array)\n",
    "\n",
    "sx_Pa = 30e6\n",
    "sy_Pa = 60e6\n",
    "txy_Pa = 40e6\n",
    "\n",
    "sx_sy_half_Pa = (sx_Pa + sy_Pa) * 0.5\n",
    "sx_m_sy_half_Pa = (sx_Pa - sy_Pa) * 0.5\n",
    "\n",
    "sx_Pa_array = sx_sy_half_Pa + sx_m_sy_half_Pa * np.cos(2*theta_rad_array) + txy_Pa * np.sin(2*theta_rad_array)\n",
    "sy_Pa_array = sx_sy_half_Pa - sx_m_sy_half_Pa * np.cos(2*theta_rad_array) - txy_Pa * np.sin(2*theta_rad_array)\n",
    "txy_Pa_array = - sx_m_sy_half_Pa * np.sin(2*theta_rad_array) + txy_Pa * np.cos(2*theta_rad_array)\n",
    "\n",
    "sigma_xp_x = np.cos(theta_rad_array) * sx_Pa_array\n",
    "sigma_xp_y = np.sin(theta_rad_array) * sx_Pa_array\n",
    "\n",
    "sigma_yp_x = np.cos(theta_rad_array) * sy_Pa_array\n",
    "sigma_yp_y = np.sin(theta_rad_array) * sy_Pa_array\n",
    "\n",
    "tau_xpyp_x = np.cos(theta_rad_array) * txy_Pa_array\n",
    "tau_xpyp_y = np.sin(theta_rad_array) * txy_Pa_array\n",
    "\n",
    "plt.plot(sigma_xp_x, sigma_xp_y, label=\"$\\\\sigma_{x'}$\")\n",
    "plt.plot(sigma_yp_x, sigma_yp_y, label=\"$\\\\sigma_{y'}$\")\n",
    "plt.plot(tau_xpyp_x, tau_xpyp_y, label=\"$\\\\tau_{x'y'}$\")\n",
    "\n",
    "plt.plot([sx_Pa], [sy_Pa], '.')\n",
    "plt.grid(True)\n",
    "plt.axis('equal')\n",
    "plt.legend(loc=0)\n",
    "\n",
    "plt.show()\n",
    "\n"
   ]
  },
  {
   "cell_type": "code",
   "execution_count": null,
   "metadata": {},
   "outputs": [],
   "source": []
  }
 ],
 "metadata": {
  "anaconda-cloud": {},
  "kernelspec": {
   "display_name": "Python 3",
   "language": "python",
   "name": "python3"
  },
  "language_info": {
   "codemirror_mode": {
    "name": "ipython",
    "version": 3
   },
   "file_extension": ".py",
   "mimetype": "text/x-python",
   "name": "python",
   "nbconvert_exporter": "python",
   "pygments_lexer": "ipython3",
   "version": "3.8.8"
  }
 },
 "nbformat": 4,
 "nbformat_minor": 2
}
