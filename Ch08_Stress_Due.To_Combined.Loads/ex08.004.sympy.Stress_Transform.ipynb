{
 "cells": [
  {
   "cell_type": "markdown",
   "metadata": {
    "id": "view-in-github",
    "colab_type": "text"
   },
   "source": [
    "<a href=\"https://colab.research.google.com/github/kangwonlee/momisp/blob/dependabot/pip/tests/scikit-learn-1.5.0/Ch08_Stress_Due.To_Combined.Loads/ex08.004.sympy.Stress_Transform.ipynb\" target=\"_parent\"><img src=\"https://colab.research.google.com/assets/colab-badge.svg\" alt=\"Open In Colab\"/></a>\n"
   ]
  },
  {
   "cell_type": "markdown",
   "metadata": {},
   "source": [
    "참고문헌 : Pytel 외 저, 이주성 외 역, 재료역학, 2판, 한티미디어, 2013.<br>Ref: Pytel, Kiusalaas, Sharma, Mechanics of Materials, 2nd Ed., Cengage Learning, 2013.\n",
    "\n"
   ]
  },
  {
   "cell_type": "markdown",
   "metadata": {},
   "source": [
    "`python` 기능을 확장해 주는 `module`을 불러 들임 (일부 기능만 사용될 수도 있음)<br>\n",
    "Bring in `module`'s that would expand features of `python`. (This file may use just some of them.)\n",
    "\n"
   ]
  },
  {
   "cell_type": "code",
   "execution_count": null,
   "metadata": {
    "collapsed": true
   },
   "outputs": [],
   "source": [
    "import numpy as np  # 배열, 행렬 관련 기능\n",
    "import numpy.linalg as na  # 선형대수 (벡터, 행렬) 관련 기능\n",
    "import matplotlib.pyplot as plt  # 그래프 관련 기능\n",
    "import matplotlib.patches as patch # 도형 관련 기능\n",
    "import scipy.integrate as si  # 적분 관련 기능\n",
    "import sympy as sy  # 기호 연산 기능\n",
    "import sympy.plotting as splot\n",
    "import IPython.display as disp  # 웹페이지 표시 기능\n",
    "sy.init_printing()  # 기호 연산 결과 표시 기능 준비\n",
    "\n"
   ]
  },
  {
   "cell_type": "markdown",
   "metadata": {},
   "source": [
    "## 예제 08.004<br>ex08.004\n",
    "\n"
   ]
  },
  {
   "cell_type": "markdown",
   "metadata": {},
   "source": [
    "2차원 응력 좌표 변환<br>2D stress coordinate transform\n",
    "\n"
   ]
  },
  {
   "cell_type": "markdown",
   "metadata": {},
   "source": [
    "p. 352\n",
    "\n"
   ]
  },
  {
   "cell_type": "markdown",
   "metadata": {},
   "source": [
    "### 문제에서 주어진 변수<br>Given Parameters\n",
    "\n"
   ]
  },
  {
   "cell_type": "markdown",
   "metadata": {},
   "source": [
    "2차원 응력<br>2D stress\n",
    "\n"
   ]
  },
  {
   "cell_type": "code",
   "execution_count": null,
   "metadata": {
    "collapsed": false
   },
   "outputs": [],
   "source": [
    "sigma_x_Pa, sigma_y_Pa, tau_xy_Pa = sy.symbols('sigma_{x}[Pa], sigma_{y}[Pa], tau_{xy}[Pa]', real=True)\n",
    "\n",
    "s_d = {\n",
    "    sigma_x_Pa: 30e6,\n",
    "    sigma_y_Pa: 60e6,\n",
    "    tau_xy_Pa: 40e6,\n",
    "}\n",
    "\n"
   ]
  },
  {
   "cell_type": "markdown",
   "metadata": {},
   "source": [
    "회전 각도<br>Rotation angle\n",
    "\n"
   ]
  },
  {
   "cell_type": "code",
   "execution_count": null,
   "metadata": {
    "collapsed": false
   },
   "outputs": [],
   "source": [
    "theta_deg = sy.symbols('theta[deg]', real=True)\n",
    "theta_rad = sy.rad(theta_deg)\n",
    "\n",
    "s_d[theta_deg] = 30\n",
    "\n"
   ]
  },
  {
   "cell_type": "markdown",
   "metadata": {},
   "source": [
    "회전 각도는 라디안 단위로 표시<br>Rotation angle in radians\n",
    "\n"
   ]
  },
  {
   "cell_type": "code",
   "execution_count": null,
   "metadata": {
    "collapsed": false
   },
   "outputs": [],
   "source": [
    "theta_rad.subs(s_d)\n",
    "\n"
   ]
  },
  {
   "cell_type": "markdown",
   "metadata": {},
   "source": [
    "### 좌표변환<br>Coordinate transformation\n",
    "\n"
   ]
  },
  {
   "cell_type": "markdown",
   "metadata": {},
   "source": [
    "p. 347 eq. 8.5\n",
    "\n"
   ]
  },
  {
   "cell_type": "markdown",
   "metadata": {},
   "source": [
    "$$\n",
    "\\begin{cases}\n",
    "    \\sigma_{x'} = \\frac{\\sigma_x+\\sigma_y}{2} + \\frac{\\sigma_x-\\sigma_y}{2} cos 2\\theta + \\tau_{xy} sin 2\\theta \\\\\n",
    "    \\sigma_{y'} = \\frac{\\sigma_x+\\sigma_y}{2} - \\frac{\\sigma_x-\\sigma_y}{2} cos 2\\theta - \\tau_{xy} sin 2\\theta \\\\\n",
    "    \\tau_{x'y'} = -\\frac{\\sigma_x-\\sigma_y}{2} sin 2\\theta + \\tau_{xy} cos 2\\theta \\\\\n",
    "\\end{cases}\n",
    "$$\n",
    "\n"
   ]
  },
  {
   "cell_type": "code",
   "execution_count": null,
   "metadata": {
    "collapsed": false
   },
   "outputs": [],
   "source": [
    "sigma_xp_Pa = (sigma_x_Pa + sigma_y_Pa)/2 + (sigma_x_Pa - sigma_y_Pa)/2 * sy.cos(2 * theta_rad) + tau_xy_Pa * sy.sin(2 * theta_rad)\n",
    "\n"
   ]
  },
  {
   "cell_type": "code",
   "execution_count": null,
   "metadata": {
    "collapsed": false
   },
   "outputs": [],
   "source": [
    "sigma_yp_Pa = (sigma_x_Pa + sigma_y_Pa)/2 - (sigma_x_Pa - sigma_y_Pa)/2 * sy.cos(2 * theta_rad) - tau_xy_Pa * sy.sin(2 * theta_rad)\n",
    "\n"
   ]
  },
  {
   "cell_type": "code",
   "execution_count": null,
   "metadata": {
    "collapsed": true
   },
   "outputs": [],
   "source": [
    "tau_xpyp_Pa = - (sigma_x_Pa - sigma_y_Pa)/2 * sy.sin(2 * theta_rad) + tau_xy_Pa * sy.cos(2 * theta_rad)\n",
    "\n"
   ]
  },
  {
   "cell_type": "code",
   "execution_count": null,
   "metadata": {
    "collapsed": false
   },
   "outputs": [],
   "source": [
    "sigma_xp_Pa\n",
    "\n"
   ]
  },
  {
   "cell_type": "code",
   "execution_count": null,
   "metadata": {
    "collapsed": false
   },
   "outputs": [],
   "source": [
    "sigma_yp_Pa\n",
    "\n"
   ]
  },
  {
   "cell_type": "code",
   "execution_count": null,
   "metadata": {
    "collapsed": false
   },
   "outputs": [],
   "source": [
    "tau_xpyp_Pa\n",
    "\n"
   ]
  },
  {
   "cell_type": "code",
   "execution_count": null,
   "metadata": {
    "collapsed": false
   },
   "outputs": [],
   "source": [
    "(sigma_xp_Pa.subs(s_d)) * 1e-6\n",
    "\n"
   ]
  },
  {
   "cell_type": "code",
   "execution_count": null,
   "metadata": {
    "collapsed": false
   },
   "outputs": [],
   "source": [
    "(sigma_yp_Pa.subs(s_d)) * 1e-6\n",
    "\n"
   ]
  },
  {
   "cell_type": "code",
   "execution_count": null,
   "metadata": {
    "collapsed": false
   },
   "outputs": [],
   "source": [
    "(tau_xpyp_Pa.subs(s_d)) * 1e-6\n",
    "\n"
   ]
  },
  {
   "cell_type": "code",
   "execution_count": null,
   "metadata": {
    "collapsed": false
   },
   "outputs": [],
   "source": [
    "float(sigma_xp_Pa.subs(s_d)) * 1e-6\n",
    "\n"
   ]
  },
  {
   "cell_type": "code",
   "execution_count": null,
   "metadata": {
    "collapsed": false
   },
   "outputs": [],
   "source": [
    "float(sigma_yp_Pa.subs(s_d)) * 1e-6\n",
    "\n"
   ]
  },
  {
   "cell_type": "code",
   "execution_count": null,
   "metadata": {
    "collapsed": false
   },
   "outputs": [],
   "source": [
    "float(tau_xpyp_Pa.subs(s_d)) * 1e-6\n",
    "\n"
   ]
  },
  {
   "cell_type": "code",
   "execution_count": null,
   "metadata": {},
   "outputs": [],
   "source": []
  }
 ],
 "metadata": {
  "anaconda-cloud": {},
  "kernelspec": {
   "display_name": "Python [default]",
   "language": "python",
   "name": "python3"
  },
  "language_info": {
   "codemirror_mode": {
    "name": "ipython",
    "version": 3
   },
   "file_extension": ".py",
   "mimetype": "text/x-python",
   "name": "python",
   "nbconvert_exporter": "python",
   "pygments_lexer": "ipython3",
   "version": "3.5.2"
  }
 },
 "nbformat": 4,
 "nbformat_minor": 2
}