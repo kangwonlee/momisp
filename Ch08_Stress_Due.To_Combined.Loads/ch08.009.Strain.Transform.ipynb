{
 "cells": [
  {
   "cell_type": "markdown",
   "metadata": {
    "id": "view-in-github",
    "colab_type": "text"
   },
   "source": [
    "<a href=\"https://colab.research.google.com/github/kangwonlee/momisp/blob/dependabot/pip/tests/scikit-learn-1.5.0/Ch08_Stress_Due.To_Combined.Loads/ch08.009.Strain.Transform.ipynb\" target=\"_parent\"><img src=\"https://colab.research.google.com/assets/colab-badge.svg\" alt=\"Open In Colab\"/></a>\n"
   ]
  },
  {
   "cell_type": "markdown",
   "metadata": {},
   "source": [
    "참고문헌 : Pytel 외 저, 이주성 외 역, 재료역학, 2판, 한티미디어, 2013.<br>Ref: Pytel, Kiusalaas, Sharma, Mechanics of Materials, 2nd Ed., Cengage Learning, 2013.\n",
    "\n"
   ]
  },
  {
   "cell_type": "markdown",
   "metadata": {},
   "source": [
    "`python` 기능을 확장해 주는 `module`을 불러 들임 (일부 기능만 사용될 수도 있음)<br>\n",
    "Bring in `module`'s that would expand features of `python`. (This file may use just some of them.)\n",
    "\n"
   ]
  },
  {
   "cell_type": "code",
   "execution_count": null,
   "metadata": {},
   "outputs": [],
   "source": [
    "import numpy as np  # 배열, 행렬 관련 기능\n",
    "import numpy.linalg as na  # 선형대수 (벡터, 행렬) 관련 기능\n",
    "import matplotlib.pyplot as plt  # 그래프 관련 기능\n",
    "import matplotlib.patches as patch # 도형 관련 기능\n",
    "import scipy.integrate as si  # 적분 관련 기능\n",
    "import sympy as sy  # 기호 연산 기능\n",
    "import sympy.plotting as splot\n",
    "import IPython.display as disp  # 웹페이지 표시 기능\n",
    "sy.init_printing()  # 기호 연산 결과 표시 기능 준비\n",
    "\n"
   ]
  },
  {
   "cell_type": "markdown",
   "metadata": {},
   "source": [
    "## 08.009 변형률의 변환<br>08.009 Strain Transform\n",
    "\n"
   ]
  },
  {
   "cell_type": "markdown",
   "metadata": {},
   "source": [
    "p. 387\n",
    "\n"
   ]
  },
  {
   "cell_type": "markdown",
   "metadata": {},
   "source": [
    "한 2차원 변형률 상태로부터 다른 각도의 변형률 상태를 변환<br>From a two dimensional strain status, find strain status for a different angle.\n",
    "\n"
   ]
  },
  {
   "cell_type": "markdown",
   "metadata": {},
   "source": [
    "### 2차원 변형률 상태<br>2D strain status\n",
    "\n"
   ]
  },
  {
   "cell_type": "markdown",
   "metadata": {},
   "source": [
    "p. 386 fig. 8.20 a), b)\n",
    "\n"
   ]
  },
  {
   "cell_type": "markdown",
   "metadata": {},
   "source": [
    "$$\n",
    "    M=\n",
    "    \\begin{bmatrix}\n",
    "        \\epsilon_{x} & \\gamma_{xy} \\\\\n",
    "        \\gamma_{xy} & \\epsilon_{y}\\\\\n",
    "    \\end{bmatrix}\n",
    "$$\n",
    "\n"
   ]
  },
  {
   "cell_type": "markdown",
   "metadata": {},
   "source": [
    "#### 수직 변형률<br>Normal strain\n",
    "\n"
   ]
  },
  {
   "cell_type": "markdown",
   "metadata": {},
   "source": [
    "p. 386 fig. 8.20 d) 에서 $\\overline{AC}$ 와 $\\overline{CA'}$ 의 길이는 각각 다음과 같다.<br>From p. 386 fig. 8.20 d), lengths of $\\overline{AC}$ and $\\overline{CA'}$ are as follows.\n",
    "\n"
   ]
  },
  {
   "cell_type": "markdown",
   "metadata": {},
   "source": [
    "$$\n",
    "\\begin{cases}\n",
    "    \\overline{AC} = \\epsilon_x dx + \\gamma_{xy} dy \\\\\n",
    "    \\overline{CA'} = \\epsilon_y dy\n",
    "\\end{cases}\n",
    "$$\n",
    "\n"
   ]
  },
  {
   "cell_type": "markdown",
   "metadata": {},
   "source": [
    "$x$ 방향으로부터 $\\theta$ 만큼 회전한 $x'$ 방향의 변형량 $\\overline{AB}$는 다음과 같다. (p. 387 b)<br>The displacement $\\overline{AB}$ in $x'$ direction, rotated from $x$ direction by $\\theta$, is as follows.\n",
    "\n"
   ]
  },
  {
   "cell_type": "markdown",
   "metadata": {},
   "source": [
    "$$\n",
    "\\begin{align}\n",
    "    \\overline{AB} &= {\\overline{AC}}{cos\\theta}+{\\overline{CA'}}{sin\\theta} \\\\\n",
    "                  &= \\left(\\epsilon_x dx + \\gamma_{xy} dy \\right){cos\\theta}+\\epsilon_y dy \\cdot {sin\\theta}\n",
    "\\end{align}\n",
    "$$\n",
    "\n"
   ]
  },
  {
   "cell_type": "markdown",
   "metadata": {},
   "source": [
    "양변을 원래의 미소 길이 $ds$ 로 나누면 $x'$ 방향 변형률을 얻을 수 있다.<br>Dividing both sides by $ds$, the original infinisimal length, gives the $x'$ directional strain.\n",
    "\n"
   ]
  },
  {
   "cell_type": "markdown",
   "metadata": {},
   "source": [
    "$$\n",
    "\\begin{align}\n",
    "    \\epsilon_{x'}\n",
    "    = \\frac{\\overline{AB}}{ds}\n",
    "    = \\left(\\epsilon_x \\frac{dx}{ds} + \\gamma_{xy} \\frac{dy}{ds} \\right){cos\\theta}+\\epsilon_y \\frac{dy}{ds} {sin\\theta}\n",
    "\\end{align}\n",
    "$$\n",
    "\n"
   ]
  },
  {
   "cell_type": "markdown",
   "metadata": {},
   "source": [
    "그림 8.20 c) 에서<br>From fig 8.20 c)\n",
    "\n"
   ]
  },
  {
   "cell_type": "markdown",
   "metadata": {},
   "source": [
    "$$\n",
    "    \\begin{align}\n",
    "        \\frac{dx}{ds} &= cos\\theta \\\\\n",
    "        \\frac{dy}{ds} &= sin\\theta \\\\\n",
    "    \\end{align}\n",
    "$$\n",
    "\n"
   ]
  },
  {
   "cell_type": "markdown",
   "metadata": {},
   "source": [
    "$$\n",
    "\\begin{align}\n",
    "    \\epsilon_{x'}= \\left(\\epsilon_x cos\\theta + \\gamma_{xy} sin\\theta \\right){cos\\theta}+\\epsilon_y sin^2\\theta\n",
    "\\end{align}\n",
    "$$\n",
    "\n"
   ]
  },
  {
   "cell_type": "markdown",
   "metadata": {},
   "source": [
    "$$\n",
    "\\begin{align}\n",
    "    \\epsilon_{x'}= \\epsilon_x cos^2\\theta+\\epsilon_y sin^2\\theta + \\gamma_{xy} sin\\theta {cos\\theta}\n",
    "\\end{align}\n",
    "$$\n",
    "\n"
   ]
  },
  {
   "cell_type": "markdown",
   "metadata": {},
   "source": [
    "p. 347 식 8.5 a) 와 마찬가지로 <br>As in p. 347 eq. 8.5 a)\n",
    "\n"
   ]
  },
  {
   "cell_type": "markdown",
   "metadata": {},
   "source": [
    "$$\n",
    "    \\begin{align}\n",
    "        cos^2\\theta &= \\frac{1+cos2\\theta}{2} \\\\\n",
    "        sin^2\\theta &= \\frac{1-cos2\\theta}{2} \\\\\n",
    "        sin\\theta cos\\theta &= \\frac{1}{2}sin2\\theta \\\\\n",
    "    \\end{align}\n",
    "$$\n",
    "\n"
   ]
  },
  {
   "cell_type": "markdown",
   "metadata": {},
   "source": [
    "$$\n",
    "\\begin{align}\n",
    "    \\epsilon_{x'}= \\epsilon_x \\frac{1+cos2\\theta}{2}+\\epsilon_y \\frac{1-cos2\\theta}{2} + \\gamma_{xy} \\frac{1}{2}sin2\\theta\n",
    "\\end{align}\n",
    "$$\n",
    "\n"
   ]
  },
  {
   "cell_type": "markdown",
   "metadata": {},
   "source": [
    "eq. 8.17 a)\n",
    "\n"
   ]
  },
  {
   "cell_type": "markdown",
   "metadata": {},
   "source": [
    "$$\n",
    "\\begin{align}\n",
    "    \\epsilon_{x'}= \\frac{\\epsilon_x + \\epsilon_y}{2} +\\frac{\\epsilon_x - \\epsilon_y}{2}cos2\\theta + \\gamma_{xy} \\frac{1}{2}sin2\\theta\n",
    "\\end{align}\n",
    "$$\n",
    "\n"
   ]
  },
  {
   "cell_type": "markdown",
   "metadata": {},
   "source": [
    "$\\epsilon_{x'}$ 에 $\\theta+\\frac{1}{2}\\pi$ 를 대입하면 $\\epsilon_{y'}$ 를 얻는다. <br>Substituting  $\\theta+\\frac{1}{2}\\pi$ to $\\epsilon_{x'}$ gives $\\epsilon_{y'}$ \n",
    "\n"
   ]
  },
  {
   "cell_type": "markdown",
   "metadata": {},
   "source": [
    "$$\n",
    "    \\begin{align}\n",
    "        cos 2\\left(\\theta + \\frac{\\pi}{2}\\right) \n",
    "            &= cos \\left(2\\theta + \\pi\\right) \n",
    "            = -cos 2\\theta\n",
    "            \\\\\n",
    "        sin 2\\left(\\theta + \\frac{\\pi}{2}\\right) \n",
    "            &= sin \\left(2\\theta + \\pi\\right) \n",
    "            = -sin 2\\theta\n",
    "            \\\\\n",
    "    \\end{align}\n",
    "$$\n",
    "\n"
   ]
  },
  {
   "cell_type": "markdown",
   "metadata": {},
   "source": [
    "eq. 8.17 b)\n",
    "\n"
   ]
  },
  {
   "cell_type": "markdown",
   "metadata": {},
   "source": [
    "$$\n",
    "\\begin{align}\n",
    "    \\epsilon_{y'}= \\frac{\\epsilon_x + \\epsilon_y}{2} -\\frac{\\epsilon_x - \\epsilon_y}{2}cos2\\theta - \\gamma_{xy} \\frac{1}{2}sin2\\theta\n",
    "\\end{align}\n",
    "$$\n",
    "\n"
   ]
  },
  {
   "cell_type": "markdown",
   "metadata": {},
   "source": [
    "#### 전단 변형률<br>Shear strain\n",
    "\n"
   ]
  },
  {
   "cell_type": "markdown",
   "metadata": {},
   "source": [
    "$y'$ 방향의 변형량 $\\overline{BA'}$는 다음과 같다. (p. 388 c)<br>The displacement $\\overline{BA'}$ in $y'$ direction is as follows.\n",
    "\n"
   ]
  },
  {
   "cell_type": "markdown",
   "metadata": {},
   "source": [
    "$$\n",
    "\\begin{align}\n",
    "    \\overline{BA'} &= -{\\overline{AC}}{sin\\theta}+{\\overline{CA'}}{cos\\theta} \\\\\n",
    "                  &= -\\left(\\epsilon_x dx + \\gamma_{xy} dy \\right){sin\\theta}+\\epsilon_y dy \\cdot {cos\\theta}\n",
    "\\end{align}\n",
    "$$\n",
    "\n"
   ]
  },
  {
   "cell_type": "markdown",
   "metadata": {},
   "source": [
    "반경 $ds$ 와 회전각 $\\beta$의 곱이 호의 길이 $\\overline{BA'}$ 이므로<br>\n",
    "Because radius $ds$ times rotation angle $\\beta$ equals arc length $\\overline{BA'}$\n",
    "\n"
   ]
  },
  {
   "cell_type": "markdown",
   "metadata": {},
   "source": [
    "$$\n",
    "    \\beta ds = \\overline{BA'} = -\\left(\\epsilon_x dx + \\gamma_{xy} dy \\right){sin\\theta}+\\epsilon_y dy \\cdot {cos\\theta}\n",
    "$$\n",
    "\n"
   ]
  },
  {
   "cell_type": "markdown",
   "metadata": {},
   "source": [
    "다시 한번 양변을 $ds$로 나누면 다음과 같다<br>Dividign both sides by $ds$ gives follows.\n",
    "\n"
   ]
  },
  {
   "cell_type": "markdown",
   "metadata": {},
   "source": [
    "$$\n",
    "    \\beta= -\\left(\\epsilon_x \\frac{dx}{ds} + \\gamma_{xy} \\frac{dy}{ds} \\right){sin\\theta}+\\epsilon_y \\frac{dy}{ds} \\cdot {cos\\theta}\n",
    "$$\n",
    "\n"
   ]
  },
  {
   "cell_type": "markdown",
   "metadata": {},
   "source": [
    "$$\n",
    "    \\begin{align}\n",
    "        \\frac{dx}{ds} &= cos\\theta \\\\\n",
    "        \\frac{dy}{ds} &= sin\\theta \\\\\n",
    "    \\end{align}\n",
    "$$\n",
    "\n"
   ]
  },
  {
   "cell_type": "markdown",
   "metadata": {},
   "source": [
    "$$\n",
    "    \\beta= -\\left(\\epsilon_x {cos\\theta} + \\gamma_{xy} {sin\\theta} \\right){sin\\theta}+\\epsilon_y {sin\\theta} \\cdot {cos\\theta}\n",
    "$$\n",
    "\n"
   ]
  },
  {
   "cell_type": "markdown",
   "metadata": {},
   "source": [
    "$$\n",
    "    \\beta= -\\epsilon_x {cos\\theta}{sin\\theta} - \\gamma_{xy} {sin^2\\theta} +\\epsilon_y {sin\\theta} \\cdot {cos\\theta}\n",
    "$$\n",
    "\n"
   ]
  },
  {
   "cell_type": "markdown",
   "metadata": {},
   "source": [
    "p. 388 (f)\n",
    "\n"
   ]
  },
  {
   "cell_type": "markdown",
   "metadata": {},
   "source": [
    "$$\n",
    "    \\beta= - \\left( \\epsilon_x - \\epsilon_y \\right) {cos\\theta}{sin\\theta} - \\gamma_{xy} {sin^2\\theta}\n",
    "$$\n",
    "\n"
   ]
  },
  {
   "cell_type": "markdown",
   "metadata": {},
   "source": [
    "$$\n",
    "    \\begin{align}\n",
    "        cos^2\\theta &= \\frac{1+cos2\\theta}{2} \\\\\n",
    "        sin^2\\theta &= \\frac{1-cos2\\theta}{2} \\\\\n",
    "        sin\\theta cos\\theta &= \\frac{1}{2}sin2\\theta \\\\\n",
    "    \\end{align}\n",
    "$$\n",
    "\n"
   ]
  },
  {
   "cell_type": "markdown",
   "metadata": {},
   "source": [
    "$$\n",
    "    \\beta= - \\frac{\\epsilon_x - \\epsilon_y}{2} {sin2\\theta} - \\gamma_{xy} \\frac{1 - cos2\\theta}{2}\n",
    "$$\n",
    "\n"
   ]
  },
  {
   "cell_type": "markdown",
   "metadata": {},
   "source": [
    "$\\beta$ 의 $\\theta$ 에 $\\theta + \\frac{1}{2}\\pi$ 를 대입하면 $\\beta'$을 얻는다.<br>\n",
    "Substituting $\\theta + \\frac{1}{2}\\pi$ to $\\theta$ of $\\beta$ gives  $\\beta'$.\n",
    "\n"
   ]
  },
  {
   "cell_type": "markdown",
   "metadata": {},
   "source": [
    "$$\n",
    "    \\beta'= - \\frac{\\epsilon_x - \\epsilon_y}{2} {sin2\\left(\\theta + \\frac{\\pi}{2}\\right)} - \\gamma_{xy} \\frac{1 - cos2\\left(\\theta + \\frac{\\pi}{2}\\right)}{2}\n",
    "$$\n",
    "\n"
   ]
  },
  {
   "cell_type": "markdown",
   "metadata": {},
   "source": [
    "$$\n",
    "    \\beta'= - \\frac{\\epsilon_x - \\epsilon_y}{2} {sin\\left(2\\theta + \\pi\\right)} - \\gamma_{xy} \\frac{1 - {cos\\left(2\\theta + \\pi\\right)}}{2}\n",
    "$$\n",
    "\n"
   ]
  },
  {
   "cell_type": "markdown",
   "metadata": {},
   "source": [
    "$$\n",
    "    \\beta'= \\frac{\\epsilon_x - \\epsilon_y}{2} {sin2\\theta} - \\gamma_{xy} \\frac{1 + {cos2\\theta}}{2}\n",
    "$$\n",
    "\n"
   ]
  },
  {
   "cell_type": "markdown",
   "metadata": {},
   "source": [
    "전단변형률 $\\gamma_{x'y'}$ 은 둘 사이의 차이 $\\beta - \\beta'$ 이다.\n",
    "\n"
   ]
  },
  {
   "cell_type": "markdown",
   "metadata": {},
   "source": [
    "$$\n",
    "\\begin{align}\n",
    "\\gamma_{x'y'} = \\beta - \\beta'= \n",
    "    & - \\frac{\\epsilon_x - \\epsilon_y}{2} {sin2\\theta} - \\gamma_{xy} \\frac{1 - cos2\\theta}{2} \\\\\n",
    "    &- \\left( \\frac{\\epsilon_x - \\epsilon_y}{2} {sin2\\theta} - \\gamma_{xy} \\frac{1 + {cos2\\theta}}{2} \\right)\n",
    "\\end{align}\n",
    "$$\n",
    "\n"
   ]
  },
  {
   "cell_type": "markdown",
   "metadata": {},
   "source": [
    "$$\n",
    "\\begin{align}\n",
    "\\gamma_{x'y'} = \n",
    "    & - \\frac{\\epsilon_x - \\epsilon_y}{2} {sin2\\theta} + \\gamma_{xy} \\frac{-1 + cos2\\theta}{2} \\\\\n",
    "    & - \\frac{\\epsilon_x - \\epsilon_y}{2} {sin2\\theta} + \\gamma_{xy} \\frac{1 + {cos2\\theta}}{2} \n",
    "\\end{align}\n",
    "$$\n",
    "\n"
   ]
  },
  {
   "cell_type": "markdown",
   "metadata": {},
   "source": [
    "$$\n",
    "\\begin{align}\n",
    "\\gamma_{x'y'} = \n",
    "    & - \\left({\\epsilon_x - \\epsilon_y} \\right) {sin2\\theta} + \\gamma_{xy} cos2\\theta\\\\\n",
    "\\end{align}\n",
    "$$\n",
    "\n"
   ]
  },
  {
   "cell_type": "markdown",
   "metadata": {},
   "source": [
    "$$\n",
    "\\begin{align}\n",
    "\\gamma = \n",
    "    & - \\left({\\epsilon_x - \\epsilon_y} \\right) {sin2\\theta} + \\gamma_{xy} cos2\\theta\\\\\n",
    "\\end{align}\n",
    "$$\n",
    "\n"
   ]
  },
  {
   "cell_type": "markdown",
   "metadata": {},
   "source": [
    "eq. 8.17 c)\n",
    "\n"
   ]
  },
  {
   "cell_type": "markdown",
   "metadata": {},
   "source": [
    "$$\n",
    "\\begin{align}\n",
    "\\frac{\\gamma}{2} = \n",
    "    & - \\frac{\\epsilon_x - \\epsilon_y}{2} {sin2\\theta} + \\frac{\\gamma_{xy}}{2} cos2\\theta\\\\\n",
    "\\end{align}\n",
    "$$\n",
    "\n"
   ]
  },
  {
   "cell_type": "markdown",
   "metadata": {},
   "source": [
    "#### 정리<br>Summary\n",
    "\n"
   ]
  },
  {
   "cell_type": "markdown",
   "metadata": {},
   "source": [
    "eq. 8.17 a)\n",
    "\n"
   ]
  },
  {
   "cell_type": "markdown",
   "metadata": {},
   "source": [
    "$$\n",
    "\\begin{align}\n",
    "    \\epsilon_{x'}= \\frac{\\epsilon_x + \\epsilon_y}{2} +\\frac{\\epsilon_x - \\epsilon_y}{2}cos2\\theta + \\gamma_{xy} \\frac{1}{2}sin2\\theta\n",
    "\\end{align}\n",
    "$$\n",
    "\n"
   ]
  },
  {
   "cell_type": "markdown",
   "metadata": {},
   "source": [
    "eq. 8.17 b)\n",
    "\n"
   ]
  },
  {
   "cell_type": "markdown",
   "metadata": {},
   "source": [
    "$$\n",
    "\\begin{align}\n",
    "    \\epsilon_{y'}= \\frac{\\epsilon_x + \\epsilon_y}{2} -\\frac{\\epsilon_x - \\epsilon_y}{2}cos2\\theta - \\gamma_{xy} \\frac{1}{2}sin2\\theta\n",
    "\\end{align}\n",
    "$$\n",
    "\n"
   ]
  },
  {
   "cell_type": "markdown",
   "metadata": {},
   "source": [
    "eq. 8.17 c)\n",
    "\n"
   ]
  },
  {
   "cell_type": "markdown",
   "metadata": {},
   "source": [
    "$$\n",
    "\\begin{align}\n",
    "\\frac{\\gamma}{2} = \n",
    "    & - \\frac{\\epsilon_x - \\epsilon_y}{2} {sin2\\theta} + \\frac{\\gamma_{xy}}{2} cos2\\theta\\\\\n",
    "\\end{align}\n",
    "$$\n",
    "\n"
   ]
  },
  {
   "cell_type": "markdown",
   "metadata": {},
   "source": [
    "### 변형률의 Mohr의 원<br>Mohr's cirlce for Strain\n",
    "\n"
   ]
  },
  {
   "cell_type": "markdown",
   "metadata": {},
   "source": [
    "$$\n",
    "\\begin{align}\n",
    "    \\epsilon_{x'}= \\frac{\\epsilon_x + \\epsilon_y}{2} +\\frac{\\epsilon_x - \\epsilon_y}{2}cos2\\theta + \\gamma_{xy} \\frac{1}{2}sin2\\theta\n",
    "\\end{align}\n",
    "$$\n",
    "\n"
   ]
  },
  {
   "cell_type": "markdown",
   "metadata": {},
   "source": [
    "$$\n",
    "\\begin{align}\n",
    "\\frac{\\gamma}{2} = \n",
    "    & - \\frac{\\epsilon_x - \\epsilon_y}{2} {sin2\\theta} + \\frac{\\gamma_{xy}}{2} cos2\\theta\\\\\n",
    "\\end{align}\n",
    "$$\n",
    "\n"
   ]
  },
  {
   "cell_type": "markdown",
   "metadata": {},
   "source": [
    "$$\n",
    "    \\begin{pmatrix}\n",
    "        \\epsilon_{x'}\\\\\n",
    "        \\frac{1}{2}\\gamma_{x'y'}\\\\\n",
    "    \\end{pmatrix}\n",
    "    =\n",
    "    \\begin{pmatrix}\n",
    "        \\frac{\\epsilon_x + \\epsilon_y}{2}\\\\\n",
    "        0\\\\\n",
    "    \\end{pmatrix}\n",
    "    +\n",
    "    \\begin{bmatrix}\n",
    "        cos2\\theta & sin2\\theta \\\\\n",
    "        -sin2\\theta & cos2\\theta\\\\\n",
    "    \\end{bmatrix}\n",
    "    \\begin{pmatrix}\n",
    "        \\frac{\\epsilon_x - \\epsilon_y}{2}\\\\\n",
    "        \\frac{1}{2}\\gamma_{xy}\\\\\n",
    "    \\end{pmatrix}\n",
    "$$\n",
    "\n"
   ]
  },
  {
   "cell_type": "code",
   "execution_count": null,
   "metadata": {},
   "outputs": [],
   "source": [
    "import os   # 운영체제 관련 기능 Operating Systems\n",
    "import sys  # 시스템 관련 기능 Systems\n",
    "# utils 폴더의 모듈을 import 할 수 있도록 준비\n",
    "# add utils folder to sys.path to import\n",
    "sys.path.append(os.path.abspath(os.path.join(os.pardir, 'utils')))\n",
    "# 선도 관련 기능 diagrams\n",
    "import draw_diagrams\n",
    "\n"
   ]
  },
  {
   "cell_type": "code",
   "execution_count": null,
   "metadata": {},
   "outputs": [],
   "source": [
    "epsilon_x = 800 * 10 **-6\n",
    "epsilon_y = 200 * 10 **-6\n",
    "gamma_xy = -600 * 10 **-6\n",
    "\n"
   ]
  },
  {
   "cell_type": "code",
   "execution_count": null,
   "metadata": {},
   "outputs": [],
   "source": [
    "ax0 = plt.subplot(1, 2, 1)\n",
    "draw_diagrams.draw_stress_2d(epsilon_x, \n",
    "                             epsilon_y, \n",
    "                             gamma_xy / 2, ax=ax0)\n",
    "ax1 = plt.subplot(1, 2, 2)\n",
    "draw_diagrams.plot_mohr_circle(epsilon_x, epsilon_y, gamma_xy / 2, ax=ax1, b_stress=False)\n",
    "plt.show()\n",
    "\n"
   ]
  },
  {
   "cell_type": "code",
   "execution_count": null,
   "metadata": {},
   "outputs": [],
   "source": []
  }
 ],
 "metadata": {
  "anaconda-cloud": {},
  "kernelspec": {
   "display_name": "Python 3",
   "language": "python",
   "name": "python3"
  },
  "language_info": {
   "codemirror_mode": {
    "name": "ipython",
    "version": 3
   },
   "file_extension": ".py",
   "mimetype": "text/x-python",
   "name": "python",
   "nbconvert_exporter": "python",
   "pygments_lexer": "ipython3",
   "version": "3.8.8"
  }
 },
 "nbformat": 4,
 "nbformat_minor": 2
}