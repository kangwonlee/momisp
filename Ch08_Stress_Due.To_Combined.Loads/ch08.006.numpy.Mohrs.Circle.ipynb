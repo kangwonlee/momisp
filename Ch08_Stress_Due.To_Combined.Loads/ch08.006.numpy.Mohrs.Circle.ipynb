{
 "cells": [
  {
   "cell_type": "markdown",
   "metadata": {
    "colab_type": "text",
    "id": "view-in-github"
   },
   "source": [
    "<a href=\"https://colab.research.google.com/github/kangwonlee/momisp/blob/main/Ch08_Stress_Due.To_Combined.Loads/ch08.006.numpy.Mohrs.Circle.ipynb\" target=\"_parent\"><img src=\"https://colab.research.google.com/assets/colab-badge.svg\" alt=\"Open In Colab\"/></a>"
   ]
  },
  {
   "cell_type": "markdown",
   "metadata": {},
   "source": [
    "참고문헌 : Pytel 외 저, 이주성 외 역, 재료역학, 2판, 한티미디어, 2013.<br>Ref: Pytel, Kiusalaas, Sharma, Mechanics of Materials, 2nd Ed., Cengage Learning, 2013.\n",
    "\n"
   ]
  },
  {
   "cell_type": "markdown",
   "metadata": {},
   "source": [
    "`python` 기능을 확장해 주는 `module`을 불러 들임 (일부 기능만 사용될 수도 있음)<br>\n",
    "Bring in `module`'s that would expand features of `python`. (This file may use just some of them.)\n",
    "\n"
   ]
  },
  {
   "cell_type": "code",
   "execution_count": null,
   "metadata": {},
   "outputs": [],
   "source": [
    "import numpy as np  # 배열, 행렬 관련 기능\n",
    "import numpy.linalg as na  # 선형대수 (벡터, 행렬) 관련 기능\n",
    "import matplotlib.pyplot as plt  # 그래프 관련 기능\n",
    "import matplotlib.patches as patch # 도형 관련 기능\n",
    "import scipy.integrate as si  # 적분 관련 기능\n",
    "import sympy as sy  # 기호 연산 기능\n",
    "import sympy.plotting as splot\n",
    "import IPython.display as disp  # 웹페이지 표시 기능\n",
    "sy.init_printing()  # 기호 연산 결과 표시 기능 준비\n",
    "\n"
   ]
  },
  {
   "cell_type": "markdown",
   "metadata": {},
   "source": [
    "## 08.006 모어의 원<br>08.006 Mohr's circle\n",
    "\n"
   ]
  },
  {
   "cell_type": "markdown",
   "metadata": {},
   "source": [
    "응력 상태로부터 주응력 등 다른 응력 상태를 그림으로 찾음<br>From a stress status, find other stress status(possibly principal stresses).\n",
    "\n"
   ]
  },
  {
   "cell_type": "markdown",
   "metadata": {},
   "source": [
    "p. 357\n",
    "\n"
   ]
  },
  {
   "cell_type": "markdown",
   "metadata": {},
   "source": [
    "### 2차원 응력 상태<br>2D stress status\n",
    "\n"
   ]
  },
  {
   "cell_type": "markdown",
   "metadata": {},
   "source": [
    "$$\n",
    "    \\begin{pmatrix}\n",
    "        \\sigma_{x'}\\\\\n",
    "        \\tau_{x'y'}\\\\\n",
    "    \\end{pmatrix}=\n",
    "    \\begin{bmatrix}\n",
    "        cos\\theta & sin\\theta \\\\\n",
    "        -sin\\theta & cos\\theta\\\\\n",
    "    \\end{bmatrix}\n",
    "    \\begin{bmatrix}\n",
    "        \\sigma_{x} & \\tau_{xy} \\\\\n",
    "        \\tau_{xy} & \\sigma_{y}\\\\\n",
    "    \\end{bmatrix}\n",
    "    \\begin{pmatrix}\n",
    "        cos\\theta\\\\\n",
    "        sin\\theta\\\\\n",
    "    \\end{pmatrix}\n",
    "$$\n",
    "\n"
   ]
  },
  {
   "cell_type": "markdown",
   "metadata": {},
   "source": [
    "p. 347 eq 8.5 a), c)\n",
    "\n"
   ]
  },
  {
   "cell_type": "markdown",
   "metadata": {},
   "source": [
    "$$\n",
    "    \\begin{cases}\n",
    "        \\sigma_{x'} &= \\frac{\\sigma_x + \\sigma_y}{2} \n",
    "                    &+ \\frac{\\sigma_x - \\sigma_y}{2}cos 2\\theta  \n",
    "                    &+ \\tau_{xy}sin 2\\theta \\\\\n",
    "        \\tau_{x'y'} &= &-\\frac{\\sigma_x - \\sigma_y}{2}sin 2\\theta \n",
    "                    &+ \\tau_{xy}cos 2\\theta \\\\\n",
    "    \\end{cases}\n",
    "$$\n",
    "\n"
   ]
  },
  {
   "cell_type": "markdown",
   "metadata": {},
   "source": [
    "행렬과 벡터를 이용하여 아래와 같이 표시할 수 있다.<br>An engineer can rewrite this equation as follows using a matrix and vectors.\n",
    "\n"
   ]
  },
  {
   "cell_type": "markdown",
   "metadata": {},
   "source": [
    "$$\n",
    "    \\begin{pmatrix}\n",
    "        \\sigma_{x'}\\\\\n",
    "        \\tau_{x'y'}\\\\\n",
    "    \\end{pmatrix}\n",
    "    =\n",
    "    \\begin{pmatrix}\n",
    "        \\frac{\\sigma_x + \\sigma_y}{2}\\\\\n",
    "        0\\\\\n",
    "    \\end{pmatrix}\n",
    "    +\n",
    "    \\begin{bmatrix}\n",
    "        cos2\\theta & sin2\\theta \\\\\n",
    "        -sin2\\theta & cos2\\theta\\\\\n",
    "    \\end{bmatrix}\n",
    "    \\begin{pmatrix}\n",
    "        \\frac{\\sigma_x - \\sigma_y}{2}\\\\\n",
    "        \\tau_{xy}\\\\\n",
    "    \\end{pmatrix}\n",
    "$$\n",
    "\n"
   ]
  },
  {
   "cell_type": "markdown",
   "metadata": {},
   "source": [
    "위 식의 행렬은 회전 행렬이다.<br>The matrix of equation is a rotation matrix.\n",
    "\n"
   ]
  },
  {
   "cell_type": "markdown",
   "metadata": {},
   "source": [
    "따라서 그 오른쪽의 벡터를 $-2\\theta$ 만큼 회전 시킬 것이다.<br>Thus it would rotate the vector on its right side by $-2\\theta$.\n",
    "\n"
   ]
  },
  {
   "cell_type": "markdown",
   "metadata": {},
   "source": [
    "$0 \\le \\theta \\le \\pi$ 라면, $0 \\le 2\\theta \\le 2\\pi$ 일 것이므로<br>Because $0 \\le \\theta \\le \\pi$ means $0 \\le 2\\theta \\le 2\\pi$\n",
    "\n"
   ]
  },
  {
   "cell_type": "markdown",
   "metadata": {},
   "source": [
    "위 방정식은 $\\begin{pmatrix} \\frac{\\sigma_x + \\sigma_y}{2} & 0\\\\ \\end{pmatrix} ^ T$ 을 중심으로 하는 원을 나타낸다. <br> the equation above represents a circle centered at $\\begin{pmatrix} \\frac{\\sigma_x + \\sigma_y}{2} & 0\\\\ \\end{pmatrix} ^ T$.\n",
    "\n"
   ]
  },
  {
   "cell_type": "markdown",
   "metadata": {},
   "source": [
    "#### 회전 행렬의 예<br>An example of the rotation matrix\n",
    "\n"
   ]
  },
  {
   "cell_type": "code",
   "execution_count": null,
   "metadata": {},
   "outputs": [],
   "source": [
    "theta_deg = 30\n",
    "theta_rad = np.deg2rad(theta_deg)\n",
    "rot_mat = np.matrix(\n",
    "    [(np.cos(2 * theta_rad), np.sin(2 * theta_rad)),\n",
    "     (-np.sin(2 * theta_rad), np.cos(2 * theta_rad)),]\n",
    ")\n",
    "vec = np.matrix(\n",
    "    [[2], \n",
    "     [1]]\n",
    ")\n",
    "rotated_vec = rot_mat * vec\n",
    "\n"
   ]
  },
  {
   "cell_type": "code",
   "execution_count": null,
   "metadata": {
    "scrolled": true
   },
   "outputs": [],
   "source": [
    "plt.clf()\n",
    "ax = plt.gca()\n",
    "# https://matplotlib.org/api/_as_gen/matplotlib.axes.Axes.arrow.html\n",
    "plt.annotate(\"\", xy=vec, xytext=(0, 0), arrowprops=dict(arrowstyle=\"->\"))\n",
    "plt.annotate(\"\", xy=rotated_vec, xytext=(0, 0), arrowprops=dict(arrowstyle=\"->\"))\n",
    "ax.add_patch(plt.Circle((0, 0), radius=(2**2 + 1**2) ** 0.5, fill=None, linewidth=0.5))\n",
    "plt.plot((0, vec[0, 0], rotated_vec[0, 0]),\n",
    "         (0, vec[1, 0], rotated_vec[1, 0]),\n",
    "         '.', alpha=0.0)\n",
    "plt.text(vec[0, 0], vec[1, 0], \"vec\")\n",
    "plt.text(rotated_vec[0, 0], rotated_vec[1, 0], \"rotated_vec\")\n",
    "plt.axis('equal')\n",
    "plt.grid(True)\n",
    "plt.show()\n",
    "\n"
   ]
  },
  {
   "cell_type": "markdown",
   "metadata": {},
   "source": [
    "#### 원의 방정식<br>Equation of a circle\n",
    "\n"
   ]
  },
  {
   "cell_type": "markdown",
   "metadata": {},
   "source": [
    "p. 347 eq 8.5 a), c)\n",
    "\n"
   ]
  },
  {
   "cell_type": "markdown",
   "metadata": {},
   "source": [
    "$$\n",
    "    \\begin{cases}\n",
    "        \\sigma_{x'} &= \\frac{\\sigma_x + \\sigma_y}{2} \n",
    "                    &+ \\frac{\\sigma_x - \\sigma_y}{2}cos 2\\theta  \n",
    "                    &+ \\tau_{xy}sin 2\\theta \\\\\n",
    "        \\tau_{x'y'} &= &-\\frac{\\sigma_x - \\sigma_y}{2}sin 2\\theta \n",
    "                    &+ \\tau_{xy}cos 2\\theta \\\\\n",
    "    \\end{cases}\n",
    "$$\n",
    "\n"
   ]
  },
  {
   "cell_type": "markdown",
   "metadata": {},
   "source": [
    "$$\n",
    "    \\begin{cases}\n",
    "        \\sigma_{x'} - \\frac{\\sigma_x + \\sigma_y}{2} \n",
    "                    &= \\frac{\\sigma_x - \\sigma_y}{2}cos 2\\theta  \n",
    "                    &+ \\tau_{xy}sin 2\\theta \\\\\n",
    "        \\tau_{x'y'} &= -\\frac{\\sigma_x - \\sigma_y}{2}sin 2\\theta \n",
    "                    &+ \\tau_{xy}cos 2\\theta \\\\\n",
    "    \\end{cases}\n",
    "$$\n",
    "\n"
   ]
  },
  {
   "cell_type": "markdown",
   "metadata": {},
   "source": [
    "두 식을 각각 제곱한 후 더하면 다음과 같다<br>Adding squares of both equation gives following.\n",
    "\n"
   ]
  },
  {
   "cell_type": "markdown",
   "metadata": {},
   "source": [
    "$$\n",
    "    \\begin{cases}\n",
    "        \\left(\\sigma_{x'} - \\frac{\\sigma_x + \\sigma_y}{2} \\right)^2\n",
    "                    &= \\left( \\frac{\\sigma_x - \\sigma_y}{2}cos 2\\theta + \\tau_{xy}sin 2\\theta \\right)^2 \\\\\n",
    "        \\tau_{x'y'}^2 &= \\left( -\\frac{\\sigma_x - \\sigma_y}{2}sin 2\\theta \n",
    "                    + \\tau_{xy}cos 2\\theta \\right)^2 \\\\\n",
    "    \\end{cases}\n",
    "$$\n",
    "\n"
   ]
  },
  {
   "cell_type": "markdown",
   "metadata": {},
   "source": [
    "$$\n",
    "    \\begin{cases}\n",
    "        \\left(\\sigma_{x'} - \\frac{\\sigma_x + \\sigma_y}{2} \\right)^2\n",
    "                    &= \\left( \\frac{\\sigma_x - \\sigma_y}{2} \\right)^2 cos^2 2\\theta \n",
    "                    + 2 \\frac{\\sigma_x - \\sigma_y}{2}cos 2\\theta \\tau_{xy}sin 2\\theta\n",
    "                    + \\tau_{xy}^2 sin^2 2\\theta \\\\\n",
    "        \\tau_{x'y'}^2 &= \\left( \\frac{\\sigma_x - \\sigma_y}{2} \\right)^2 sin^2 2\\theta \n",
    "                    - 2 \\frac{\\sigma_x - \\sigma_y}{2}sin 2\\theta \\tau_{xy}cos 2\\theta\n",
    "                    + \\tau_{xy}^2 cos^2 2\\theta \\\\\n",
    "    \\end{cases}\n",
    "$$\n",
    "\n"
   ]
  },
  {
   "cell_type": "markdown",
   "metadata": {},
   "source": [
    "$$\n",
    "\\begin{align}\n",
    "    \\left(\\sigma_{x'} - \\frac{\\sigma_x + \\sigma_y}{2} \\right)^2 \n",
    "    +\\tau_{x'y'}^2 = \\left( \\frac{\\sigma_x - \\sigma_y}{2} \\right)^2 \\left( cos^2 2\\theta + sin^2 2\\theta \\right) + \\tau_{xy}^2 \\left( sin^2 2\\theta + cos^2 2\\theta \\right)^2\\\\\n",
    "\\end{align}\n",
    "$$\n",
    "\n"
   ]
  },
  {
   "cell_type": "markdown",
   "metadata": {},
   "source": [
    "$$\n",
    "\\begin{align}\n",
    "    \\left(\\sigma_{x'} - \\frac{\\sigma_x + \\sigma_y}{2} \\right)^2 \n",
    "    +\\tau_{x'y'}^2 = \\left( \\frac{\\sigma_x - \\sigma_y}{2} \\right)^2 + \\tau_{xy}^2\\\\\n",
    "\\end{align}\n",
    "$$\n",
    "\n"
   ]
  },
  {
   "cell_type": "markdown",
   "metadata": {},
   "source": [
    "위 식을 다음 원의 방정식과 비교해 보자<br>Let's compare this equation with a circle's equation.\n",
    "\n"
   ]
  },
  {
   "cell_type": "markdown",
   "metadata": {},
   "source": [
    "$$\n",
    "\\begin{align}\n",
    "    \\left(x - x_c \\right)^2 +y^2 = R^2\\\\\n",
    "\\end{align}\n",
    "$$\n",
    "\n"
   ]
  },
  {
   "cell_type": "markdown",
   "metadata": {},
   "source": [
    "### 모어의 원<br>Mohr's circle\n",
    "\n"
   ]
  },
  {
   "cell_type": "markdown",
   "metadata": {},
   "source": [
    "아래 값은 예제 8.4로 부터 가져온 것이다.<br>Following values are from example 8.4\n",
    "\n"
   ]
  },
  {
   "cell_type": "code",
   "execution_count": null,
   "metadata": {},
   "outputs": [],
   "source": [
    "sigma_x_Pa = 30e6\n",
    "sigma_y_Pa = 60e6\n",
    "tau_xy_Pa = 40e6\n",
    "\n"
   ]
  },
  {
   "cell_type": "markdown",
   "metadata": {},
   "source": [
    "$\\sigma_{x'}$ 와 $\\sigma_{y'}$ 를 $x$축 위에 표시한다.\n",
    "\n"
   ]
  },
  {
   "cell_type": "code",
   "execution_count": null,
   "metadata": {},
   "outputs": [],
   "source": [
    "plt.clf()\n",
    "\n",
    "plt.plot((sigma_x_Pa, sigma_y_Pa), (0, 0), '.')\n",
    "\n",
    "plt.text(sigma_x_Pa, 0, '$\\\\sigma_x$')\n",
    "plt.text(sigma_y_Pa, 0, '$\\\\sigma_y$')\n",
    "\n",
    "plt.plot(0, 0, alpha=0)\n",
    "plt.xlabel('$\\\\sigma$')\n",
    "plt.ylabel('$\\\\tau$')\n",
    "plt.grid(True)\n",
    "plt.axis('equal')\n",
    "\n",
    "plt.show()\n",
    "\n"
   ]
  },
  {
   "cell_type": "markdown",
   "metadata": {},
   "source": [
    "두 점의 중간점을 중심으로 표시한다.<br>\n",
    "Indicate the mid-point as the center of the circle.\n",
    "\n"
   ]
  },
  {
   "cell_type": "code",
   "execution_count": null,
   "metadata": {},
   "outputs": [],
   "source": [
    "plt.clf()\n",
    "\n",
    "plt.plot((sigma_x_Pa, (sigma_x_Pa + sigma_y_Pa) * 0.5, sigma_y_Pa), (0, 0, 0), '.')\n",
    "plt.text(sigma_x_Pa, 0, '$\\\\sigma_x$')\n",
    "plt.text(sigma_y_Pa, 0, '$\\\\sigma_y$')\n",
    "plt.text((sigma_x_Pa + sigma_y_Pa) * 0.5, 0, '$\\\\frac{1}{2}\\\\left(\\\\sigma_x+\\\\sigma_y\\\\right)$')\n",
    "\n",
    "plt.plot(0, 0, alpha=0)\n",
    "plt.xlabel('$\\\\sigma$')\n",
    "plt.ylabel('$\\\\tau$')\n",
    "plt.grid(True)\n",
    "plt.axis('equal')\n",
    "\n",
    "plt.show()\n",
    "\n"
   ]
  },
  {
   "cell_type": "markdown",
   "metadata": {},
   "source": [
    "$\\sigma_y$로 부터 $\\tau_{xy}$ 길이의 수직선을 위로 그린다.<br>Starting from $\\sigma_y$, draw an upward vertical line $\\tau_{xy}$ long.\n",
    "\n"
   ]
  },
  {
   "cell_type": "code",
   "execution_count": null,
   "metadata": {},
   "outputs": [],
   "source": [
    "plt.clf()\n",
    "\n",
    "plt.plot((sigma_x_Pa, (sigma_x_Pa + sigma_y_Pa) * 0.5, sigma_y_Pa), (0, 0, 0), '.')\n",
    "plt.plot((sigma_y_Pa, sigma_y_Pa, ), (0, tau_xy_Pa), '.-')\n",
    "\n",
    "plt.text(sigma_x_Pa, 0, '$\\\\sigma_x$')\n",
    "plt.text(sigma_y_Pa, 0, '$\\\\sigma_y$')\n",
    "\n",
    "plt.text((sigma_x_Pa + sigma_y_Pa) * 0.5, 0, '$\\\\frac{1}{2}\\\\left(\\\\sigma_x+\\\\sigma_y\\\\right)$')\n",
    "plt.text(sigma_y_Pa, 0.5 * tau_xy_Pa, '$\\\\tau_{xy}$')\n",
    "\n",
    "plt.plot(0, 0, alpha=0)\n",
    "\n",
    "plt.xlabel('$\\\\sigma$')\n",
    "plt.ylabel('$\\\\tau$')\n",
    "plt.axis('equal')\n",
    "plt.grid(True)\n",
    "\n",
    "plt.show()\n",
    "\n"
   ]
  },
  {
   "cell_type": "markdown",
   "metadata": {},
   "source": [
    "수직선 위 끝으로 부터 원의 중심 까지 선분을 그린다.<br>From the top of the vertical line, draw a segment to the center of the circle.\n",
    "\n"
   ]
  },
  {
   "cell_type": "code",
   "execution_count": null,
   "metadata": {},
   "outputs": [],
   "source": [
    "plt.clf()\n",
    "\n",
    "plt.plot((sigma_x_Pa, (sigma_x_Pa + sigma_y_Pa) * 0.5, sigma_y_Pa), (0, 0, 0), '.')\n",
    "plt.plot((sigma_y_Pa, sigma_y_Pa,), (0, tau_xy_Pa), '.-')\n",
    "plt.plot((sigma_y_Pa, (sigma_x_Pa + sigma_y_Pa) * 0.5,), (tau_xy_Pa, 0), '.-')\n",
    "\n",
    "plt.text(sigma_x_Pa, 0, '$\\\\sigma_x$')\n",
    "plt.text(sigma_y_Pa, 0, '$\\\\sigma_y$')\n",
    "plt.text((sigma_x_Pa + sigma_y_Pa) * 0.5, 0, '$\\\\frac{1}{2}\\\\left(\\\\sigma_x+\\\\sigma_y\\\\right)$')\n",
    "plt.text(sigma_y_Pa, 0.5 * tau_xy_Pa, '$\\\\tau_{xy}$')\n",
    "\n",
    "plt.plot(0, 0, alpha=0)\n",
    "\n",
    "plt.xlabel('$\\\\sigma$')\n",
    "plt.ylabel('$\\\\tau$')\n",
    "plt.axis('equal')\n",
    "plt.grid(True)\n",
    "\n",
    "plt.show()\n",
    "\n"
   ]
  },
  {
   "cell_type": "markdown",
   "metadata": {},
   "source": [
    "같은 선분을 원의 중심으로 부터 그린다.<br>Draw the same segment from the center.\n",
    "\n"
   ]
  },
  {
   "cell_type": "code",
   "execution_count": null,
   "metadata": {},
   "outputs": [],
   "source": [
    "plt.clf()\n",
    "plt.plot((sigma_x_Pa, (sigma_x_Pa + sigma_y_Pa) * 0.5, sigma_y_Pa), (0, 0, 0), '.')\n",
    "plt.plot((sigma_y_Pa, sigma_y_Pa,), (0, tau_xy_Pa), '.-')\n",
    "plt.plot((sigma_y_Pa, (sigma_x_Pa + sigma_y_Pa) * 0.5,), (tau_xy_Pa, 0), '.-')\n",
    "plt.plot(((sigma_x_Pa + sigma_y_Pa) * 0.5, sigma_x_Pa), (0, -tau_xy_Pa,), '.-')\n",
    "\n",
    "plt.text(sigma_x_Pa, 0, '$\\\\sigma_x$')\n",
    "plt.text(sigma_y_Pa, 0, '$\\\\sigma_y$')\n",
    "plt.text((sigma_x_Pa + sigma_y_Pa) * 0.5, 0, '$\\\\frac{1}{2}\\\\left(\\\\sigma_x+\\\\sigma_y\\\\right)$')\n",
    "plt.text(sigma_y_Pa, 0.5 * tau_xy_Pa, '$\\\\tau_{xy}$')\n",
    "\n",
    "plt.plot(0, 0, alpha=0)\n",
    "\n",
    "plt.xlabel('$\\\\sigma$')\n",
    "plt.ylabel('$\\\\tau$')\n",
    "plt.axis('equal')\n",
    "plt.grid(True)\n",
    "\n",
    "plt.show()\n",
    "\n"
   ]
  },
  {
   "cell_type": "markdown",
   "metadata": {},
   "source": [
    "$\\sigma_x$ 로 부터  $\\tau_{xy}$ 길이의 수직선을 아래로 그리면 이 선분과 만난다.<br>A downward vertical segment from $\\sigma_x$ of length $\\tau_{xy}$ will meet with this segment.\n",
    "\n"
   ]
  },
  {
   "cell_type": "code",
   "execution_count": null,
   "metadata": {},
   "outputs": [],
   "source": [
    "plt.clf()\n",
    "\n",
    "plt.plot((sigma_x_Pa, (sigma_x_Pa + sigma_y_Pa) * 0.5, sigma_y_Pa), (0, 0, 0), '.')\n",
    "plt.plot((sigma_y_Pa, sigma_y_Pa,), (0, tau_xy_Pa), '.-')\n",
    "plt.plot((sigma_y_Pa, (sigma_x_Pa + sigma_y_Pa) * 0.5,), (tau_xy_Pa, 0), '.-')\n",
    "plt.plot(((sigma_x_Pa + sigma_y_Pa) * 0.5, sigma_x_Pa), (0, -tau_xy_Pa,), '.-')\n",
    "plt.plot((sigma_x_Pa, sigma_x_Pa), (0, -tau_xy_Pa,), '.-')\n",
    "\n",
    "plt.text(sigma_x_Pa, 0, '$\\\\sigma_x$')\n",
    "plt.text(sigma_y_Pa, 0, '$\\\\sigma_y$')\n",
    "\n",
    "plt.text((sigma_x_Pa + sigma_y_Pa) * 0.5, 0, '$\\\\frac{1}{2}\\\\left(\\\\sigma_x+\\\\sigma_y\\\\right)$')\n",
    "\n",
    "plt.text(sigma_y_Pa, 0.5 * tau_xy_Pa, '$\\\\tau_{xy}$')\n",
    "plt.text(sigma_x_Pa, -0.5 * tau_xy_Pa, '$\\\\tau_{xy}$', ha='right')\n",
    "\n",
    "plt.plot(0, 0, alpha=0)\n",
    "plt.xlabel('$\\\\sigma$')\n",
    "plt.ylabel('$\\\\tau$')\n",
    "plt.axis('equal')\n",
    "plt.grid(True)\n",
    "\n",
    "plt.show()\n",
    "\n"
   ]
  },
  {
   "cell_type": "markdown",
   "metadata": {},
   "source": [
    "중점을 중심으로 선분을 회전시키면 그 끝점은 원을 그린다.<br>If an engineer rotates the segment around the midpoint, its other end point would make a circle.\n",
    "\n"
   ]
  },
  {
   "cell_type": "code",
   "execution_count": null,
   "metadata": {},
   "outputs": [],
   "source": [
    "plt.clf()\n",
    "plt.plot((sigma_x_Pa, (sigma_x_Pa + sigma_y_Pa) * 0.5, sigma_y_Pa), (0, 0, 0), '.')\n",
    "plt.plot((sigma_y_Pa, sigma_y_Pa,), (0, tau_xy_Pa), '.-')\n",
    "plt.plot((sigma_y_Pa, (sigma_x_Pa + sigma_y_Pa) * 0.5,), (tau_xy_Pa, 0), '.-')\n",
    "plt.plot(((sigma_x_Pa + sigma_y_Pa) * 0.5, sigma_x_Pa), (0, -tau_xy_Pa,), '.-')\n",
    "plt.plot((sigma_x_Pa, sigma_x_Pa), (0, -tau_xy_Pa,), '.-')\n",
    "\n",
    "plt.gca().add_patch(\n",
    "    plt.Circle(((sigma_x_Pa + sigma_y_Pa) * 0.5, 0), \n",
    "               radius=(((sigma_x_Pa - sigma_y_Pa) * 0.5)**2 + tau_xy_Pa**2) ** 0.5, \n",
    "               fill=None, linewidth=0.5)\n",
    ")\n",
    "\n",
    "plt.text(sigma_x_Pa, 0, '$\\\\sigma_x$')\n",
    "plt.text(sigma_y_Pa, 0, '$\\\\sigma_y$')\n",
    "plt.text((sigma_x_Pa + sigma_y_Pa) * 0.5, 0, '$\\\\frac{1}{2}\\\\left(\\\\sigma_x+\\\\sigma_y\\\\right)$')\n",
    "plt.text(sigma_y_Pa, 0.5 * tau_xy_Pa, '$\\\\tau_{xy}$')\n",
    "plt.text(sigma_x_Pa, -0.5 * tau_xy_Pa, '$\\\\tau_{xy}$', ha='right')\n",
    "\n",
    "plt.plot(0, 0, alpha=0)\n",
    "plt.xlabel('$\\\\sigma$')\n",
    "plt.ylabel('$\\\\tau$')\n",
    "plt.grid(True)\n",
    "plt.axis('equal')\n",
    "\n",
    "plt.show()\n",
    "\n"
   ]
  },
  {
   "cell_type": "markdown",
   "metadata": {},
   "source": [
    "또는 아래와 같이 같이 표시할 수도 있을 것이다.<br>Also, an engineer can represent as follows.\n",
    "\n"
   ]
  },
  {
   "cell_type": "code",
   "execution_count": null,
   "metadata": {},
   "outputs": [],
   "source": [
    "import os   # 운영체제 관련 기능 Operating Systems\n",
    "import sys  # 시스템 관련 기능 Systems\n",
    "# utils 폴더의 모듈을 import 할 수 있도록 준비\n",
    "# add utils folder to sys.path to import\n",
    "sys.path.append(os.path.abspath(os.path.join(os.pardir, 'utils')))\n",
    "# 선도 관련 기능 diagrams\n",
    "import draw_diagrams\n",
    "\n"
   ]
  },
  {
   "cell_type": "code",
   "execution_count": null,
   "metadata": {},
   "outputs": [],
   "source": [
    "ax0 = plt.subplot(1, 2, 1)\n",
    "draw_diagrams.draw_stress_2d(sigma_x_Pa, \n",
    "                             sigma_y_Pa, \n",
    "                             tau_xy_Pa, ax=ax0)\n",
    "ax1 = plt.subplot(1, 2, 2)\n",
    "draw_diagrams.plot_mohr_circle(sigma_x_Pa, sigma_y_Pa, tau_xy_Pa)\n",
    "plt.show()\n",
    "\n"
   ]
  },
  {
   "cell_type": "code",
   "execution_count": null,
   "metadata": {},
   "outputs": [],
   "source": []
  }
 ],
 "metadata": {
  "anaconda-cloud": {},
  "kernelspec": {
   "display_name": "Python 3",
   "language": "python",
   "name": "python3"
  },
  "language_info": {
   "codemirror_mode": {
    "name": "ipython",
    "version": 3
   },
   "file_extension": ".py",
   "mimetype": "text/x-python",
   "name": "python",
   "nbconvert_exporter": "python",
   "pygments_lexer": "ipython3",
   "version": "3.8.8"
  }
 },
 "nbformat": 4,
 "nbformat_minor": 2
}
