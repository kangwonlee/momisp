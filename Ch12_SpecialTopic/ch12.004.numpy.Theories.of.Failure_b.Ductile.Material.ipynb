{
 "cells": [
  {
   "cell_type": "markdown",
   "metadata": {},
   "source": [
    "참고문헌 : Pytel 외 저, 이주성 외 역, 재료역학, 2판, 한티미디어, 2013.<br>Ref: Pytel, Kiusalaas, Sharma, Mechanics of Materials, 2nd Ed., Cengage Learning, 2013.\n",
    "\n"
   ]
  },
  {
   "cell_type": "markdown",
   "metadata": {},
   "source": [
    "`python` 기능을 확장해 주는 `module`을 불러 들임 (일부 기능만 사용될 수도 있음)<br>\n",
    "Bring in `module`'s that would expand features of `python`. (This file may use just some of them.)\n",
    "\n"
   ]
  },
  {
   "cell_type": "code",
   "execution_count": null,
   "metadata": {},
   "outputs": [],
   "source": [
    "import numpy as np  # 배열, 행렬 관련 기능\n",
    "import numpy.linalg as na  # 선형대수 (벡터, 행렬) 관련 기능\n",
    "import matplotlib.pyplot as plt  # 그래프 관련 기능\n",
    "import matplotlib.patches as patch # 도형 관련 기능\n",
    "import scipy.integrate as si  # 적분 관련 기능\n",
    "import sympy as sy  # 기호 연산 기능\n",
    "import sympy.plotting as splot\n",
    "import IPython.display as disp  # 웹페이지 표시 기능\n",
    "sy.init_printing()  # 기호 연산 결과 표시 기능 준비\n",
    "\n"
   ]
  },
  {
   "cell_type": "markdown",
   "metadata": {},
   "source": [
    "## 12.004 파손이론<br>12.004 Theory of Failure\n",
    "\n"
   ]
  },
  {
   "cell_type": "markdown",
   "metadata": {},
   "source": [
    "### b. 연성재료<br>b. Ductile Materials\n",
    "\n"
   ]
  },
  {
   "cell_type": "markdown",
   "metadata": {},
   "source": [
    "p. 524\n",
    "\n"
   ]
  },
  {
   "cell_type": "markdown",
   "metadata": {},
   "source": [
    "연성 재료의 항복 기준<br>Yield criterion of a ductile materials\n",
    "\n"
   ]
  },
  {
   "cell_type": "markdown",
   "metadata": {},
   "source": [
    "#### 최대전단응력이론 (Tresca의 항복 조건)<br>Maximum shear stress theory (Tresca's yield criterion)\n",
    "\n"
   ]
  },
  {
   "cell_type": "markdown",
   "metadata": {},
   "source": [
    "p. 524 eq. 12.16\n",
    "\n"
   ]
  },
  {
   "cell_type": "markdown",
   "metadata": {},
   "source": [
    "$$\n",
    "    \\left\\{\\frac{\\left|\\sigma_1\\right|}{\\sigma_{yp}}\\le 1\\right\\} \n",
    "    and \n",
    "    \\left\\{\\frac{\\left|\\sigma_2\\right|}{\\sigma_{yp}}\\le 1\\right\\} \n",
    "    and \n",
    "    \\left\\{\\frac{\\left|\\sigma_1-\\sigma_2\\right|}{\\sigma_{yp}}\\le 1\\right\\} \n",
    "$$\n",
    "\n"
   ]
  },
  {
   "cell_type": "markdown",
   "metadata": {},
   "source": [
    "p. 524 fig. 12.12\n",
    "\n"
   ]
  },
  {
   "cell_type": "code",
   "execution_count": null,
   "metadata": {},
   "outputs": [],
   "source": [
    "n = 200\n",
    "\n",
    "sigma_1_over_sigma_yp_array = np.linspace(-2, 2, n + 1)\n",
    "sigma_2_over_sigma_yp_array = np.linspace(-2, 2, n + 1)\n",
    "\n",
    "sigma_1_grid, sigma_2_grid = np.meshgrid(sigma_1_over_sigma_yp_array, \n",
    "                                         sigma_2_over_sigma_yp_array)\n",
    "\n"
   ]
  },
  {
   "cell_type": "code",
   "execution_count": null,
   "metadata": {},
   "outputs": [],
   "source": [
    "delta_sigma_grid = sigma_1_grid - sigma_2_grid\n",
    "\n",
    "condition_1_grid = np.abs(sigma_1_grid) <= 1\n",
    "condition_2_grid = np.abs(sigma_2_grid) <= 1\n",
    "condition_3_grid = np.abs(delta_sigma_grid) <= 1\n",
    "\n",
    "all_conditions_grid = condition_1_grid * condition_2_grid * condition_3_grid\n",
    "\n",
    "yield_grid = np.ones_like(sigma_1_grid)\n",
    "yield_grid[all_conditions_grid] = 0.0\n",
    "\n",
    "plt.pcolor(sigma_1_grid, sigma_2_grid, yield_grid, shading=\"auto\")\n",
    "plt.xlabel('$\\\\frac{\\\\sigma_1}{\\\\sigma_{yp}}}$')\n",
    "plt.ylabel('$\\\\frac{\\\\sigma_2}{\\\\sigma_{yp}}}$')\n",
    "plt.axis('equal')\n",
    "plt.show()\n",
    "\n"
   ]
  },
  {
   "cell_type": "markdown",
   "metadata": {},
   "source": [
    "#### 최대 뒤틀림 에너지 이론 (von Mises의 항복 조건)<br>Maximum distorsion energy theory (von Mises' yield criterion\n",
    "\n"
   ]
  },
  {
   "cell_type": "markdown",
   "metadata": {},
   "source": [
    "p. 525 eq. 12.17\n",
    "\n"
   ]
  },
  {
   "cell_type": "markdown",
   "metadata": {},
   "source": [
    "$$\n",
    "   \\left( \\frac{\\sigma_1}{\\sigma_{yp}} \\right)^2 \n",
    " + \\left( \\frac{\\sigma_2}{\\sigma_{yp}} \\right)^2 \n",
    " - \\left( \\frac{\\sigma_1}{\\sigma_{yp}} \\right) \\left( \\frac{\\sigma_2}{\\sigma_{yp}} \\right)\n",
    "   \\le 1\n",
    "$$\n",
    "\n"
   ]
  },
  {
   "cell_type": "markdown",
   "metadata": {},
   "source": [
    "p. 525 fig. 12.13\n",
    "\n"
   ]
  },
  {
   "cell_type": "code",
   "execution_count": null,
   "metadata": {},
   "outputs": [],
   "source": [
    "all_conditions_grid = (sigma_1_grid ** 2 + sigma_2_grid ** 2 - sigma_1_grid * sigma_2_grid) <= 1\n",
    "\n",
    "yield_grid = np.ones_like(sigma_1_grid)\n",
    "yield_grid[all_conditions_grid] = 0.0\n",
    "\n",
    "plt.pcolor(sigma_1_grid, sigma_2_grid, yield_grid, shading=\"auto\")\n",
    "plt.xlabel('$\\\\frac{\\\\sigma_1}{\\\\sigma_{yp}}}$')\n",
    "plt.ylabel('$\\\\frac{\\\\sigma_2}{\\\\sigma_{yp}}}$')\n",
    "plt.axis('equal')\n",
    "plt.show()\n",
    "\n"
   ]
  },
  {
   "cell_type": "code",
   "execution_count": null,
   "metadata": {},
   "outputs": [],
   "source": []
  }
 ],
 "metadata": {
  "anaconda-cloud": {},
  "kernelspec": {
   "display_name": "Python 3",
   "language": "python",
   "name": "python3"
  },
  "language_info": {
   "codemirror_mode": {
    "name": "ipython",
    "version": 3
   },
   "file_extension": ".py",
   "mimetype": "text/x-python",
   "name": "python",
   "nbconvert_exporter": "python",
   "pygments_lexer": "ipython3",
   "version": "3.8.8"
  }
 },
 "nbformat": 4,
 "nbformat_minor": 2
}
