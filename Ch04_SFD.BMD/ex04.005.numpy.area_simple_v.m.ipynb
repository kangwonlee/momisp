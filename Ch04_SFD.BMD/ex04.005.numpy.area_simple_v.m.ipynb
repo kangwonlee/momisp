{
 "cells": [
  {
   "cell_type": "markdown",
   "metadata": {
    "colab_type": "text",
    "id": "view-in-github"
   },
   "source": [
    "<a href=\"https://colab.research.google.com/github/kangwonlee/momisp/blob/main/Ch04_SFD.BMD/ex04.005.numpy.area_simple_v.m.ipynb\" target=\"_parent\"><img src=\"https://colab.research.google.com/assets/colab-badge.svg\" alt=\"Open In Colab\"/></a>"
   ]
  },
  {
   "cell_type": "markdown",
   "metadata": {},
   "source": [
    "참고문헌 : Pytel 외 저, 이주성 외 역, 재료역학, 2판, 한티미디어, 2013.<br>Ref: Pytel, Kiusalaas, Sharma, Mechanics of Materials, 2nd Ed., Cengage Learning, 2013.\n",
    "\n"
   ]
  },
  {
   "cell_type": "markdown",
   "metadata": {},
   "source": [
    "`python` 기능을 확장해 주는 `module`을 불러 들임 (일부 기능만 사용될 수도 있음)<br>\n",
    "Bring in `module`'s that would expand features of `python`. (This file may use just some of them.)\n",
    "\n"
   ]
  },
  {
   "cell_type": "code",
   "execution_count": null,
   "metadata": {},
   "outputs": [],
   "source": [
    "import numpy as np  # 배열, 행렬 관련 기능\n",
    "import numpy.linalg as na  # 선형대수 (벡터, 행렬) 관련 기능\n",
    "import matplotlib.pyplot as plt  # 그래프 관련 기능\n",
    "import scipy.integrate as si  # 적분 관련 기능\n",
    "import sympy as sy  # 기호 연산 기능\n",
    "import IPython.display as disp  # 웹페이지 표시 기능\n",
    "sy.init_printing()  # 기호 연산 결과 표시 기능 준비\n",
    "\n"
   ]
  },
  {
   "cell_type": "markdown",
   "metadata": {},
   "source": [
    "## 예제 04.005\n",
    "\n"
   ]
  },
  {
   "cell_type": "markdown",
   "metadata": {},
   "source": [
    "### 문제에서 주어진 변수<br>Given Parameters\n",
    "\n"
   ]
  },
  {
   "cell_type": "markdown",
   "metadata": {},
   "source": [
    "#### 각 구간 길이<br>Length of each section\n",
    "\n"
   ]
  },
  {
   "cell_type": "code",
   "execution_count": null,
   "metadata": {},
   "outputs": [],
   "source": [
    "L_AB_m = 4\n",
    "L_BD_m = 3\n",
    "L_DE_m = 3\n",
    "\n"
   ]
  },
  {
   "cell_type": "markdown",
   "metadata": {},
   "source": [
    "#### 하중<br>Load\n",
    "\n"
   ]
  },
  {
   "cell_type": "code",
   "execution_count": null,
   "metadata": {},
   "outputs": [],
   "source": [
    "P_B_N = -30e3\n",
    "C_D_Nm = -40e3\n",
    "\n"
   ]
  },
  {
   "cell_type": "markdown",
   "metadata": {},
   "source": [
    "### A, B, C, D 지점의 x 좌표<br>x coorinates of A, B, C, D points\n",
    "A 점에서 x=0 으로 한다.<br>Let x=0 at A point\n",
    "\n"
   ]
  },
  {
   "cell_type": "code",
   "execution_count": null,
   "metadata": {},
   "outputs": [],
   "source": [
    "x_A_m = 0\n",
    "x_B_m = x_A_m + L_AB_m\n",
    "x_D_m = x_B_m + L_BD_m\n",
    "x_E_m = x_D_m + L_DE_m\n",
    "\n"
   ]
  },
  {
   "cell_type": "markdown",
   "metadata": {},
   "source": [
    "### 반력<br>Reaction Force\n",
    "\n"
   ]
  },
  {
   "cell_type": "markdown",
   "metadata": {},
   "source": [
    "A점 중심의 모멘트\n",
    "\n"
   ]
  },
  {
   "cell_type": "markdown",
   "metadata": {},
   "source": [
    "$$\n",
    "P_BL_{AB}+C_D+R_E \\left(L_{AB}+L_{BD}+L_{DE}\\right)=0\\\\\n",
    "$$\n",
    "\n"
   ]
  },
  {
   "cell_type": "markdown",
   "metadata": {},
   "source": [
    "$$\n",
    "R_E \\left(L_{AB}+L_{BD}+L_{DE}\\right)=-P_BL_{AB}-C_D\\\\\n",
    "$$\n",
    "\n"
   ]
  },
  {
   "cell_type": "markdown",
   "metadata": {},
   "source": [
    "$$\n",
    "R_E =-\\frac{P_BL_{AB}+C_D}{L_{AB}+L_{BD}+L_{DE}}\\\\\n",
    "$$\n",
    "\n"
   ]
  },
  {
   "cell_type": "markdown",
   "metadata": {},
   "source": [
    "E 점에서의 반력\n",
    "\n"
   ]
  },
  {
   "cell_type": "code",
   "execution_count": null,
   "metadata": {},
   "outputs": [],
   "source": [
    "R_E_N = -(P_B_N * L_AB_m + C_D_Nm) / (L_AB_m + L_BD_m + L_DE_m)\n",
    "R_E_N\n",
    "\n"
   ]
  },
  {
   "cell_type": "markdown",
   "metadata": {},
   "source": [
    "A 점에서의 반력\n",
    "$$\n",
    "R_A + P_B + R_E = 0 \\\\\n",
    "R_A = -P_B - R_E\n",
    "$$\n",
    "\n"
   ]
  },
  {
   "cell_type": "code",
   "execution_count": null,
   "metadata": {},
   "outputs": [],
   "source": [
    "R_A_N = - P_B_N - R_E_N\n",
    "R_A_N\n",
    "\n"
   ]
  },
  {
   "cell_type": "markdown",
   "metadata": {},
   "source": [
    "### A-B 구간<br>A-B span\n",
    "\n"
   ]
  },
  {
   "cell_type": "code",
   "execution_count": null,
   "metadata": {},
   "outputs": [],
   "source": [
    "x_AB_m_array = np.linspace(x_A_m, x_B_m, 50+1)\n",
    "\n"
   ]
  },
  {
   "cell_type": "markdown",
   "metadata": {},
   "source": [
    "#### 전단력선도<br>Shear Force Diagram\n",
    "\n"
   ]
  },
  {
   "cell_type": "markdown",
   "metadata": {},
   "source": [
    "A 지점에서의 반력만 반영하면 된다.\n",
    "\n"
   ]
  },
  {
   "cell_type": "code",
   "execution_count": null,
   "metadata": {},
   "outputs": [],
   "source": [
    "V_AB_N_array = R_A_N * np.ones_like(x_AB_m_array)\n",
    "\n"
   ]
  },
  {
   "cell_type": "code",
   "execution_count": null,
   "metadata": {
    "scrolled": false
   },
   "outputs": [],
   "source": [
    "plt.clf()\n",
    "\n",
    "plt.fill_between(x_AB_m_array, V_AB_N_array)\n",
    "plt.ylabel('V(N)')\n",
    "\n",
    "# A 지점에서의 반력을 화살표로 표시한다.\n",
    "# Reaction force at A\n",
    "ax = plt.gca()\n",
    "\n",
    "ax.arrow(x_A_m, 0, \n",
    "         0, R_A_N * 0.9, \n",
    "         head_width=0.05, head_length=0.1 * abs(R_A_N), fc='k', ec='k')\n",
    "\n",
    "plt.text(x_A_m, 0, 'A')\n",
    "plt.text(x_B_m, 0, 'B')\n",
    "plt.text(x_D_m, 0, 'D')\n",
    "plt.text(x_E_m, 0, 'E')\n",
    "\n",
    "plt.xlim(xmax=x_E_m)\n",
    "plt.xlabel('x(m)')\n",
    "plt.grid(True)\n",
    "\n",
    "plt.show()\n",
    "\n"
   ]
  },
  {
   "cell_type": "markdown",
   "metadata": {},
   "source": [
    "#### 굽힘모멘트선도<br>Bending Moment Diagram\n",
    "\n"
   ]
  },
  {
   "cell_type": "markdown",
   "metadata": {},
   "source": [
    "A지점의 반력이 A-B 구간에 작용하는 모멘트를 반영한다.\n",
    "\n"
   ]
  },
  {
   "cell_type": "code",
   "execution_count": null,
   "metadata": {},
   "outputs": [],
   "source": [
    "M_AB_Nm_array = R_A_N * x_AB_m_array\n",
    "\n"
   ]
  },
  {
   "cell_type": "code",
   "execution_count": null,
   "metadata": {},
   "outputs": [],
   "source": [
    "plt.clf()\n",
    "\n",
    "plt.fill_between(x_AB_m_array, M_AB_Nm_array)\n",
    "plt.ylabel('M(Nm)')\n",
    "\n",
    "plt.text(x_A_m, 0, 'A')\n",
    "plt.text(x_B_m, 0, 'B')\n",
    "plt.text(x_D_m, 0, 'D')\n",
    "plt.text(x_E_m, 0, 'E')\n",
    "\n",
    "plt.xlim(xmax=x_E_m)\n",
    "plt.xlabel('x(m)')\n",
    "\n",
    "plt.grid(True)\n",
    "\n",
    "plt.show()\n",
    "\n"
   ]
  },
  {
   "cell_type": "markdown",
   "metadata": {},
   "source": [
    "### B-D 구간<br>B-D span\n",
    "\n"
   ]
  },
  {
   "cell_type": "code",
   "execution_count": null,
   "metadata": {},
   "outputs": [],
   "source": [
    "x_BD_m_array = np.linspace(x_B_m, x_D_m, 100+1)\n",
    "\n"
   ]
  },
  {
   "cell_type": "markdown",
   "metadata": {},
   "source": [
    "#### 전단력선도<br>Shear Force Diagram\n",
    "\n"
   ]
  },
  {
   "cell_type": "markdown",
   "metadata": {},
   "source": [
    "A 지점과 B 지점에서의 하중, 반력을 감안하면 다음과 같다.\n",
    "\n"
   ]
  },
  {
   "cell_type": "code",
   "execution_count": null,
   "metadata": {},
   "outputs": [],
   "source": [
    "V_BD_N_array = (R_A_N + P_B_N) * np.ones_like(x_BD_m_array)\n",
    "\n"
   ]
  },
  {
   "cell_type": "code",
   "execution_count": null,
   "metadata": {
    "scrolled": false
   },
   "outputs": [],
   "source": [
    "plt.fill_between(x_AB_m_array, V_AB_N_array)\n",
    "plt.fill_between(x_BD_m_array, V_BD_N_array)\n",
    "plt.ylabel('V(N)')\n",
    "\n",
    "# A 지점에서의 반력을 화살표로 표시한다.\n",
    "ax = plt.gca()\n",
    "ax.arrow(x_A_m, 0, \n",
    "         0, R_A_N * 0.9, \n",
    "         head_width=0.05, head_length=0.1 * abs(R_A_N), fc='k', ec='k')\n",
    "\n",
    "# B 지점에서의 하중을 화살표로 표시한다.\n",
    "ax.arrow(x_B_m, R_A_N, \n",
    "         0, P_B_N * 0.9, \n",
    "         head_width=0.05, head_length=0.1 * abs(P_B_N), fc='k', ec='k')\n",
    "\n",
    "plt.text(x_A_m, 0, 'A')\n",
    "plt.text(x_B_m, 0, 'B')\n",
    "plt.text(x_D_m, 0, 'D')\n",
    "plt.text(x_E_m, 0, 'E')\n",
    "plt.xlim(xmax=x_E_m)\n",
    "plt.xlabel('x(m)')\n",
    "plt.grid(True)\n",
    "\n",
    "plt.show()\n",
    "\n"
   ]
  },
  {
   "cell_type": "markdown",
   "metadata": {},
   "source": [
    "#### 굽힘모멘트선도<br>Bending Moment Diagram\n",
    "\n"
   ]
  },
  {
   "cell_type": "markdown",
   "metadata": {},
   "source": [
    "전단력 선도를 적분한다.\n",
    "\n"
   ]
  },
  {
   "cell_type": "code",
   "execution_count": null,
   "metadata": {},
   "outputs": [],
   "source": [
    "M_BD_Nm_array = R_A_N * x_BD_m_array + P_B_N * (x_BD_m_array - x_B_m)\n",
    "\n"
   ]
  },
  {
   "cell_type": "code",
   "execution_count": null,
   "metadata": {},
   "outputs": [],
   "source": [
    "plt.fill_between(x_AB_m_array, M_AB_Nm_array)\n",
    "plt.fill_between(x_BD_m_array, M_BD_Nm_array)\n",
    "plt.ylabel('M(Nm)')\n",
    "\n",
    "plt.text(x_A_m, 0, 'A')\n",
    "plt.text(x_B_m, 0, 'B')\n",
    "plt.text(x_D_m, 0, 'D')\n",
    "plt.text(x_E_m, 0, 'E')\n",
    "\n",
    "plt.xlim(xmax=x_E_m)\n",
    "plt.xlabel('x(m)')\n",
    "plt.grid(True)\n",
    "\n",
    "plt.show()\n",
    "\n"
   ]
  },
  {
   "cell_type": "markdown",
   "metadata": {},
   "source": [
    "### D-E 구간<br>D-E span\n",
    "\n"
   ]
  },
  {
   "cell_type": "code",
   "execution_count": null,
   "metadata": {},
   "outputs": [],
   "source": [
    "x_DE_m_array = np.linspace(x_D_m, x_E_m, 50+1)\n",
    "\n"
   ]
  },
  {
   "cell_type": "markdown",
   "metadata": {},
   "source": [
    "#### 전단력선도<br>Shear Force Diagram\n",
    "\n"
   ]
  },
  {
   "cell_type": "markdown",
   "metadata": {},
   "source": [
    "A 지점과 B 지점에서의 하중, 반력을 감안하면 다음과 같다.\n",
    "\n"
   ]
  },
  {
   "cell_type": "code",
   "execution_count": null,
   "metadata": {},
   "outputs": [],
   "source": [
    "V_DE_N_array = (R_A_N + P_B_N) * np.ones_like(x_DE_m_array)\n",
    "\n"
   ]
  },
  {
   "cell_type": "code",
   "execution_count": null,
   "metadata": {
    "scrolled": false
   },
   "outputs": [],
   "source": [
    "plt.clf()\n",
    "\n",
    "plt.fill_between(x_AB_m_array, V_AB_N_array)\n",
    "plt.fill_between(x_BD_m_array, V_BD_N_array)\n",
    "plt.fill_between(x_DE_m_array, V_DE_N_array)\n",
    "plt.ylabel('V(N)')\n",
    "\n",
    "# A 지점에서의 반력을 화살표로 표시한다.\n",
    "# Reaction force at A\n",
    "ax = plt.gca()\n",
    "ax.arrow(x_A_m, 0, \n",
    "         0, R_A_N * 0.9, \n",
    "         head_width=0.05, head_length=0.1 * abs(R_A_N), fc='k', ec='k')\n",
    "\n",
    "# B 지점에서의 하중을 화살표로 표시한다.\n",
    "# Reaction force at B\n",
    "ax.arrow(x_B_m, R_A_N, \n",
    "         0, P_B_N * 0.9, \n",
    "         head_width=0.05, head_length=0.1 * abs(P_B_N), fc='k', ec='k')\n",
    "\n",
    "# E 지점에서의 반력을 화살표로 표시한다.\n",
    "# Reaction force at E\n",
    "ax.arrow(x_E_m, (R_A_N + P_B_N), \n",
    "         0, R_E_N * 0.9, \n",
    "         head_width=0.05, head_length=0.1 * abs(R_E_N), fc='k', ec='k')\n",
    "\n",
    "plt.text(x_A_m, 0, 'A')\n",
    "plt.text(x_B_m, 0, 'B')\n",
    "plt.text(x_D_m, 0, 'D')\n",
    "plt.text(x_E_m, 0, 'E')\n",
    "plt.xlabel('x(m)')\n",
    "plt.grid(True)\n",
    "plt.show()\n",
    "\n"
   ]
  },
  {
   "cell_type": "markdown",
   "metadata": {},
   "source": [
    "#### 굽힘모멘트선도<br>Bending Moment Diagram\n",
    "\n"
   ]
  },
  {
   "cell_type": "markdown",
   "metadata": {},
   "source": [
    "전단력 선도를 적분한다.\n",
    "\n"
   ]
  },
  {
   "cell_type": "code",
   "execution_count": null,
   "metadata": {},
   "outputs": [],
   "source": [
    "M_DE_Nm_array = R_A_N * x_DE_m_array + P_B_N * (x_DE_m_array - x_B_m) - C_D_Nm\n",
    "\n"
   ]
  },
  {
   "cell_type": "code",
   "execution_count": null,
   "metadata": {},
   "outputs": [],
   "source": [
    "plt.clf()\n",
    "\n",
    "plt.fill_between(x_AB_m_array, M_AB_Nm_array)\n",
    "plt.fill_between(x_BD_m_array, M_BD_Nm_array)\n",
    "plt.fill_between(x_DE_m_array, M_DE_Nm_array)\n",
    "plt.ylabel('M(Nm)')\n",
    "\n",
    "# D 지점에서의 모멘트를 화살표로 표시한다.\n",
    "# Moment at D\n",
    "\n",
    "ax = plt.gca()\n",
    "ax.arrow(x_D_m, R_A_N * x_D_m + P_B_N * (x_D_m - x_B_m), \n",
    "         0, abs(C_D_Nm * 0.9), \n",
    "         head_width=0.05, head_length=0.1 * abs(C_D_Nm), fc='k', ec='k')\n",
    "\n",
    "plt.text(x_A_m, 0, 'A')\n",
    "plt.text(x_B_m, 0, 'B')\n",
    "plt.text(x_D_m, 0, 'D')\n",
    "plt.text(x_E_m, 0, 'E')\n",
    "plt.xlabel('x(m)')\n",
    "plt.grid(True)\n",
    "\n",
    "plt.show()\n",
    "\n"
   ]
  },
  {
   "cell_type": "markdown",
   "metadata": {},
   "source": [
    "### A-E 구간 전체\n",
    "\n"
   ]
  },
  {
   "cell_type": "code",
   "execution_count": null,
   "metadata": {},
   "outputs": [],
   "source": [
    "# 전단력선도\n",
    "# Shear Force Diagram\n",
    "\n",
    "ax = plt.subplot(2, 1, 1)\n",
    "\n",
    "plt.fill_between(x_AB_m_array, V_AB_N_array)\n",
    "plt.fill_between(x_BD_m_array, V_BD_N_array)\n",
    "plt.fill_between(x_DE_m_array, V_DE_N_array)\n",
    "plt.ylabel('V(N)')\n",
    "\n",
    "ax.arrow(x_A_m, 0, \n",
    "         0, R_A_N * 0.9, \n",
    "         head_width=0.05, head_length=0.1 * abs(R_A_N), fc='k', ec='k')\n",
    "\n",
    "ax.arrow(x_B_m, R_A_N, \n",
    "         0, P_B_N * 0.9, \n",
    "         head_width=0.05, head_length=0.1 * abs(P_B_N), fc='k', ec='k')\n",
    "\n",
    "ax.arrow(x_E_m, (R_A_N + P_B_N), \n",
    "         0, R_E_N * 0.9, \n",
    "         head_width=0.05, head_length=0.1 * abs(R_E_N), fc='k', ec='k')\n",
    "\n",
    "plt.text(x_A_m, 0, 'A')\n",
    "plt.text(x_B_m, 0, 'B')\n",
    "plt.text(x_D_m, 0, 'D')\n",
    "plt.text(x_E_m, 0, 'E')\n",
    "plt.xlabel('x(m)')\n",
    "plt.grid(True)\n",
    "\n",
    "# 굽힘모멘트선도\n",
    "# Bending Moment Diagram\n",
    "\n",
    "ax = plt.subplot(2, 1, 2)\n",
    "\n",
    "plt.fill_between(x_AB_m_array, M_AB_Nm_array)\n",
    "plt.fill_between(x_BD_m_array, M_BD_Nm_array)\n",
    "plt.fill_between(x_DE_m_array, M_DE_Nm_array)\n",
    "\n",
    "plt.ylabel('M(Nm)')\n",
    "\n",
    "ax.arrow(x_D_m, R_A_N * x_D_m + P_B_N * (x_D_m - x_B_m), \n",
    "         0, abs(C_D_Nm * 0.9), \n",
    "         head_width=0.05, head_length=0.1 * abs(C_D_Nm), fc='k', ec='k')\n",
    "\n",
    "plt.text(x_A_m, 0, 'A')\n",
    "plt.text(x_B_m, 0, 'B')\n",
    "plt.text(x_D_m, 0, 'D')\n",
    "plt.text(x_E_m, 0, 'E')\n",
    "plt.xlabel('x(m)')\n",
    "plt.grid(True)\n",
    "plt.show()\n",
    "\n"
   ]
  },
  {
   "cell_type": "code",
   "execution_count": null,
   "metadata": {},
   "outputs": [],
   "source": []
  }
 ],
 "metadata": {
  "anaconda-cloud": {},
  "kernelspec": {
   "display_name": "Python 3",
   "language": "python",
   "name": "python3"
  },
  "language_info": {
   "codemirror_mode": {
    "name": "ipython",
    "version": 3
   },
   "file_extension": ".py",
   "mimetype": "text/x-python",
   "name": "python",
   "nbconvert_exporter": "python",
   "pygments_lexer": "ipython3",
   "version": "3.8.8"
  }
 },
 "nbformat": 4,
 "nbformat_minor": 2
}
