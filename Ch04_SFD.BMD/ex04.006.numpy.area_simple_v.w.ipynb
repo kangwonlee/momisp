{
 "cells": [
  {
   "cell_type": "markdown",
   "metadata": {
    "id": "view-in-github",
    "colab_type": "text"
   },
   "source": [
    "<a href=\"https://colab.research.google.com/github/kangwonlee/momisp/blob/main/Ch04_SFD.BMD/ex04.006.numpy.area_simple_v.w.ipynb\" target=\"_parent\"><img src=\"https://colab.research.google.com/assets/colab-badge.svg\" alt=\"Open In Colab\"/></a>\n"
   ]
  },
  {
   "cell_type": "markdown",
   "metadata": {},
   "source": [
    "참고문헌 : Pytel 외 저, 이주성 외 역, 재료역학, 2판, 한티미디어, 2013.<br>Ref: Pytel, Kiusalaas, Sharma, Mechanics of Materials, 2nd Ed., Cengage Learning, 2013.\n",
    "\n"
   ]
  },
  {
   "cell_type": "markdown",
   "metadata": {},
   "source": [
    "`python` 기능을 확장해 주는 `module`을 불러 들임 (일부 기능만 사용될 수도 있음)<br>\n",
    "Bring in `module`'s that would expand features of `python`. (This file may use just some of them.)\n",
    "\n"
   ]
  },
  {
   "cell_type": "code",
   "execution_count": null,
   "metadata": {},
   "outputs": [],
   "source": [
    "import numpy as np  # 배열, 행렬 관련 기능\n",
    "import numpy.linalg as na  # 선형대수 (벡터, 행렬) 관련 기능\n",
    "import matplotlib.pyplot as plt  # 그래프 관련 기능\n",
    "import scipy.integrate as si  # 적분 관련 기능\n",
    "import sympy as sy  # 기호 연산 기능\n",
    "import IPython.display as disp  # 웹페이지 표시 기능\n",
    "sy.init_printing()  # 기호 연산 결과 표시 기능 준비\n",
    "\n"
   ]
  },
  {
   "cell_type": "markdown",
   "metadata": {},
   "source": [
    "## 예제 04.006\n",
    "\n"
   ]
  },
  {
   "cell_type": "markdown",
   "metadata": {},
   "source": [
    "### 문제에서 주어진 변수<br>Given Parameters\n",
    "\n"
   ]
  },
  {
   "cell_type": "markdown",
   "metadata": {},
   "source": [
    "#### 각 구간 길이<br>Length of each section\n",
    "\n"
   ]
  },
  {
   "cell_type": "code",
   "execution_count": null,
   "metadata": {},
   "outputs": [],
   "source": [
    "L_AB_m= 2\n",
    "L_BC_m= 1\n",
    "L_CD_m= 4\n",
    "L_DE_m= 2\n",
    "\n"
   ]
  },
  {
   "cell_type": "markdown",
   "metadata": {},
   "source": [
    "#### 하중<br>Load\n",
    "\n"
   ]
  },
  {
   "cell_type": "code",
   "execution_count": null,
   "metadata": {},
   "outputs": [],
   "source": [
    "w_AB_N_m = -400e3\n",
    "P_C_N = -400e3\n",
    "w_CE_N_m = -200e3\n",
    "\n"
   ]
  },
  {
   "cell_type": "markdown",
   "metadata": {},
   "source": [
    "### A, B, C, D 지점의 x 좌표<br>x coorinates of A, B, C, D points\n",
    "A 점에서 x=0 으로 한다.<br>Let x=0 at A point\n",
    "\n"
   ]
  },
  {
   "cell_type": "code",
   "execution_count": null,
   "metadata": {},
   "outputs": [],
   "source": [
    "x_A_m = 0\n",
    "x_B_m = x_A_m + L_AB_m\n",
    "x_C_m = x_B_m + L_BC_m\n",
    "x_D_m = x_C_m + L_CD_m\n",
    "x_E_m = x_D_m + L_DE_m\n",
    "\n"
   ]
  },
  {
   "cell_type": "markdown",
   "metadata": {},
   "source": [
    "### 반력<br>Reaction Force\n",
    "\n"
   ]
  },
  {
   "cell_type": "code",
   "execution_count": null,
   "metadata": {},
   "outputs": [],
   "source": [
    "R_B_N = 1520e3\n",
    "R_D_N = 880e3\n",
    "\n"
   ]
  },
  {
   "cell_type": "markdown",
   "metadata": {},
   "source": [
    "### 전단력선도<br>Shear Force Diagram\n",
    "\n"
   ]
  },
  {
   "cell_type": "markdown",
   "metadata": {},
   "source": [
    "#### A-B 구간<br>A-B span\n",
    "\n"
   ]
  },
  {
   "cell_type": "code",
   "execution_count": null,
   "metadata": {},
   "outputs": [],
   "source": [
    "x_AB_m_array = np.linspace(x_A_m, x_B_m, 50+1)\n",
    "\n"
   ]
  },
  {
   "cell_type": "markdown",
   "metadata": {},
   "source": [
    "A-B 구간의 분포하중을 적분한다.\n",
    "\n"
   ]
  },
  {
   "cell_type": "code",
   "execution_count": null,
   "metadata": {},
   "outputs": [],
   "source": [
    "V_AB_N_array = w_AB_N_m * x_AB_m_array\n",
    "\n"
   ]
  },
  {
   "cell_type": "code",
   "execution_count": null,
   "metadata": {},
   "outputs": [],
   "source": [
    "plt.clf()\n",
    "\n",
    "plt.fill_between(x_AB_m_array, V_AB_N_array)\n",
    "plt.ylabel('V(N)')\n",
    "\n",
    "plt.text(x_A_m, 0, 'A')\n",
    "plt.text(x_B_m, 0, 'B')\n",
    "plt.text(x_C_m, 0, 'C')\n",
    "plt.text(x_D_m, 0, 'D')\n",
    "plt.text(x_E_m, 0, 'E')\n",
    "plt.xlim(xmax=x_E_m)\n",
    "plt.xlabel('x(m)')\n",
    "plt.grid(True)\n",
    "plt.show()\n",
    "\n"
   ]
  },
  {
   "cell_type": "markdown",
   "metadata": {},
   "source": [
    "#### B-C 구간<br>B-C span\n",
    "\n"
   ]
  },
  {
   "cell_type": "code",
   "execution_count": null,
   "metadata": {},
   "outputs": [],
   "source": [
    "x_BC_m_array = np.linspace(x_B_m, x_C_m, 50+1)\n",
    "\n"
   ]
  },
  {
   "cell_type": "markdown",
   "metadata": {},
   "source": [
    "A-B 구간의 분포하중과 B 지점에 작용하는 반력을 반영한다.\n",
    "\n"
   ]
  },
  {
   "cell_type": "code",
   "execution_count": null,
   "metadata": {},
   "outputs": [],
   "source": [
    "V_BC_N_array = (V_AB_N_array[-1] + R_B_N) * np.ones_like(x_BC_m_array)\n",
    "\n"
   ]
  },
  {
   "cell_type": "code",
   "execution_count": null,
   "metadata": {},
   "outputs": [],
   "source": [
    "plt.clf()\n",
    "plt.fill_between(x_AB_m_array, V_AB_N_array)\n",
    "plt.fill_between(x_BC_m_array, V_BC_N_array)\n",
    "plt.ylabel('V(N)')\n",
    "\n",
    "\n",
    "\n",
    "# B 지점에서의 반력을 화살표로 표시한다.\n",
    "\n",
    "\n",
    "\n",
    "ax = plt.gca()\n",
    "ax.arrow(x_B_m, V_AB_N_array[-1], \n",
    "         0, R_B_N * 0.9, \n",
    "         head_width=0.05, head_length=0.1 * abs(R_B_N), fc='k', ec='k')\n",
    "\n",
    "\n",
    "\n",
    "plt.text(x_A_m, 0, 'A')\n",
    "plt.text(x_B_m, 0, 'B')\n",
    "plt.text(x_C_m, 0, 'C')\n",
    "plt.text(x_D_m, 0, 'D')\n",
    "plt.text(x_E_m, 0, 'E')\n",
    "plt.xlim(xmax=x_E_m)\n",
    "plt.xlabel('x(m)')\n",
    "plt.grid(True)\n",
    "plt.show()\n",
    "\n"
   ]
  },
  {
   "cell_type": "markdown",
   "metadata": {},
   "source": [
    "#### C-D 구간<br>C-D span\n",
    "\n"
   ]
  },
  {
   "cell_type": "code",
   "execution_count": null,
   "metadata": {},
   "outputs": [],
   "source": [
    "x_CD_m_array = np.linspace(x_C_m, x_D_m, 100+1)\n",
    "\n"
   ]
  },
  {
   "cell_type": "markdown",
   "metadata": {},
   "source": [
    "C 지점에 작용하는 하중, C-E 구간의 분포하중과 반력을 반영한다.\n",
    "\n"
   ]
  },
  {
   "cell_type": "code",
   "execution_count": null,
   "metadata": {},
   "outputs": [],
   "source": [
    "V_CD_N_array = (V_BC_N_array[-1] + P_C_N) + w_CE_N_m * (x_CD_m_array - x_C_m)\n",
    "\n"
   ]
  },
  {
   "cell_type": "code",
   "execution_count": null,
   "metadata": {},
   "outputs": [],
   "source": [
    "plt.clf()\n",
    "plt.fill_between(x_AB_m_array, V_AB_N_array)\n",
    "plt.fill_between(x_BC_m_array, V_BC_N_array)\n",
    "plt.fill_between(x_CD_m_array, V_CD_N_array)\n",
    "plt.ylabel('V(N)')\n",
    "\n",
    "\n",
    "\n",
    "# B 지점에서의 반력을 화살표로 표시한다.\n",
    "\n",
    "\n",
    "\n",
    "ax = plt.gca()\n",
    "ax.arrow(x_B_m, V_AB_N_array[-1], \n",
    "         0, R_B_N * 0.9, \n",
    "         head_width=0.05, head_length=0.1 * abs(R_B_N), fc='k', ec='k')\n",
    "\n",
    "\n",
    "\n",
    "# C 지점에서의 하중을 화살표로 표시한다.\n",
    "\n",
    "\n",
    "\n",
    "ax.arrow(x_C_m, V_BC_N_array[-1], \n",
    "         0, P_C_N * 0.9, \n",
    "         head_width=0.05, head_length=0.1 * abs(P_C_N), fc='k', ec='k')\n",
    "\n",
    "\n",
    "\n",
    "plt.text(x_A_m, 0, 'A')\n",
    "plt.text(x_B_m, 0, 'B')\n",
    "plt.text(x_C_m, 0, 'C')\n",
    "plt.text(x_D_m, 0, 'D')\n",
    "plt.text(x_E_m, 0, 'E')\n",
    "plt.xlim(xmax=x_E_m)\n",
    "plt.xlabel('x(m)')\n",
    "plt.grid(True)\n",
    "plt.show()\n",
    "\n"
   ]
  },
  {
   "cell_type": "markdown",
   "metadata": {},
   "source": [
    "#### D-E 구간<br>D-E span\n",
    "\n"
   ]
  },
  {
   "cell_type": "code",
   "execution_count": null,
   "metadata": {},
   "outputs": [],
   "source": [
    "x_DE_m_array = np.linspace(x_D_m, x_E_m, 100+1)\n",
    "\n"
   ]
  },
  {
   "cell_type": "markdown",
   "metadata": {},
   "source": [
    "D 지점에 작용하는 반력, C-E 구간의 분포하중을 반영한다.\n",
    "\n"
   ]
  },
  {
   "cell_type": "code",
   "execution_count": null,
   "metadata": {},
   "outputs": [],
   "source": [
    "V_DE_N_array = (V_CD_N_array[-1] + R_D_N) + w_CE_N_m * (x_DE_m_array - x_D_m)\n",
    "\n"
   ]
  },
  {
   "cell_type": "code",
   "execution_count": null,
   "metadata": {},
   "outputs": [],
   "source": [
    "plt.clf()\n",
    "plt.fill_between(x_AB_m_array, V_AB_N_array)\n",
    "plt.fill_between(x_BC_m_array, V_BC_N_array)\n",
    "plt.fill_between(x_CD_m_array, V_CD_N_array)\n",
    "plt.fill_between(x_DE_m_array, V_DE_N_array)\n",
    "plt.ylabel('V(N)')\n",
    "\n",
    "\n",
    "\n",
    "# B 지점에서의 반력을 화살표로 표시한다.\n",
    "\n",
    "\n",
    "\n",
    "ax = plt.gca()\n",
    "ax.arrow(x_B_m, V_AB_N_array[-1], \n",
    "         0, R_B_N * 0.9, \n",
    "         head_width=0.05, head_length=0.1 * abs(R_B_N), fc='k', ec='k')\n",
    "\n",
    "\n",
    "\n",
    "# C 지점에서의 하중을 화살표로 표시한다.\n",
    "\n",
    "\n",
    "\n",
    "ax.arrow(x_C_m, V_BC_N_array[-1], \n",
    "         0, P_C_N * 0.9, \n",
    "         head_width=0.05, head_length=0.1 * abs(P_C_N), fc='k', ec='k')\n",
    "\n",
    "\n",
    "\n",
    "# D 지점에서의 반력을 화살표로 표시한다.\n",
    "\n",
    "\n",
    "\n",
    "ax.arrow(x_D_m, V_CD_N_array[-1], \n",
    "         0, R_D_N * 0.9, \n",
    "         head_width=0.05, head_length=0.1 * abs(R_D_N), fc='k', ec='k')\n",
    "\n",
    "\n",
    "\n",
    "plt.text(x_A_m, 0, 'A')\n",
    "plt.text(x_B_m, 0, 'B')\n",
    "plt.text(x_C_m, 0, 'C')\n",
    "plt.text(x_D_m, 0, 'D')\n",
    "plt.text(x_E_m, 0, 'E')\n",
    "plt.xlabel('x(m)')\n",
    "plt.grid(True)\n",
    "plt.show()\n",
    "\n"
   ]
  },
  {
   "cell_type": "markdown",
   "metadata": {},
   "source": [
    "### 굽힘모멘트선도<br>Bending Moment Diagram\n",
    "\n"
   ]
  },
  {
   "cell_type": "markdown",
   "metadata": {},
   "source": [
    "전단력을 적분하여 굽힘모멘트를 구할 것이다. 구간별로 적분하되, 적분의 초기값은 이전 구간의 마지막 값으로 할 것이다.\n",
    "\n"
   ]
  },
  {
   "cell_type": "markdown",
   "metadata": {},
   "source": [
    "x 배열을 하나로 잇는다.\n",
    "\n"
   ]
  },
  {
   "cell_type": "markdown",
   "metadata": {},
   "source": [
    "#### A-B 구간<br>A-B span\n",
    "\n"
   ]
  },
  {
   "cell_type": "code",
   "execution_count": null,
   "metadata": {},
   "outputs": [],
   "source": [
    "M_AB_Nm_array = si.cumtrapz(V_AB_N_array, x_AB_m_array, initial=0)\n",
    "\n"
   ]
  },
  {
   "cell_type": "markdown",
   "metadata": {},
   "source": [
    "#### B-C 구간<br>B-C span\n",
    "\n"
   ]
  },
  {
   "cell_type": "code",
   "execution_count": null,
   "metadata": {},
   "outputs": [],
   "source": [
    "M_BC_Nm_array = si.cumtrapz(V_BC_N_array, x_BC_m_array, initial=0) + M_AB_Nm_array[-1]\n",
    "\n"
   ]
  },
  {
   "cell_type": "markdown",
   "metadata": {},
   "source": [
    "#### C-D 구간<br>C-D span\n",
    "\n"
   ]
  },
  {
   "cell_type": "code",
   "execution_count": null,
   "metadata": {},
   "outputs": [],
   "source": [
    "M_CD_Nm_array = si.cumtrapz(V_CD_N_array, x_CD_m_array, initial=0) + M_BC_Nm_array[-1]\n",
    "\n"
   ]
  },
  {
   "cell_type": "markdown",
   "metadata": {},
   "source": [
    "#### D-E 구간<br>D-E span\n",
    "\n"
   ]
  },
  {
   "cell_type": "code",
   "execution_count": null,
   "metadata": {},
   "outputs": [],
   "source": [
    "M_DE_Nm_array = si.cumtrapz(V_DE_N_array, x_DE_m_array, initial=0) + M_CD_Nm_array[-1]\n",
    "\n"
   ]
  },
  {
   "cell_type": "code",
   "execution_count": null,
   "metadata": {},
   "outputs": [],
   "source": [
    "plt.clf()\n",
    "plt.fill_between(x_AB_m_array, M_AB_Nm_array)\n",
    "plt.fill_between(x_BC_m_array, M_BC_Nm_array)\n",
    "plt.fill_between(x_CD_m_array, M_CD_Nm_array)\n",
    "plt.fill_between(x_DE_m_array, M_DE_Nm_array)\n",
    "plt.ylabel('M(Nm)')\n",
    "\n",
    "plt.text(x_A_m, 0, 'A')\n",
    "plt.text(x_B_m, 0, 'B')\n",
    "plt.text(x_C_m, 0, 'C')\n",
    "plt.text(x_D_m, 0, 'D')\n",
    "plt.text(x_E_m, 0, 'E')\n",
    "plt.xlabel('x(m)')\n",
    "plt.grid(True)\n",
    "plt.show()\n",
    "\n"
   ]
  },
  {
   "cell_type": "code",
   "execution_count": null,
   "metadata": {},
   "outputs": [],
   "source": []
  }
 ],
 "metadata": {
  "anaconda-cloud": {},
  "kernelspec": {
   "display_name": "Python 3",
   "language": "python",
   "name": "python3"
  },
  "language_info": {
   "codemirror_mode": {
    "name": "ipython",
    "version": 3
   },
   "file_extension": ".py",
   "mimetype": "text/x-python",
   "name": "python",
   "nbconvert_exporter": "python",
   "pygments_lexer": "ipython3",
   "version": "3.8.8"
  }
 },
 "nbformat": 4,
 "nbformat_minor": 2
}