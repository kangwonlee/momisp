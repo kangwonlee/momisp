{
 "cells": [
  {
   "cell_type": "markdown",
   "metadata": {
    "id": "view-in-github",
    "colab_type": "text"
   },
   "source": [
    "<a href=\"https://colab.research.google.com/github/kangwonlee/momisp/blob/dependabot/pip/tests/scikit-learn-1.5.0/Ch04_SFD.BMD/ex04.001.numpy.simply.supported_v_numerical.arrows.ipynb\" target=\"_parent\"><img src=\"https://colab.research.google.com/assets/colab-badge.svg\" alt=\"Open In Colab\"/></a>\n"
   ]
  },
  {
   "cell_type": "markdown",
   "metadata": {},
   "source": [
    "참고문헌 : Pytel 외 저, 이주성 외 역, 재료역학, 2판, 한티미디어, 2013.<br>Ref: Pytel, Kiusalaas, Sharma, Mechanics of Materials, 2nd Ed., Cengage Learning, 2013.\n",
    "\n"
   ]
  },
  {
   "cell_type": "markdown",
   "metadata": {},
   "source": [
    "`python` 기능을 확장해 주는 `module`을 불러 들임 (일부 기능만 사용될 수도 있음)<br>\n",
    "Bring in `module`'s that would expand features of `python`. (This file may use just some of them.)\n",
    "\n"
   ]
  },
  {
   "cell_type": "code",
   "execution_count": null,
   "metadata": {},
   "outputs": [],
   "source": [
    "import numpy as np  # 배열, 행렬 관련 기능\n",
    "import numpy.linalg as na  # 선형대수 (벡터, 행렬) 관련 기능\n",
    "import matplotlib.pyplot as plt  # 그래프 관련 기능\n",
    "import scipy.integrate as si  # 적분 관련 기능\n",
    "import sympy as sy  # 기호 연산 기능\n",
    "import IPython.display as disp  # 웹페이지 표시 기능\n",
    "sy.init_printing()  # 기호 연산 결과 표시 기능 준비\n",
    "\n"
   ]
  },
  {
   "cell_type": "markdown",
   "metadata": {},
   "source": [
    "선도 그리기 기능 지원 `module`을 불러들임<br>Invoke a `module` to support diagrams\n",
    "\n"
   ]
  },
  {
   "cell_type": "code",
   "execution_count": null,
   "metadata": {},
   "outputs": [],
   "source": [
    "import os   # 운영체제 관련 기능 Operating Systems\n",
    "import sys  # 시스템 관련 기능 Systems\n",
    "# utils 폴더의 모듈을 import 할 수 있도록 준비\n",
    "# add utils folder to sys.path to import\n",
    "sys.path.append(os.path.abspath(os.path.join(os.pardir, 'utils')))\n",
    "# 선도 관련 기능 diagrams\n",
    "import draw_diagrams\n",
    "\n"
   ]
  },
  {
   "cell_type": "markdown",
   "metadata": {},
   "source": [
    "## 예제 04.001\n",
    "\n"
   ]
  },
  {
   "cell_type": "markdown",
   "metadata": {},
   "source": [
    "### 문제에서 주어진 변수<br>Given Parameters\n",
    "\n"
   ]
  },
  {
   "cell_type": "markdown",
   "metadata": {},
   "source": [
    "각 구간 길이<br>Length of each section\n",
    "\n"
   ]
  },
  {
   "cell_type": "code",
   "execution_count": null,
   "metadata": {},
   "outputs": [],
   "source": [
    "L_AB_m = 2\n",
    "L_BC_m = 3\n",
    "L_CD_m = 2\n",
    "\n"
   ]
  },
  {
   "cell_type": "markdown",
   "metadata": {},
   "source": [
    "하중\n",
    "\n"
   ]
  },
  {
   "cell_type": "code",
   "execution_count": null,
   "metadata": {},
   "outputs": [],
   "source": [
    "V_B_N = -14e3\n",
    "V_C_N = -28e3\n",
    "\n"
   ]
  },
  {
   "cell_type": "markdown",
   "metadata": {},
   "source": [
    "반력\n",
    "\n"
   ]
  },
  {
   "cell_type": "code",
   "execution_count": null,
   "metadata": {},
   "outputs": [],
   "source": [
    "R_A_N = 18e3\n",
    "R_D_N = 24e3\n",
    "\n"
   ]
  },
  {
   "cell_type": "markdown",
   "metadata": {},
   "source": [
    "### A, B, C, D 지점의 x 좌표<br>x coorinates of A, B, C, D points\n",
    "A 점에서 x=0 으로 한다.<br>Let x=0 at A point\n",
    "\n"
   ]
  },
  {
   "cell_type": "code",
   "execution_count": null,
   "metadata": {
    "collapsed": true
   },
   "outputs": [],
   "source": [
    "x_A_m = 0\n",
    "x_B_m = x_A_m + L_AB_m\n",
    "x_C_m = x_B_m + L_BC_m\n",
    "x_D_m = x_C_m + L_CD_m\n",
    "\n"
   ]
  },
  {
   "cell_type": "markdown",
   "metadata": {},
   "source": [
    "### A-B 구간<br>A-B span\n",
    "\n"
   ]
  },
  {
   "cell_type": "code",
   "execution_count": null,
   "metadata": {},
   "outputs": [],
   "source": [
    "x_AB_m_array = np.linspace(x_A_m, x_B_m, 10+1)\n",
    "\n"
   ]
  },
  {
   "cell_type": "markdown",
   "metadata": {},
   "source": [
    "#### 전단력선도<br>Shear Force Diagram\n",
    "\n"
   ]
  },
  {
   "cell_type": "markdown",
   "metadata": {},
   "source": [
    "A-B 구간의 자유물체도를 생각해 보면 A 지점에서의 반력만 감안하면 된다.\n",
    "\n"
   ]
  },
  {
   "cell_type": "code",
   "execution_count": null,
   "metadata": {
    "collapsed": true
   },
   "outputs": [],
   "source": [
    "V_AB_N_array = R_A_N * np.ones_like(x_AB_m_array)\n",
    "\n"
   ]
  },
  {
   "cell_type": "code",
   "execution_count": null,
   "metadata": {},
   "outputs": [],
   "source": [
    "ax = plt.axes()\n",
    "\n",
    "# A 지점에서의 반력을 화살표로 표시\n",
    "def up_arrow(axis, x, y_base, length):\n",
    "    axis.arrow(x, y_base, \n",
    "         0, length * 0.9, \n",
    "         head_width=0.05, head_length=0.1 * abs(length), fc='k', ec='k')\n",
    "\n",
    "up_arrow(ax, x_A_m, 0, R_A_N)\n",
    "\n",
    "# AB 구간의 전단력 \n",
    "plt.fill_between(x_AB_m_array, V_AB_N_array)\n",
    "\n",
    "# 아래 부분은 공통임\n",
    "def x_axis():\n",
    "    # A B C D 점 위치 표시 \n",
    "    plt.text(x_A_m, 0, 'A')\n",
    "    plt.text(x_B_m, 0, 'B')\n",
    "    plt.text(x_C_m, 0, 'C')\n",
    "    plt.text(x_D_m, 0, 'D')\n",
    "\n",
    "    # 보 전체 길이를 표시\n",
    "    plt.xlim(xmax=x_D_m)\n",
    "\n",
    "    # x y 축 이름\n",
    "    plt.xlabel('x(m)')\n",
    "\n",
    "    # 모눈\n",
    "    plt.grid(True)\n",
    "\n",
    "def sfd_axis():\n",
    "    x_axis()\n",
    "    plt.ylabel('V(N)')\n",
    "\n",
    "sfd_axis()\n",
    "\n"
   ]
  },
  {
   "cell_type": "markdown",
   "metadata": {},
   "source": [
    "#### 굽힘모멘트선도<br>Bending Moment Diagram\n",
    "\n"
   ]
  },
  {
   "cell_type": "code",
   "execution_count": null,
   "metadata": {
    "collapsed": true
   },
   "outputs": [],
   "source": [
    "M_AB_Nm_array = R_A_N * x_AB_m_array\n",
    "\n"
   ]
  },
  {
   "cell_type": "code",
   "execution_count": null,
   "metadata": {},
   "outputs": [],
   "source": [
    "plt.fill_between(x_AB_m_array, M_AB_Nm_array)\n",
    "\n",
    "def bmd_axis():\n",
    "    x_axis()\n",
    "    plt.ylabel('M(Nm)')\n",
    "\n",
    "bmd_axis()\n",
    "\n"
   ]
  },
  {
   "cell_type": "markdown",
   "metadata": {},
   "source": [
    "### B-C 구간<br>B-C span\n",
    "\n"
   ]
  },
  {
   "cell_type": "code",
   "execution_count": null,
   "metadata": {
    "collapsed": true
   },
   "outputs": [],
   "source": [
    "x_BC_m_array = np.linspace(x_B_m, x_C_m, 10+1)\n",
    "\n"
   ]
  },
  {
   "cell_type": "markdown",
   "metadata": {},
   "source": [
    "#### 전단력선도<br>Shear Force Diagram\n",
    "\n"
   ]
  },
  {
   "cell_type": "markdown",
   "metadata": {},
   "source": [
    "A 지점 반력과 B 지점 하중을 감안한다.\n",
    "\n"
   ]
  },
  {
   "cell_type": "code",
   "execution_count": null,
   "metadata": {
    "collapsed": true
   },
   "outputs": [],
   "source": [
    "V_BC_N_array = (R_A_N + V_B_N) * np.ones_like(x_BC_m_array)\n",
    "\n"
   ]
  },
  {
   "cell_type": "code",
   "execution_count": null,
   "metadata": {},
   "outputs": [],
   "source": [
    "ax = plt.axes()\n",
    "\n",
    "# A-B, B-C 구간 전단력을 표시한다.\n",
    "plt.fill_between(x_AB_m_array, V_AB_N_array)\n",
    "plt.fill_between(x_BC_m_array, V_BC_N_array)\n",
    "\n",
    "# A 지점에서의 반력을 화살표로 표시한다.\n",
    "up_arrow(ax, x_A_m, 0, R_A_N)\n",
    "\n",
    "# B 지점에서의 하중을 화살표로 표시해본다.\n",
    "up_arrow(ax, x_B_m, R_A_N, V_B_N)\n",
    "\n",
    "sfd_axis()\n",
    "\n"
   ]
  },
  {
   "cell_type": "markdown",
   "metadata": {},
   "source": [
    "#### 굽힘모멘트선도<br>Bending Moment Diagram\n",
    "\n"
   ]
  },
  {
   "cell_type": "markdown",
   "metadata": {},
   "source": [
    "굽힘모멘트 선도는 A-B 구간의 마지막 값에서 부터 시작된다.  기울기는 $R_A+V_B$ 가 될 것이다.\n",
    "\n"
   ]
  },
  {
   "cell_type": "code",
   "execution_count": null,
   "metadata": {
    "collapsed": true
   },
   "outputs": [],
   "source": [
    "M_BC_Nm_array = R_A_N * x_BC_m_array + V_B_N * (x_BC_m_array - x_B_m)\n",
    "\n"
   ]
  },
  {
   "cell_type": "code",
   "execution_count": null,
   "metadata": {},
   "outputs": [],
   "source": [
    "plt.fill_between(x_AB_m_array, M_AB_Nm_array)\n",
    "plt.fill_between(x_BC_m_array, M_BC_Nm_array)\n",
    "\n",
    "bmd_axis()\n",
    "\n"
   ]
  },
  {
   "cell_type": "markdown",
   "metadata": {},
   "source": [
    "### C-D 구간<br>C-D span\n",
    "\n"
   ]
  },
  {
   "cell_type": "code",
   "execution_count": null,
   "metadata": {
    "collapsed": true
   },
   "outputs": [],
   "source": [
    "x_CD_m_array = np.linspace(x_C_m, x_D_m, 10+1)\n",
    "\n"
   ]
  },
  {
   "cell_type": "markdown",
   "metadata": {},
   "source": [
    "#### 전단력선도<br>Shear Force Diagram\n",
    "\n"
   ]
  },
  {
   "cell_type": "markdown",
   "metadata": {},
   "source": [
    "A 지점 반력과 B, C 지점 하중을 감안한다.\n",
    "\n"
   ]
  },
  {
   "cell_type": "code",
   "execution_count": null,
   "metadata": {
    "collapsed": true
   },
   "outputs": [],
   "source": [
    "V_CD_N_array = (R_A_N + V_B_N + V_C_N) * np.ones_like(x_CD_m_array)\n",
    "\n"
   ]
  },
  {
   "cell_type": "code",
   "execution_count": null,
   "metadata": {},
   "outputs": [],
   "source": [
    "ax = plt.axes()\n",
    "\n",
    "# A 지점에서의 반력을 화살표로 표시한다.\n",
    "up_arrow(ax, x_A_m, 0, R_A_N)\n",
    "\n",
    "# B 지점에서의 하중을 화살표로 표시해본다.\n",
    "up_arrow(ax, x_B_m, R_A_N, V_B_N)\n",
    "\n",
    "# C 지점에서의 하중을 화살표로 표시해본다.\n",
    "up_arrow(ax, x_C_m, (R_A_N + V_B_N), V_C_N)\n",
    "\n",
    "# D 지점 반력을 화살표로 표시해본다.\n",
    "up_arrow(ax, x_D_m, -R_D_N, R_D_N)\n",
    "\n",
    "plt.fill_between(x_AB_m_array, V_AB_N_array)\n",
    "plt.fill_between(x_BC_m_array, V_BC_N_array)\n",
    "plt.fill_between(x_CD_m_array, V_CD_N_array)\n",
    "\n",
    "sfd_axis()\n",
    "\n"
   ]
  },
  {
   "cell_type": "markdown",
   "metadata": {},
   "source": [
    "#### 굽힘모멘트선도<br>Bending Moment Diagram\n",
    "\n"
   ]
  },
  {
   "cell_type": "markdown",
   "metadata": {},
   "source": [
    "굽힘모멘트 선도의 기울기는 $R_A+V_B+V_C$ 가 될 것이다. 마찬가지로 B-C 구간 모멘트의 마지막 값에서 시작할 것이다.\n",
    "\n"
   ]
  },
  {
   "cell_type": "code",
   "execution_count": null,
   "metadata": {},
   "outputs": [],
   "source": [
    "M_CD_Nm_array = (R_A_N * x_CD_m_array \n",
    "                 + V_B_N * (x_CD_m_array - x_B_m)\n",
    "                 + V_C_N * (x_CD_m_array - x_C_m))\n",
    "\n"
   ]
  },
  {
   "cell_type": "code",
   "execution_count": null,
   "metadata": {},
   "outputs": [],
   "source": [
    "plt.fill_between(x_AB_m_array, M_AB_Nm_array)\n",
    "plt.fill_between(x_BC_m_array, M_BC_Nm_array)\n",
    "plt.fill_between(x_CD_m_array, M_CD_Nm_array)\n",
    "\n",
    "bmd_axis()\n",
    "\n"
   ]
  },
  {
   "cell_type": "markdown",
   "metadata": {},
   "source": [
    "아래위로 나란히 그려 본다.\n",
    "\n"
   ]
  },
  {
   "cell_type": "code",
   "execution_count": null,
   "metadata": {},
   "outputs": [],
   "source": [
    "ax = plt.subplot(2, 1, 1)\n",
    "plt.fill_between(x_AB_m_array, V_AB_N_array)\n",
    "plt.fill_between(x_BC_m_array, V_BC_N_array)\n",
    "plt.fill_between(x_CD_m_array, V_CD_N_array)\n",
    "\n",
    "up_arrow(ax, x_A_m, 0, R_A_N)\n",
    "\n",
    "up_arrow(ax, x_B_m, R_A_N, V_B_N)\n",
    "\n",
    "up_arrow(ax, x_C_m, (R_A_N + V_B_N), V_C_N)\n",
    "\n",
    "up_arrow(ax, x_D_m, -R_D_N, R_D_N)\n",
    "\n",
    "sfd_axis()\n",
    "\n",
    "plt.subplot(2, 1, 2)\n",
    "plt.fill_between(x_AB_m_array, M_AB_Nm_array)\n",
    "plt.fill_between(x_BC_m_array, M_BC_Nm_array)\n",
    "plt.fill_between(x_CD_m_array, M_CD_Nm_array)\n",
    "\n",
    "bmd_axis()\n",
    "\n"
   ]
  },
  {
   "cell_type": "code",
   "execution_count": null,
   "metadata": {},
   "outputs": [],
   "source": []
  }
 ],
 "metadata": {
  "anaconda-cloud": {},
  "kernelspec": {
   "display_name": "Python 3",
   "language": "python",
   "name": "python3"
  },
  "language_info": {
   "codemirror_mode": {
    "name": "ipython",
    "version": 3
   },
   "file_extension": ".py",
   "mimetype": "text/x-python",
   "name": "python",
   "nbconvert_exporter": "python",
   "pygments_lexer": "ipython3",
   "version": "3.6.5"
  }
 },
 "nbformat": 4,
 "nbformat_minor": 2
}