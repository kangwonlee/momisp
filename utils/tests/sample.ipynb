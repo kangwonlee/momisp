{
    "cells": [
     {
      "cell_type": "markdown",
      "metadata": {},
      "source": [
       "참고문헌 : Pytel 외 저, 이주성 외 역, 재료역학, 2판, 한티미디어, 2013.<br>Ref: Pytel, Kiusalaas, Sharma, Mechanics of Materials, 2nd Ed., Cengege Learning, 2013."
      ]
     },
     {
      "cell_type": "markdown",
      "metadata": {},
      "source": [
       "`python` 기능을 확장해 주는 `module`을 불러 들임 (일부 기능만 사용될 수도 있음)"
      ]
     },
     {
      "cell_type": "code",
      "execution_count": null,
      "metadata": {
       "collapsed": true
      },
      "outputs": [],
      "source": [
       "import numpy as np  # 배열, 행렬 관련 기능\n",
       "import numpy.linalg as na  # 선형대수 (벡터, 행렬) 관련 기능\n",
       "import matplotlib.pyplot as plt  # 그래프 관련 기능\n",
       "import scipy.integrate as si  # 적분 관련 기능\n",
       "import sympy as sy  # 기호 연산 기능\n",
       "import sympy.plotting as splot\n",
       "import IPython.display as disp  # 웹페이지 표시 기능\n",
       "sy.init_printing()  # 기호 연산 결과 표시 기능 준비"
      ]
     },
     {
      "cell_type": "markdown",
      "metadata": {},
      "source": [
       "## 예제 07.008<br>ex07.008"
      ]
     },
     {
      "cell_type": "markdown",
      "metadata": {},
      "source": [
       "부정정보: 중첩법<br>Statically Indeterminate Beam : Superposition"
      ]
     },
     {
      "cell_type": "markdown",
      "metadata": {},
      "source": [
       "p. 314"
      ]
     },
     {
      "cell_type": "markdown",
      "metadata": {},
      "source": [
       "### 문제에서 주어진 변수<br>Given Parameters"
      ]
     },
     {
      "cell_type": "markdown",
      "metadata": {},
      "source": [
       "#### 보의 길이<br>Length of the beam"
      ]
     },
     {
      "cell_type": "code",
      "execution_count": null,
      "metadata": {},
      "outputs": [],
      "source": [
       "L_AB_m = sy.symbols('L_AB_m', real=True, nonnegative=True)\n",
       "\n",
       "s_d = {\n",
       "    L_AB_m: 10,\n",
       "}\n"
      ]
     },
     {
      "cell_type": "markdown",
      "metadata": {},
      "source": [
       "#### 하중<br>Load"
      ]
     },
     {
      "cell_type": "code",
      "execution_count": null,
      "metadata": {},
      "outputs": [],
      "source": [
       "w0_N_m = sy.symbols('w0_N_m', real=True)\n",
       "\n",
       "s_d.update(\n",
       "    {\n",
       "        w0_N_m: -1,\n",
       "    }\n",
       ")\n"
      ]
     },
     {
      "cell_type": "markdown",
      "metadata": {},
      "source": [
       "#### 재료와 단면 특성<br>Material & section properties"
      ]
     },
     {
      "cell_type": "code",
      "execution_count": null,
      "metadata": {},
      "outputs": [],
      "source": [
       "E_Pa, I_m4 = sy.symbols('E_Pa, I_m4', positive=True)\n",
       "\n",
       "s_d.update(\n",
       "    {\n",
       "        E_Pa: 200e9,\n",
       "        I_m4: 20e6 * (1e-3) ** 4,\n",
       "    }\n",
       ")\n"
      ]
     },
     {
      "cell_type": "markdown",
      "metadata": {},
      "source": [
       "#### 자유물체도<br>Free body diagram"
      ]
     },
     {
      "cell_type": "code",
      "execution_count": null,
      "metadata": {},
      "outputs": [],
      "source": [
       "x_m = sy.symbols('x_m', nonnegative=True)\n",
       "x_A_m = 0\n",
       "x_B_m = L_AB_m\n"
      ]
     },
     {
      "cell_type": "markdown",
      "metadata": {},
      "source": [
       "### 아직 알지 못하는 반력<br>Reaction forces unknown yet"
      ]
     },
     {
      "cell_type": "code",
      "execution_count": null,
      "metadata": {
       "collapsed": true
      },
      "outputs": [],
      "source": [
       "R_A_N, M_A_Nm, R_B_N = sy.symbols('R_A_N, M_A_Nm, R_B_N', real=True)"
      ]
     },
     {
      "cell_type": "markdown",
      "metadata": {},
      "source": [
       "### 중첩법<br>Superposition"
      ]
     },
     {
      "cell_type": "markdown",
      "metadata": {
       "collapsed": true
      },
      "source": [
       "#### 외팔보 전체에 가해지는 분포하중 $w_0$에 의한 끝점의 처짐<br>Deflection of a cantilever's end point by distributed load $w_0$ over the whole length"
      ]
     },
     {
      "cell_type": "markdown",
      "metadata": {},
      "source": [
       "p. 279 Table 6.2"
      ]
     },
     {
      "cell_type": "markdown",
      "metadata": {},
      "source": [
       "$$\n",
       "\\delta_{Bw_0} = \\frac{w_0L^4}{8EI}\n",
       "$$"
      ]
     },
     {
      "cell_type": "code",
      "execution_count": null,
      "metadata": {},
      "outputs": [],
      "source": [
       "delta_Bw0_m = (w0_N_m * L_AB_m ** 4 / (8 * E_Pa * I_m4))"
      ]
     },
     {
      "cell_type": "code",
      "execution_count": null,
      "metadata": {},
      "outputs": [],
      "source": [
       "delta_Bw0_m"
      ]
     },
     {
      "cell_type": "markdown",
      "metadata": {
       "collapsed": true
      },
      "source": [
       "#### 외팔보 $L$ 지점에 가해지는 반력 $R$에 의한 끝점의 처짐<br>Deflection of a cantilever's end point by reaction force $R$ at $L$"
      ]
     },
     {
      "cell_type": "markdown",
      "metadata": {},
      "source": [
       "p. 279 Table 6.2"
      ]
     },
     {
      "cell_type": "markdown",
      "metadata": {},
      "source": [
       "$$\n",
       "\\delta_{BR} = \\frac{RL^3}{3EI}\n",
       "$$"
      ]
     },
     {
      "cell_type": "code",
      "execution_count": null,
      "metadata": {},
      "outputs": [],
      "source": [
       "delta_BR_m = (R_B_N * L_AB_m ** 3 / (3 * E_Pa * I_m4))"
      ]
     },
     {
      "cell_type": "code",
      "execution_count": null,
      "metadata": {},
      "outputs": [],
      "source": [
       "delta_BR_m"
      ]
     },
     {
      "cell_type": "markdown",
      "metadata": {
       "collapsed": true
      },
      "source": [
       "#### 두 처짐을 중첩함<br>Superpose two $\\delta$'s"
      ]
     },
     {
      "cell_type": "code",
      "execution_count": null,
      "metadata": {},
      "outputs": [],
      "source": [
       "super_eq = sy.Eq(delta_Bw0_m + delta_BR_m, 0)"
      ]
     },
     {
      "cell_type": "code",
      "execution_count": null,
      "metadata": {},
      "outputs": [],
      "source": [
       "super_eq"
      ]
     },
     {
      "cell_type": "markdown",
      "metadata": {
       "collapsed": true
      },
      "source": [
       "#### $R$에 관하여 풂<br>Solve for $R$"
      ]
     },
     {
      "cell_type": "code",
      "execution_count": null,
      "metadata": {},
      "outputs": [],
      "source": [
       "R_B_N_sol = sy.solve(super_eq, R_B_N)[0]"
      ]
     },
     {
      "cell_type": "code",
      "execution_count": null,
      "metadata": {
       "scrolled": true
      },
      "outputs": [],
      "source": [
       "R_B_N_sol"
      ]
     },
     {
      "cell_type": "markdown",
      "metadata": {
       "collapsed": true
      },
      "source": [
       "### 평형방정식<br>Equilibrium equation"
      ]
     },
     {
      "cell_type": "markdown",
      "metadata": {},
      "source": [
       "수직방향<br>Vertical direction"
      ]
     },
     {
      "cell_type": "markdown",
      "metadata": {},
      "source": [
       "$$\n",
       "R_A + R_B + w_0 L = 0\n",
       "$$"
      ]
     },
     {
      "cell_type": "code",
      "execution_count": null,
      "metadata": {
       "collapsed": true
      },
      "outputs": [],
      "source": [
       "fy_eq = sy.Eq(R_A_N + R_B_N + w0_N_m * L_AB_m)"
      ]
     },
     {
      "cell_type": "code",
      "execution_count": null,
      "metadata": {},
      "outputs": [],
      "source": [
       "fy_eq"
      ]
     },
     {
      "cell_type": "code",
      "execution_count": null,
      "metadata": {},
      "outputs": [],
      "source": [
       "fy_eq.subs(R_B_N, R_B_N_sol)"
      ]
     },
     {
      "cell_type": "code",
      "execution_count": null,
      "metadata": {
       "collapsed": true
      },
      "outputs": [],
      "source": [
       "R_A_N_sol = sy.solve(fy_eq.subs(R_B_N, R_B_N_sol), R_A_N)[0]"
      ]
     },
     {
      "cell_type": "code",
      "execution_count": null,
      "metadata": {},
      "outputs": [],
      "source": [
       "R_A_N_sol"
      ]
     },
     {
      "cell_type": "markdown",
      "metadata": {},
      "source": [
       "$B$점 중심 회전방향<br>Rotation direction around $B$"
      ]
     },
     {
      "cell_type": "markdown",
      "metadata": {},
      "source": [
       "$$\n",
       "M_A - R_A \\cdot L - P_N \\cdot (L - a)=0\n",
       "$$"
      ]
     },
     {
      "cell_type": "code",
      "execution_count": null,
      "metadata": {},
      "outputs": [],
      "source": [
       "m_eq = sy.Eq(M_A_Nm - R_A_N * L_AB_m - sy.Rational(1, 2) * w0_N_m * L_AB_m ** 2)"
      ]
     },
     {
      "cell_type": "code",
      "execution_count": null,
      "metadata": {},
      "outputs": [],
      "source": [
       "m_eq"
      ]
     },
     {
      "cell_type": "code",
      "execution_count": null,
      "metadata": {},
      "outputs": [],
      "source": [
       "sy.simplify(m_eq.subs(R_A_N, R_A_N_sol))"
      ]
     },
     {
      "cell_type": "code",
      "execution_count": null,
      "metadata": {
       "collapsed": true
      },
      "outputs": [],
      "source": [
       "M_A_Nm_sol = sy.solve(m_eq.subs(R_A_N, R_A_N_sol), M_A_Nm)[0]"
      ]
     },
     {
      "cell_type": "code",
      "execution_count": null,
      "metadata": {},
      "outputs": [],
      "source": [
       "sy.simplify(M_A_Nm_sol)"
      ]
     }
    ],
    "metadata": {
     "anaconda-cloud": {},
     "kernelspec": {
      "display_name": "Python 3",
      "language": "python",
      "name": "python3"
     },
     "language_info": {
      "codemirror_mode": {
       "name": "ipython",
       "version": 3
      },
      "file_extension": ".py",
      "mimetype": "text/x-python",
      "name": "python",
      "nbconvert_exporter": "python",
      "pygments_lexer": "ipython3",
      "version": "3.7.3"
     }
    },
    "nbformat": 4,
    "nbformat_minor": 2
   }
   