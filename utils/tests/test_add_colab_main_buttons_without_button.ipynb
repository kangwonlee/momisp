{
 "cells": [
  {
   "cell_type": "markdown",
   "id": "cfd4095b",
   "metadata": {},
   "source": [
    "first markdown cell\n",
    "\n"
   ]
  },
  {
   "cell_type": "code",
   "execution_count": null,
   "id": "33bdbb8f",
   "metadata": {},
   "outputs": [],
   "source": [
    "print(\"first code cell\")\n",
    "\n"
   ]
  },
  {
   "cell_type": "markdown",
   "id": "5d5a412b",
   "metadata": {},
   "source": [
    "second markdown cell\n",
    "\n"
   ]
  },
  {
   "cell_type": "code",
   "execution_count": null,
   "id": "4f3ecc92",
   "metadata": {},
   "outputs": [],
   "source": [
    "print(\"second code cell\")\n",
    "\n"
   ]
  }
 ],
 "metadata": {
  "kernelspec": {
   "display_name": "Python 3",
   "language": "python",
   "name": "python3"
  },
  "language_info": {
   "codemirror_mode": {
    "name": "ipython",
    "version": 3
   },
   "file_extension": ".py",
   "mimetype": "text/x-python",
   "name": "python",
   "nbconvert_exporter": "python",
   "pygments_lexer": "ipython3",
   "version": "3.8.8"
  }
 },
 "nbformat": 4,
 "nbformat_minor": 5
}
