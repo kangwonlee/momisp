{
  "cells": [
    {
      "cell_type": "markdown",
      "metadata": {
        "id": "view-in-github",
        "colab_type": "text"
      },
      "source": [
        "<a href=\"https://colab.research.google.com/github/kangwonlee/momisp/blob/main/Ch02_Strain/ex02.007.numpy.reinforced.concrete.column.ipynb\" target=\"_parent\"><img src=\"https://colab.research.google.com/assets/colab-badge.svg\" alt=\"Open In Colab\"/></a>"
      ]
    },
    {
      "cell_type": "markdown",
      "metadata": {
        "id": "9qwBEmFcJhH2"
      },
      "source": [
        "참고문헌 : Pytel 외 저, 이주성 외 역, 재료역학, 2판, 한티미디어, 2013.<br>Ref: Pytel, Kiusalaas, Sharma, Mechanics of Materials, 2nd Ed., Cengage Learning, 2013.\n",
        "\n"
      ]
    },
    {
      "cell_type": "markdown",
      "metadata": {
        "id": "nQSyFrMyJhH4"
      },
      "source": [
        "`python` 기능을 확장해 주는 `module`을 불러 들임 (일부 기능만 사용될 수도 있음)<br>\n",
        "Bring in `module`'s that would expand features of `python`. (This file may use just some of them.)\n",
        "\n"
      ]
    },
    {
      "cell_type": "code",
      "execution_count": null,
      "metadata": {
        "id": "JPYU4t6VJhH5"
      },
      "outputs": [],
      "source": [
        "import numpy as np  # 배열, 행렬 관련 기능\n",
        "import numpy.linalg as na  # 선형대수 (벡터, 행렬) 관련 기능\n",
        "import IPython.display as disp  # 웹페이지 표시 기능\n",
        "\n"
      ]
    },
    {
      "cell_type": "markdown",
      "metadata": {
        "id": "qwQ-t-TbJhH6"
      },
      "source": [
        "## 예제 02.007\n",
        "\n"
      ]
    },
    {
      "cell_type": "markdown",
      "metadata": {
        "id": "3bngAnllJhH6"
      },
      "source": [
        "### 문제에서 주어진 변수<br>Given Parameters\n",
        "\n"
      ]
    },
    {
      "cell_type": "markdown",
      "metadata": {
        "id": "ZCse7QWnJhH7"
      },
      "source": [
        "강 봉의 단면적<br>\n",
        "Section area of one bar\n",
        "\n"
      ]
    },
    {
      "cell_type": "code",
      "execution_count": null,
      "metadata": {
        "id": "lPyzPG_2JhH7"
      },
      "outputs": [],
      "source": [
        "A_bar_mm2 = 900\n",
        "\n"
      ]
    },
    {
      "cell_type": "markdown",
      "metadata": {
        "id": "P3MNOgMwJhH8"
      },
      "source": [
        "강 봉의 갯수<br>\n",
        "Number of bars\n",
        "\n"
      ]
    },
    {
      "cell_type": "code",
      "execution_count": null,
      "metadata": {
        "id": "Ah1pucnPJhH9"
      },
      "outputs": [],
      "source": [
        "n_bar = 4\n",
        "\n"
      ]
    },
    {
      "cell_type": "markdown",
      "metadata": {
        "id": "44f8neGsJhH-"
      },
      "source": [
        "압축 하중<br>\n",
        "Compressive load\n",
        "\n"
      ]
    },
    {
      "cell_type": "code",
      "execution_count": null,
      "metadata": {
        "id": "A14t_JCzJhH-"
      },
      "outputs": [],
      "source": [
        "P_N = 1000e3\n",
        "\n"
      ]
    },
    {
      "cell_type": "markdown",
      "metadata": {
        "id": "-vtT0ecyJhH_"
      },
      "source": [
        "강과 콘크리트의 탄성계수<br>\n",
        "Young's moduli of steel and concrete\n",
        "\n"
      ]
    },
    {
      "cell_type": "code",
      "execution_count": null,
      "metadata": {
        "id": "YPbGjPx-JhH_"
      },
      "outputs": [],
      "source": [
        "E_steel_Pa = 200e9\n",
        "E_concrete_Pa = 14e9\n",
        "\n"
      ]
    },
    {
      "cell_type": "markdown",
      "metadata": {
        "id": "--cKOLGtJhIA"
      },
      "source": [
        "콘크리트 정사각형 기둥의 한 변의 길이<br>\n",
        "Length of one side of the square concrete column\n",
        "\n"
      ]
    },
    {
      "cell_type": "code",
      "execution_count": null,
      "metadata": {
        "id": "ku5_QjYbJhIA"
      },
      "outputs": [],
      "source": [
        "w_mm = 300\n",
        "\n"
      ]
    },
    {
      "cell_type": "markdown",
      "metadata": {
        "id": "A4eWsD0-JhIB"
      },
      "source": [
        "### 풀이<br>Solving for an answer\n",
        "\n"
      ]
    },
    {
      "cell_type": "markdown",
      "metadata": {
        "id": "ZNxIL7ILJhIB"
      },
      "source": [
        "강 봉의 변형과 콘크리트 기둥의 변형은 같다고 가정한다.<br>\n",
        "Assume that the displacements of the steel bars and the concrete column are the same.\n",
        "$$\\delta_{steel}=\\delta_{concrete}$$\n",
        "\n"
      ]
    },
    {
      "cell_type": "markdown",
      "metadata": {
        "id": "ZI_ObkWbJhIC"
      },
      "source": [
        "강 봉에 걸리는 하중과 콘크리트에 걸리는 하중의 합이 압축하중이 된다.<br>\n",
        "The sum of the loads on the steel bar and on the concrete column equals the compressive load.\n",
        "$$P=P_{steel} + P_{concrete}$$\n",
        "\n"
      ]
    },
    {
      "cell_type": "markdown",
      "metadata": {
        "id": "KKeRotsBJhIC"
      },
      "source": [
        "강 봉의 길이와 콘크리트 기둥의 길이가 같다면, 변형률도 같다.<br>\n",
        "If the lengths of the steel bars and the concrete columns are the same, the strains are the same, too.\n",
        "$$\\epsilon_{steel}=\\epsilon_{concrete}$$\n",
        "\n"
      ]
    },
    {
      "cell_type": "markdown",
      "metadata": {
        "id": "mg7SJD3nJhIC"
      },
      "source": [
        "탄성계수를 적용하면 강 봉과 콘크리트의 압축 응력을 구할 수 있다.<br>Applying the Young's modulus gives the compressive stresses of steel bars and concrete.\n",
        "$$\\epsilon_{steel}=\\frac{\\sigma_{steel}}{E_{steel}}=\\frac{\\sigma_{concrete}}{E_{concrete}}=\\epsilon_{concrete}$$\n",
        "\n"
      ]
    },
    {
      "cell_type": "markdown",
      "metadata": {
        "id": "TOyko3y-JhIC"
      },
      "source": [
        "한편, 하중을 응력으로 표시할 수 있다.<br>\n",
        "We can also decribe the compressive load with the stresses.\n",
        "$$P=\\sigma_{steel}A_{steel}+\\sigma_{concrete}A_{concrete}$$\n",
        "\n"
      ]
    },
    {
      "cell_type": "markdown",
      "metadata": {
        "id": "Rg04m4YMJhID"
      },
      "source": [
        "각 면적은 다음과 같이 구할 수 있다.<br>\n",
        "Respective areas are as follows.\n",
        "$$\n",
        "    A_{steel} = n_{bar}A_{bar}\\\\\n",
        "    A_{concrete} = w^2 - A_{steel}\n",
        "$$\n",
        "\n"
      ]
    },
    {
      "cell_type": "markdown",
      "metadata": {
        "id": "Dbhixb_TJhID"
      },
      "source": [
        "하중 식은 다음과 같이 될 것이다.<br>Then the load would be as follows.\n",
        "$$\n",
        "    P=\\sigma_{steel}n_{bar}A_{bar}+\\sigma_{concrete}(w^2 - n_{bar}A_{bar})\n",
        "$$\n",
        "\n"
      ]
    },
    {
      "cell_type": "markdown",
      "metadata": {
        "id": "9zwr95aNJhID"
      },
      "source": [
        "하중 식과 응력 식을 모으면 다음과 같다.<br>\n",
        "The simultaneous equation of load and stress are as follows.\n",
        "$$\n",
        "\\begin{align}\n",
        "    n_{bar}A_{bar}\\sigma_{steel}&+(w^2 - n_{bar}A_{bar})\\sigma_{concrete}&=P\\\\\n",
        "    \\frac{1}{E_{steel}}\\sigma_{steel}&-\\frac{1}{E_{concrete}}\\sigma_{concrete}&=0\n",
        "\\end{align}\n",
        "$$\n",
        "\n"
      ]
    },
    {
      "cell_type": "markdown",
      "metadata": {
        "id": "hufx2Kx8JhIF"
      },
      "source": [
        "행렬 형태로도 정리할 수 있다.<br>\n",
        "The following is the matrix form\n",
        "$$\n",
        "\\begin{bmatrix}\n",
        "    n_{bar}A_{bar} & w^2 - n_{bar}A_{bar} \\\\\n",
        "    \\frac{1}{E_{steel}} & -\\frac{1}{E_{concrete}}\n",
        "\\end{bmatrix}\n",
        "\\begin{bmatrix}\n",
        "    \\sigma_{steel} \\\\\n",
        "    \\sigma_{concrete}\n",
        "\\end{bmatrix}\n",
        "=\n",
        "\\begin{bmatrix}\n",
        "    P\\\\\n",
        "    0\n",
        "\\end{bmatrix}\n",
        "$$\n",
        "\n"
      ]
    },
    {
      "cell_type": "markdown",
      "metadata": {
        "id": "qAOydykuJhIL"
      },
      "source": [
        "이런 형태의 문제는 다음과 같이 줄여 쓸 수도 있다.<br>\n",
        "In short:\n",
        "$$\n",
        "\\begin{align}\n",
        "    Ax&=b \\\\ \n",
        "    x &= A^{-1}b\n",
        "\\end{align}\n",
        "$$\n",
        "\n"
      ]
    },
    {
      "cell_type": "markdown",
      "metadata": {
        "id": "Wm7xha69JhIL"
      },
      "source": [
        "여기서<br>\n",
        "where \n",
        "$$\n",
        "\\begin{align}\n",
        "A &= \n",
        "    \\begin{bmatrix}\n",
        "        n_{bar}A_{bar} & w^2 - n_{bar}A_{bar} \\\\\n",
        "        \\frac{1}{E_{steel}} & -\\frac{1}{E_{concrete}}\n",
        "    \\end{bmatrix} \\\\\n",
        "x & =   \\begin{bmatrix}\n",
        "            \\sigma_{steel} \\\\\n",
        "            \\sigma_{concrete}\n",
        "        \\end{bmatrix} \\\\\n",
        "b &= \\begin{bmatrix}\n",
        "    P\\\\\n",
        "    0\n",
        "\\end{bmatrix}\n",
        "\\end{align}\n",
        "$$\n",
        "\n"
      ]
    },
    {
      "cell_type": "markdown",
      "metadata": {
        "id": "ychZKGUKJhIL"
      },
      "source": [
        "`python` 변수 $A_{bar}$ 와 $w$ 의 단위를 변경한다.<br>\n",
        "Change units of `python` variables $A_{bar}$ and $w$.\n",
        "\n"
      ]
    },
    {
      "cell_type": "code",
      "source": [
        "X = 1e-3\n",
        "A_bar_m2 = A_bar_mm2 * X**2\n",
        "w_m = w_mm * X\n",
        "\n",
        "disp.Math(f'X = {X}(m)')\n",
        "\n"
      ],
      "metadata": {
        "id": "3JdDu6qSKIUL"
      },
      "execution_count": null,
      "outputs": []
    },
    {
      "cell_type": "code",
      "source": [
        "disp.Math(f'A_{{bar}} = {A_bar_m2}(m^2)')\n"
      ],
      "metadata": {
        "id": "aEOCEvxvKkwq"
      },
      "execution_count": null,
      "outputs": []
    },
    {
      "cell_type": "markdown",
      "metadata": {
        "id": "p_L9B_LJJhIN"
      },
      "source": [
        "계수 행렬 $A$를 정한다.<br>\n",
        "Define the coefficient matrix $A$.\n",
        "\n"
      ]
    },
    {
      "cell_type": "code",
      "execution_count": null,
      "metadata": {
        "id": "4g6TfPmZJhIN"
      },
      "outputs": [],
      "source": [
        "A_mat = np.matrix([[n_bar * A_bar_m2, w_m**2 - n_bar * A_bar_m2],\n",
        "                   [1./E_steel_Pa, -1./E_concrete_Pa]])\n",
        "A_mat\n",
        "\n"
      ]
    },
    {
      "cell_type": "markdown",
      "metadata": {
        "id": "TGJQgpLRJhIO"
      },
      "source": [
        "상수 벡터 $b$를 정한다.<br>\n",
        "Define the constant vector $b$.\n",
        "\n"
      ]
    },
    {
      "cell_type": "code",
      "execution_count": null,
      "metadata": {
        "id": "C-aoLV2PJhIO"
      },
      "outputs": [],
      "source": [
        "b_vec = np.matrix([[P_N],\n",
        "                  [0.0]])\n",
        "b_vec\n",
        "\n"
      ]
    },
    {
      "cell_type": "markdown",
      "metadata": {
        "id": "qbtyOuVHJhIO"
      },
      "source": [
        "위 행렬 방정식을 푼다.<br>\n",
        "Solve for the matrix equation.\n",
        "\n"
      ]
    },
    {
      "cell_type": "code",
      "execution_count": null,
      "metadata": {
        "scrolled": true,
        "id": "bb_CBT1xJhIO"
      },
      "outputs": [],
      "source": [
        "sigma_Pa_mat = na.solve(A_mat, b_vec)\n",
        "sigma_Pa_mat\n",
        "\n"
      ]
    },
    {
      "cell_type": "markdown",
      "metadata": {
        "id": "9Kcp45XrJhIP"
      },
      "source": [
        "다음을 생각하면<br>\n",
        "Recall:\n",
        "\n"
      ]
    },
    {
      "cell_type": "markdown",
      "metadata": {
        "id": "3P1a1FcrJhIP"
      },
      "source": [
        "$$\n",
        "x =   \\begin{bmatrix}\n",
        "            \\sigma_{steel} \\\\\n",
        "            \\sigma_{concrete}\n",
        "        \\end{bmatrix}\n",
        "$$\n",
        "\n"
      ]
    },
    {
      "cell_type": "code",
      "source": [
        "disp.Math(f'\\sigma_{{steel}} = {sigma_Pa_mat[0,0]:g}(Pa)' )\n",
        "\n"
      ],
      "metadata": {
        "id": "fLks-1dtLqc3"
      },
      "execution_count": null,
      "outputs": []
    },
    {
      "cell_type": "code",
      "source": [
        "disp.Math(f'\\sigma_{{concrete}} = {sigma_Pa_mat[1,0]:g}(Pa)' )\n",
        "\n"
      ],
      "metadata": {
        "id": "XeXGo5G8MIcp"
      },
      "execution_count": null,
      "outputs": []
    },
    {
      "cell_type": "markdown",
      "metadata": {
        "id": "53NUDS3BJhIP"
      },
      "source": [
        "MPa 단위로는 다음과 같다.<br>\n",
        "In MPa units:\n",
        "\n"
      ]
    },
    {
      "cell_type": "code",
      "execution_count": null,
      "metadata": {
        "scrolled": true,
        "id": "KMLUCpDVJhIP"
      },
      "outputs": [],
      "source": [
        "sigma_MPa_mat = sigma_Pa_mat * 1e-6\n",
        "sigma_MPa_mat\n",
        "\n"
      ]
    },
    {
      "cell_type": "markdown",
      "metadata": {
        "id": "r6Qh4Ww4JhIQ"
      },
      "source": [
        "### 확인<br>Verification\n",
        "\n"
      ]
    },
    {
      "cell_type": "markdown",
      "metadata": {
        "id": "PR7PJmewJhIQ"
      },
      "source": [
        "강봉 1개가 담당하는 하중은 강봉의 응력과 강봉 1개의 면적의 곱일 것이다.<br>Load on one steel bar would be the product of the stress of the steel bar and the area of one steel bar.\n",
        "\n"
      ]
    },
    {
      "cell_type": "code",
      "execution_count": null,
      "metadata": {
        "id": "bi7PkqbpJhIQ"
      },
      "outputs": [],
      "source": [
        "P_steel_1_kN = sigma_Pa_mat[0] * A_bar_m2 * 1e-3\n",
        "P_steel_1_kN\n",
        "\n"
      ]
    },
    {
      "cell_type": "markdown",
      "metadata": {
        "id": "QEuOfM0eJhIQ"
      },
      "source": [
        "강 봉 4개가 담당하는 하중은 그 4배일 것이다.<br>\n",
        "Load on four steel bars would be four times of it.\n",
        "\n"
      ]
    },
    {
      "cell_type": "code",
      "execution_count": null,
      "metadata": {
        "id": "yEkFj2vqJhIR"
      },
      "outputs": [],
      "source": [
        "P_steel_4_kN = P_steel_1_kN * n_bar\n",
        "P_steel_4_kN\n",
        "\n"
      ]
    },
    {
      "cell_type": "markdown",
      "metadata": {
        "id": "1YZwXOSAJhIR"
      },
      "source": [
        "콘크리트가 담당하는 하중은 다음과 같을 것이다.<br>\n",
        "Load of the concrete would be as follows.\n",
        "\n"
      ]
    },
    {
      "cell_type": "code",
      "execution_count": null,
      "metadata": {
        "id": "Q5waO61kJhIR"
      },
      "outputs": [],
      "source": [
        "P_concrete_kN = sigma_Pa_mat[1] * (w_m**2 - n_bar * A_bar_m2) * 1e-3\n",
        "P_concrete_kN\n",
        "\n"
      ]
    },
    {
      "cell_type": "markdown",
      "metadata": {
        "id": "ngLh77-GJhIR"
      },
      "source": [
        "확인을 위해 위 두 하중을 더해 본다.<br>\n",
        "To verify, sum up both loads.\n",
        "\n"
      ]
    },
    {
      "cell_type": "code",
      "execution_count": null,
      "metadata": {
        "id": "P3h3k3D0JhIR"
      },
      "outputs": [],
      "source": [
        "float(P_steel_4_kN + P_concrete_kN)\n",
        "\n"
      ]
    },
    {
      "cell_type": "markdown",
      "metadata": {
        "id": "M6TLauOIJhIR"
      },
      "source": [
        "아래는 프로그램이 맞게 작동했는지 확인하는 부분이다. <br>\n",
        "Following parts test if program works correctly.\n",
        "\n",
        "참고 : Francesco Mosconi, Travis + Anaconda + Jupyter, 2017 Aug 09, [Online] Available: https://github.com/ghego/travis_anaconda_jupyter.\n",
        "\n"
      ]
    },
    {
      "cell_type": "code",
      "execution_count": null,
      "metadata": {
        "id": "PvDBX-naJhIS"
      },
      "outputs": [],
      "source": [
        "zero_mat = A_mat * sigma_Pa_mat - b_vec\n",
        "assert(1e-7 > abs(zero_mat[0, 0]))\n",
        "assert(1e-7 > abs(zero_mat[1, 0]))\n",
        "\n"
      ]
    },
    {
      "cell_type": "code",
      "execution_count": null,
      "metadata": {
        "id": "ykTX-8HYJhIS"
      },
      "outputs": [],
      "source": [
        "assert(1e-7 > (abs(float(P_steel_4_kN + P_concrete_kN) - P_N * 1e-3)))\n",
        "\n"
      ]
    },
    {
      "cell_type": "code",
      "execution_count": null,
      "metadata": {
        "id": "pJEBxjXeJhIS"
      },
      "outputs": [],
      "source": [
        ""
      ]
    }
  ],
  "metadata": {
    "anaconda-cloud": {},
    "kernelspec": {
      "display_name": "Python 3",
      "language": "python",
      "name": "python3"
    },
    "language_info": {
      "codemirror_mode": {
        "name": "ipython",
        "version": 3
      },
      "file_extension": ".py",
      "mimetype": "text/x-python",
      "name": "python",
      "nbconvert_exporter": "python",
      "pygments_lexer": "ipython3",
      "version": "3.6.4"
    },
    "colab": {
      "name": "ex02.007.numpy.reinforced.concrete.column.ipynb",
      "provenance": [],
      "include_colab_link": true
    }
  },
  "nbformat": 4,
  "nbformat_minor": 0
}
