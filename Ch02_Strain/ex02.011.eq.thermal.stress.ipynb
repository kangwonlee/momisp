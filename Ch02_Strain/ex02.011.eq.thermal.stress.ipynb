{
 "cells": [
  {
   "cell_type": "markdown",
   "metadata": {
    "id": "view-in-github",
    "colab_type": "text"
   },
   "source": [
    "<a href=\"https://colab.research.google.com/github/kangwonlee/momisp/blob/dependabot/pip/tests/scikit-learn-1.5.0/Ch02_Strain/ex02.011.eq.thermal.stress.ipynb\" target=\"_parent\"><img src=\"https://colab.research.google.com/assets/colab-badge.svg\" alt=\"Open In Colab\"/></a>\n"
   ]
  },
  {
   "cell_type": "markdown",
   "metadata": {},
   "source": [
    "참고문헌 : Pytel 외 저, 이주성 외 역, 재료역학, 2판, 한티미디어, 2013.<br>Ref: Pytel, Kiusalaas, Sharma, Mechanics of Materials, 2nd Ed., Cengage Learning, 2013.\n",
    "\n"
   ]
  },
  {
   "cell_type": "markdown",
   "metadata": {},
   "source": [
    "`python` 기능을 확장해 주는 `module`을 불러 들임 (일부 기능만 사용될 수도 있음)<br>Bring in `module`'s that would expand features of `python`. (This file may use just some of them.)\n",
    "\n"
   ]
  },
  {
   "cell_type": "code",
   "execution_count": null,
   "metadata": {},
   "outputs": [],
   "source": [
    "import numpy as np  # 배열, 행렬 관련 기능\n",
    "import numpy.linalg as na  # 선형대수 (벡터, 행렬) 관련 기능\n",
    "import matplotlib.pyplot as plt  # 그래프 관련 기능\n",
    "import sympy as sy  # 기호 연산 기능\n",
    "import IPython.display as disp  # 웹페이지 표시 기능\n",
    "\n"
   ]
  },
  {
   "cell_type": "markdown",
   "metadata": {},
   "source": [
    "## 예제 02.011\n",
    "\n"
   ]
  },
  {
   "cell_type": "markdown",
   "metadata": {},
   "source": [
    "### 문제에서 주어진 변수<br>Given Parameters\n",
    "\n"
   ]
  },
  {
   "cell_type": "markdown",
   "metadata": {},
   "source": [
    "수평 철봉의 길이<br>Length of the horizontal steel bar\n",
    "\n"
   ]
  },
  {
   "cell_type": "code",
   "execution_count": null,
   "metadata": {},
   "outputs": [],
   "source": [
    "L_m = 2.5\n",
    "\n"
   ]
  },
  {
   "cell_type": "markdown",
   "metadata": {},
   "source": [
    "수평 철봉의 단면적<br>Section area of the horizontal steel bar\n",
    "\n"
   ]
  },
  {
   "cell_type": "code",
   "execution_count": null,
   "metadata": {},
   "outputs": [],
   "source": [
    "a_bar_mm2 = 1200\n",
    "\n"
   ]
  },
  {
   "cell_type": "markdown",
   "metadata": {},
   "source": [
    "무응력상태였던 온도<br>Temperature when the stress was zero\n",
    "\n"
   ]
  },
  {
   "cell_type": "code",
   "execution_count": null,
   "metadata": {},
   "outputs": [],
   "source": [
    "T_0_degC = 20\n",
    "\n"
   ]
  },
  {
   "cell_type": "markdown",
   "metadata": {},
   "source": [
    "하중을 구하고자 하는 온도<br>The temperature to calculate the load\n",
    "\n"
   ]
  },
  {
   "cell_type": "code",
   "execution_count": null,
   "metadata": {},
   "outputs": [],
   "source": [
    "T_1_degC = -20\n",
    "\n"
   ]
  },
  {
   "cell_type": "markdown",
   "metadata": {},
   "source": [
    "열팽창 계수<br>Thermal expension coefficient\n",
    "\n"
   ]
  },
  {
   "cell_type": "code",
   "execution_count": null,
   "metadata": {},
   "outputs": [],
   "source": [
    "alpha_Cinv = 11.7e-6\n",
    "\n"
   ]
  },
  {
   "cell_type": "markdown",
   "metadata": {},
   "source": [
    "탄성계수<br>Young's modulus\n",
    "\n"
   ]
  },
  {
   "cell_type": "code",
   "execution_count": null,
   "metadata": {},
   "outputs": [],
   "source": [
    "E_steel_Pa = 200e9\n",
    "\n"
   ]
  },
  {
   "cell_type": "markdown",
   "metadata": {},
   "source": [
    "### 가정 1) 벽 고정<br>Assumption1) Walls are fixed\n",
    "\n"
   ]
  },
  {
   "cell_type": "markdown",
   "metadata": {},
   "source": [
    "온도가 변화하면 수평 철봉의 길이는 다음과 같이 변화할 것이다.<br>When the temperature changes, the horizontal steel bar's length would change as follows.\n",
    "\n"
   ]
  },
  {
   "cell_type": "markdown",
   "metadata": {},
   "source": [
    "$$\\delta_T=\\alpha (T_1 - T_0) L $$\n",
    "\n"
   ]
  },
  {
   "cell_type": "markdown",
   "metadata": {},
   "source": [
    "값이 양수이면 수평 철봉이 늘어날 것이고, 음수이면 짧아질 것이다.<br>If this value is positive, the steel bar's length would increase and vice versa.\n",
    "\n"
   ]
  },
  {
   "cell_type": "code",
   "execution_count": null,
   "metadata": {},
   "outputs": [],
   "source": [
    "delta_T_m = alpha_Cinv * (T_1_degC - T_0_degC) * L_m\n",
    "\n"
   ]
  },
  {
   "cell_type": "code",
   "execution_count": null,
   "metadata": {},
   "outputs": [],
   "source": [
    "disp.Math(rf'\\delta_T = {delta_T_m:g}(m) ={(delta_T_m*1e3):g}(mm)')\n",
    "\n"
   ]
  },
  {
   "cell_type": "markdown",
   "metadata": {},
   "source": [
    "벽이 고정되어 있다면, 이 만큼 변형하려고 하는 철봉의 변형을 억제해 주는 힘을 가해 주어야 한다.<br>\n",
    "If the walls are fixed, those walls exert force to supress the deformation of the steel bar.\n",
    "\n"
   ]
  },
  {
   "cell_type": "markdown",
   "metadata": {},
   "source": [
    "$$\\delta_P=\\frac{PL}{EA}=\\frac{P}{A}\\frac{L}{E}=\\sigma\\frac{L}{E}=-\\alpha (T_1 - T_0) L $$\n",
    "\n"
   ]
  },
  {
   "cell_type": "markdown",
   "metadata": {},
   "source": [
    "변형률 $\\epsilon$ 과 응력 $\\sigma$ 는 다음과 같이 구할 수 있다.<br>\n",
    "An engineer can relate strain $\\epsilon$ and stress $\\sigma$ with the temperature difference $\\left(T_1-T_0\\right)$ as follows.\n",
    "\n"
   ]
  },
  {
   "cell_type": "markdown",
   "metadata": {},
   "source": [
    "$$\n",
    "    \\begin{array}{}\n",
    "        \\epsilon &= \\frac{\\delta_P}{L} &= -\\frac{\\alpha(T_1 - T_0)L}{L} = -\\alpha(T_1 - T_0) \\\\\n",
    "        \\sigma &= E\\epsilon &= -E\\alpha(T_1 - T_0)\n",
    "    \\end{array}\n",
    "$$\n",
    "\n"
   ]
  },
  {
   "cell_type": "code",
   "execution_count": null,
   "metadata": {},
   "outputs": [],
   "source": [
    "epsilon = -delta_T_m / L_m\n",
    "sigma_Pa = E_steel_Pa * epsilon\n",
    "\n"
   ]
  },
  {
   "cell_type": "code",
   "execution_count": null,
   "metadata": {},
   "outputs": [],
   "source": [
    "disp.Math(rf'\\sigma = {sigma_Pa:g}(Pa) ={(sigma_Pa*1e-6):g}(MPa)')\n",
    "\n"
   ]
  },
  {
   "cell_type": "markdown",
   "metadata": {
    "collapsed": true
   },
   "source": [
    "아래 코드는 프로그램이 맞게 작동했는지 확인한다.\n",
    "<br>Following code verifies if this program worked correctly. \n",
    "\n",
    "참고 : Francesco Mosconi, Travis + Anaconda + Jupyter, 2017 Aug 09, [Online] Available: https://github.com/ghego/travis_anaconda_jupyter.\n",
    "\n"
   ]
  },
  {
   "cell_type": "code",
   "execution_count": null,
   "metadata": {},
   "outputs": [],
   "source": [
    "assert(1e-7 > abs(sigma_Pa*1e-6 - 93.6))\n",
    "\n"
   ]
  },
  {
   "cell_type": "markdown",
   "metadata": {},
   "source": [
    "### 가정 2) 벽이 0.5mm 까지 함께 이동\n",
    "\n"
   ]
  },
  {
   "cell_type": "markdown",
   "metadata": {},
   "source": [
    "벽이 $\\Delta$ 만큼 움직인다면 변형량이 감소할 것이다.\n",
    "$$\n",
    "\\begin{align}\n",
    "    \\alpha (T_1 - T_0)L &= \\delta_T + \\Delta \\\\ \n",
    "    \\delta_T &= \\alpha (T_1 - T_0)L - \\Delta \n",
    "\\end{align}\n",
    "$$ \n",
    "\n"
   ]
  },
  {
   "cell_type": "code",
   "execution_count": null,
   "metadata": {},
   "outputs": [],
   "source": [
    "delta_T_m = L_m * alpha_Cinv * (T_1_degC - T_0_degC) - (-0.5e-3)\n",
    "\n"
   ]
  },
  {
   "cell_type": "code",
   "execution_count": null,
   "metadata": {},
   "outputs": [],
   "source": [
    "disp.Math(rf'\\delta_T = {delta_T_m:g}(m) = {delta_T_m*1e3:g}(mm)')\n",
    "\n"
   ]
  },
  {
   "cell_type": "markdown",
   "metadata": {},
   "source": [
    "변형률과 응력은 다음과 같이 구할 수 있다.\n",
    "$$\n",
    "\\begin{align}\n",
    "    \\epsilon &= -\\frac{\\delta_T}{L} = -\\frac{\\alpha(T_1 - T_0)L-\\Delta}{L} = \\frac{\\Delta}{L}-\\alpha(T_1 - T_0)\\\\\n",
    "    \\sigma   &= E\\epsilon = E\\left[\\frac{\\Delta}{L}-\\alpha(T_1 - T_0)\\right]\n",
    "\\end{align}\n",
    "$$\n",
    "\n"
   ]
  },
  {
   "cell_type": "code",
   "execution_count": null,
   "metadata": {},
   "outputs": [],
   "source": [
    "epsilon = -delta_T_m / L_m\n",
    "sigma_Pa = E_steel_Pa * epsilon\n",
    "\n"
   ]
  },
  {
   "cell_type": "code",
   "execution_count": null,
   "metadata": {},
   "outputs": [],
   "source": [
    "disp.Math(rf'\\sigma = {sigma_Pa:g}(Pa) = {(sigma_Pa*1e-6):g}(MPa)')\n",
    "\n"
   ]
  },
  {
   "cell_type": "markdown",
   "metadata": {
    "collapsed": true
   },
   "source": [
    "아래 코드는 프로그램이 맞게 작동했는지 확인한다.\n",
    "<br>Following code verifies if this program worked correctly. \n",
    "\n",
    "참고 : Francesco Mosconi, Travis + Anaconda + Jupyter, 2017 Aug 09, [Online] Available: https://github.com/ghego/travis_anaconda_jupyter.\n",
    "\n"
   ]
  },
  {
   "cell_type": "code",
   "execution_count": null,
   "metadata": {},
   "outputs": [],
   "source": [
    "assert(1e-7 > abs(sigma_Pa*1e-6 - 53.6))\n",
    "\n"
   ]
  },
  {
   "cell_type": "code",
   "execution_count": null,
   "metadata": {},
   "outputs": [],
   "source": []
  }
 ],
 "metadata": {
  "kernelspec": {
   "display_name": "Python 3",
   "language": "python",
   "name": "python3"
  },
  "language_info": {
   "codemirror_mode": {
    "name": "ipython",
    "version": 3
   },
   "file_extension": ".py",
   "mimetype": "text/x-python",
   "name": "python",
   "nbconvert_exporter": "python",
   "pygments_lexer": "ipython3",
   "version": "3.6.4"
  }
 },
 "nbformat": 4,
 "nbformat_minor": 2
}