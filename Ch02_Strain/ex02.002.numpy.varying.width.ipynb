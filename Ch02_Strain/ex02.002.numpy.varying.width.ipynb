{
 "cells": [
  {
   "cell_type": "markdown",
   "metadata": {
    "id": "view-in-github",
    "colab_type": "text"
   },
   "source": [
    "<a href=\"https://colab.research.google.com/github/kangwonlee/momisp/blob/dependabot/pip/tests/scikit-learn-1.5.0/Ch02_Strain/ex02.002.numpy.varying.width.ipynb\" target=\"_parent\"><img src=\"https://colab.research.google.com/assets/colab-badge.svg\" alt=\"Open In Colab\"/></a>\n"
   ]
  },
  {
   "cell_type": "markdown",
   "metadata": {},
   "source": [
    "참고문헌 : Pytel 외 저, 이주성 외 역, 재료역학, 2판, 한티미디어, 2013.<br>Ref: Pytel, Kiusalaas, Sharma, Mechanics of Materials, 2nd Ed., Cengage Learning, 2013.\n",
    "\n"
   ]
  },
  {
   "cell_type": "markdown",
   "metadata": {},
   "source": [
    "`python` 기능을 확장해 주는 `module`을 불러 들임 (일부 기능만 사용될 수도 있음)<br>\n",
    "Bring in `module`'s that would expand features of `python`. (This file may use just some of them.)\n",
    "\n"
   ]
  },
  {
   "cell_type": "code",
   "execution_count": null,
   "metadata": {},
   "outputs": [],
   "source": [
    "import numpy as np  # 배열, 행렬 관련 기능\n",
    "import matplotlib.pyplot as plt  # 그래프 관련 기능\n",
    "\n"
   ]
  },
  {
   "cell_type": "markdown",
   "metadata": {},
   "source": [
    "## 예제 02.002<br>ex02.002\n",
    "\n"
   ]
  },
  {
   "cell_type": "markdown",
   "metadata": {},
   "source": [
    "### 문제에서 주어진 변수<br>Given Parameters\n",
    "\n"
   ]
  },
  {
   "cell_type": "code",
   "execution_count": null,
   "metadata": {},
   "outputs": [],
   "source": [
    "L_m = 10  # 길이 length\n",
    "t_mm = 20  # 재료의 두께 thickness\n",
    "P_N = 100e3  # 하중 load\n",
    "wa_mm = 40  # A 점 폭 width at A\n",
    "wb_mm = 120  # B 점 폭 width at B\n",
    "E_Pa = 200e9  # 탄성계수 Elastic constant\n",
    "\n"
   ]
  },
  {
   "cell_type": "markdown",
   "metadata": {},
   "source": [
    "$x$의 범위 0 ~ $L$ 사이를 100개의 구간으로 나눈다.<br>Divide $x$ range 0 ~ $L$ into 100 intervals.\n",
    "\n"
   ]
  },
  {
   "cell_type": "code",
   "execution_count": null,
   "metadata": {},
   "outputs": [],
   "source": [
    "x_m_array = np.linspace(0, L_m, 100 + 1)\n",
    "\n"
   ]
  },
  {
   "cell_type": "markdown",
   "metadata": {},
   "source": [
    "재료의 폭이  $w_A$ ~ $w_B$ 로 변화한다면 다음과 같이 표시할 수 있다.<br>The width of the material changes from $w_A$ to $w_B$ as $x$ changes from $0$ to $L$.\n",
    "\n"
   ]
  },
  {
   "cell_type": "markdown",
   "metadata": {},
   "source": [
    "$$h(x) = \\frac{x(w_B - w_A) + w_AL}{L} = (w_B - w_A)\\frac{x}{L} + w_A$$\n",
    "\n"
   ]
  },
  {
   "cell_type": "markdown",
   "metadata": {
    "collapsed": true
   },
   "source": [
    "파이썬 코드로는 다음과 같다.<br>In Python code:\n",
    "\n"
   ]
  },
  {
   "cell_type": "code",
   "execution_count": null,
   "metadata": {},
   "outputs": [],
   "source": [
    "h_mm = (wb_mm - wa_mm) * x_m_array / L_m + wa_mm\n",
    "\n"
   ]
  },
  {
   "cell_type": "markdown",
   "metadata": {},
   "source": [
    "### x - h 그래프<br>x - h plot\n",
    "\n"
   ]
  },
  {
   "cell_type": "markdown",
   "metadata": {
    "collapsed": true
   },
   "source": [
    "그래프로 그리려면 우선 x, y 값을 지정해준다.<br>\n",
    "First, indicate values for x & y\n",
    "\n"
   ]
  },
  {
   "cell_type": "code",
   "execution_count": null,
   "metadata": {},
   "outputs": [],
   "source": [
    "# 그래프로 그리려면 우선 x, y 값을 지정해준다.\n",
    "# First, indicate values for x & y\n",
    "plt.plot(x_m_array, h_mm, label='h(mm)')\n",
    "# y값의 최소값을 0으로 정한다.\n",
    "# Set minimum of y value.\n",
    "\n",
    "plt.ylim(ymin=0)\n",
    "# 그래프의 x, y 축 이름을 지정한다.\n",
    "# Set names for x, y axes.\n",
    "plt.xlabel('x(m)')\n",
    "plt.ylabel('h(mm)')\n",
    "\n",
    "# 그래프에 모눈 표시를 추가한다.\n",
    "# Add grid to the plot.\n",
    "plt.grid(True)\n",
    "\n",
    "# 범례를 추가한다.\n",
    "# Add legend.\n",
    "plt.legend(loc=0)\n",
    "\n",
    "# 그래프를 보인다.\n",
    "# Show plot. (Seems quite obvious?)\n",
    "plt.show()\n",
    "\n"
   ]
  },
  {
   "cell_type": "markdown",
   "metadata": {},
   "source": [
    "### 단면적 그래프<br>Section area plot\n",
    "\n"
   ]
  },
  {
   "cell_type": "markdown",
   "metadata": {},
   "source": [
    "단면적은 다음과 같다.<br>Section area is as follows\n",
    "\n"
   ]
  },
  {
   "cell_type": "markdown",
   "metadata": {},
   "source": [
    "$$A(m^2) = t(mm) \\times h(mm) \\times X^2$$\n",
    "\n"
   ]
  },
  {
   "cell_type": "markdown",
   "metadata": {},
   "source": [
    "여기서 $X=10^{-3}$ 이다.<br>where  $X=10^{-3}$.<br>\n",
    "\n"
   ]
  },
  {
   "cell_type": "markdown",
   "metadata": {},
   "source": [
    "python 으로 표시하면 다음과 같을 것이다. <br> In Python:\n",
    "\n"
   ]
  },
  {
   "cell_type": "code",
   "execution_count": null,
   "metadata": {},
   "outputs": [],
   "source": [
    "X = 1e-3\n",
    "A_m2 = t_mm * h_mm * (X**2)\n",
    "\n"
   ]
  },
  {
   "cell_type": "markdown",
   "metadata": {},
   "source": [
    "그래프로 $x$에 따른 단면적을 표시해 보자.<br>Let's plot section area in terms of $x$.\n",
    "\n"
   ]
  },
  {
   "cell_type": "code",
   "execution_count": null,
   "metadata": {},
   "outputs": [],
   "source": [
    "plt.plot(x_m_array, A_m2, label='$A(m^2)$')\n",
    "plt.ylim((0, plt.ylim()[-1]))  # y 축의 최소값을 0으로 지정한다\n",
    "plt.xlabel('x(m)')\n",
    "plt.ylabel('$A(m^2)$')\n",
    "plt.grid(True)\n",
    "plt.legend(loc=0)\n",
    "plt.show()\n",
    "\n"
   ]
  },
  {
   "cell_type": "markdown",
   "metadata": {},
   "source": [
    "### 응력 그래프<br>Stress plot\n",
    "\n"
   ]
  },
  {
   "cell_type": "markdown",
   "metadata": {},
   "source": [
    "$$ \\sigma(Pa)=\\frac{P(N)}{A(m^2)} $$\n",
    "\n"
   ]
  },
  {
   "cell_type": "code",
   "execution_count": null,
   "metadata": {},
   "outputs": [],
   "source": [
    "sigma_Pa = P_N / A_m2\n",
    "\n"
   ]
  },
  {
   "cell_type": "markdown",
   "metadata": {},
   "source": [
    "그래프로 표시해 보자.<br>Plot is as follows\n",
    "\n"
   ]
  },
  {
   "cell_type": "code",
   "execution_count": null,
   "metadata": {},
   "outputs": [],
   "source": [
    "plt.plot(x_m_array, sigma_Pa * 1e-6, label='$\\sigma(MPa)$')\n",
    "plt.ylim((0, plt.ylim()[-1]))  # y 축의 최소값을 0으로 지정한다\n",
    "plt.xlabel('x(m)')\n",
    "plt.ylabel('$\\sigma(MPa)$')\n",
    "plt.grid(True)\n",
    "plt.legend(loc=0)\n",
    "plt.show()\n",
    "\n"
   ]
  },
  {
   "cell_type": "markdown",
   "metadata": {},
   "source": [
    "### 변형률 그래프<br>Strain plot\n",
    "\n"
   ]
  },
  {
   "cell_type": "markdown",
   "metadata": {},
   "source": [
    "$$\\sigma=E\\epsilon$$\n",
    "$$\\epsilon = \\frac{\\sigma}{E}$$\n",
    "\n"
   ]
  },
  {
   "cell_type": "code",
   "execution_count": null,
   "metadata": {},
   "outputs": [],
   "source": [
    "epsilon = sigma_Pa / E_Pa\n",
    "plt.fill_between(x_m_array, epsilon)\n",
    "plt.xlabel('x(m)')\n",
    "plt.ylabel('$\\epsilon$')\n",
    "plt.grid(True)\n",
    "plt.show()\n",
    "\n"
   ]
  },
  {
   "cell_type": "markdown",
   "metadata": {},
   "source": [
    "응력과 변형률은 $x$에 대략 반비례적인 관계를 보임을 알 수 있다. <br>\n",
    "It is noticable that the stress and the strain are inverse-proportional to $x$.\n",
    "\n"
   ]
  },
  {
   "cell_type": "markdown",
   "metadata": {},
   "source": [
    "변형률 $\\epsilon$을 적분하면 변형량 $\\delta(m)$ 를 구할 수 있다.<br>By integrating the strain $\\epsilon$, an engineer can find the displacement $\\delta(m)$.\n",
    "\n"
   ]
  },
  {
   "cell_type": "markdown",
   "metadata": {},
   "source": [
    "$$\\delta = \\int_{x=0}^{x=L} \\epsilon dx$$\n",
    "\n"
   ]
  },
  {
   "cell_type": "markdown",
   "metadata": {},
   "source": [
    "사다리꼴 적분공식을 이용하여 변형량을 적분한다.<br>Integrate the strain using the trapezoid integration formula.\n",
    "\n"
   ]
  },
  {
   "cell_type": "code",
   "execution_count": null,
   "metadata": {},
   "outputs": [],
   "source": [
    "delta_m = np.trapz(epsilon, x_m_array)\n",
    "\n"
   ]
  },
  {
   "cell_type": "code",
   "execution_count": null,
   "metadata": {},
   "outputs": [],
   "source": [
    "import IPython.display as disp\n",
    "disp.Math(f\"\\delta = {delta_m:f}(m) = {delta_m*1000:f}(mm)\")\n",
    "\n"
   ]
  },
  {
   "cell_type": "markdown",
   "metadata": {},
   "source": [
    "아래 코드는 프로그램이 맞게 작동했는지 확인한다.\n",
    "<br>Following code verifies if this program worked correctly. \n",
    "\n",
    "참고 : Francesco Mosconi, Travis + Anaconda + Jupyter, 2017 Aug 09, [Online] Available: https://github.com/ghego/travis_anaconda_jupyter.\n",
    "\n"
   ]
  },
  {
   "cell_type": "code",
   "execution_count": null,
   "metadata": {},
   "outputs": [],
   "source": [
    "assert(1e-5 > abs(delta_m*1000-3.433256))\n",
    "\n"
   ]
  },
  {
   "cell_type": "code",
   "execution_count": null,
   "metadata": {},
   "outputs": [],
   "source": []
  }
 ],
 "metadata": {
  "anaconda-cloud": {},
  "kernelspec": {
   "display_name": "Python 3",
   "language": "python",
   "name": "python3"
  },
  "language_info": {
   "codemirror_mode": {
    "name": "ipython",
    "version": 3
   },
   "file_extension": ".py",
   "mimetype": "text/x-python",
   "name": "python",
   "nbconvert_exporter": "python",
   "pygments_lexer": "ipython3",
   "version": "3.8.8"
  }
 },
 "nbformat": 4,
 "nbformat_minor": 2
}