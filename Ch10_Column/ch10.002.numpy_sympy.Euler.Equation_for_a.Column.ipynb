{
 "cells": [
  {
   "cell_type": "markdown",
   "metadata": {
    "id": "view-in-github",
    "colab_type": "text"
   },
   "source": [
    "<a href=\"https://colab.research.google.com/github/kangwonlee/momisp/blob/main/Ch10_Column/ch10.002.numpy_sympy.Euler.Equation_for_a.Column.ipynb\" target=\"_parent\"><img src=\"https://colab.research.google.com/assets/colab-badge.svg\" alt=\"Open In Colab\"/></a>\n"
   ]
  },
  {
   "cell_type": "markdown",
   "metadata": {},
   "source": [
    "참고문헌 : Pytel 외 저, 이주성 외 역, 재료역학, 2판, 한티미디어, 2013.<br>Ref: Pytel, Kiusalaas, Sharma, Mechanics of Materials, 2nd Ed., Cengage Learning, 2013.\n",
    "\n"
   ]
  },
  {
   "cell_type": "markdown",
   "metadata": {},
   "source": [
    "`python` 기능을 확장해 주는 `module`을 불러 들임 (일부 기능만 사용될 수도 있음)<br>\n",
    "Bring in `module`'s that would expand features of `python`. (This file may use just some of them.)\n",
    "\n"
   ]
  },
  {
   "cell_type": "code",
   "execution_count": null,
   "metadata": {},
   "outputs": [],
   "source": [
    "import numpy as np  # 배열, 행렬 관련 기능\n",
    "import numpy.linalg as na  # 선형대수 (벡터, 행렬) 관련 기능\n",
    "import matplotlib.pyplot as plt  # 그래프 관련 기능\n",
    "import matplotlib.patches as patch # 도형 관련 기능\n",
    "import scipy.integrate as si  # 적분 관련 기능\n",
    "import sympy as sy  # 기호 연산 기능\n",
    "import sympy.plotting as splot\n",
    "import IPython.display as disp  # 웹페이지 표시 기능\n",
    "sy.init_printing()  # 기호 연산 결과 표시 기능 준비\n",
    "\n"
   ]
  },
  {
   "cell_type": "markdown",
   "metadata": {},
   "source": [
    "## 10.002b\n",
    "\n"
   ]
  },
  {
   "cell_type": "markdown",
   "metadata": {},
   "source": [
    "p. 435\n",
    "\n"
   ]
  },
  {
   "cell_type": "markdown",
   "metadata": {},
   "source": [
    "보의 처짐과 굽힘 모멘트 사이의 관계는 다음과 같다.(p. 236 eq. 6.3)<br>\n",
    "Following is the relationship between the deflection of a beam and the bending moment.(p. 236 eq. 6.3)\n",
    "\n"
   ]
  },
  {
   "cell_type": "markdown",
   "metadata": {},
   "source": [
    "$$\n",
    "\\frac{d^2\\nu}{dx^2}=\\frac{M}{EI}\n",
    "$$\n",
    "\n"
   ]
  },
  {
   "cell_type": "markdown",
   "metadata": {},
   "source": [
    "처짐 $\\nu$와 축방향 하중 $P$에 의한 굽힘모멘트 $M$은 다음과 같다.<br>The bending moment $M$ due to deflection $\\nu$ and axial load $P$ is as follows.\n",
    "\n"
   ]
  },
  {
   "cell_type": "markdown",
   "metadata": {},
   "source": [
    "$$\n",
    "M = -P \\nu\n",
    "$$\n",
    "\n"
   ]
  },
  {
   "cell_type": "markdown",
   "metadata": {},
   "source": [
    "$$\n",
    "\\frac{d^2\\nu}{dx^2}=\\frac{M}{EI}=\\frac{-P}{EI}\\nu\n",
    "$$\n",
    "\n"
   ]
  },
  {
   "cell_type": "markdown",
   "metadata": {},
   "source": [
    "$$\n",
    "\\frac{d^2\\nu}{dx^2}+\\frac{P}{EI}\\nu=0\n",
    "$$\n",
    "\n"
   ]
  },
  {
   "cell_type": "markdown",
   "metadata": {},
   "source": [
    "### 일반해<br>General Solution\n",
    "\n"
   ]
  },
  {
   "cell_type": "markdown",
   "metadata": {},
   "source": [
    "아래와 같은 함수가 위 미분 방정식을 만족하는지 알아보자.<br>Let's see if following function satisfies the equation above.\n",
    "\n"
   ]
  },
  {
   "cell_type": "markdown",
   "metadata": {},
   "source": [
    "$$\n",
    "\\nu(x)=C_1 sin\\left( \\sqrt{ \\frac{P}{EI}} x \\right) + C_2 cos\\left(\\sqrt{ \\frac{P}{EI}} x \\right)\n",
    "$$\n",
    "\n"
   ]
  },
  {
   "cell_type": "code",
   "execution_count": null,
   "metadata": {},
   "outputs": [],
   "source": [
    "P, E, I, L = sy.symbols('P, E, I, L', positive=True , nonzero=True)\n",
    "x = sy.symbols('x', nonnegative=True)\n",
    "C1, C2 = sy.symbols('C1, C2', real=True)\n",
    "P, E, I, x, C1, C2 = sy.symbols('P, E, I, x, C1, C2')\n",
    "w = sy.sqrt(P / (E*I))\n",
    "nu = C1 * sy.sin(w * x) + C2 * sy.cos(w * x)\n",
    "\n"
   ]
  },
  {
   "cell_type": "code",
   "execution_count": null,
   "metadata": {},
   "outputs": [],
   "source": [
    "nu\n",
    "\n"
   ]
  },
  {
   "cell_type": "markdown",
   "metadata": {},
   "source": [
    "두번 미분<br>Differentiate twice\n",
    "\n"
   ]
  },
  {
   "cell_type": "code",
   "execution_count": null,
   "metadata": {
    "scrolled": true
   },
   "outputs": [],
   "source": [
    "nu.diff(x)\n",
    "\n"
   ]
  },
  {
   "cell_type": "code",
   "execution_count": null,
   "metadata": {
    "scrolled": false
   },
   "outputs": [],
   "source": [
    "nu.diff(x, 2)\n",
    "\n"
   ]
  },
  {
   "cell_type": "markdown",
   "metadata": {},
   "source": [
    "방정식에 대입<br>Substitute back to the equation\n",
    "\n"
   ]
  },
  {
   "cell_type": "code",
   "execution_count": null,
   "metadata": {
    "scrolled": false
   },
   "outputs": [],
   "source": [
    "nu.diff(x, 2) + P / (E * I) * nu\n",
    "\n"
   ]
  },
  {
   "cell_type": "markdown",
   "metadata": {},
   "source": [
    "### 적분 상수 결정<br>Decide integration constants\n",
    "\n"
   ]
  },
  {
   "cell_type": "markdown",
   "metadata": {},
   "source": [
    "경계조건으로 적분 상수를 결정한다.<br>Using boundary conditions, decide integration constants.\n",
    "\n"
   ]
  },
  {
   "cell_type": "markdown",
   "metadata": {},
   "source": [
    "$$\n",
    "\\nu(x)=C_1 sin\\left( \\sqrt{ \\frac{P}{EI}} x \\right) + C_2 cos\\left(\\sqrt{ \\frac{P}{EI}} x \\right)\n",
    "$$\n",
    "\n"
   ]
  },
  {
   "cell_type": "markdown",
   "metadata": {},
   "source": [
    "#### 단순지지보<br>Simply supported\n",
    "\n"
   ]
  },
  {
   "cell_type": "markdown",
   "metadata": {},
   "source": [
    "$x=0$\n",
    "\n"
   ]
  },
  {
   "cell_type": "markdown",
   "metadata": {},
   "source": [
    "$$\n",
    "\\nu(0)=C_2 cos\\left(\\sqrt{ \\frac{P}{EI}} x \\right)\n",
    "$$\n",
    "\n"
   ]
  },
  {
   "cell_type": "markdown",
   "metadata": {},
   "source": [
    "$$\n",
    "C_2 = 0\n",
    "$$\n",
    "\n"
   ]
  },
  {
   "cell_type": "markdown",
   "metadata": {},
   "source": [
    "$x=L$\n",
    "\n"
   ]
  },
  {
   "cell_type": "markdown",
   "metadata": {},
   "source": [
    "$$\n",
    "\\nu(L)=C_1 sin\\left( \\sqrt{ \\frac{P}{EI}} L \\right)=0\n",
    "$$\n",
    "\n"
   ]
  },
  {
   "cell_type": "markdown",
   "metadata": {},
   "source": [
    "$$\n",
    "\\sqrt{ \\frac{P}{EI}} L =n \\pi\n",
    "$$\n",
    "\n"
   ]
  },
  {
   "cell_type": "markdown",
   "metadata": {},
   "source": [
    "$$\n",
    "\\frac{PL^2}{EI}=n^2 \\pi^2\n",
    "$$\n",
    "\n"
   ]
  },
  {
   "cell_type": "markdown",
   "metadata": {},
   "source": [
    "$$\n",
    "P_{cr}=\\frac{n^2 \\pi^2 EI}{L^2}\n",
    "$$\n",
    "\n"
   ]
  },
  {
   "cell_type": "markdown",
   "metadata": {},
   "source": [
    "여기서 $n$이 자연수 일 때 의미 있는 해가 얻어진다.<br>$n \\in \\mathbb{N}$ gives a meaningful solution.\n",
    "\n"
   ]
  },
  {
   "cell_type": "markdown",
   "metadata": {},
   "source": [
    "$C_1$ 값은 결정되지 않는데 변위의 크기가 매우 클 수도 있다고 볼 수 있다.<br>$C_1$ is undecided; the deflection might be very large.\n",
    "\n"
   ]
  },
  {
   "cell_type": "code",
   "execution_count": null,
   "metadata": {},
   "outputs": [],
   "source": [
    "eq_boundary = sy.Eq(\n",
    "    C1 * sy.sin(L * sy.sqrt(P / (E * I))),\n",
    "    0\n",
    ")\n",
    "\n"
   ]
  },
  {
   "cell_type": "code",
   "execution_count": null,
   "metadata": {},
   "outputs": [],
   "source": [
    "eq_boundary\n",
    "\n"
   ]
  },
  {
   "cell_type": "code",
   "execution_count": null,
   "metadata": {},
   "outputs": [],
   "source": [
    "sy.solve(eq_boundary, P)\n",
    "\n"
   ]
  },
  {
   "cell_type": "code",
   "execution_count": null,
   "metadata": {},
   "outputs": [],
   "source": [
    "sy.solve(eq_boundary, C1)\n",
    "\n"
   ]
  },
  {
   "cell_type": "markdown",
   "metadata": {},
   "source": [
    "##### 모드 형상<br>Mode shapes\n",
    "\n"
   ]
  },
  {
   "cell_type": "code",
   "execution_count": null,
   "metadata": {},
   "outputs": [],
   "source": [
    "plt.clf()\n",
    "y_array = np.arange(0, 1, 1e-3)\n",
    "for n in range(1, 3 + 1):\n",
    "    x_array = 0.1 * np.sin((np.pi) * n * y_array)\n",
    "    plt.plot(x_array, y_array, label='n=%d'%n)\n",
    "plt.ylabel('y/L')\n",
    "plt.axis('equal')\n",
    "plt.legend(loc=0)\n",
    "plt.grid(True)\n",
    "plt.show()\n",
    "\n"
   ]
  },
  {
   "cell_type": "markdown",
   "metadata": {},
   "source": [
    "#### 다른 경계 조건<br>Other boundary conditions\n",
    "\n"
   ]
  },
  {
   "cell_type": "markdown",
   "metadata": {},
   "source": [
    "|          |          |       $L_e$         |       $P_{cr}$      |    |\n",
    "|:--------:|:--------:|:-------------------:|:-------------------:|:-----:|\n",
    "| 단순지지<br>Simply supported | 단순지지<br>Simply supported |       $L$           | $\\frac{\\pi ^ 2 EI}{L^2}$ | fig 10.2, 10.3, 10.4 |\n",
    "|  고정단<br>Fixed  |  고정단<br>Fixed  |      $\\frac{1}{2}L$ | $4\\frac{\\pi ^ 2 EI}{L^2}$ | fig. 10.5 |\n",
    "|  고정단<br>Fixed  |  자유단<br>Free  |       $2L$          | $\\frac{1}{4}\\frac{\\pi ^ 2 EI}{L^2}$ | fig. 10.6 |\n",
    "|  고정단<br>Fixed  | 단순지지<br>Simply supported |       $0.7 L$       | $2\\frac{\\pi ^ 2 EI}{L^2}$ | fig. 10. 7 |\n",
    "\n"
   ]
  },
  {
   "cell_type": "code",
   "execution_count": null,
   "metadata": {},
   "outputs": [],
   "source": [
    "plt.clf()\n",
    "y_array = np.arange(0, 1, 1e-3)\n",
    "\n",
    "x_array = 0.1 * np.sin((np.pi) * y_array)\n",
    "plt.plot(x_array, y_array, label='simple-simple')\n",
    "\n",
    "x_array = 0.1 * np.cos((2 * np.pi) * y_array) - 0.1\n",
    "plt.plot(x_array, y_array, label='fix-fix')\n",
    "\n",
    "x_array = 0.1 * np.cos((0.5 * np.pi) * y_array) - 0.1\n",
    "plt.plot(x_array, y_array, label='fix-free')\n",
    "\n",
    "plt.ylabel('y/L')\n",
    "plt.axis('equal')\n",
    "plt.legend(loc=0)\n",
    "plt.grid(True)\n",
    "plt.show()\n",
    "\n"
   ]
  },
  {
   "cell_type": "code",
   "execution_count": null,
   "metadata": {},
   "outputs": [],
   "source": []
  }
 ],
 "metadata": {
  "anaconda-cloud": {},
  "kernelspec": {
   "display_name": "Python 3",
   "language": "python",
   "name": "python3"
  },
  "language_info": {
   "codemirror_mode": {
    "name": "ipython",
    "version": 3
   },
   "file_extension": ".py",
   "mimetype": "text/x-python",
   "name": "python",
   "nbconvert_exporter": "python",
   "pygments_lexer": "ipython3",
   "version": "3.8.8"
  }
 },
 "nbformat": 4,
 "nbformat_minor": 2
}