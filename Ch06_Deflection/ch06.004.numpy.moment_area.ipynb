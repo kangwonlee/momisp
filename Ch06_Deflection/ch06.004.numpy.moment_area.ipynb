{
 "cells": [
  {
   "cell_type": "markdown",
   "metadata": {
    "id": "view-in-github",
    "colab_type": "text"
   },
   "source": [
    "<a href=\"https://colab.research.google.com/github/kangwonlee/momisp/blob/dependabot/pip/tests/requests-2.32.0/Ch06_Deflection/ch06.004.numpy.moment_area.ipynb\" target=\"_parent\"><img src=\"https://colab.research.google.com/assets/colab-badge.svg\" alt=\"Open In Colab\"/></a>\n"
   ]
  },
  {
   "cell_type": "markdown",
   "metadata": {},
   "source": [
    "참고문헌 : Pytel 외 저, 이주성 외 역, 재료역학, 2판, 한티미디어, 2013.<br>Ref: Pytel, Kiusalaas, Sharma, Mechanics of Materials, 2nd Ed., Cengage Learning, 2013.\n",
    "\n"
   ]
  },
  {
   "cell_type": "markdown",
   "metadata": {},
   "source": [
    "`python` 기능을 확장해 주는 `module`을 불러 들임 (일부 기능만 사용될 수도 있음)<br>\n",
    "Bring in `module`'s that would expand features of `python`. (This file may use just some of them.)\n",
    "\n"
   ]
  },
  {
   "cell_type": "code",
   "execution_count": null,
   "metadata": {},
   "outputs": [],
   "source": [
    "import numpy as np  # 배열, 행렬 관련 기능\n",
    "import numpy.linalg as na  # 선형대수 (벡터, 행렬) 관련 기능\n",
    "import matplotlib.pyplot as plt  # 그래프 관련 기능\n",
    "import scipy.integrate as si  # 적분 관련 기능\n",
    "import sympy as sy  # 기호 연산 기능\n",
    "import sympy.plotting as splot\n",
    "import IPython.display as disp  # 웹페이지 표시 기능\n",
    "sy.init_printing()  # 기호 연산 결과 표시 기능 준비\n",
    "\n"
   ]
  },
  {
   "cell_type": "markdown",
   "metadata": {},
   "source": [
    "## 06.008 모멘트 면적법<br>Moment area method\n",
    "\n"
   ]
  },
  {
   "cell_type": "markdown",
   "metadata": {},
   "source": [
    "p. 267 표 6.1<br>Table 6.1\n",
    "\n"
   ]
  },
  {
   "cell_type": "markdown",
   "metadata": {},
   "source": [
    "|   $$n$$   |    $$M$$    |              하중<br>Load           |   면적<br>Area      |   $$\\overline{x}$$   |\n",
    "|:-------:|:---------:|:---------------------------------:|:-------------------:|:------------------:|\n",
    "|    0    | $$k$$<br>$$=h$$ |                                    |      $$bh$$          |   $$\\frac{1}{2}b$$   |\n",
    "|    1    |   $$kx$$    | 집중하중<br>Concentrated shear force | $$\\frac{1}{2}bh$$    |   $$\\frac{2}{3}b$$   |\n",
    "|    2    |  $$kx^2$$   | 균일분포하중<br>Uniform distributed load | $$\\frac{1}{3}bh$$ | $$\\frac{3}{4}b$$ |\n",
    "|    3    |  $$kx^3$$   | 증가하는 분포하중<br>Increasing distributed load | $$\\frac{1}{4}bh$$ | $$\\frac{4}{5}b$$ |\n",
    "\n"
   ]
  },
  {
   "cell_type": "code",
   "execution_count": null,
   "metadata": {},
   "outputs": [],
   "source": [
    "b = 4\n",
    "h = 2\n",
    "x_array = np.linspace(0, b, 50 + 1)\n",
    "\n"
   ]
  },
  {
   "cell_type": "code",
   "execution_count": null,
   "metadata": {},
   "outputs": [],
   "source": [
    "n=0\n",
    "\n"
   ]
  },
  {
   "cell_type": "code",
   "execution_count": null,
   "metadata": {},
   "outputs": [],
   "source": [
    "plt.clf()\n",
    "x_n_array = x_array ** n\n",
    "fig, ax = plt.subplots()\n",
    "m_array = x_n_array * (h / x_n_array.max())\n",
    "plt.fill_between(x_array, m_array)\n",
    "ax.text(b/2, -0.1, 'b', horizontalalignment='center', verticalalignment='top')\n",
    "ax.text(b + 0.1, h/2, 'h', horizontalalignment='left')\n",
    "# Ofri Raviv, amit_grepclub, Dave et al., Hiding axis text in matplotlib plots, 2010 Feb 01, https://stackoverflow.com/questions/2176424.\n",
    "ax.xaxis.set_ticks([])\n",
    "ax.yaxis.set_ticks([])\n",
    "axis = ax.axis('scaled')\n",
    "new_limits = [x * 2 for x in axis]\n",
    "axis = ax.axis(new_limits)\n",
    "\n",
    "# indicate centroid\n",
    "xm_array = x_array * m_array\n",
    "x_bar = xm_array.sum() / m_array.sum()\n",
    "plt.plot((x_bar, x_bar), (new_limits[-2] - 0.1, new_limits[-1]), 'y--')\n",
    "\n",
    "plt.show()\n",
    "\n"
   ]
  },
  {
   "cell_type": "code",
   "execution_count": null,
   "metadata": {},
   "outputs": [],
   "source": [
    "n = 1\n",
    "\n"
   ]
  },
  {
   "cell_type": "code",
   "execution_count": null,
   "metadata": {},
   "outputs": [],
   "source": [
    "plt.clf()\n",
    "x_n_array = x_array ** n\n",
    "fig, ax = plt.subplots()\n",
    "m_array = x_n_array * (h / x_n_array.max())\n",
    "plt.fill_between(x_array, m_array)\n",
    "ax.text(b/2, -0.1, 'b', horizontalalignment='center', verticalalignment='top')\n",
    "ax.text(b + 0.1, h/2, 'h', horizontalalignment='left')\n",
    "# Ofri Raviv, amit_grepclub, Dave et al., Hiding axis text in matplotlib plots, 2010 Feb 01, https://stackoverflow.com/questions/2176424.\n",
    "ax.xaxis.set_ticks([])\n",
    "ax.yaxis.set_ticks([])\n",
    "axis = ax.axis('scaled')\n",
    "new_limits = [x * 2 for x in axis]\n",
    "axis = ax.axis(new_limits)\n",
    "\n",
    "# indicate centroid\n",
    "xm_array = x_array * m_array\n",
    "x_bar = xm_array.sum() / m_array.sum()\n",
    "plt.plot((x_bar, x_bar), (new_limits[-2] - 0.1, new_limits[-1]), 'y--')\n",
    "\n",
    "plt.show()\n",
    "\n"
   ]
  },
  {
   "cell_type": "code",
   "execution_count": null,
   "metadata": {},
   "outputs": [],
   "source": [
    "n = 2\n",
    "\n"
   ]
  },
  {
   "cell_type": "code",
   "execution_count": null,
   "metadata": {
    "scrolled": true
   },
   "outputs": [],
   "source": [
    "plt.clf()\n",
    "x_n_array = x_array ** n\n",
    "fig, ax = plt.subplots()\n",
    "m_array = x_n_array * (h / x_n_array.max())\n",
    "plt.fill_between(x_array, m_array)\n",
    "ax.text(b/2, -0.1, 'b', horizontalalignment='center', verticalalignment='top')\n",
    "ax.text(b + 0.1, h/2, 'h', horizontalalignment='left')\n",
    "# Ofri Raviv, amit_grepclub, Dave et al., Hiding axis text in matplotlib plots, 2010 Feb 01, https://stackoverflow.com/questions/2176424.\n",
    "ax.xaxis.set_ticks([])\n",
    "ax.yaxis.set_ticks([])\n",
    "axis = ax.axis('scaled')\n",
    "new_limits = [x * 2 for x in axis]\n",
    "axis = ax.axis(new_limits)\n",
    "\n",
    "# indicate centroid\n",
    "xm_array = x_array * m_array\n",
    "x_bar = xm_array.sum() / m_array.sum()\n",
    "plt.plot((x_bar, x_bar), (new_limits[-2] - 0.1, new_limits[-1]), 'y--')\n",
    "\n",
    "plt.show()\n",
    "\n"
   ]
  },
  {
   "cell_type": "code",
   "execution_count": null,
   "metadata": {},
   "outputs": [],
   "source": [
    "n = 3\n",
    "\n"
   ]
  },
  {
   "cell_type": "code",
   "execution_count": null,
   "metadata": {},
   "outputs": [],
   "source": [
    "plt.clf()\n",
    "x_n_array = x_array ** n\n",
    "fig, ax = plt.subplots()\n",
    "m_array = x_n_array * (h / x_n_array.max())\n",
    "plt.fill_between(x_array, m_array)\n",
    "ax.text(b/2, -0.1, 'b', horizontalalignment='center', verticalalignment='top')\n",
    "ax.text(b + 0.1, h/2, 'h', horizontalalignment='left')\n",
    "# Ofri Raviv, amit_grepclub, Dave et al., Hiding axis text in matplotlib plots, 2010 Feb 01, https://stackoverflow.com/questions/2176424.\n",
    "ax.xaxis.set_ticks([])\n",
    "ax.yaxis.set_ticks([])\n",
    "axis = ax.axis('scaled')\n",
    "new_limits = [x * 2 for x in axis]\n",
    "axis = ax.axis(new_limits)\n",
    "\n",
    "# indicate centroid\n",
    "xm_array = x_array * m_array\n",
    "x_bar = xm_array.sum() / m_array.sum()\n",
    "plt.plot((x_bar, x_bar), (new_limits[-2] - 0.1, new_limits[-1]), 'y--')\n",
    "\n",
    "plt.show()\n",
    "\n"
   ]
  },
  {
   "cell_type": "code",
   "execution_count": null,
   "metadata": {},
   "outputs": [],
   "source": []
  }
 ],
 "metadata": {
  "anaconda-cloud": {},
  "kernelspec": {
   "display_name": "Python 3",
   "language": "python",
   "name": "python3"
  },
  "language_info": {
   "codemirror_mode": {
    "name": "ipython",
    "version": 3
   },
   "file_extension": ".py",
   "mimetype": "text/x-python",
   "name": "python",
   "nbconvert_exporter": "python",
   "pygments_lexer": "ipython3",
   "version": "3.8.8"
  }
 },
 "nbformat": 4,
 "nbformat_minor": 2
}