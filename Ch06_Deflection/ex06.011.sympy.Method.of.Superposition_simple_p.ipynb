{
 "cells": [
  {
   "cell_type": "markdown",
   "metadata": {
    "id": "view-in-github",
    "colab_type": "text"
   },
   "source": [
    "<a href=\"https://colab.research.google.com/github/kangwonlee/momisp/blob/adaptive-colab-button/Ch06_Deflection/ex06.011.sympy.Method.of.Superposition_simple_p.ipynb\" target=\"_parent\"><img src=\"https://colab.research.google.com/assets/colab-badge.svg\" alt=\"Open In Colab\"/></a>\n"
   ]
  },
  {
   "cell_type": "markdown",
   "metadata": {},
   "source": [
    "참고문헌 : Pytel 외 저, 이주성 외 역, 재료역학, 2판, 한티미디어, 2013.<br>Ref: Pytel, Kiusalaas, Sharma, Mechanics of Materials, 2nd Ed., Cengage Learning, 2013.\n",
    "\n"
   ]
  },
  {
   "cell_type": "markdown",
   "metadata": {},
   "source": [
    "`python` 기능을 확장해 주는 `module`을 불러 들임 (일부 기능만 사용될 수도 있음)<br>\n",
    "Bring in `module`'s that would expand features of `python`. (This file may use just some of them.)\n",
    "\n"
   ]
  },
  {
   "cell_type": "code",
   "execution_count": null,
   "metadata": {
    "collapsed": true
   },
   "outputs": [],
   "source": [
    "import numpy as np  # 배열, 행렬 관련 기능\n",
    "import numpy.linalg as na  # 선형대수 (벡터, 행렬) 관련 기능\n",
    "import matplotlib.pyplot as plt  # 그래프 관련 기능\n",
    "import scipy.integrate as si  # 적분 관련 기능\n",
    "import sympy as sy  # 기호 연산 기능\n",
    "import sympy.plotting as splot\n",
    "import IPython.display as disp  # 웹페이지 표시 기능\n",
    "sy.init_printing()  # 기호 연산 결과 표시 기능 준비\n",
    "\n"
   ]
  },
  {
   "cell_type": "markdown",
   "metadata": {},
   "source": [
    "## 예제 06.011<br>ex06.011\n",
    "\n"
   ]
  },
  {
   "cell_type": "markdown",
   "metadata": {},
   "source": [
    "p. 281\n",
    "\n"
   ]
  },
  {
   "cell_type": "markdown",
   "metadata": {},
   "source": [
    "### 문제에서 주어진 변수<br>Given Parameters\n",
    "\n"
   ]
  },
  {
   "cell_type": "markdown",
   "metadata": {},
   "source": [
    "#### 보의 길이<br>Length of the beam\n",
    "\n"
   ]
  },
  {
   "cell_type": "code",
   "execution_count": null,
   "metadata": {
    "collapsed": false
   },
   "outputs": [],
   "source": [
    "L_AB_m, L_BC_m, L_CD_m = sy.symbols('L_{AB}[m], L_{BC}[m], L_{CD}[m]', positive=True)\n",
    "L_AC_m = L_AB_m + L_BC_m\n",
    "L_AD_m = L_AC_m + L_CD_m\n",
    "\n",
    "s_d = {\n",
    "    L_AB_m: 2, \n",
    "    L_BC_m: 4, \n",
    "    L_CD_m: 3\n",
    "}\n",
    "\n"
   ]
  },
  {
   "cell_type": "markdown",
   "metadata": {},
   "source": [
    "#### 하중<br>Load\n",
    "\n"
   ]
  },
  {
   "cell_type": "code",
   "execution_count": null,
   "metadata": {
    "collapsed": false
   },
   "outputs": [],
   "source": [
    "P_B_N, P_C_N = sy.symbols('P_{B}[N], P_{C}[N]', real=True)\n",
    "\n",
    "s_d.update({\n",
    "        P_B_N: -100,\n",
    "        P_C_N: -80\n",
    "    }\n",
    ")\n",
    "\n"
   ]
  },
  {
   "cell_type": "markdown",
   "metadata": {},
   "source": [
    "#### 관심 지점<br>Point of interest\n",
    "\n"
   ]
  },
  {
   "cell_type": "code",
   "execution_count": null,
   "metadata": {
    "collapsed": true
   },
   "outputs": [],
   "source": [
    "x_m = sy.symbols('x[m]', real=True)\n",
    "x_center_m = L_AD_m / 2\n",
    "\n"
   ]
  },
  {
   "cell_type": "markdown",
   "metadata": {},
   "source": [
    "### 처짐 공식<br>Deflection formula\n",
    "\n"
   ]
  },
  {
   "cell_type": "markdown",
   "metadata": {},
   "source": [
    "p. 280 표 6.3<br>Table 6.3 p.280\n",
    "\n"
   ]
  },
  {
   "cell_type": "markdown",
   "metadata": {},
   "source": [
    "$$\n",
    "\\delta = \\begin{cases}\n",
    "    \\frac{Pbx}{6LEI}\\left( L^2 - x^2 - b^2 \\right) & 0 \\le x \\le a \\\\\n",
    "    \\frac{Pb}{6LEI}\\left[ \\frac{L}{b} \\left(x-a\\right)^3 + \\left(L^2-b^2\\right)x - x^3 \\right] & a \\le x \\le L \\\\\n",
    "\\end{cases}\n",
    "$$\n",
    "\n"
   ]
  },
  {
   "cell_type": "markdown",
   "metadata": {},
   "source": [
    "변수 정의<br>Define variables\n",
    "\n"
   ]
  },
  {
   "cell_type": "code",
   "execution_count": null,
   "metadata": {
    "collapsed": false
   },
   "outputs": [],
   "source": [
    "P_N = sy.Symbol('P[N]', real=True)\n",
    "a_m = sy.Symbol('a[m]', negative=False, real=True)\n",
    "L_m, E_Pa, I_m4 = sy.symbols('L[m], E[Pa], I[m^{4}]', positive=True)\n",
    "b_m = L_m - a_m\n",
    "\n"
   ]
  },
  {
   "cell_type": "markdown",
   "metadata": {},
   "source": [
    "하중의 오른쪽의 처짐<br>Deflection of right side of the load\n",
    "\n"
   ]
  },
  {
   "cell_type": "code",
   "execution_count": null,
   "metadata": {
    "collapsed": true
   },
   "outputs": [],
   "source": [
    "EI_delta_right_Nm3 = (P_N * b_m / (6 * L_m * E_Pa * I_m4)) * ((L_m/b_m)*(x_m - a_m)**3 + x_m * (L_m**2 - b_m**2) - x_m **3)\n",
    "\n"
   ]
  },
  {
   "cell_type": "markdown",
   "metadata": {},
   "source": [
    "$x=L$ 지점에서 0인지 확인<br>Check if $\\delta=0$ at $x=L$\n",
    "\n"
   ]
  },
  {
   "cell_type": "code",
   "execution_count": null,
   "metadata": {
    "collapsed": false,
    "scrolled": true
   },
   "outputs": [],
   "source": [
    "assert(0 == sy.simplify(EI_delta_right_Nm3.subs(x_m, L_m)))\n",
    "\n"
   ]
  },
  {
   "cell_type": "markdown",
   "metadata": {},
   "source": [
    "하중의 왼쪽의 처짐<br>Deflection of left side of the load\n",
    "\n"
   ]
  },
  {
   "cell_type": "code",
   "execution_count": null,
   "metadata": {
    "collapsed": false
   },
   "outputs": [],
   "source": [
    "EI_delta_left_Nm3 = (P_N * b_m * x_m / (6 * L_m * E_Pa * I_m4)) * (L_m**2 - x_m **2 - b_m**2)\n",
    "\n"
   ]
  },
  {
   "cell_type": "code",
   "execution_count": null,
   "metadata": {
    "collapsed": false,
    "scrolled": true
   },
   "outputs": [],
   "source": [
    "assert(0 == sy.simplify(EI_delta_left_Nm3.subs(x_m, 0)))\n",
    "\n"
   ]
  },
  {
   "cell_type": "markdown",
   "metadata": {},
   "source": [
    "하중 지점에서 연속인지 확인<br>Check if continuous at the point of the load\n",
    "\n"
   ]
  },
  {
   "cell_type": "code",
   "execution_count": null,
   "metadata": {
    "collapsed": false
   },
   "outputs": [],
   "source": [
    "assert(0 == sy.simplify(EI_delta_left_Nm3.subs(x_m, a_m) - EI_delta_right_Nm3.subs(x_m, a_m)))\n",
    "\n"
   ]
  },
  {
   "cell_type": "code",
   "execution_count": null,
   "metadata": {
    "collapsed": false
   },
   "outputs": [],
   "source": [
    "EI_delta_Nm3 = EI_delta_left_Nm3 + (EI_delta_right_Nm3 - EI_delta_left_Nm3) * sy.Heaviside(x_m - a_m)\n",
    "\n"
   ]
  },
  {
   "cell_type": "markdown",
   "metadata": {},
   "source": [
    "$x=0$ 지점에서 0인지 확인<br>Check if $\\delta=0$ at $x=0$\n",
    "\n"
   ]
  },
  {
   "cell_type": "code",
   "execution_count": null,
   "metadata": {
    "collapsed": false,
    "scrolled": true
   },
   "outputs": [],
   "source": [
    "assert(0 == sy.simplify(EI_delta_Nm3.subs(a_m, L_AB_m).subs(x_m, 0).subs(s_d)))\n",
    "\n"
   ]
  },
  {
   "cell_type": "markdown",
   "metadata": {},
   "source": [
    "#### B점 하중<br>Load at B\n",
    "\n"
   ]
  },
  {
   "cell_type": "code",
   "execution_count": null,
   "metadata": {
    "collapsed": false
   },
   "outputs": [],
   "source": [
    "EI_delta_b_Nm3 = sy.simplify(\n",
    "    EI_delta_Nm3.subs(\n",
    "        {\n",
    "            L_m: L_AD_m,\n",
    "            a_m: L_AB_m,\n",
    "            P_N: P_B_N,\n",
    "        }\n",
    "    )\n",
    ")\n",
    "\n"
   ]
  },
  {
   "cell_type": "markdown",
   "metadata": {},
   "source": [
    "변수값을 적용<br>Substitute values\n",
    "\n"
   ]
  },
  {
   "cell_type": "code",
   "execution_count": null,
   "metadata": {
    "collapsed": false,
    "scrolled": true
   },
   "outputs": [],
   "source": [
    "EI_delta_b_Nm3.subs(s_d)\n",
    "\n"
   ]
  },
  {
   "cell_type": "code",
   "execution_count": null,
   "metadata": {
    "collapsed": false
   },
   "outputs": [],
   "source": [
    "splot.plot(EI_delta_b_Nm3.subs(s_d).subs({E_Pa:1, I_m4:1}), (x_m, 0, L_AD_m.subs(s_d)), xlabel='x(m)', ylabel='$EI\\\\delta(Nm^3)$')\n",
    "\n"
   ]
  },
  {
   "cell_type": "markdown",
   "metadata": {},
   "source": [
    "$\\delta_{x=0}=0?$\n",
    "\n"
   ]
  },
  {
   "cell_type": "code",
   "execution_count": null,
   "metadata": {},
   "outputs": [],
   "source": [
    "assert 1e-6 > abs(EI_delta_b_Nm3.subs(s_d).subs(x_m, 0))\n",
    "\n"
   ]
  },
  {
   "cell_type": "markdown",
   "metadata": {},
   "source": [
    "$\\delta_{x=L}=0?$\n",
    "\n"
   ]
  },
  {
   "cell_type": "code",
   "execution_count": null,
   "metadata": {},
   "outputs": [],
   "source": [
    "assert 1e-6 > abs(EI_delta_b_Nm3.subs(x_m, L_AD_m).subs(s_d))\n",
    "\n"
   ]
  },
  {
   "cell_type": "markdown",
   "metadata": {},
   "source": [
    "#### C점 하중<br>Load at C\n",
    "\n"
   ]
  },
  {
   "cell_type": "code",
   "execution_count": null,
   "metadata": {
    "collapsed": false
   },
   "outputs": [],
   "source": [
    "EI_delta_c_Nm3 = sy.simplify(\n",
    "    EI_delta_Nm3.subs(\n",
    "        {\n",
    "            L_m: L_AD_m,\n",
    "            a_m: L_AC_m,\n",
    "            P_N: P_C_N,\n",
    "        }\n",
    "    )\n",
    ")\n",
    "\n"
   ]
  },
  {
   "cell_type": "markdown",
   "metadata": {},
   "source": [
    "변수값을 적용<br>Substitute values\n",
    "\n"
   ]
  },
  {
   "cell_type": "code",
   "execution_count": null,
   "metadata": {
    "collapsed": false,
    "scrolled": true
   },
   "outputs": [],
   "source": [
    "EI_delta_c_Nm3.subs(s_d)\n",
    "\n"
   ]
  },
  {
   "cell_type": "code",
   "execution_count": null,
   "metadata": {
    "collapsed": false
   },
   "outputs": [],
   "source": [
    "splot.plot(EI_delta_c_Nm3.subs(s_d).subs({E_Pa:1, I_m4:1}), (x_m, 0, L_AD_m.subs(s_d)), xlabel='x(m)', ylabel='$EI\\\\delta(Nm^3)$')\n",
    "\n"
   ]
  },
  {
   "cell_type": "markdown",
   "metadata": {},
   "source": [
    "$\\delta_{x=0}=0?$\n",
    "\n"
   ]
  },
  {
   "cell_type": "code",
   "execution_count": null,
   "metadata": {},
   "outputs": [],
   "source": [
    "assert 1e-6 > abs(EI_delta_c_Nm3.subs(s_d).subs(x_m, 0))\n",
    "\n"
   ]
  },
  {
   "cell_type": "markdown",
   "metadata": {},
   "source": [
    "$\\delta_{x=L}=0?$\n",
    "\n"
   ]
  },
  {
   "cell_type": "code",
   "execution_count": null,
   "metadata": {},
   "outputs": [],
   "source": [
    "assert 1e-6 > abs(EI_delta_c_Nm3.subs(x_m, L_AD_m).subs(s_d))\n",
    "\n"
   ]
  },
  {
   "cell_type": "markdown",
   "metadata": {},
   "source": [
    "#### 중첩<br>Superposition\n",
    "\n"
   ]
  },
  {
   "cell_type": "code",
   "execution_count": null,
   "metadata": {
    "collapsed": false
   },
   "outputs": [],
   "source": [
    "EI_delta_b_c_Nm3 = sy.simplify(EI_delta_b_Nm3 + EI_delta_c_Nm3)\n",
    "\n"
   ]
  },
  {
   "cell_type": "markdown",
   "metadata": {},
   "source": [
    "변수값을 적용<br>Substitute values\n",
    "\n"
   ]
  },
  {
   "cell_type": "code",
   "execution_count": null,
   "metadata": {
    "collapsed": false,
    "scrolled": false
   },
   "outputs": [],
   "source": [
    "sy.simplify(EI_delta_b_c_Nm3.subs(s_d))\n",
    "\n"
   ]
  },
  {
   "cell_type": "markdown",
   "metadata": {},
   "source": [
    "위 네 식은 각각 C~D, B~C, 불가능한 영역, A~B 구간에 해당한다.<br>The equations above are for C~D, B~C, impossible, and A~B intervals.\n",
    "\n"
   ]
  },
  {
   "cell_type": "code",
   "execution_count": null,
   "metadata": {
    "collapsed": false
   },
   "outputs": [],
   "source": [
    "splot.plot(\n",
    "    EI_delta_b_c_Nm3.subs(s_d).subs({E_Pa:1, I_m4:1}), \n",
    "    EI_delta_b_Nm3.subs(s_d).subs({E_Pa:1, I_m4:1}),\n",
    "    EI_delta_c_Nm3.subs(s_d).subs({E_Pa:1, I_m4:1}),\n",
    "    (x_m, 0, L_AD_m.subs(s_d)), xlabel='x(m)', ylabel='$EI\\\\delta(Nm^3)$'\n",
    ")\n",
    "\n"
   ]
  },
  {
   "cell_type": "markdown",
   "metadata": {},
   "source": [
    "$\\delta_{x=0}=0?$\n",
    "\n"
   ]
  },
  {
   "cell_type": "code",
   "execution_count": null,
   "metadata": {},
   "outputs": [],
   "source": [
    "assert 1e-6 > abs(EI_delta_b_c_Nm3.subs(s_d).subs(x_m, 0))\n",
    "\n"
   ]
  },
  {
   "cell_type": "markdown",
   "metadata": {},
   "source": [
    "$\\delta_{x=L}=0?$\n",
    "\n"
   ]
  },
  {
   "cell_type": "code",
   "execution_count": null,
   "metadata": {},
   "outputs": [],
   "source": [
    "assert 1e-6 > abs(EI_delta_b_c_Nm3.subs(x_m, L_AD_m).subs(s_d))\n",
    "\n"
   ]
  },
  {
   "cell_type": "markdown",
   "metadata": {},
   "source": [
    "#### 관심 지점에서의 처짐<br>Deflection at the Point of interest\n",
    "\n"
   ]
  },
  {
   "cell_type": "code",
   "execution_count": null,
   "metadata": {
    "collapsed": false
   },
   "outputs": [],
   "source": [
    "EI_delta_center_Nm3 = sy.simplify(EI_delta_b_c_Nm3.subs(x_m, L_AD_m/2))\n",
    "\n"
   ]
  },
  {
   "cell_type": "code",
   "execution_count": null,
   "metadata": {
    "collapsed": false
   },
   "outputs": [],
   "source": [
    "EI_delta_center_Nm3\n",
    "\n"
   ]
  },
  {
   "cell_type": "code",
   "execution_count": null,
   "metadata": {
    "collapsed": false
   },
   "outputs": [],
   "source": [
    "EI_delta_center_Nm3.subs(s_d)\n",
    "\n"
   ]
  },
  {
   "cell_type": "code",
   "execution_count": null,
   "metadata": {
    "collapsed": false
   },
   "outputs": [],
   "source": [
    "float(EI_delta_center_Nm3.subs(s_d).subs({E_Pa:1, I_m4:1}))\n",
    "\n"
   ]
  },
  {
   "cell_type": "code",
   "execution_count": null,
   "metadata": {},
   "outputs": [],
   "source": []
  }
 ],
 "metadata": {
  "anaconda-cloud": {},
  "kernelspec": {
   "display_name": "Python [default]",
   "language": "python",
   "name": "python3"
  },
  "language_info": {
   "codemirror_mode": {
    "name": "ipython",
    "version": 3
   },
   "file_extension": ".py",
   "mimetype": "text/x-python",
   "name": "python",
   "nbconvert_exporter": "python",
   "pygments_lexer": "ipython3",
   "version": "3.5.2"
  }
 },
 "nbformat": 4,
 "nbformat_minor": 2
}