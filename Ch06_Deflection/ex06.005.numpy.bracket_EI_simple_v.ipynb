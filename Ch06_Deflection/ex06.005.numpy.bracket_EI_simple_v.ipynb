{
 "cells": [
  {
   "cell_type": "markdown",
   "metadata": {
    "id": "view-in-github",
    "colab_type": "text"
   },
   "source": [
    "<a href=\"https://colab.research.google.com/github/kangwonlee/momisp/blob/adaptive-colab-button/Ch06_Deflection/ex06.005.numpy.bracket_EI_simple_v.ipynb\" target=\"_parent\"><img src=\"https://colab.research.google.com/assets/colab-badge.svg\" alt=\"Open In Colab\"/></a>\n"
   ]
  },
  {
   "cell_type": "markdown",
   "metadata": {},
   "source": [
    "참고문헌 : Pytel 외 저, 이주성 외 역, 재료역학, 2판, 한티미디어, 2013.<br>Ref: Pytel, Kiusalaas, Sharma, Mechanics of Materials, 2nd Ed., Cengage Learning, 2013.\n",
    "\n"
   ]
  },
  {
   "cell_type": "markdown",
   "metadata": {},
   "source": [
    "`python` 기능을 확장해 주는 `module`을 불러 들임 (일부 기능만 사용될 수도 있음)<br>\n",
    "Bring in `module`'s that would expand features of `python`. (This file may use just some of them.)\n",
    "\n"
   ]
  },
  {
   "cell_type": "code",
   "execution_count": null,
   "metadata": {},
   "outputs": [],
   "source": [
    "import numpy as np  # 배열, 행렬 관련 기능\n",
    "import numpy.linalg as na  # 선형대수 (벡터, 행렬) 관련 기능\n",
    "import matplotlib.pyplot as plt  # 그래프 관련 기능\n",
    "import scipy.integrate as si  # 적분 관련 기능\n",
    "import sympy as sy  # 기호 연산 기능\n",
    "import sympy.plotting as splot\n",
    "import IPython.display as disp  # 웹페이지 표시 기능\n",
    "sy.init_printing()  # 기호 연산 결과 표시 기능 준비\n",
    "\n"
   ]
  },
  {
   "cell_type": "markdown",
   "metadata": {},
   "source": [
    "## 예제 06.005\n",
    "\n"
   ]
  },
  {
   "cell_type": "markdown",
   "metadata": {},
   "source": [
    "p. 254\n",
    "\n"
   ]
  },
  {
   "cell_type": "markdown",
   "metadata": {},
   "source": [
    "### 문제에서 주어진 변수<br>Given Parameters\n",
    "\n"
   ]
  },
  {
   "cell_type": "markdown",
   "metadata": {},
   "source": [
    "#### 보의 길이\n",
    "\n"
   ]
  },
  {
   "cell_type": "code",
   "execution_count": null,
   "metadata": {},
   "outputs": [],
   "source": [
    "L_AB_m = 2\n",
    "L_BC_m = 1\n",
    "\n",
    "L_AC_m = L_AB_m + L_BC_m\n",
    "\n"
   ]
  },
  {
   "cell_type": "markdown",
   "metadata": {},
   "source": [
    "#### 하중<br>Load\n",
    "\n"
   ]
  },
  {
   "cell_type": "code",
   "execution_count": null,
   "metadata": {},
   "outputs": [],
   "source": [
    "P_B_N = 300\n",
    "\n"
   ]
  },
  {
   "cell_type": "markdown",
   "metadata": {},
   "source": [
    "#### 반력<br>Reaction Force\n",
    "\n"
   ]
  },
  {
   "cell_type": "code",
   "execution_count": null,
   "metadata": {},
   "outputs": [],
   "source": [
    "R_A_N = 100\n",
    "R_C_N = 200\n",
    "\n"
   ]
  },
  {
   "cell_type": "markdown",
   "metadata": {},
   "source": [
    "#### 단면과 재료\n",
    "\n"
   ]
  },
  {
   "cell_type": "code",
   "execution_count": null,
   "metadata": {},
   "outputs": [],
   "source": [
    "EI_m4Pa = 20.48e3\n",
    "\n"
   ]
  },
  {
   "cell_type": "markdown",
   "metadata": {},
   "source": [
    "### 굽힘모멘트식\n",
    "\n"
   ]
  },
  {
   "cell_type": "markdown",
   "metadata": {},
   "source": [
    "$$\n",
    "M=100x-300<x-2> [Nm]\n",
    "$$\n",
    "\n"
   ]
  },
  {
   "cell_type": "markdown",
   "metadata": {},
   "source": [
    "위 식은 다음과 같이 표시될 수 있다.\n",
    "\n"
   ]
  },
  {
   "cell_type": "markdown",
   "metadata": {},
   "source": [
    "|      $x$ 구간     | 모멘트 식               |\n",
    "|:----------------:|:--------------------:|\n",
    "| $$0 \\le x \\le 2$$  | $$100 x$$              |\n",
    "| $$2 \\le x \\le 3$$  | $$100 x - 300 (x - 2)$$|\n",
    "\n"
   ]
  },
  {
   "cell_type": "code",
   "execution_count": null,
   "metadata": {},
   "outputs": [],
   "source": [
    "dx = 0.1\n",
    "x_m_array = np.arange(0, L_AC_m + dx*0.5, dx)\n",
    "\n",
    "y_m_array = np.zeros_like(x_m_array)\n",
    "y_m_array[x_m_array < 2] = 100 * x_m_array[x_m_array < 2]\n",
    "y_m_array[2 <= x_m_array] = 100 * x_m_array[2 <= x_m_array] - 300 * (x_m_array[2 <= x_m_array] - 2)\n",
    "\n",
    "plt.plot(x_m_array, y_m_array)\n",
    "plt.grid(True)\n",
    "plt.text(L_AB_m * 0.25, max(y_m_array) * 0.5, '$100x$', fontsize=18, horizontalalignment='center')\n",
    "plt.text(L_AB_m + 0.25*L_BC_m, max(y_m_array) * 0.5, '$100x-300(x-2)$', fontsize=18, horizontalalignment='center')\n",
    "plt.xlabel('x(m)')\n",
    "plt.ylabel('M(Nm)')\n",
    "plt.show()\n",
    "\n"
   ]
  },
  {
   "cell_type": "markdown",
   "metadata": {},
   "source": [
    "### 탄성선의 미분방정식<br>Differential equation of elastic line\n",
    "\n"
   ]
  },
  {
   "cell_type": "markdown",
   "metadata": {},
   "source": [
    "p. 236 eq. 6.3b\n",
    "\n"
   ]
  },
  {
   "cell_type": "markdown",
   "metadata": {},
   "source": [
    "$$\n",
    "EI\\nu''=M=100x-300<x-2> [Nm]\n",
    "$$\n",
    "\n"
   ]
  },
  {
   "cell_type": "markdown",
   "metadata": {},
   "source": [
    "x에 관하여 한번 적분<br>Integrate once about x\n",
    "\n"
   ]
  },
  {
   "cell_type": "markdown",
   "metadata": {},
   "source": [
    "$$\n",
    "EI\\nu'= 50x^2-150<x-2>^2+C_1 [Nm^2]\n",
    "$$\n",
    "\n"
   ]
  },
  {
   "cell_type": "markdown",
   "metadata": {},
   "source": [
    "x에 관하여 한번 더 적분<br>Integrate once again about x\n",
    "\n"
   ]
  },
  {
   "cell_type": "markdown",
   "metadata": {},
   "source": [
    "$$\n",
    "EI\\nu= \\frac{50}{3}x^3-\\frac{150}{3}<x-2>^3+C_1 x + C_2[Nm^3]\n",
    "$$\n",
    "\n"
   ]
  },
  {
   "cell_type": "markdown",
   "metadata": {},
   "source": [
    "### 경계조건<br>Boundary conditions\n",
    "\n"
   ]
  },
  {
   "cell_type": "markdown",
   "metadata": {},
   "source": [
    "$$\n",
    "\\begin{cases}\n",
    "    \\nu =0 & x=0 \\\\\n",
    "    \\nu =0 & x=3 \n",
    "\\end{cases}\n",
    "$$\n",
    "\n"
   ]
  },
  {
   "cell_type": "markdown",
   "metadata": {
    "collapsed": true
   },
   "source": [
    "#### $x=0$\n",
    "\n"
   ]
  },
  {
   "cell_type": "markdown",
   "metadata": {},
   "source": [
    "$$C_2=0$$\n",
    "\n"
   ]
  },
  {
   "cell_type": "markdown",
   "metadata": {
    "collapsed": true
   },
   "source": [
    "#### $x=3$\n",
    "\n"
   ]
  },
  {
   "cell_type": "markdown",
   "metadata": {},
   "source": [
    "$$\n",
    "    \\frac{50}{3}3^3-\\frac{150}{3}(3-2)^3+3C_1 + C_2 = 0 \\\\\n",
    "    {50}\\cdot 3^2- 50+3C_1 = 0 \\\\\n",
    "    3C_1 = -50 \\cdot 3^2 + 50 \\\\\n",
    "    C_1 = -50 \\cdot 3 + \\frac{50}{3} = - \\frac{400}{3} \\\\\n",
    "$$\n",
    "\n"
   ]
  },
  {
   "cell_type": "markdown",
   "metadata": {},
   "source": [
    "#### 처짐 $\\nu$<br>Deflection $\\nu$\n",
    "\n"
   ]
  },
  {
   "cell_type": "markdown",
   "metadata": {},
   "source": [
    "$$\n",
    "EI\\nu= \\frac{50}{3}x^3-\\frac{150}{3}<x-2>^3 - \\frac{400}{3} x[Nm^3]\n",
    "$$\n",
    "\n"
   ]
  },
  {
   "cell_type": "markdown",
   "metadata": {},
   "source": [
    "$$\n",
    "EI\\nu= \\frac{50x^3 - 150<x-2>^3-400x}{3} [Nm^3]\n",
    "$$\n",
    "\n"
   ]
  },
  {
   "cell_type": "markdown",
   "metadata": {},
   "source": [
    "$$\n",
    "\\nu= \\frac{50x^3 - 150<x-2>^3-400x}{3EI} [m]\n",
    "$$\n",
    "\n"
   ]
  },
  {
   "cell_type": "code",
   "execution_count": null,
   "metadata": {},
   "outputs": [],
   "source": [
    "dx = 0.01\n",
    "x_m_array = np.arange(0, L_AC_m + dx*0.5, dx)\n",
    "\n",
    "y_m_array = 50 * x_m_array**3 - 400 * x_m_array\n",
    "y_m_array[2 <= x_m_array] += -150 * (x_m_array[2 <= x_m_array]-2)**3\n",
    "y_m_array *= 1/(EI_m4Pa)\n",
    "\n",
    "\n",
    "plt.plot(x_m_array, y_m_array)\n",
    "plt.text(0, 0, 'A')\n",
    "plt.text(2, 0, 'B')\n",
    "plt.text(3, 0, 'C')\n",
    "\n",
    "plt.grid(True)\n",
    "plt.xlabel('x(m)')\n",
    "plt.ylabel('$\\\\nu(m)$')\n",
    "plt.show()\n",
    "\n"
   ]
  },
  {
   "cell_type": "code",
   "execution_count": null,
   "metadata": {},
   "outputs": [],
   "source": []
  }
 ],
 "metadata": {
  "anaconda-cloud": {},
  "kernelspec": {
   "display_name": "Python 3",
   "language": "python",
   "name": "python3"
  },
  "language_info": {
   "codemirror_mode": {
    "name": "ipython",
    "version": 3
   },
   "file_extension": ".py",
   "mimetype": "text/x-python",
   "name": "python",
   "nbconvert_exporter": "python",
   "pygments_lexer": "ipython3",
   "version": "3.8.8"
  }
 },
 "nbformat": 4,
 "nbformat_minor": 2
}