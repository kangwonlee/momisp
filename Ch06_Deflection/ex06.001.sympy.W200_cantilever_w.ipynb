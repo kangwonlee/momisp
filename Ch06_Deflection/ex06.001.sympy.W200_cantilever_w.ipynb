{
 "cells": [
  {
   "cell_type": "markdown",
   "metadata": {
    "colab_type": "text",
    "id": "view-in-github"
   },
   "source": [
    "<a href=\"https://colab.research.google.com/github/kangwonlee/momisp/blob/main/Ch06_Deflection/ex06.001.sympy.W200_cantilever_w.ipynb\" target=\"_parent\"><img src=\"https://colab.research.google.com/assets/colab-badge.svg\" alt=\"Open In Colab\"/></a>"
   ]
  },
  {
   "cell_type": "markdown",
   "metadata": {},
   "source": [
    "참고문헌 : Pytel 외 저, 이주성 외 역, 재료역학, 2판, 한티미디어, ISBN 978-8964211489, 2013.<br>Ref: Pytel, Kiusalaas, Sharma, Mechanics of Materials, 2nd Ed., Cengage Learning, ISBN 978-1439062203, 2012.\n",
    "\n"
   ]
  },
  {
   "cell_type": "markdown",
   "metadata": {},
   "source": [
    "`python` 기능을 확장해 주는 `module`을 불러 들임 (일부 기능만 사용될 수도 있음)<br>\n",
    "Bring in `module`'s that would expand features of `python`. (This file may use just some of them.)<br>\n",
    "`import` `module`s to extend `python` features (This example may use selected features only)\n",
    "\n"
   ]
  },
  {
   "cell_type": "code",
   "execution_count": null,
   "metadata": {
    "collapsed": true
   },
   "outputs": [],
   "source": [
    "import numpy as np  # 배열, 행렬 관련 기능 array, matrix\n",
    "import numpy.linalg as na  # 선형대수 (벡터, 행렬) 관련 기능 linear algebra\n",
    "import matplotlib.pyplot as plt  # 그래프 관련 기능 plotting\n",
    "import scipy.integrate as si  # 적분 관련 기능 numerical integration\n",
    "import sympy as sy  # 기호 연산 기능 symbolic procesing\n",
    "import sympy.plotting as splot\n",
    "import IPython.display as disp  # 웹페이지 표시 기능 python notebook\n",
    "\n"
   ]
  },
  {
   "cell_type": "markdown",
   "metadata": {},
   "source": [
    "기호 연산 결과 표시 기능 초기화<br>Initialize symbolic result printing\n",
    "\n"
   ]
  },
  {
   "cell_type": "code",
   "execution_count": null,
   "metadata": {
    "collapsed": true
   },
   "outputs": [],
   "source": [
    "sy.init_printing()\n",
    "\n"
   ]
  },
  {
   "cell_type": "markdown",
   "metadata": {},
   "source": [
    "## 예제 06.001<br>Ex 06.001\n",
    "\n"
   ]
  },
  {
   "cell_type": "markdown",
   "metadata": {},
   "source": [
    "p. 239\n",
    "\n"
   ]
  },
  {
   "cell_type": "markdown",
   "metadata": {},
   "source": [
    "### 문제에서 주어진 변수<br>Given parameters\n",
    "\n"
   ]
  },
  {
   "cell_type": "markdown",
   "metadata": {},
   "source": [
    "#### 보의 길이<br>Length of the beam\n",
    "\n"
   ]
  },
  {
   "cell_type": "code",
   "execution_count": null,
   "metadata": {
    "collapsed": true
   },
   "outputs": [],
   "source": [
    "L_AB = sy.symbols('L_{AB}[m]', positive=True)\n",
    "\n"
   ]
  },
  {
   "cell_type": "markdown",
   "metadata": {},
   "source": [
    "나중에 수치값을 계산하기 위해 보의 길이의 값을 dictionary 로 준비한다. (이를 **대입 딕셔너리** 라고 부르기로 하자)<br>Store the numerical value of the length in a dictionary to substitute later. (Let's call this a **substitution dictionary**)\n",
    "\n"
   ]
  },
  {
   "cell_type": "code",
   "execution_count": null,
   "metadata": {
    "collapsed": true
   },
   "outputs": [],
   "source": [
    "s_d = {L_AB: 4}\n",
    "\n"
   ]
  },
  {
   "cell_type": "markdown",
   "metadata": {},
   "source": [
    "#### 하중<br>Load\n",
    "\n"
   ]
  },
  {
   "cell_type": "markdown",
   "metadata": {},
   "source": [
    "AB 구간의 분포하중<br>The distributed load of interval AB\n",
    "\n"
   ]
  },
  {
   "cell_type": "code",
   "execution_count": null,
   "metadata": {
    "collapsed": true
   },
   "outputs": [],
   "source": [
    "w_AB = sy.Symbol('w_{AB}[N/m]', real=True)\n",
    "\n"
   ]
  },
  {
   "cell_type": "markdown",
   "metadata": {},
   "source": [
    "대입 딕셔너리에 분포하중 값을 추가한다.<br>Add distributed load value to the substitution dictionary.\n",
    "\n"
   ]
  },
  {
   "cell_type": "code",
   "execution_count": null,
   "metadata": {
    "collapsed": true
   },
   "outputs": [],
   "source": [
    "s_d[w_AB] = -2000\n",
    "\n"
   ]
  },
  {
   "cell_type": "markdown",
   "metadata": {},
   "source": [
    "#### 재료<br>Material Properties\n",
    "\n"
   ]
  },
  {
   "cell_type": "markdown",
   "metadata": {},
   "source": [
    "Young's modulus\n",
    "\n"
   ]
  },
  {
   "cell_type": "code",
   "execution_count": null,
   "metadata": {
    "collapsed": true
   },
   "outputs": [],
   "source": [
    "E = sy.Symbol('E[Pa]', positive=True)\n",
    "s_d[E] = 200e9\n",
    "\n"
   ]
  },
  {
   "cell_type": "markdown",
   "metadata": {},
   "source": [
    "#### 단면<br>Section\n",
    "\n"
   ]
  },
  {
   "cell_type": "markdown",
   "metadata": {},
   "source": [
    "W 200 $\\times$ 100 에 관련된 자료는 p.608 참고<br>See table for section W 200 $\\times$ 100\n",
    "\n"
   ]
  },
  {
   "cell_type": "code",
   "execution_count": null,
   "metadata": {
    "collapsed": true
   },
   "outputs": [],
   "source": [
    "A, I, h = sy.symbols('A[m^{2}], I[m^{4}], h[m]', positive=True)\n",
    "A_mm2 = A * 1e-6\n",
    "I_mm4 = I * 1e-12\n",
    "h_mm = h * 1e3\n",
    "\n"
   ]
  },
  {
   "cell_type": "markdown",
   "metadata": {},
   "source": [
    "여러 값을 대입 딕셔너리에 추가하기 위해 `update()`메소드를 사용하였다.<br>To add multiple values to `s_d`, used `update()` method.\n",
    "\n"
   ]
  },
  {
   "cell_type": "code",
   "execution_count": null,
   "metadata": {
    "collapsed": true
   },
   "outputs": [],
   "source": [
    "s_d.update({A_mm2: 12700.0,\n",
    "            I_mm4: 113e6,\n",
    "            h_mm: 229,})\n",
    "\n"
   ]
  },
  {
   "cell_type": "markdown",
   "metadata": {},
   "source": [
    "m 단위<br>in m\n",
    "\n"
   ]
  },
  {
   "cell_type": "code",
   "execution_count": null,
   "metadata": {
    "collapsed": true
   },
   "outputs": [],
   "source": [
    "s_d.update({A: s_d[A_mm2] * 1e-6,\n",
    "            I: s_d[I_mm4] * 1e-12,\n",
    "            h: s_d[h_mm] * 1e-3,})\n",
    "\n"
   ]
  },
  {
   "cell_type": "markdown",
   "metadata": {},
   "source": [
    "준비된 값을 확인<br>Visualize the substitution dictionary\n",
    "\n"
   ]
  },
  {
   "cell_type": "code",
   "execution_count": null,
   "metadata": {
    "collapsed": false
   },
   "outputs": [],
   "source": [
    "s_d\n",
    "\n"
   ]
  },
  {
   "cell_type": "markdown",
   "metadata": {},
   "source": [
    "문제에서 주어진 보의 자유물체도를 도시<br>Draw a free body diagram\n",
    "\n"
   ]
  },
  {
   "cell_type": "code",
   "execution_count": null,
   "metadata": {
    "collapsed": false
   },
   "outputs": [],
   "source": [
    "import os   # 운영체제 관련 기능 Operating Systems\n",
    "import sys  # 시스템 관련 기능 Systems\n",
    "# utils 폴더의 모듈을 import 할 수 있도록 준비\n",
    "# add utils folder to sys.path to import\n",
    "sys.path.append(os.path.abspath(os.path.join(os.pardir, 'utils')))\n",
    "# 선도 관련 기능 diagrams\n",
    "import draw_diagrams\n",
    "\n",
    "points_list = [\n",
    "    {'x_m': 0, 'text':'A'},\n",
    "    {'x_m': L_AB.subs(s_d), 'text':'B'},\n",
    "]\n",
    "\n",
    "reaction_list = [\n",
    "    {'x_m': L_AB.subs(s_d)},\n",
    "]\n",
    "\n",
    "dist_load_list = [\n",
    "    {'x_begin_m': 0, 'x_end_m': L_AB.subs(s_d), 'text': 'w0'}\n",
    "]\n",
    "\n",
    "moment_list = [\n",
    "    {'x_m': L_AB.subs(s_d), 'direction': 'cw', 'text': '', 'open':'left'},\n",
    "]\n",
    "\n",
    "draw_diagrams.draw_beam(\n",
    "    L_AB.subs(s_d), \n",
    "    points_list, \n",
    "    reaction_list, \n",
    "    dist_load_list=dist_load_list, \n",
    "    moment_list=moment_list\n",
    ")\n",
    "\n"
   ]
  },
  {
   "cell_type": "markdown",
   "metadata": {},
   "source": [
    "### (1) 탄성선의 방정식<br>(1) Equation of the elastic curve\n",
    "\n"
   ]
  },
  {
   "cell_type": "markdown",
   "metadata": {},
   "source": [
    "#### 각 지점의 x 좌표<br>x coordinate of each location\n",
    "\n"
   ]
  },
  {
   "cell_type": "markdown",
   "metadata": {},
   "source": [
    "A 점에서 $x=0$ 으로 한다.<br>\n",
    "At A, let $x=0$.\n",
    "\n"
   ]
  },
  {
   "cell_type": "code",
   "execution_count": null,
   "metadata": {
    "collapsed": true
   },
   "outputs": [],
   "source": [
    "x = sy.Symbol('x[m]', nonnegative=True)\n",
    "x_A = 0\n",
    "x_B = float(x_A + L_AB.subs(s_d))\n",
    "\n"
   ]
  },
  {
   "cell_type": "markdown",
   "metadata": {},
   "source": [
    "#### x 지점에서의 굽힘모멘트<br>Bending moment at $x$\n",
    "\n"
   ]
  },
  {
   "cell_type": "code",
   "execution_count": null,
   "metadata": {
    "collapsed": true
   },
   "outputs": [],
   "source": [
    "M = sy.integrate(-w_AB, x, x)\n",
    "\n"
   ]
  },
  {
   "cell_type": "code",
   "execution_count": null,
   "metadata": {
    "collapsed": false,
    "scrolled": true
   },
   "outputs": [],
   "source": [
    "M\n",
    "\n"
   ]
  },
  {
   "cell_type": "markdown",
   "metadata": {},
   "source": [
    "#### 굽힘모멘트와 처짐 사이의 관계<br>Bending moment ~ deflection relationship\n",
    "\n"
   ]
  },
  {
   "cell_type": "markdown",
   "metadata": {},
   "source": [
    "p. 236 eq. 6.3b\n",
    "\n"
   ]
  },
  {
   "cell_type": "markdown",
   "metadata": {},
   "source": [
    "$$\n",
    "EI\\nu''=EI\\frac{d^2\\nu}{dx^2}=M\n",
    "$$\n",
    "\n"
   ]
  },
  {
   "cell_type": "markdown",
   "metadata": {},
   "source": [
    "$\\nu$ 와 그 미분을 준비<br>$\\nu$ and its derivative\n",
    "\n"
   ]
  },
  {
   "cell_type": "code",
   "execution_count": null,
   "metadata": {
    "collapsed": true,
    "scrolled": true
   },
   "outputs": [],
   "source": [
    "EI_nu = sy.Function(r'EI\\nu[Nm^{3}]')\n",
    "# http://docs.sympy.org/latest/modules/solvers/ode.html#dsolve\n",
    "# http://docs.sympy.org/latest/tutorial/calculus.html\n",
    "EI_nu_pp = sy.Derivative(EI_nu(x), x, x)\n",
    "\n"
   ]
  },
  {
   "cell_type": "code",
   "execution_count": null,
   "metadata": {
    "collapsed": false
   },
   "outputs": [],
   "source": [
    "EI_nu(x)\n",
    "\n"
   ]
  },
  {
   "cell_type": "code",
   "execution_count": null,
   "metadata": {
    "collapsed": false,
    "scrolled": false
   },
   "outputs": [],
   "source": [
    "EI_nu_pp\n",
    "\n"
   ]
  },
  {
   "cell_type": "markdown",
   "metadata": {},
   "source": [
    "미분방정식 등호의 왼쪽<br>\n",
    "Left side of the differential equation\n",
    "\n"
   ]
  },
  {
   "cell_type": "code",
   "execution_count": null,
   "metadata": {
    "collapsed": false
   },
   "outputs": [],
   "source": [
    "left_side = EI_nu_pp\n",
    "left_side\n",
    "\n"
   ]
  },
  {
   "cell_type": "markdown",
   "metadata": {},
   "source": [
    "등호의 오른쪽<br>Right side of the differential equation\n",
    "\n"
   ]
  },
  {
   "cell_type": "code",
   "execution_count": null,
   "metadata": {
    "collapsed": false
   },
   "outputs": [],
   "source": [
    "right_side = M\n",
    "right_side\n",
    "\n"
   ]
  },
  {
   "cell_type": "markdown",
   "metadata": {},
   "source": [
    "eq. 6.3b\n",
    "\n"
   ]
  },
  {
   "cell_type": "code",
   "execution_count": null,
   "metadata": {
    "collapsed": false
   },
   "outputs": [],
   "source": [
    "defl_deq = sy.Eq(left_side, right_side )\n",
    "defl_deq\n",
    "\n"
   ]
  },
  {
   "cell_type": "markdown",
   "metadata": {},
   "source": [
    "미분방정식을 두번 적분한 결과<br>Integrating twice gives\n",
    "\n"
   ]
  },
  {
   "cell_type": "code",
   "execution_count": null,
   "metadata": {
    "collapsed": false,
    "scrolled": true
   },
   "outputs": [],
   "source": [
    "EI_nu_sol_eq = sy.dsolve(defl_deq, EI_nu(x))\n",
    "EI_nu_sol_eq\n",
    "\n"
   ]
  },
  {
   "cell_type": "markdown",
   "metadata": {},
   "source": [
    "위 결과에서 등호의 오른쪽은 다음과 같다.<br>Right side of the result above\n",
    "\n"
   ]
  },
  {
   "cell_type": "code",
   "execution_count": null,
   "metadata": {
    "collapsed": false
   },
   "outputs": [],
   "source": [
    "EI_nu_sol = EI_nu_sol_eq.rhs\n",
    "EI_nu_sol\n",
    "\n"
   ]
  },
  {
   "cell_type": "markdown",
   "metadata": {},
   "source": [
    "#### 경계조건<br>Boundary conditions\n",
    "\n"
   ]
  },
  {
   "cell_type": "markdown",
   "metadata": {},
   "source": [
    "여기서 경계조건을 이용하여 적분 상수를 결정한다.<br>\n",
    "Let's decide integration constants using boundary conditions.\n",
    "\n"
   ]
  },
  {
   "cell_type": "markdown",
   "metadata": {},
   "source": [
    "경계조건은 2가지로 $x=L$ 에서 기울기와 처짐이 모두 0이다.<br>Thera are two boundary conditions; at $x=L$, both slope and defection are zero.\n",
    "\n"
   ]
  },
  {
   "cell_type": "markdown",
   "metadata": {},
   "source": [
    "먼저, 기울기 조건을 적용한다.<br>First, apply slope boundary condition:\n",
    "\n"
   ]
  },
  {
   "cell_type": "markdown",
   "metadata": {},
   "source": [
    "$$ \\left. \\frac{d\\nu}{dx} \\right\\rvert _{x=L}=0 $$\n",
    "\n"
   ]
  },
  {
   "cell_type": "code",
   "execution_count": null,
   "metadata": {
    "collapsed": true
   },
   "outputs": [],
   "source": [
    "# SymPy Dev Team, Derivatives, Calculus, SymPy Tutorial, 2017 Jul 27, http://docs.sympy.org/latest/tutorial/calculus.html#derivatives\n",
    "slope_eq = sy.Eq(sy.diff(EI_nu_sol, x).subs(x, L_AB), 0)\n",
    "\n"
   ]
  },
  {
   "cell_type": "code",
   "execution_count": null,
   "metadata": {
    "collapsed": false
   },
   "outputs": [],
   "source": [
    "slope_eq\n",
    "\n"
   ]
  },
  {
   "cell_type": "markdown",
   "metadata": {},
   "source": [
    "경계조건 두가지 (처짐, 기울기) 가운데 처짐 조건을 적용한다.<br>Apply deflection boundary condition:\n",
    "\n"
   ]
  },
  {
   "cell_type": "markdown",
   "metadata": {},
   "source": [
    "$$ \\left. \\nu \\right\\rvert _{x=L}=0 $$\n",
    "\n"
   ]
  },
  {
   "cell_type": "code",
   "execution_count": null,
   "metadata": {
    "collapsed": true
   },
   "outputs": [],
   "source": [
    "defl_eq = sy.Eq(EI_nu_sol.subs(x, L_AB), 0)\n",
    "\n"
   ]
  },
  {
   "cell_type": "code",
   "execution_count": null,
   "metadata": {
    "collapsed": false
   },
   "outputs": [],
   "source": [
    "defl_eq\n",
    "\n"
   ]
  },
  {
   "cell_type": "markdown",
   "metadata": {},
   "source": [
    "위 두 방정식을 연립하여 풂<br>Solving simultaneous equations gives:\n",
    "\n"
   ]
  },
  {
   "cell_type": "code",
   "execution_count": null,
   "metadata": {
    "collapsed": true
   },
   "outputs": [],
   "source": [
    "const_sol = sy.solve((slope_eq, defl_eq))\n",
    "\n"
   ]
  },
  {
   "cell_type": "code",
   "execution_count": null,
   "metadata": {
    "collapsed": false
   },
   "outputs": [],
   "source": [
    "const_sol\n",
    "\n"
   ]
  },
  {
   "cell_type": "markdown",
   "metadata": {},
   "source": [
    "#### 탄성선의 방정식<br>Equation of the elastic curve\n",
    "\n"
   ]
  },
  {
   "cell_type": "markdown",
   "metadata": {},
   "source": [
    "적분상수를 $EI\\nu$ 식에 대입함<br>Substituting integration constants to $EI\\nu$ gives:\n",
    "\n"
   ]
  },
  {
   "cell_type": "code",
   "execution_count": null,
   "metadata": {
    "collapsed": true
   },
   "outputs": [],
   "source": [
    "nu = sy.simplify(EI_nu_sol.subs(const_sol[0])) / (E * I)\n",
    "\n"
   ]
  },
  {
   "cell_type": "code",
   "execution_count": null,
   "metadata": {
    "collapsed": false
   },
   "outputs": [],
   "source": [
    "nu\n",
    "\n"
   ]
  },
  {
   "cell_type": "markdown",
   "metadata": {},
   "source": [
    "변위를 선도로 표시해본다.<br>Let's plot the deflection.\n",
    "\n"
   ]
  },
  {
   "cell_type": "code",
   "execution_count": null,
   "metadata": {
    "collapsed": false,
    "scrolled": true
   },
   "outputs": [],
   "source": [
    "splot.plot(-nu.subs(s_d)*1e3, (x, 0, x_B), \n",
    "           xlabel='x(m)', ylabel='$\\\\nu$(mm)')\n",
    "\n"
   ]
  },
  {
   "cell_type": "markdown",
   "metadata": {},
   "source": [
    "### (2) 최대변위<br>(2) Maximum deflection\n",
    "\n"
   ]
  },
  {
   "cell_type": "markdown",
   "metadata": {},
   "source": [
    "최대 처짐은 $x=0$ 지점에서 발생한다.<br>At $x=0$, the deflection is the maximum.\n",
    "\n"
   ]
  },
  {
   "cell_type": "code",
   "execution_count": null,
   "metadata": {
    "collapsed": false
   },
   "outputs": [],
   "source": [
    "nu.subs(x, 0)\n",
    "\n"
   ]
  },
  {
   "cell_type": "markdown",
   "metadata": {},
   "source": [
    "mm 단위로는 다음과 같다.<br>In mm unit:\n",
    "\n"
   ]
  },
  {
   "cell_type": "code",
   "execution_count": null,
   "metadata": {
    "collapsed": false
   },
   "outputs": [],
   "source": [
    "nu.subs(s_d).subs(x, 0)*1e3\n",
    "\n"
   ]
  },
  {
   "cell_type": "markdown",
   "metadata": {},
   "source": [
    "#### 굽힘응력<br>Bending stress\n",
    "\n"
   ]
  },
  {
   "cell_type": "markdown",
   "metadata": {},
   "source": [
    "굽힘 모멘트에 의한 응력도 계산해 본다.<br>Let's calculate bending stress too.\n",
    "\n"
   ]
  },
  {
   "cell_type": "code",
   "execution_count": null,
   "metadata": {
    "collapsed": true
   },
   "outputs": [],
   "source": [
    "sigma = M / I * (h / 2)\n",
    "\n"
   ]
  },
  {
   "cell_type": "code",
   "execution_count": null,
   "metadata": {
    "collapsed": false
   },
   "outputs": [],
   "source": [
    "sigma\n",
    "\n"
   ]
  },
  {
   "cell_type": "code",
   "execution_count": null,
   "metadata": {
    "collapsed": false
   },
   "outputs": [],
   "source": [
    "splot.plot(sigma.subs(s_d)*1e-6, (x, 0, x_B), \n",
    "           xlabel='x(m)', ylabel='$\\\\sigma$(MPa)')\n",
    "\n"
   ]
  },
  {
   "cell_type": "markdown",
   "metadata": {},
   "source": [
    "응력의 최대값은 $x=L$ 지점에서 발생한다.<br>At $x=L$, the bending stress is the maximum.\n",
    "\n"
   ]
  },
  {
   "cell_type": "code",
   "execution_count": null,
   "metadata": {
    "collapsed": false,
    "scrolled": true
   },
   "outputs": [],
   "source": [
    "sigma.subs(x, L_AB)\n",
    "\n"
   ]
  },
  {
   "cell_type": "markdown",
   "metadata": {},
   "source": [
    "Pa 단위 응력 값은 다음과 같다.<br>Numerical value of the maximum stress in Pa unit:\n",
    "\n"
   ]
  },
  {
   "cell_type": "code",
   "execution_count": null,
   "metadata": {
    "collapsed": false
   },
   "outputs": [],
   "source": [
    "sigma.subs(x, L_AB).subs(s_d)\n",
    "\n"
   ]
  },
  {
   "cell_type": "markdown",
   "metadata": {},
   "source": [
    "MPa 단위로는 다음과 같다.<br>In MPa unit:\n",
    "\n"
   ]
  },
  {
   "cell_type": "code",
   "execution_count": null,
   "metadata": {
    "collapsed": false
   },
   "outputs": [],
   "source": [
    "sigma.subs(x, L_AB).subs(s_d) * 1e-6\n",
    "\n"
   ]
  },
  {
   "cell_type": "markdown",
   "metadata": {},
   "source": [
    "## 수고했습니다<br>Thank you for your attention\n",
    "\n"
   ]
  },
  {
   "cell_type": "code",
   "execution_count": null,
   "metadata": {
    "collapsed": false
   },
   "outputs": [],
   "source": [
    "# 유튜브 비디오를 표시하기 위한 확장기능 추가 for youtube video \n",
    "# https://gist.github.com/christopherlovell/e3e70880c0b0ad666e7b5fe311320a62\n",
    "from IPython.display import HTML \n",
    "\n",
    "# Youtube\n",
    "HTML('<iframe width=\"853\" height=\"480\" src=\"https://www.youtube.com/embed/wmgcwonA7r0?rel=0&amp;controls=0&amp;showinfo=0\" frameborder=\"0\" allowfullscreen></iframe>')\n",
    "\n"
   ]
  },
  {
   "cell_type": "code",
   "execution_count": null,
   "metadata": {
    "collapsed": true
   },
   "outputs": [],
   "source": []
  }
 ],
 "metadata": {
  "anaconda-cloud": {},
  "kernelspec": {
   "display_name": "Python [default]",
   "language": "python",
   "name": "python3"
  },
  "language_info": {
   "codemirror_mode": {
    "name": "ipython",
    "version": 3
   },
   "file_extension": ".py",
   "mimetype": "text/x-python",
   "name": "python",
   "nbconvert_exporter": "python",
   "pygments_lexer": "ipython3",
   "version": "3.5.2"
  }
 },
 "nbformat": 4,
 "nbformat_minor": 2
}
