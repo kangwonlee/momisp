{
 "cells": [
  {
   "cell_type": "markdown",
   "metadata": {
    "id": "view-in-github",
    "colab_type": "text"
   },
   "source": [
    "<a href=\"https://colab.research.google.com/github/kangwonlee/momisp/blob/adaptive-colab-button/Ch06_Deflection/ch06.000.sympy.Dirac.delta_Step.ipynb\" target=\"_parent\"><img src=\"https://colab.research.google.com/assets/colab-badge.svg\" alt=\"Open In Colab\"/></a>\n"
   ]
  },
  {
   "cell_type": "markdown",
   "metadata": {},
   "source": [
    "참고문헌 : Pytel 외 저, 이주성 외 역, 재료역학, 2판, 한티미디어, 2013.<br>Ref: Pytel, Kiusalaas, Sharma, Mechanics of Materials, 2nd Ed., Cengage Learning, 2013.\n",
    "\n"
   ]
  },
  {
   "cell_type": "markdown",
   "metadata": {},
   "source": [
    "`python` 기능을 확장해 주는 `module`을 불러 들임 (일부 기능만 사용될 수도 있음)<br>\n",
    "Bring in `module`'s that would expand features of `python`. (This file may use just some of them.)\n",
    "\n"
   ]
  },
  {
   "cell_type": "code",
   "execution_count": null,
   "metadata": {
    "collapsed": true
   },
   "outputs": [],
   "source": [
    "import numpy as np  # 배열, 행렬 관련 기능\n",
    "import numpy.linalg as na  # 선형대수 (벡터, 행렬) 관련 기능\n",
    "import matplotlib.pyplot as plt  # 그래프 관련 기능\n",
    "import scipy.integrate as si  # 적분 관련 기능\n",
    "import sympy as sy  # 기호 연산 기능\n",
    "import sympy.plotting as splot\n",
    "import IPython.display as disp  # 웹페이지 표시 기능\n",
    "sy.init_printing()  # 기호 연산 결과 표시 기능 준비\n",
    "\n"
   ]
  },
  {
   "cell_type": "markdown",
   "metadata": {},
   "source": [
    "## 디랙 델타 함수와 헤비사이드 (또는 단위) 계단 함수<br>Dirac delta function & Heaviside (or Unit) Step function\n",
    "\n"
   ]
  },
  {
   "cell_type": "markdown",
   "metadata": {},
   "source": [
    "### 디렉 델타 함수<br>Direc delta function\n",
    "\n"
   ]
  },
  {
   "cell_type": "markdown",
   "metadata": {},
   "source": [
    "수학, 과학, 공학에서 때로 사용되는 디랙 델타 함수는 물리학자 폴 디랙의 이름을 딴 것으로 다음과 같이 정의된다. \n",
    "\n",
    "Direc delta function, whose name came from physicist Paul Dirac, often used in math, science, and engineering, is defined as follows.\n",
    "\n",
    "(Direc Delta Function, Wikipedia.org)\n",
    "\n"
   ]
  },
  {
   "cell_type": "markdown",
   "metadata": {},
   "source": [
    "$$\n",
    "\\delta(x) = \n",
    "    \\begin{cases}\n",
    "        + \\infty &x=0 \\\\\n",
    "        0 &x \\ne 0\n",
    "    \\end{cases}\n",
    "$$\n",
    "\n"
   ]
  },
  {
   "cell_type": "markdown",
   "metadata": {},
   "source": [
    "또한 다음과 같은 성질을 가진다고 알려져 있다.<br>Also it is known to have following property.\n",
    "\n"
   ]
  },
  {
   "cell_type": "markdown",
   "metadata": {},
   "source": [
    "$$\n",
    "\\int_{-\\infty}^{+\\infty} \\delta(x) dx = 1\n",
    "$$\n",
    "\n"
   ]
  },
  {
   "cell_type": "markdown",
   "metadata": {},
   "source": [
    "이는 무한대 기호가 몇 개 포함된 불연속 함수이다.<br>This is a discontinuous function including a few infinity symbols.\n",
    "\n"
   ]
  },
  {
   "cell_type": "markdown",
   "metadata": {},
   "source": [
    "다음과 같이 비슷한 특징을 보이는 유한 값 함수를 이용하여 시각화 해 볼 수 있다.\n",
    "\n",
    "It could be visualized as follows utilizing finite value functions with similar characteristics.\n",
    "\n",
    "[<img src=\"https://upload.wikimedia.org/wikipedia/commons/b/b4/Dirac_function_approximation.gif\">](https://en.wikipedia.org/wiki/Dirac_delta_function)\n",
    "\n"
   ]
  },
  {
   "cell_type": "markdown",
   "metadata": {},
   "source": [
    "### 헤비사이드 (또는 단위) 계단 함수<br>Heaviside (or Unit) Step function\n",
    "\n"
   ]
  },
  {
   "cell_type": "markdown",
   "metadata": {},
   "source": [
    "비슷하게 수학, 과학, 공학에서 때로 사용되는 헤비사이드 계단 함수는 올리버 헤비사이드의 이름을 딴 것으로 다음과 같이 정의된다. \n",
    "\n",
    "Similarly often used in math, science, and engineering, Heaviside Step function, whose name came from Oliver Heaviside, is defined as follows.\n",
    "\n",
    "(Heaviside Step Function, Wikipedia.org)\n",
    "\n"
   ]
  },
  {
   "cell_type": "markdown",
   "metadata": {},
   "source": [
    "$$\n",
    "1(x)=\n",
    "\\begin{cases}\n",
    "    0 & x < 0 \\\\\n",
    "    1 & 0 \\le x \\\\\n",
    "\\end{cases}\n",
    "$$\n",
    "\n"
   ]
  },
  {
   "cell_type": "markdown",
   "metadata": {},
   "source": [
    "Following figures are from Wolfram's Mathworld.\n",
    "[<img src=\"http://mathworld.wolfram.com/images/eps-gif/HeavisideStepFunction_900.gif\">](http://mathworld.wolfram.com/HeavisideStepFunction.html)\n",
    "\n"
   ]
  },
  {
   "cell_type": "markdown",
   "metadata": {},
   "source": [
    "### 토의<br>Discussion\n",
    "\n"
   ]
  },
  {
   "cell_type": "markdown",
   "metadata": {},
   "source": [
    "* 헤비사이드 함수를 미분한다면 어떤 함수가 될 것인가?<br>What would be the derivative of the Heaviside function?\n",
    "\n"
   ]
  },
  {
   "cell_type": "markdown",
   "metadata": {},
   "source": [
    "* 집중하중이 전단력선도에 미치는 영향은 헤비사이드 함수와 유사한가?<br>Is the influence of a concentrated load to the shear force diagram similar to a Heaviside function?\n",
    "\n"
   ]
  },
  {
   "cell_type": "markdown",
   "metadata": {},
   "source": [
    "* 전단력선도, 굽힘모멘트선도 (나아가 기울기, 처짐 선도) 를 구할 때 디랙 델타 함수 또는 헤비사이드 함수를 어떻게 이용할 수 있을 것인가?<br>How would you be able to utilize the Dirac delta function or the Heaviside function to find the shear force diagram and bending moment diagram (and even further : slope and deflection diagrams)?\n",
    "\n"
   ]
  },
  {
   "cell_type": "markdown",
   "metadata": {},
   "source": [
    "* 6.3의 브라켓 함수를 디랙 델타 함수 또는 헤비사이드 함수로 표시할 수 있는가?<br>Is it possible to describe the bracket functions of 6.3 with either the Dirac delta function or the Heaviside function?\n",
    "\n"
   ]
  },
  {
   "cell_type": "markdown",
   "metadata": {},
   "source": [
    "* 연속이고 부드러운 유한 함수로 디랙 델타 함수와 헤비사이드 함수를 흉내내어 표시할 수 있겠는가? 어떤 함수가 적당하겠는가?<br>With continous, smooth, and finite functions, can you approximate the Dirac delta and/or Heaviside functions? Which functions would be suitable?\n",
    "\n"
   ]
  },
  {
   "cell_type": "markdown",
   "metadata": {},
   "source": [
    "### Sigmoid Function\n",
    "\n"
   ]
  },
  {
   "cell_type": "markdown",
   "metadata": {},
   "source": [
    "$$S(x) = \\frac{1}{1+e^{-x}}$$\n",
    "\n"
   ]
  },
  {
   "cell_type": "code",
   "execution_count": null,
   "metadata": {
    "collapsed": true
   },
   "outputs": [],
   "source": [
    "x_m = sy.symbols('x[m]', real=True)\n",
    "\n"
   ]
  },
  {
   "cell_type": "code",
   "execution_count": null,
   "metadata": {
    "collapsed": false
   },
   "outputs": [],
   "source": [
    "s = 1 / (1 + sy.exp(-x_m))\n",
    "\n"
   ]
  },
  {
   "cell_type": "code",
   "execution_count": null,
   "metadata": {
    "collapsed": false
   },
   "outputs": [],
   "source": [
    "s\n",
    "\n"
   ]
  },
  {
   "cell_type": "code",
   "execution_count": null,
   "metadata": {
    "collapsed": false
   },
   "outputs": [],
   "source": [
    "splot.plot(s, (x_m, -10, 10))\n",
    "\n"
   ]
  },
  {
   "cell_type": "markdown",
   "metadata": {},
   "source": [
    "### ReLu (Rectifier Linear Unit) Function\n",
    "\n"
   ]
  },
  {
   "cell_type": "markdown",
   "metadata": {},
   "source": [
    "$$ReLU(x) = ln\\left(1+e^{x}\\right)$$\n",
    "\n"
   ]
  },
  {
   "cell_type": "code",
   "execution_count": null,
   "metadata": {
    "collapsed": true
   },
   "outputs": [],
   "source": [
    "ReLu = sy.log (1 + sy.exp(x_m))\n",
    "\n"
   ]
  },
  {
   "cell_type": "code",
   "execution_count": null,
   "metadata": {
    "collapsed": false
   },
   "outputs": [],
   "source": [
    "splot.plot(ReLu, (x_m, -10, 10))\n",
    "\n"
   ]
  },
  {
   "cell_type": "code",
   "execution_count": null,
   "metadata": {
    "collapsed": true
   },
   "outputs": [],
   "source": []
  }
 ],
 "metadata": {
  "anaconda-cloud": {},
  "kernelspec": {
   "display_name": "Python [default]",
   "language": "python",
   "name": "python3"
  },
  "language_info": {
   "codemirror_mode": {
    "name": "ipython",
    "version": 3
   },
   "file_extension": ".py",
   "mimetype": "text/x-python",
   "name": "python",
   "nbconvert_exporter": "python",
   "pygments_lexer": "ipython3",
   "version": "3.5.2"
  }
 },
 "nbformat": 4,
 "nbformat_minor": 2
}