{
 "cells": [
  {
   "cell_type": "markdown",
   "metadata": {},
   "source": [
    "참고문헌 : Pytel 외 저, 이주성 외 역, 재료역학, 2판, 한티미디어, 2013.<br>Ref: Pytel, Kiusalaas, Sharma, Mechanics of Materials, 2nd Ed., Cengage Learning, 2013.\n",
    "\n"
   ]
  },
  {
   "cell_type": "markdown",
   "metadata": {},
   "source": [
    "`python` 기능을 확장해 주는 `module`을 불러 들임 (일부 기능만 사용될 수도 있음)<br>\n",
    "Bring in `module`'s that would expand features of `python`. (This file may use just some of them.)\n",
    "\n"
   ]
  },
  {
   "cell_type": "code",
   "execution_count": null,
   "metadata": {},
   "outputs": [],
   "source": [
    "import numpy as np  # 배열, 행렬 관련 기능\n",
    "import numpy.linalg as na  # 선형대수 (벡터, 행렬) 관련 기능\n",
    "import matplotlib.pyplot as plt  # 그래프 관련 기능\n",
    "import scipy.integrate as si  # 적분 관련 기능\n",
    "import sympy as sy  # 기호 연산 기능\n",
    "import sympy.plotting as splot\n",
    "import IPython.display as disp  # 웹페이지 표시 기능\n",
    "sy.init_printing()  # 기호 연산 결과 표시 기능 준비\n",
    "\n"
   ]
  },
  {
   "cell_type": "markdown",
   "metadata": {},
   "source": [
    "## 예제 06.002<br>ex06.002\n",
    "\n"
   ]
  },
  {
   "cell_type": "markdown",
   "metadata": {},
   "source": [
    "p. 240\n",
    "\n"
   ]
  },
  {
   "cell_type": "markdown",
   "metadata": {},
   "source": [
    "### 문제에서 주어진 변수<br>Given Parameters\n",
    "\n"
   ]
  },
  {
   "cell_type": "markdown",
   "metadata": {},
   "source": [
    "#### 보의 길이<br>Length of the beam\n",
    "\n"
   ]
  },
  {
   "cell_type": "code",
   "execution_count": null,
   "metadata": {},
   "outputs": [],
   "source": [
    "L_m = 1\n",
    "L_AB_m = L_BC_m = L_m / 2\n",
    "L_AC_m = L_AB_m + L_BC_m\n",
    "\n"
   ]
  },
  {
   "cell_type": "code",
   "execution_count": null,
   "metadata": {},
   "outputs": [],
   "source": [
    "x_m_array = np.linspace(0, L_m, 100 + 1)\n",
    "\n"
   ]
  },
  {
   "cell_type": "markdown",
   "metadata": {},
   "source": [
    "#### 하중<br>Load\n",
    "\n"
   ]
  },
  {
   "cell_type": "code",
   "execution_count": null,
   "metadata": {},
   "outputs": [],
   "source": [
    "w0_N_m = -1\n",
    "\n"
   ]
  },
  {
   "cell_type": "markdown",
   "metadata": {},
   "source": [
    "$$\n",
    "w(x)= \n",
    "    \\begin{cases}\n",
    "        \\frac{w_0}{\\frac{1}{2}L} x & 0 \\le x \\le \\frac{1}{2}L \\\\\n",
    "        -\\frac{w_0}{\\frac{1}{2}L} (x - L) & \\frac{1}{2}L \\le x \\le L \\\\\n",
    "    \\end{cases}\n",
    "$$\n",
    "\n"
   ]
  },
  {
   "cell_type": "code",
   "execution_count": null,
   "metadata": {},
   "outputs": [],
   "source": [
    "w_N_m = w0_N_m / (0.5 * L_m) * x_m_array\n",
    "w_N_m[(0.5 * L_m) < x_m_array] = - w0_N_m / (0.5 * L_m) * (x_m_array[(0.5 * L_m) < x_m_array] - L_m)\n",
    "\n"
   ]
  },
  {
   "cell_type": "code",
   "execution_count": null,
   "metadata": {},
   "outputs": [],
   "source": [
    "plt.fill_between(x_m_array, w_N_m)\n",
    "plt.xlabel('$\\\\frac{x}{L}$')\n",
    "plt.ylabel('$\\\\frac{w}{w_0}$')\n",
    "plt.ylim(ymax=0)\n",
    "plt.grid(True)\n",
    "plt.show()\n",
    "\n"
   ]
  },
  {
   "cell_type": "markdown",
   "metadata": {},
   "source": [
    "### 반력<br>Reaction force\n",
    "\n"
   ]
  },
  {
   "cell_type": "markdown",
   "metadata": {},
   "source": [
    "하중이 대칭이므로 전체 하중의 절반씩 부담한다.<br>\n",
    "Because the load is symmetric, each support takes half of the total load.\n",
    "\n"
   ]
  },
  {
   "cell_type": "markdown",
   "metadata": {},
   "source": [
    "$$\n",
    "    R=-\\int_{x=0}^{x=\\frac{1}{2}L}w(x)dx \\\\\n",
    "$$    \n",
    "\n"
   ]
  },
  {
   "cell_type": "markdown",
   "metadata": {},
   "source": [
    "$$\n",
    "    R=-\\int_{x=0}^{x=\\frac{1}{2}L}\\frac{w_0}{\\frac{1}{2}L} xdx \\\\\n",
    "$$\n",
    "\n"
   ]
  },
  {
   "cell_type": "markdown",
   "metadata": {},
   "source": [
    "$$\n",
    "    R=-\\frac{2w_0}{L} \\int_{x=0}^{x=\\frac{1}{2}L} xdx \\\\\n",
    "$$\n",
    "\n"
   ]
  },
  {
   "cell_type": "markdown",
   "metadata": {},
   "source": [
    "$$\n",
    "    R=-\\frac{2w_0}{L} \\left[ \\frac{1}{2}x^2 \\right] _{x=0}^{x=\\frac{1}{2}L}\n",
    "$$\n",
    "\n"
   ]
  },
  {
   "cell_type": "markdown",
   "metadata": {},
   "source": [
    "$$\n",
    "    R=-\\frac{w_0}{L} \\left[ \\left(\\frac{1}{2}L \\right)^2 \\right]\n",
    "$$\n",
    "\n"
   ]
  },
  {
   "cell_type": "markdown",
   "metadata": {},
   "source": [
    "$$\n",
    "    R=-\\frac{w_0L}{4}\n",
    "$$\n",
    "\n"
   ]
  },
  {
   "cell_type": "code",
   "execution_count": null,
   "metadata": {},
   "outputs": [],
   "source": [
    "R_N = -w0_N_m * L_m / 4\n",
    "\n"
   ]
  },
  {
   "cell_type": "markdown",
   "metadata": {},
   "source": [
    "### 전단력선도<br>Shear force diagram\n",
    "\n"
   ]
  },
  {
   "cell_type": "markdown",
   "metadata": {},
   "source": [
    "분포하중을 적분하면 전단력선도를 얻을 수 있다. 역시 하중이 대칭이므로 절반만 적분한다.<br>By integrating the distributed load, one can obtain the shear force diagram. Again, because the load is symmetric, integrate only the half.\n",
    "\n"
   ]
  },
  {
   "cell_type": "code",
   "execution_count": null,
   "metadata": {},
   "outputs": [],
   "source": [
    "x_m_array_half = np.linspace(0, L_m/2, 50 + 1)\n",
    "\n"
   ]
  },
  {
   "cell_type": "markdown",
   "metadata": {},
   "source": [
    "$$\n",
    "    \\begin{align}\n",
    "    SFD(x)=\\int_{\\xi=0}^{\\xi=x}w(\\xi)d\\xi + R, \\, 0 \\le x \\le \\frac{L}{2} \\\\\n",
    "    \\end{align}\n",
    "$$    \n",
    "\n"
   ]
  },
  {
   "cell_type": "markdown",
   "metadata": {},
   "source": [
    "$$\n",
    "    \\begin{align}\n",
    "    SFD(x)=\\int_{\\xi=0}^{\\xi=x}\\frac{w_0}{\\frac{1}{2}L} \\xi d\\xi + R, \\, 0 \\le x \\le \\frac{L}{2} \\\\\n",
    "    \\end{align}\n",
    "$$    \n",
    "\n"
   ]
  },
  {
   "cell_type": "markdown",
   "metadata": {},
   "source": [
    "$$\n",
    "    \\begin{align}\n",
    "    SFD(x)=\\frac{2w_0}{L} \\int_{\\xi=0}^{\\xi=x}\\xi d\\xi + R, \\, 0 \\le x \\le \\frac{L}{2} \\\\\n",
    "    \\end{align}\n",
    "$$    \n",
    "\n"
   ]
  },
  {
   "cell_type": "markdown",
   "metadata": {},
   "source": [
    "$$\n",
    "    \\begin{align}\n",
    "    SFD(x)=\\frac{2w_0}{L} \\left[ \\frac{1}{2} \\xi^2 \\right] _{\\xi=0}^{\\xi=x} + R, \\, 0 \\le x \\le \\frac{L}{2} \\\\\n",
    "    \\end{align}\n",
    "$$    \n",
    "\n"
   ]
  },
  {
   "cell_type": "markdown",
   "metadata": {},
   "source": [
    "$$\n",
    "    \\begin{align}\n",
    "    SFD(x)=\\frac{w_0}{L} x ^2 + R,\\, 0 \\le x \\le \\frac{L}{2} \\\\\n",
    "    \\end{align}\n",
    "$$    \n",
    "\n"
   ]
  },
  {
   "cell_type": "code",
   "execution_count": null,
   "metadata": {},
   "outputs": [],
   "source": [
    "SFD_N_array_half = w0_N_m / L_m * x_m_array_half ** 2 + R_N\n",
    "\n"
   ]
  },
  {
   "cell_type": "code",
   "execution_count": null,
   "metadata": {},
   "outputs": [],
   "source": [
    "plt.fill_between(x_m_array_half, SFD_N_array_half)\n",
    "plt.xlabel('$\\\\frac{x}{L}$')\n",
    "plt.ylabel('$\\\\frac{L}{w_0}V$')\n",
    "plt.xlim((min(x_m_array_half), max(x_m_array_half)))\n",
    "plt.ylim(ymin=0)\n",
    "plt.grid(True)\n",
    "plt.show()\n",
    "\n"
   ]
  },
  {
   "cell_type": "markdown",
   "metadata": {},
   "source": [
    "### 굽힘모멘트선도<br>Bending moment diagram\n",
    "\n"
   ]
  },
  {
   "cell_type": "markdown",
   "metadata": {},
   "source": [
    "전단력선도를 적분한다.<br>Integrate the SFD.\n",
    "\n"
   ]
  },
  {
   "cell_type": "markdown",
   "metadata": {},
   "source": [
    "$$\n",
    "BMD(x)=\\int_{\\xi=0}^{\\xi=x} SFD(\\xi) d\\xi,\\, 0 \\le x \\le \\frac{L}{2} \\\\\n",
    "$$\n",
    "\n"
   ]
  },
  {
   "cell_type": "markdown",
   "metadata": {},
   "source": [
    "$$\n",
    "BMD(x)=\\int_{\\xi=0}^{\\xi=x} \\left( \\frac{w_0}{L} \\xi ^2 + R \\right) d\\xi,\\, 0 \\le x \\le \\frac{L}{2} \\\\\n",
    "$$\n",
    "\n"
   ]
  },
  {
   "cell_type": "markdown",
   "metadata": {},
   "source": [
    "$$\n",
    "BMD(x)=\\left[ \\frac{w_0}{3L} \\xi ^3 + R\\xi \\right]_{\\xi=0}^{\\xi=x} ,\\, 0 \\le x \\le \\frac{L}{2} \\\\\n",
    "$$\n",
    "\n"
   ]
  },
  {
   "cell_type": "markdown",
   "metadata": {},
   "source": [
    "$$\n",
    "BMD(x)=\\frac{w_0}{3L} x ^3 + Rx  ,\\, 0 \\le x \\le \\frac{L}{2} \\\\\n",
    "$$\n",
    "\n"
   ]
  },
  {
   "cell_type": "code",
   "execution_count": null,
   "metadata": {},
   "outputs": [],
   "source": [
    "BMD_Nm_array_half = (w0_N_m / (3 * L_m)) * x_m_array_half ** 3 + R_N * x_m_array_half\n",
    "\n"
   ]
  },
  {
   "cell_type": "code",
   "execution_count": null,
   "metadata": {},
   "outputs": [],
   "source": [
    "plt.fill_between(x_m_array_half, BMD_Nm_array_half)\n",
    "plt.xlabel('$\\\\frac{x}{L}$')\n",
    "plt.ylabel('$\\\\frac{L}{w_0}M$')\n",
    "plt.xlim((min(x_m_array_half), max(x_m_array_half)))\n",
    "plt.ylim(ymin=0)\n",
    "plt.grid(True)\n",
    "plt.show()\n",
    "\n"
   ]
  },
  {
   "cell_type": "markdown",
   "metadata": {},
   "source": [
    "### 기울기와 처짐<br>Slope and Deflection\n",
    "\n"
   ]
  },
  {
   "cell_type": "markdown",
   "metadata": {},
   "source": [
    "p. 236 eq. 6.3b, p. 235 eq. (a)\n",
    "\n"
   ]
  },
  {
   "cell_type": "markdown",
   "metadata": {},
   "source": [
    "$$EI\\frac{d^2\\nu}{dx^2}=EI\\frac{d\\theta}{dx}=M$$\n",
    "\n"
   ]
  },
  {
   "cell_type": "markdown",
   "metadata": {},
   "source": [
    "굽힘모멘트 선도를 적분하여 기울기와 처짐을 구할 수 있다.<br>An engineer can find slope and deflection by integrating bending moment.\n",
    "\n"
   ]
  },
  {
   "cell_type": "markdown",
   "metadata": {},
   "source": [
    "$$\n",
    "EI \\theta(x) = \\int BMD(x) dx,\\, 0 \\le x \\le \\frac{L}{2} \\\\\n",
    "$$\n",
    "\n"
   ]
  },
  {
   "cell_type": "markdown",
   "metadata": {},
   "source": [
    "$$\n",
    "BMD(x)=\\frac{w_0}{3L} x ^3 + Rx  ,\\, 0 \\le x \\le \\frac{L}{2} \\\\\n",
    "$$\n",
    "\n"
   ]
  },
  {
   "cell_type": "markdown",
   "metadata": {},
   "source": [
    "$$\n",
    "EI \\theta(x) = \\int \\left( \\frac{w_0}{3L} x^3 + Rx \\right) dx,\\, 0 \\le x \\le \\frac{L}{2} \\\\\n",
    "$$\n",
    "\n"
   ]
  },
  {
   "cell_type": "markdown",
   "metadata": {},
   "source": [
    "$$\n",
    "EI \\theta(x) = \\frac{w_0}{12L} x ^4 + \\frac{1}{2}Rx^2 + C_1 ,\\, 0 \\le x \\le \\frac{L}{2} \\\\\n",
    "$$\n",
    "\n"
   ]
  },
  {
   "cell_type": "markdown",
   "metadata": {},
   "source": [
    "기울기를 적분한다.<br>Integrate the slope.\n",
    "\n"
   ]
  },
  {
   "cell_type": "markdown",
   "metadata": {},
   "source": [
    "$$\n",
    "EI \\nu(x) = \\int EI\\theta(x) dx,\\, 0 \\le x \\le \\frac{L}{2} \\\\\n",
    "$$\n",
    "\n"
   ]
  },
  {
   "cell_type": "markdown",
   "metadata": {},
   "source": [
    "$$\n",
    "EI \\nu(x) = \\int \\left( \\frac{w_0}{12L} x ^4 + \\frac{1}{2}Rx^2 + C_1 \\right) dx,\\, 0 \\le x \\le \\frac{L}{2} \\\\\n",
    "$$\n",
    "\n"
   ]
  },
  {
   "cell_type": "markdown",
   "metadata": {},
   "source": [
    "$$\n",
    "EI \\nu(x) = \\frac{w_0}{60L} x ^5 + \\frac{1}{6}Rx^3 + C_1 x + C_2,  \\, 0 \\le x \\le \\frac{L}{2} \\\\\n",
    "$$\n",
    "\n"
   ]
  },
  {
   "cell_type": "markdown",
   "metadata": {},
   "source": [
    "적분상수 $C_1$, $C_2$ 는 경계조건으로부터 정할 수 있다.<br>From the boundary conditions, an engineer can decide integration constants $C_1$ and $C_2$.\n",
    "\n"
   ]
  },
  {
   "cell_type": "markdown",
   "metadata": {},
   "source": [
    "### 경계조건<br>Boundary conditions\n",
    "\n"
   ]
  },
  {
   "cell_type": "markdown",
   "metadata": {},
   "source": [
    "#### 처짐<br>Deflection\n",
    "\n"
   ]
  },
  {
   "cell_type": "markdown",
   "metadata": {},
   "source": [
    "$\\nu(x=0)=0$\n",
    "\n"
   ]
  },
  {
   "cell_type": "markdown",
   "metadata": {},
   "source": [
    "$$ EI\\nu(0)=C_2=0 $$\n",
    "\n"
   ]
  },
  {
   "cell_type": "markdown",
   "metadata": {},
   "source": [
    "#### 기울기<br>Slope\n",
    "\n"
   ]
  },
  {
   "cell_type": "markdown",
   "metadata": {},
   "source": [
    "$\\theta \\left(x=\\frac{L}{2}\\right)=0$\n",
    "\n"
   ]
  },
  {
   "cell_type": "markdown",
   "metadata": {},
   "source": [
    "$$\n",
    "EI \\theta(x) = \\frac{w_0}{12L} x ^4 + \\frac{1}{2}Rx^2 + C_1 ,\\, 0 \\le x \\le \\frac{L}{2} \\\\\n",
    "$$\n",
    "\n"
   ]
  },
  {
   "cell_type": "markdown",
   "metadata": {},
   "source": [
    "$$ EI\\theta\\left(\\frac{1}{2} L\\right)=\\frac{w_0}{12L} \\left(\\frac{L}{2}\\right) ^4 + \\frac{1}{2}R\\left(\\frac{L}{2}\\right)^2 + C_1=0 $$\n",
    "\n"
   ]
  },
  {
   "cell_type": "markdown",
   "metadata": {},
   "source": [
    "$$ EI\\theta\\left(\\frac{1}{2} L\\right)=\\frac{w_0}{12L} \\left(\\frac{L^4}{16}\\right) + \\frac{1}{2}R\\left(\\frac{L^2}{4}\\right) + C_1=0 $$\n",
    "\n"
   ]
  },
  {
   "cell_type": "markdown",
   "metadata": {},
   "source": [
    "$$ C_1=-\\frac{w_0 L^3}{192} - \\frac{RL^2}{8}$$\n",
    "\n"
   ]
  },
  {
   "cell_type": "code",
   "execution_count": null,
   "metadata": {},
   "outputs": [],
   "source": [
    "C1 = -w0_N_m * L_m**3 / 192 - R_N * L_m**2 / 8\n",
    "\n"
   ]
  },
  {
   "cell_type": "code",
   "execution_count": null,
   "metadata": {},
   "outputs": [],
   "source": [
    "C1\n",
    "\n"
   ]
  },
  {
   "cell_type": "markdown",
   "metadata": {},
   "source": [
    "처짐 식에 구해진 $C_1$을 대입한다.<br>Substitute found $C_1$ back to the deflection equation.\n",
    "\n"
   ]
  },
  {
   "cell_type": "markdown",
   "metadata": {},
   "source": [
    "$$\n",
    "EI \\theta(x) = \\frac{w_0}{12L} x ^4 + \\frac{1}{2}Rx^2 + \\left(-\\frac{w_0 L^3}{192} - \\frac{RL^2}{8} \\right),  \\, 0 \\le x \\le \\frac{L}{2} \\\\\n",
    "$$\n",
    "\n"
   ]
  },
  {
   "cell_type": "code",
   "execution_count": null,
   "metadata": {},
   "outputs": [],
   "source": [
    "EItheta = w0_N_m / (12 * L_m) * x_m_array_half ** 4 \\\n",
    "        + 1/2 * R_N * x_m_array_half ** 2 \\\n",
    "        + C1\n",
    "\n"
   ]
  },
  {
   "cell_type": "markdown",
   "metadata": {},
   "source": [
    "$$\n",
    "EI \\nu(x) = \\frac{w_0}{60L} x ^5 + \\frac{1}{6}Rx^3 + \\left(-\\frac{w_0 L^3}{192} - \\frac{RL^2}{8} \\right) x,  \\, 0 \\le x \\le \\frac{L}{2} \\\\\n",
    "$$\n",
    "\n"
   ]
  },
  {
   "cell_type": "code",
   "execution_count": null,
   "metadata": {},
   "outputs": [],
   "source": [
    "EInu = w0_N_m / (60 * L_m) * x_m_array_half ** 5 \\\n",
    "     + 1/6 * R_N * x_m_array_half ** 3 \\\n",
    "     + C1 * x_m_array_half\n",
    "\n"
   ]
  },
  {
   "cell_type": "code",
   "execution_count": null,
   "metadata": {},
   "outputs": [],
   "source": [
    "plt.subplot(2, 1, 1)\n",
    "plt.fill_between(x_m_array_half, EItheta)\n",
    "plt.xlabel('$\\\\frac{x}{L}$')\n",
    "plt.ylabel('$\\\\frac{L}{w_0}EI\\\\theta$')\n",
    "plt.xlim((min(x_m_array_half), max(x_m_array_half)))\n",
    "plt.grid(True)\n",
    "\n",
    "plt.subplot(2, 1, 2)\n",
    "plt.fill_between(x_m_array_half, EInu)\n",
    "plt.xlabel('$\\\\frac{x}{L}$')\n",
    "plt.ylabel('$\\\\frac{L}{w_0}EI\\\\nu$')\n",
    "plt.xlim((min(x_m_array_half), max(x_m_array_half)))\n",
    "plt.grid(True)\n",
    "plt.show()\n",
    "\n"
   ]
  },
  {
   "cell_type": "markdown",
   "metadata": {},
   "source": [
    "$x=0$ 에서 $EI\\nu=0$ 인지 확인한다.<br>See if $EI\\nu(x=0)=0$.\n",
    "\n"
   ]
  },
  {
   "cell_type": "code",
   "execution_count": null,
   "metadata": {
    "scrolled": true
   },
   "outputs": [],
   "source": [
    "assert (1e-5 > np.abs(np.interp(0, x_m_array_half, EInu)))\n",
    "\n"
   ]
  },
  {
   "cell_type": "markdown",
   "metadata": {},
   "source": [
    "$x=0$ 에서 $EI\\theta \\ne 0$ 인지 확인한다.<br>See if $EI\\theta(x=0)\\ne 0$.\n",
    "\n"
   ]
  },
  {
   "cell_type": "code",
   "execution_count": null,
   "metadata": {},
   "outputs": [],
   "source": [
    "assert (0 != np.interp(0, x_m_array_half, EItheta))\n",
    "\n"
   ]
  },
  {
   "cell_type": "markdown",
   "metadata": {},
   "source": [
    "$x=\\frac{1}{2}L$ 에서 $EI\\theta=0$ 인지 확인한다.<br>See if $EI\\theta(x=\\frac{1}{2})=0$.\n",
    "\n"
   ]
  },
  {
   "cell_type": "code",
   "execution_count": null,
   "metadata": {
    "scrolled": true
   },
   "outputs": [],
   "source": [
    "assert (1e-5 > np.abs(np.interp(L_m/2, x_m_array_half, EItheta)))\n",
    "\n"
   ]
  },
  {
   "cell_type": "code",
   "execution_count": null,
   "metadata": {},
   "outputs": [],
   "source": []
  }
 ],
 "metadata": {
  "anaconda-cloud": {},
  "kernelspec": {
   "display_name": "Python 3",
   "language": "python",
   "name": "python3"
  },
  "language_info": {
   "codemirror_mode": {
    "name": "ipython",
    "version": 3
   },
   "file_extension": ".py",
   "mimetype": "text/x-python",
   "name": "python",
   "nbconvert_exporter": "python",
   "pygments_lexer": "ipython3",
   "version": "3.8.8"
  }
 },
 "nbformat": 4,
 "nbformat_minor": 2
}
